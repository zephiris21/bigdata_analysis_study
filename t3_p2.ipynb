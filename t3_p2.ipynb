{
 "cells": [
  {
   "cell_type": "code",
   "execution_count": 2,
   "id": "fdce1fc5-c4e2-4234-b062-9ad0d9327b98",
   "metadata": {},
   "outputs": [],
   "source": [
    "import pandas as pd\n",
    "import numpy as np"
   ]
  },
  {
   "cell_type": "code",
   "execution_count": 4,
   "id": "269a0f55-54e5-4406-8f75-389ad6ce4a69",
   "metadata": {},
   "outputs": [],
   "source": [
    "df= pd.read_csv(\"data/high_blood_pressure.csv\")"
   ]
  },
  {
   "cell_type": "code",
   "execution_count": 6,
   "id": "ae323ce6-0c70-48eb-892a-555f8f63fe8e",
   "metadata": {},
   "outputs": [
    {
     "data": {
      "text/html": [
       "<div>\n",
       "<style scoped>\n",
       "    .dataframe tbody tr th:only-of-type {\n",
       "        vertical-align: middle;\n",
       "    }\n",
       "\n",
       "    .dataframe tbody tr th {\n",
       "        vertical-align: top;\n",
       "    }\n",
       "\n",
       "    .dataframe thead th {\n",
       "        text-align: right;\n",
       "    }\n",
       "</style>\n",
       "<table border=\"1\" class=\"dataframe\">\n",
       "  <thead>\n",
       "    <tr style=\"text-align: right;\">\n",
       "      <th></th>\n",
       "      <th>Id</th>\n",
       "      <th>sex</th>\n",
       "      <th>age</th>\n",
       "      <th>bp_pre</th>\n",
       "      <th>bp_post</th>\n",
       "    </tr>\n",
       "  </thead>\n",
       "  <tbody>\n",
       "    <tr>\n",
       "      <th>0</th>\n",
       "      <td>p001</td>\n",
       "      <td>Male</td>\n",
       "      <td>33</td>\n",
       "      <td>149</td>\n",
       "      <td>129</td>\n",
       "    </tr>\n",
       "    <tr>\n",
       "      <th>1</th>\n",
       "      <td>p002</td>\n",
       "      <td>Male</td>\n",
       "      <td>39</td>\n",
       "      <td>168</td>\n",
       "      <td>168</td>\n",
       "    </tr>\n",
       "  </tbody>\n",
       "</table>\n",
       "</div>"
      ],
      "text/plain": [
       "     Id   sex  age  bp_pre  bp_post\n",
       "0  p001  Male   33     149      129\n",
       "1  p002  Male   39     168      168"
      ]
     },
     "execution_count": 6,
     "metadata": {},
     "output_type": "execute_result"
    }
   ],
   "source": [
    "df.head(2)"
   ]
  },
  {
   "cell_type": "code",
   "execution_count": 12,
   "id": "ec00bcca-c5e7-4c43-9b0a-b5355fac76b3",
   "metadata": {},
   "outputs": [
    {
     "data": {
      "text/plain": [
       "TtestResult(statistic=-3.0002163948827545, pvalue=0.0032868948457022056, df=119)"
      ]
     },
     "execution_count": 12,
     "metadata": {},
     "output_type": "execute_result"
    }
   ],
   "source": [
    "from scipy import stats\n",
    "stats.ttest_rel(df['bp_post'],df['bp_pre']) # 평균의 차이가 있다 : alternative= two-sided  기본값 "
   ]
  },
  {
   "cell_type": "markdown",
   "id": "f09272cb-14b2-4f12-828a-f404acaff366",
   "metadata": {},
   "source": [
    "# 문제 2\n",
    "-생존 여부와 성별 독립성 검정 (Titanic.csv)\n",
    "\n",
    "\n",
    "타이타닉 탑승자 데이터(Titanic.csv)를 이용하여, 생존 여부(Survived)와 성별(Gender) 간 관계를 검정하시오.\n",
    "\n",
    "조건:\n",
    "\n",
    "    범주형 변수 두 개: Survived (0=사망, 1=생존), Gender (male/female)\n",
    "\n",
    "    유의수준 0.05\n",
    "\n",
    "지시사항:\n",
    "\n",
    "    교차표를 작성하시오.\n",
    "\n",
    "    카이제곱 독립성 검정을 수행하고, 검정통계량과 p값을 구하시오.\n",
    "\n",
    "제출 형식:\n",
    "카이제곱 통계량, p값을 소수 셋째 자리까지 반올림하여 제출하시오.\n",
    "예: 10.327, 0.001"
   ]
  },
  {
   "cell_type": "code",
   "execution_count": 15,
   "id": "7e593d98-a160-4247-a0f3-4ca549c93290",
   "metadata": {},
   "outputs": [],
   "source": [
    "df= pd.read_csv('data/Titanic.csv')"
   ]
  },
  {
   "cell_type": "code",
   "execution_count": 19,
   "id": "0cb066cd-c634-47c1-9134-e6969b4cc992",
   "metadata": {},
   "outputs": [
    {
     "data": {
      "text/html": [
       "<div>\n",
       "<style scoped>\n",
       "    .dataframe tbody tr th:only-of-type {\n",
       "        vertical-align: middle;\n",
       "    }\n",
       "\n",
       "    .dataframe tbody tr th {\n",
       "        vertical-align: top;\n",
       "    }\n",
       "\n",
       "    .dataframe thead th {\n",
       "        text-align: right;\n",
       "    }\n",
       "</style>\n",
       "<table border=\"1\" class=\"dataframe\">\n",
       "  <thead>\n",
       "    <tr style=\"text-align: right;\">\n",
       "      <th></th>\n",
       "      <th>PassengerId</th>\n",
       "      <th>Survived</th>\n",
       "      <th>Pclass</th>\n",
       "      <th>Name</th>\n",
       "      <th>Gender</th>\n",
       "      <th>Age</th>\n",
       "      <th>SibSp</th>\n",
       "      <th>Parch</th>\n",
       "      <th>Ticket</th>\n",
       "      <th>Fare</th>\n",
       "      <th>Cabin</th>\n",
       "      <th>Embarked</th>\n",
       "    </tr>\n",
       "  </thead>\n",
       "  <tbody>\n",
       "    <tr>\n",
       "      <th>0</th>\n",
       "      <td>1</td>\n",
       "      <td>0</td>\n",
       "      <td>3</td>\n",
       "      <td>Braund, Mr. Owen Harris</td>\n",
       "      <td>male</td>\n",
       "      <td>22.0</td>\n",
       "      <td>1</td>\n",
       "      <td>0</td>\n",
       "      <td>A/5 21171</td>\n",
       "      <td>7.2500</td>\n",
       "      <td>NaN</td>\n",
       "      <td>S</td>\n",
       "    </tr>\n",
       "    <tr>\n",
       "      <th>1</th>\n",
       "      <td>2</td>\n",
       "      <td>1</td>\n",
       "      <td>1</td>\n",
       "      <td>Cumings, Mrs. John Bradley (Florence Briggs Th...</td>\n",
       "      <td>female</td>\n",
       "      <td>38.0</td>\n",
       "      <td>1</td>\n",
       "      <td>0</td>\n",
       "      <td>PC 17599</td>\n",
       "      <td>71.2833</td>\n",
       "      <td>C85</td>\n",
       "      <td>C</td>\n",
       "    </tr>\n",
       "  </tbody>\n",
       "</table>\n",
       "</div>"
      ],
      "text/plain": [
       "   PassengerId  Survived  Pclass  \\\n",
       "0            1         0       3   \n",
       "1            2         1       1   \n",
       "\n",
       "                                                Name  Gender   Age  SibSp  \\\n",
       "0                            Braund, Mr. Owen Harris    male  22.0      1   \n",
       "1  Cumings, Mrs. John Bradley (Florence Briggs Th...  female  38.0      1   \n",
       "\n",
       "   Parch     Ticket     Fare Cabin Embarked  \n",
       "0      0  A/5 21171   7.2500   NaN        S  \n",
       "1      0   PC 17599  71.2833   C85        C  "
      ]
     },
     "execution_count": 19,
     "metadata": {},
     "output_type": "execute_result"
    }
   ],
   "source": [
    "df.head(2)"
   ]
  },
  {
   "cell_type": "code",
   "execution_count": 35,
   "id": "e3d04eef-5c67-430f-8dac-25910ae7f7ce",
   "metadata": {},
   "outputs": [],
   "source": [
    "survived= df['Survived']\n",
    "gender= df['Gender']"
   ]
  },
  {
   "cell_type": "code",
   "execution_count": 49,
   "id": "a370abb2-bb09-4dc2-9a2b-d9988e4ba808",
   "metadata": {},
   "outputs": [
    {
     "data": {
      "text/html": [
       "<div>\n",
       "<style scoped>\n",
       "    .dataframe tbody tr th:only-of-type {\n",
       "        vertical-align: middle;\n",
       "    }\n",
       "\n",
       "    .dataframe tbody tr th {\n",
       "        vertical-align: top;\n",
       "    }\n",
       "\n",
       "    .dataframe thead th {\n",
       "        text-align: right;\n",
       "    }\n",
       "</style>\n",
       "<table border=\"1\" class=\"dataframe\">\n",
       "  <thead>\n",
       "    <tr style=\"text-align: right;\">\n",
       "      <th></th>\n",
       "      <th>survived</th>\n",
       "      <th>gender</th>\n",
       "    </tr>\n",
       "  </thead>\n",
       "  <tbody>\n",
       "    <tr>\n",
       "      <th>0</th>\n",
       "      <td>0</td>\n",
       "      <td>male</td>\n",
       "    </tr>\n",
       "    <tr>\n",
       "      <th>1</th>\n",
       "      <td>1</td>\n",
       "      <td>female</td>\n",
       "    </tr>\n",
       "    <tr>\n",
       "      <th>2</th>\n",
       "      <td>1</td>\n",
       "      <td>female</td>\n",
       "    </tr>\n",
       "    <tr>\n",
       "      <th>3</th>\n",
       "      <td>1</td>\n",
       "      <td>female</td>\n",
       "    </tr>\n",
       "    <tr>\n",
       "      <th>4</th>\n",
       "      <td>0</td>\n",
       "      <td>male</td>\n",
       "    </tr>\n",
       "    <tr>\n",
       "      <th>...</th>\n",
       "      <td>...</td>\n",
       "      <td>...</td>\n",
       "    </tr>\n",
       "    <tr>\n",
       "      <th>886</th>\n",
       "      <td>0</td>\n",
       "      <td>male</td>\n",
       "    </tr>\n",
       "    <tr>\n",
       "      <th>887</th>\n",
       "      <td>1</td>\n",
       "      <td>female</td>\n",
       "    </tr>\n",
       "    <tr>\n",
       "      <th>888</th>\n",
       "      <td>0</td>\n",
       "      <td>female</td>\n",
       "    </tr>\n",
       "    <tr>\n",
       "      <th>889</th>\n",
       "      <td>1</td>\n",
       "      <td>male</td>\n",
       "    </tr>\n",
       "    <tr>\n",
       "      <th>890</th>\n",
       "      <td>0</td>\n",
       "      <td>male</td>\n",
       "    </tr>\n",
       "  </tbody>\n",
       "</table>\n",
       "<p>891 rows × 2 columns</p>\n",
       "</div>"
      ],
      "text/plain": [
       "     survived  gender\n",
       "0           0    male\n",
       "1           1  female\n",
       "2           1  female\n",
       "3           1  female\n",
       "4           0    male\n",
       "..        ...     ...\n",
       "886         0    male\n",
       "887         1  female\n",
       "888         0  female\n",
       "889         1    male\n",
       "890         0    male\n",
       "\n",
       "[891 rows x 2 columns]"
      ]
     },
     "execution_count": 49,
     "metadata": {},
     "output_type": "execute_result"
    }
   ],
   "source": [
    "survived.shape, gender.shape\n",
    "tab= pd.DataFrame({\"survived\":survived,\"gender\":gender})\n",
    "tab"
   ]
  },
  {
   "cell_type": "code",
   "execution_count": null,
   "id": "15336f8f-aa21-48d9-8368-6c09cff4fc44",
   "metadata": {},
   "outputs": [],
   "source": [
    "tab.melt(id_vars='gender', value_vars="
   ]
  },
  {
   "cell_type": "code",
   "execution_count": null,
   "id": "a09dfe58-ddc3-4b54-8850-6fd4902aa14d",
   "metadata": {},
   "outputs": [],
   "source": []
  },
  {
   "cell_type": "code",
   "execution_count": 57,
   "id": "aff49fd7-1745-4a0b-a3d3-9af66633067e",
   "metadata": {},
   "outputs": [],
   "source": [
    "contingency_table = pd.crosstab(df['Gender'], df['Survived'])"
   ]
  },
  {
   "cell_type": "code",
   "execution_count": 59,
   "id": "7e0cc090-9d5b-4723-93b5-34f0a299c48d",
   "metadata": {},
   "outputs": [
    {
     "data": {
      "text/html": [
       "<div>\n",
       "<style scoped>\n",
       "    .dataframe tbody tr th:only-of-type {\n",
       "        vertical-align: middle;\n",
       "    }\n",
       "\n",
       "    .dataframe tbody tr th {\n",
       "        vertical-align: top;\n",
       "    }\n",
       "\n",
       "    .dataframe thead th {\n",
       "        text-align: right;\n",
       "    }\n",
       "</style>\n",
       "<table border=\"1\" class=\"dataframe\">\n",
       "  <thead>\n",
       "    <tr style=\"text-align: right;\">\n",
       "      <th>Survived</th>\n",
       "      <th>0</th>\n",
       "      <th>1</th>\n",
       "    </tr>\n",
       "    <tr>\n",
       "      <th>Gender</th>\n",
       "      <th></th>\n",
       "      <th></th>\n",
       "    </tr>\n",
       "  </thead>\n",
       "  <tbody>\n",
       "    <tr>\n",
       "      <th>female</th>\n",
       "      <td>81</td>\n",
       "      <td>233</td>\n",
       "    </tr>\n",
       "    <tr>\n",
       "      <th>male</th>\n",
       "      <td>468</td>\n",
       "      <td>109</td>\n",
       "    </tr>\n",
       "  </tbody>\n",
       "</table>\n",
       "</div>"
      ],
      "text/plain": [
       "Survived    0    1\n",
       "Gender            \n",
       "female     81  233\n",
       "male      468  109"
      ]
     },
     "execution_count": 59,
     "metadata": {},
     "output_type": "execute_result"
    }
   ],
   "source": [
    "contingency_table"
   ]
  },
  {
   "cell_type": "code",
   "execution_count": 66,
   "id": "477504d5-ff35-4816-8aa8-bd42cdb90df9",
   "metadata": {},
   "outputs": [
    {
     "data": {
      "text/plain": [
       "Chi2ContingencyResult(statistic=260.71702016732104, pvalue=1.1973570627755645e-58, dof=1, expected_freq=array([[193.47474747, 120.52525253],\n",
       "       [355.52525253, 221.47474747]]))"
      ]
     },
     "execution_count": 66,
     "metadata": {},
     "output_type": "execute_result"
    }
   ],
   "source": [
    "# 카이제곱 독립성 검정을 수행하고, 검정통계량과 p값을 구하시오.\n",
    "stats.chi2_contingency(contingency_table)"
   ]
  },
  {
   "cell_type": "markdown",
   "id": "630df7e3-65ab-4f0f-9e41-d5464cd40d54",
   "metadata": {},
   "source": [
    "#  문제 3\n",
    "게시물 유형에 따른 평균 반응 수 차이 검정 (ANOVA) (fb.csv)"
   ]
  },
  {
   "cell_type": "markdown",
   "id": "2c3c69d5-ce20-4a41-bbc4-c5e811f674cf",
   "metadata": {},
   "source": [
    "- 페이스북 게시물 반응 데이터(fb.csv)를 이용하여, 게시물 유형에 따른 평균 리액션 수(reactions)가 유의미하게 차이가 있는지 검정하시오.\n",
    "- 조건:\n",
    "\n",
    "    그룹 변수: type (video, photo 등)\n",
    "\n",
    "    종속 변수: reactions\n",
    "\n",
    "    유의수준 0.05\n",
    "\n",
    "- 지시사항:\n",
    "\n",
    "    type별 reactions 평균을 비교하는 **일원분산분석(ANOVA)**를 수행하시오.\n",
    "\n",
    "    F값과 p값을 구하시오.\n",
    "\n",
    "제출 형식:\n",
    "F값, p값을 소수 셋째 자리까지 반올림하여 제출하시오.\n",
    "예: 5.241, 0.007  "
   ]
  },
  {
   "cell_type": "code",
   "execution_count": 71,
   "id": "d69904c5-8f91-4aa7-acb7-77ca0eebf265",
   "metadata": {},
   "outputs": [],
   "source": [
    "fb = pd.read_csv(\"data/4th-t2/fb.csv\")"
   ]
  },
  {
   "cell_type": "code",
   "execution_count": 73,
   "id": "97e86cbd-0ed8-494b-b914-29d5cc08f69c",
   "metadata": {},
   "outputs": [
    {
     "data": {
      "text/html": [
       "<div>\n",
       "<style scoped>\n",
       "    .dataframe tbody tr th:only-of-type {\n",
       "        vertical-align: middle;\n",
       "    }\n",
       "\n",
       "    .dataframe tbody tr th {\n",
       "        vertical-align: top;\n",
       "    }\n",
       "\n",
       "    .dataframe thead th {\n",
       "        text-align: right;\n",
       "    }\n",
       "</style>\n",
       "<table border=\"1\" class=\"dataframe\">\n",
       "  <thead>\n",
       "    <tr style=\"text-align: right;\">\n",
       "      <th></th>\n",
       "      <th>id</th>\n",
       "      <th>type</th>\n",
       "      <th>reactions</th>\n",
       "      <th>comments</th>\n",
       "      <th>shares</th>\n",
       "      <th>likes</th>\n",
       "      <th>loves</th>\n",
       "      <th>wows</th>\n",
       "      <th>hahas</th>\n",
       "      <th>sads</th>\n",
       "      <th>angrys</th>\n",
       "    </tr>\n",
       "  </thead>\n",
       "  <tbody>\n",
       "    <tr>\n",
       "      <th>0</th>\n",
       "      <td>1</td>\n",
       "      <td>video</td>\n",
       "      <td>529</td>\n",
       "      <td>512</td>\n",
       "      <td>262</td>\n",
       "      <td>432</td>\n",
       "      <td>92</td>\n",
       "      <td>3</td>\n",
       "      <td>1</td>\n",
       "      <td>1</td>\n",
       "      <td>0</td>\n",
       "    </tr>\n",
       "    <tr>\n",
       "      <th>1</th>\n",
       "      <td>2</td>\n",
       "      <td>photo</td>\n",
       "      <td>150</td>\n",
       "      <td>0</td>\n",
       "      <td>0</td>\n",
       "      <td>150</td>\n",
       "      <td>0</td>\n",
       "      <td>0</td>\n",
       "      <td>0</td>\n",
       "      <td>0</td>\n",
       "      <td>0</td>\n",
       "    </tr>\n",
       "  </tbody>\n",
       "</table>\n",
       "</div>"
      ],
      "text/plain": [
       "   id   type  reactions  comments  shares  likes  loves  wows  hahas  sads  \\\n",
       "0   1  video        529       512     262    432     92     3      1     1   \n",
       "1   2  photo        150         0       0    150      0     0      0     0   \n",
       "\n",
       "   angrys  \n",
       "0       0  \n",
       "1       0  "
      ]
     },
     "execution_count": 73,
     "metadata": {},
     "output_type": "execute_result"
    }
   ],
   "source": [
    "fb.head(2)"
   ]
  },
  {
   "cell_type": "code",
   "execution_count": 75,
   "id": "74eb3ac0-096a-468d-953b-868c5ad8e78e",
   "metadata": {},
   "outputs": [
    {
     "data": {
      "text/plain": [
       "type\n",
       "photo     4288\n",
       "video     2334\n",
       "status     365\n",
       "link        63\n",
       "Name: count, dtype: int64"
      ]
     },
     "execution_count": 75,
     "metadata": {},
     "output_type": "execute_result"
    }
   ],
   "source": [
    "fb['type'].value_counts()"
   ]
  },
  {
   "cell_type": "code",
   "execution_count": 127,
   "id": "e25e3575-7ffe-4247-9dec-942f6649674b",
   "metadata": {},
   "outputs": [],
   "source": [
    "video= fb[(fb['type']=='video')]['reactions']\n",
    "photo= fb[(fb['type']=='photo')]['reactions']\n",
    "link= fb[(fb['type']=='link')]['reactions']\n",
    "status= fb[(fb['type']=='status')]['reactions']"
   ]
  },
  {
   "cell_type": "code",
   "execution_count": 129,
   "id": "434bed98-8ca2-477e-9dc5-22b5f718d0e6",
   "metadata": {},
   "outputs": [
    {
     "data": {
      "text/plain": [
       "F_onewayResult(statistic=54.118579714158855, pvalue=1.41210615543239e-34)"
      ]
     },
     "execution_count": 129,
     "metadata": {},
     "output_type": "execute_result"
    }
   ],
   "source": [
    "stats.f_oneway(video,photo,link,status)"
   ]
  },
  {
   "cell_type": "markdown",
   "id": "a257aa69-6720-4c2c-9af9-de5d67096f1a",
   "metadata": {},
   "source": [
    "- F = 54.119: 그룹 간 분산이 그룹 내 분산보다 54배 크다는 의미\n",
    "- p값 ≈ 0.000 → 유의수준 0.05에서 귀무가설 기각 → type에 따라 reactions 평균이 유의하게 다름"
   ]
  },
  {
   "cell_type": "markdown",
   "id": "cd73a9a9-592a-4f66-91d0-54145d690e84",
   "metadata": {},
   "source": [
    "# 문제 5. \n",
    "생존 여부에 대한 로지스틱 회귀 해석 (Titanic.csv)\n",
    "\n",
    "    타이타닉 생존 예측을 위해, 로지스틱 회귀모형을 아래와 같이 설정하시오.\n",
    "\n",
    "    모형:\n",
    "\n",
    "        종속 변수: Survived (0=사망, 1=생존)\n",
    "\n",
    "        독립 변수: Gender, Pclass (1~3등급)\n",
    "\n",
    "    지시사항:\n",
    "\n",
    "        로지스틱 회귀를 수행하시오 (statsmodels 사용).\n",
    "\n",
    "        Gender 변수의 **오즈비(odds ratio)**와 p-value를 계산하시오.\n",
    "\n",
    "    제출 형식:\n",
    "    오즈비, p값을 소수 셋째 자리까지 반올림하여 제출하시오.\n",
    "    예: 2.615, 0.000"
   ]
  },
  {
   "cell_type": "code",
   "execution_count": 7,
   "id": "40d3dd41-3c6e-4a88-ba4b-820dfc12e469",
   "metadata": {},
   "outputs": [],
   "source": [
    "import pandas as pd\n",
    "import numpy as np\n",
    "titanic= pd.read_csv('data/Titanic.csv')"
   ]
  },
  {
   "cell_type": "code",
   "execution_count": 9,
   "id": "fa3fa97f-9834-499d-9c31-f9fad0c517e6",
   "metadata": {},
   "outputs": [
    {
     "data": {
      "text/html": [
       "<div>\n",
       "<style scoped>\n",
       "    .dataframe tbody tr th:only-of-type {\n",
       "        vertical-align: middle;\n",
       "    }\n",
       "\n",
       "    .dataframe tbody tr th {\n",
       "        vertical-align: top;\n",
       "    }\n",
       "\n",
       "    .dataframe thead th {\n",
       "        text-align: right;\n",
       "    }\n",
       "</style>\n",
       "<table border=\"1\" class=\"dataframe\">\n",
       "  <thead>\n",
       "    <tr style=\"text-align: right;\">\n",
       "      <th></th>\n",
       "      <th>PassengerId</th>\n",
       "      <th>Survived</th>\n",
       "      <th>Pclass</th>\n",
       "      <th>Name</th>\n",
       "      <th>Gender</th>\n",
       "      <th>Age</th>\n",
       "      <th>SibSp</th>\n",
       "      <th>Parch</th>\n",
       "      <th>Ticket</th>\n",
       "      <th>Fare</th>\n",
       "      <th>Cabin</th>\n",
       "      <th>Embarked</th>\n",
       "    </tr>\n",
       "  </thead>\n",
       "  <tbody>\n",
       "    <tr>\n",
       "      <th>0</th>\n",
       "      <td>1</td>\n",
       "      <td>0</td>\n",
       "      <td>3</td>\n",
       "      <td>Braund, Mr. Owen Harris</td>\n",
       "      <td>male</td>\n",
       "      <td>22.0</td>\n",
       "      <td>1</td>\n",
       "      <td>0</td>\n",
       "      <td>A/5 21171</td>\n",
       "      <td>7.2500</td>\n",
       "      <td>NaN</td>\n",
       "      <td>S</td>\n",
       "    </tr>\n",
       "    <tr>\n",
       "      <th>1</th>\n",
       "      <td>2</td>\n",
       "      <td>1</td>\n",
       "      <td>1</td>\n",
       "      <td>Cumings, Mrs. John Bradley (Florence Briggs Th...</td>\n",
       "      <td>female</td>\n",
       "      <td>38.0</td>\n",
       "      <td>1</td>\n",
       "      <td>0</td>\n",
       "      <td>PC 17599</td>\n",
       "      <td>71.2833</td>\n",
       "      <td>C85</td>\n",
       "      <td>C</td>\n",
       "    </tr>\n",
       "  </tbody>\n",
       "</table>\n",
       "</div>"
      ],
      "text/plain": [
       "   PassengerId  Survived  Pclass  \\\n",
       "0            1         0       3   \n",
       "1            2         1       1   \n",
       "\n",
       "                                                Name  Gender   Age  SibSp  \\\n",
       "0                            Braund, Mr. Owen Harris    male  22.0      1   \n",
       "1  Cumings, Mrs. John Bradley (Florence Briggs Th...  female  38.0      1   \n",
       "\n",
       "   Parch     Ticket     Fare Cabin Embarked  \n",
       "0      0  A/5 21171   7.2500   NaN        S  \n",
       "1      0   PC 17599  71.2833   C85        C  "
      ]
     },
     "execution_count": 9,
     "metadata": {},
     "output_type": "execute_result"
    }
   ],
   "source": [
    "titanic.head(2)"
   ]
  },
  {
   "cell_type": "code",
   "execution_count": 11,
   "id": "1b7e7e86-7906-4f6b-b80d-3a1467fea16b",
   "metadata": {},
   "outputs": [],
   "source": [
    "import statsmodels.formula.api as smf"
   ]
  },
  {
   "cell_type": "code",
   "execution_count": 15,
   "id": "bba18d55-df1c-4800-8937-6d33165c615b",
   "metadata": {},
   "outputs": [
    {
     "name": "stdout",
     "output_type": "stream",
     "text": [
      "Optimization terminated successfully.\n",
      "         Current function value: 0.464023\n",
      "         Iterations 6\n"
     ]
    }
   ],
   "source": [
    "formula= \"Survived ~ Gender + C(Pclass)\"\n",
    "model = smf.logit(formula,data=titanic).fit()"
   ]
  },
  {
   "cell_type": "code",
   "execution_count": 17,
   "id": "e26f2595-8ae2-499b-8eab-ab6ba1c2ad7c",
   "metadata": {},
   "outputs": [
    {
     "data": {
      "text/html": [
       "<table class=\"simpletable\">\n",
       "<caption>Logit Regression Results</caption>\n",
       "<tr>\n",
       "  <th>Dep. Variable:</th>       <td>Survived</td>     <th>  No. Observations:  </th>  <td>   891</td>  \n",
       "</tr>\n",
       "<tr>\n",
       "  <th>Model:</th>                 <td>Logit</td>      <th>  Df Residuals:      </th>  <td>   887</td>  \n",
       "</tr>\n",
       "<tr>\n",
       "  <th>Method:</th>                 <td>MLE</td>       <th>  Df Model:          </th>  <td>     3</td>  \n",
       "</tr>\n",
       "<tr>\n",
       "  <th>Date:</th>            <td>Fri, 20 Jun 2025</td> <th>  Pseudo R-squ.:     </th>  <td>0.3032</td>  \n",
       "</tr>\n",
       "<tr>\n",
       "  <th>Time:</th>                <td>17:50:01</td>     <th>  Log-Likelihood:    </th> <td> -413.44</td> \n",
       "</tr>\n",
       "<tr>\n",
       "  <th>converged:</th>             <td>True</td>       <th>  LL-Null:           </th> <td> -593.33</td> \n",
       "</tr>\n",
       "<tr>\n",
       "  <th>Covariance Type:</th>     <td>nonrobust</td>    <th>  LLR p-value:       </th> <td>1.145e-77</td>\n",
       "</tr>\n",
       "</table>\n",
       "<table class=\"simpletable\">\n",
       "<tr>\n",
       "         <td></td>           <th>coef</th>     <th>std err</th>      <th>z</th>      <th>P>|z|</th>  <th>[0.025</th>    <th>0.975]</th>  \n",
       "</tr>\n",
       "<tr>\n",
       "  <th>Intercept</th>      <td>    2.2971</td> <td>    0.219</td> <td>   10.490</td> <td> 0.000</td> <td>    1.868</td> <td>    2.726</td>\n",
       "</tr>\n",
       "<tr>\n",
       "  <th>Gender[T.male]</th> <td>   -2.6419</td> <td>    0.184</td> <td>  -14.350</td> <td> 0.000</td> <td>   -3.003</td> <td>   -2.281</td>\n",
       "</tr>\n",
       "<tr>\n",
       "  <th>C(Pclass)[T.2]</th> <td>   -0.8380</td> <td>    0.245</td> <td>   -3.424</td> <td> 0.001</td> <td>   -1.318</td> <td>   -0.358</td>\n",
       "</tr>\n",
       "<tr>\n",
       "  <th>C(Pclass)[T.3]</th> <td>   -1.9055</td> <td>    0.214</td> <td>   -8.898</td> <td> 0.000</td> <td>   -2.325</td> <td>   -1.486</td>\n",
       "</tr>\n",
       "</table>"
      ],
      "text/latex": [
       "\\begin{center}\n",
       "\\begin{tabular}{lclc}\n",
       "\\toprule\n",
       "\\textbf{Dep. Variable:}   &     Survived     & \\textbf{  No. Observations:  } &      891    \\\\\n",
       "\\textbf{Model:}           &      Logit       & \\textbf{  Df Residuals:      } &      887    \\\\\n",
       "\\textbf{Method:}          &       MLE        & \\textbf{  Df Model:          } &        3    \\\\\n",
       "\\textbf{Date:}            & Fri, 20 Jun 2025 & \\textbf{  Pseudo R-squ.:     } &   0.3032    \\\\\n",
       "\\textbf{Time:}            &     17:50:01     & \\textbf{  Log-Likelihood:    } &   -413.44   \\\\\n",
       "\\textbf{converged:}       &       True       & \\textbf{  LL-Null:           } &   -593.33   \\\\\n",
       "\\textbf{Covariance Type:} &    nonrobust     & \\textbf{  LLR p-value:       } & 1.145e-77   \\\\\n",
       "\\bottomrule\n",
       "\\end{tabular}\n",
       "\\begin{tabular}{lcccccc}\n",
       "                        & \\textbf{coef} & \\textbf{std err} & \\textbf{z} & \\textbf{P$> |$z$|$} & \\textbf{[0.025} & \\textbf{0.975]}  \\\\\n",
       "\\midrule\n",
       "\\textbf{Intercept}      &       2.2971  &        0.219     &    10.490  &         0.000        &        1.868    &        2.726     \\\\\n",
       "\\textbf{Gender[T.male]} &      -2.6419  &        0.184     &   -14.350  &         0.000        &       -3.003    &       -2.281     \\\\\n",
       "\\textbf{C(Pclass)[T.2]} &      -0.8380  &        0.245     &    -3.424  &         0.001        &       -1.318    &       -0.358     \\\\\n",
       "\\textbf{C(Pclass)[T.3]} &      -1.9055  &        0.214     &    -8.898  &         0.000        &       -2.325    &       -1.486     \\\\\n",
       "\\bottomrule\n",
       "\\end{tabular}\n",
       "%\\caption{Logit Regression Results}\n",
       "\\end{center}"
      ],
      "text/plain": [
       "<class 'statsmodels.iolib.summary.Summary'>\n",
       "\"\"\"\n",
       "                           Logit Regression Results                           \n",
       "==============================================================================\n",
       "Dep. Variable:               Survived   No. Observations:                  891\n",
       "Model:                          Logit   Df Residuals:                      887\n",
       "Method:                           MLE   Df Model:                            3\n",
       "Date:                Fri, 20 Jun 2025   Pseudo R-squ.:                  0.3032\n",
       "Time:                        17:50:01   Log-Likelihood:                -413.44\n",
       "converged:                       True   LL-Null:                       -593.33\n",
       "Covariance Type:            nonrobust   LLR p-value:                 1.145e-77\n",
       "==================================================================================\n",
       "                     coef    std err          z      P>|z|      [0.025      0.975]\n",
       "----------------------------------------------------------------------------------\n",
       "Intercept          2.2971      0.219     10.490      0.000       1.868       2.726\n",
       "Gender[T.male]    -2.6419      0.184    -14.350      0.000      -3.003      -2.281\n",
       "C(Pclass)[T.2]    -0.8380      0.245     -3.424      0.001      -1.318      -0.358\n",
       "C(Pclass)[T.3]    -1.9055      0.214     -8.898      0.000      -2.325      -1.486\n",
       "==================================================================================\n",
       "\"\"\""
      ]
     },
     "execution_count": 17,
     "metadata": {},
     "output_type": "execute_result"
    }
   ],
   "source": [
    "model.summary()"
   ]
  },
  {
   "cell_type": "code",
   "execution_count": 21,
   "id": "99a5f661-28bc-460a-8df3-5d9c0342c539",
   "metadata": {},
   "outputs": [
    {
     "data": {
      "text/plain": [
       "-413.44418477650765"
      ]
     },
     "execution_count": 21,
     "metadata": {},
     "output_type": "execute_result"
    }
   ],
   "source": [
    "model.llf"
   ]
  },
  {
   "cell_type": "code",
   "execution_count": 23,
   "id": "cf6bf7ab-1ba9-4566-8a72-b12deb77a10a",
   "metadata": {},
   "outputs": [
    {
     "data": {
      "text/plain": [
       "Intercept         2.297123\n",
       "Gender[T.male]   -2.641875\n",
       "C(Pclass)[T.2]   -0.837952\n",
       "C(Pclass)[T.3]   -1.905495\n",
       "dtype: float64"
      ]
     },
     "execution_count": 23,
     "metadata": {},
     "output_type": "execute_result"
    }
   ],
   "source": [
    "model.params"
   ]
  },
  {
   "cell_type": "code",
   "execution_count": 25,
   "id": "ed2c5369-d2f1-4165-8cee-e3fd3d56f94f",
   "metadata": {},
   "outputs": [
    {
     "name": "stderr",
     "output_type": "stream",
     "text": [
      "C:\\Users\\pjjeo\\AppData\\Local\\Temp\\ipykernel_46536\\4108129114.py:1: FutureWarning: Series.__getitem__ treating keys as positions is deprecated. In a future version, integer keys will always be treated as labels (consistent with DataFrame behavior). To access a value by position, use `ser.iloc[pos]`\n",
      "  gender = np.exp(model.params[1])\n"
     ]
    }
   ],
   "source": [
    "gender = np.exp(model.params[1])"
   ]
  },
  {
   "cell_type": "code",
   "execution_count": 27,
   "id": "bfaf5511-2d69-472f-81c9-7be80c5c1ed0",
   "metadata": {},
   "outputs": [
    {
     "data": {
      "text/plain": [
       "0.07122756433670245"
      ]
     },
     "execution_count": 27,
     "metadata": {},
     "output_type": "execute_result"
    }
   ],
   "source": [
    "gender"
   ]
  },
  {
   "cell_type": "markdown",
   "id": "425d1ecd-335f-4400-a115-7acb7dd276dd",
   "metadata": {},
   "source": [
    "해석 \n",
    "\n",
    "Gender 변수의 회귀계수는 약 -2.642이며, 오즈비는 약 0.071이다.\n",
    "\n",
    "따라서 유의수준 0.05 기준으로 p값이 작다면, 남성은 여성보다 생존 가능성이 유의하게 낮다고 판단할 수 있다."
   ]
  },
  {
   "cell_type": "markdown",
   "id": "941de3f9-be7c-4114-a84f-ba02cc7de421",
   "metadata": {},
   "source": [
    "| 변수                  | 계수(β)    | p값    | 해석                                      |\n",
    "| ------------------- | -------- | ----- | --------------------------------------- |\n",
    "| **Intercept**       | `+2.297` | 0.000 | 기준값(여성 & 1등석 기준 생존 로그오즈)                |\n",
    "| **Gender\\[T.male]** | `-2.642` | 0.000 | 남성은 여성보다 **생존 오즈비 0.071 (92.9%↓)**      |\n",
    "| **Pclass=2**        | `-0.838` | 0.001 | 2등석은 1등석보다 생존 오즈비 약 `exp(-0.838)=0.433` |\n",
    "| **Pclass=3**        | `-1.906` | 0.000 | 3등석은 1등석보다 생존 오즈비 약 `0.149` (85.1%↓)    |\n"
   ]
  },
  {
   "cell_type": "markdown",
   "id": "41b7a732-5ba7-4dea-901f-701016d90e24",
   "metadata": {},
   "source": [
    "# 문제 6 pearson\n",
    "\n",
    "좋아요 수와 댓글 수 간의 Pearson 상관분석 (fb.csv)\n",
    "\n",
    "    fb.csv 데이터에서 게시물의 likes와 comments 간 상관관계가 존재하는지 분석하시오.\n",
    "\n",
    "    조건:\n",
    "\n",
    "        연속형 변수 두 개: likes, comments\n",
    "\n",
    "        유의수준 0.05\n",
    "\n",
    "    지시사항:\n",
    "\n",
    "        Pearson 상관계수와 p값을 계산하시오.\n",
    "\n",
    "        통계적으로 유의한지 판단하시오.\n",
    "\n",
    "    제출 형식:\n",
    "    상관계수, p값을 소수 셋째 자리까지 반올림하여 제출하시오.\n",
    "    예: 0.784, 0.000"
   ]
  },
  {
   "cell_type": "code",
   "execution_count": 36,
   "id": "11b61503-074c-499a-9317-52b46da3b0c2",
   "metadata": {},
   "outputs": [
    {
     "data": {
      "text/html": [
       "<div>\n",
       "<style scoped>\n",
       "    .dataframe tbody tr th:only-of-type {\n",
       "        vertical-align: middle;\n",
       "    }\n",
       "\n",
       "    .dataframe tbody tr th {\n",
       "        vertical-align: top;\n",
       "    }\n",
       "\n",
       "    .dataframe thead th {\n",
       "        text-align: right;\n",
       "    }\n",
       "</style>\n",
       "<table border=\"1\" class=\"dataframe\">\n",
       "  <thead>\n",
       "    <tr style=\"text-align: right;\">\n",
       "      <th></th>\n",
       "      <th>id</th>\n",
       "      <th>type</th>\n",
       "      <th>reactions</th>\n",
       "      <th>comments</th>\n",
       "      <th>shares</th>\n",
       "      <th>likes</th>\n",
       "      <th>loves</th>\n",
       "      <th>wows</th>\n",
       "      <th>hahas</th>\n",
       "      <th>sads</th>\n",
       "      <th>angrys</th>\n",
       "    </tr>\n",
       "  </thead>\n",
       "  <tbody>\n",
       "    <tr>\n",
       "      <th>0</th>\n",
       "      <td>1</td>\n",
       "      <td>video</td>\n",
       "      <td>529</td>\n",
       "      <td>512</td>\n",
       "      <td>262</td>\n",
       "      <td>432</td>\n",
       "      <td>92</td>\n",
       "      <td>3</td>\n",
       "      <td>1</td>\n",
       "      <td>1</td>\n",
       "      <td>0</td>\n",
       "    </tr>\n",
       "    <tr>\n",
       "      <th>1</th>\n",
       "      <td>2</td>\n",
       "      <td>photo</td>\n",
       "      <td>150</td>\n",
       "      <td>0</td>\n",
       "      <td>0</td>\n",
       "      <td>150</td>\n",
       "      <td>0</td>\n",
       "      <td>0</td>\n",
       "      <td>0</td>\n",
       "      <td>0</td>\n",
       "      <td>0</td>\n",
       "    </tr>\n",
       "  </tbody>\n",
       "</table>\n",
       "</div>"
      ],
      "text/plain": [
       "   id   type  reactions  comments  shares  likes  loves  wows  hahas  sads  \\\n",
       "0   1  video        529       512     262    432     92     3      1     1   \n",
       "1   2  photo        150         0       0    150      0     0      0     0   \n",
       "\n",
       "   angrys  \n",
       "0       0  \n",
       "1       0  "
      ]
     },
     "execution_count": 36,
     "metadata": {},
     "output_type": "execute_result"
    }
   ],
   "source": [
    "fb = pd.read_csv(\"data/4th-t2/fb.csv\")\n",
    "fb.head(2)"
   ]
  },
  {
   "cell_type": "code",
   "execution_count": 39,
   "id": "824aa11d-d595-441b-884d-92ff39565671",
   "metadata": {},
   "outputs": [],
   "source": [
    "likes= fb['likes']\n",
    "comments=fb['comments']"
   ]
  },
  {
   "cell_type": "code",
   "execution_count": 47,
   "id": "58c5f871-a670-4979-a9c7-020e63484d14",
   "metadata": {},
   "outputs": [],
   "source": [
    "from scipy import stats"
   ]
  },
  {
   "cell_type": "code",
   "execution_count": 53,
   "id": "8372a749-f214-4969-832a-b0acff7a6d7d",
   "metadata": {},
   "outputs": [
    {
     "data": {
      "text/plain": [
       "PearsonRResult(statistic=0.10168703564349908, pvalue=1.1409104185135603e-17)"
      ]
     },
     "execution_count": 53,
     "metadata": {},
     "output_type": "execute_result"
    }
   ],
   "source": [
    "stats.pearsonr(likes,comments)"
   ]
  },
  {
   "cell_type": "code",
   "execution_count": 55,
   "id": "e84dedd0-6458-4fff-aa31-95efcd855b8f",
   "metadata": {},
   "outputs": [],
   "source": [
    "\n",
    "# dir(stats)"
   ]
  },
  {
   "cell_type": "markdown",
   "id": "714e9bd4-14cb-4d31-ae2b-b2983910ede5",
   "metadata": {},
   "source": [
    "# 문제 7. 평균 점수에 대한 95% 신뢰구간 직접 계산"
   ]
  },
  {
   "cell_type": "code",
   "execution_count": 58,
   "id": "7b410113-fbb2-455b-9f73-5f8db4bb5beb",
   "metadata": {},
   "outputs": [],
   "source": [
    "scores = [71, 74, 70, 69, 75, 77, 78, 73, 74, 72]"
   ]
  },
  {
   "cell_type": "code",
   "execution_count": 68,
   "id": "d647702c-311f-4959-af35-5a9091f58f74",
   "metadata": {},
   "outputs": [
    {
     "name": "stdout",
     "output_type": "stream",
     "text": [
      "구간은 아래 71.21985385732074에서 위에는 75.38014614267925 사이에 포집단의 평균점수가 위치한다. 신뢰구간 95%에서\n"
     ]
    }
   ],
   "source": [
    "mu= np.mean(scores)\n",
    "from scipy import stats\n",
    "dof= len(scores)-1\n",
    "\n",
    "t= stats.t.ppf(0.975,dof)\n",
    "std=  np.std(scores,ddof=1)\n",
    "SEM = std/np.sqrt(len(scores))\n",
    "\n",
    "upper = mu + t*SEM\n",
    "lower = mu - t*SEM\n",
    "\n",
    "print(f\"구간은 아래 {lower}에서 위에는 {upper} 사이에 포집단의 평균점수가 위치한다. 신뢰구간 95%에서\")"
   ]
  },
  {
   "cell_type": "code",
   "execution_count": 70,
   "id": "cfe108d6-ef02-484f-9f9d-fe2fac7dc737",
   "metadata": {},
   "outputs": [
    {
     "data": {
      "text/plain": [
       "(71.21985385732074, 75.38014614267925)"
      ]
     },
     "execution_count": 70,
     "metadata": {},
     "output_type": "execute_result"
    }
   ],
   "source": [
    "stats.t.interval(0.95 , df=dof, loc= mu, scale = SEM)"
   ]
  },
  {
   "cell_type": "code",
   "execution_count": null,
   "id": "888e82d4-7672-4b79-a5f2-9a7ae1a158f7",
   "metadata": {},
   "outputs": [],
   "source": []
  }
 ],
 "metadata": {
  "kernelspec": {
   "display_name": "Python [conda env:base] *",
   "language": "python",
   "name": "conda-base-py"
  },
  "language_info": {
   "codemirror_mode": {
    "name": "ipython",
    "version": 3
   },
   "file_extension": ".py",
   "mimetype": "text/x-python",
   "name": "python",
   "nbconvert_exporter": "python",
   "pygments_lexer": "ipython3",
   "version": "3.12.3"
  }
 },
 "nbformat": 4,
 "nbformat_minor": 5
}
