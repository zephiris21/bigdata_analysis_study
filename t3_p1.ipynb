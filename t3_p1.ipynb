{
 "cells": [
  {
   "cell_type": "markdown",
   "id": "54a4dd55-2a09-4d21-8a5d-2854c74164d6",
   "metadata": {},
   "source": [
    "| 검정 종류              | 직접 출제 비중 | 출제 방식                       |\n",
    "| ------------------ | -------- | --------------------------- |\n",
    "| **단일표본 t‑검정**      | 매우 드묾    | **명시적 출제 거의 없음**            |\n",
    "| **독립/대응표본 t**      | 자주 나옴    | 예: 두 집단 전후 비교 등             |\n",
    "| **카이제곱 독립성**       | 매우 자주 나옴 | 범주형 변수 간 연관성 판단             |\n",
    "| **신뢰구간 계산**        | 종종 나옴    | `stats.t.interval()` 형태로 출제 |\n",
    "| **statsmodels 회귀** | 자주 나옴    | 계수 유의성, p-value 등 분석        |\n"
   ]
  },
  {
   "cell_type": "markdown",
   "id": "8f1d1208-ff5e-44a0-a7cf-5434afb0d445",
   "metadata": {},
   "source": [
    "# 단일 표본 t 검정 (단측) \n",
    "## 문제: 다음은 22명의 학생들이 국어시험에서 받은 점수이다. 학생들의 평균이 75보다 크다고 할 수 있는가?\n",
    "- 귀무가설(H0): 모평균은 mu와 같다. (μ = mu), 학생들의 평균은 75이다\n",
    "- 대립가설(H1): 모평균은 mu보다 크다. (μ > mu), 학생들의 평균은 75보다 크다\n",
    "\n",
    "가정:\n",
    "- 모집단은 정규분포를 따른다.\n",
    "- 표본의 크기가 충분히 크다.\n",
    "\n",
    "**검정통계량, p-value, 검정결과를 출력하시오**\n"
   ]
  },
  {
   "cell_type": "code",
   "execution_count": 3,
   "id": "be9f45b4-82f7-45ff-b465-880cfce30ed3",
   "metadata": {},
   "outputs": [],
   "source": [
    "from scipy.stats import ttest_1samp\n",
    "\n",
    "# 단일 표본 t 검정\n",
    "# \"75보다 크다\" → 단측 검정 (우측)\n",
    "# 방법: scipy.stats.ttest_1samp() 사용 후, 단측 p-value로 변환 필요"
   ]
  },
  {
   "cell_type": "code",
   "execution_count": 5,
   "id": "beb60c2d-d958-48b1-85d3-3d374fac7a9a",
   "metadata": {},
   "outputs": [],
   "source": [
    "# 데이터\n",
    "scores = [75, 80, 68, 72, 77, 82, 81, 79, 70, 74, 76, 78, 81, 73, 81, 78, 75, 72, 74, 79, 78, 79]"
   ]
  },
  {
   "cell_type": "code",
   "execution_count": 7,
   "id": "707ee593-a497-4a1e-93e8-faf75928c9ea",
   "metadata": {},
   "outputs": [],
   "source": [
    "# 모평균 가설검정\n",
    "mu=75 # 검정할 모평균\n",
    "alpha=0.05 # 유의수준"
   ]
  },
  {
   "cell_type": "code",
   "execution_count": 9,
   "id": "6c891edf-a8fe-4075-a6ef-5287baeefdd5",
   "metadata": {},
   "outputs": [],
   "source": [
    "# t-test 를 사용하여 가설 검정\n",
    "t_stat,p_val=ttest_1samp(scores,mu,alternative='greater')"
   ]
  },
  {
   "cell_type": "code",
   "execution_count": 11,
   "id": "bcdf0df4-21db-4138-8fd8-34b5c9d815d9",
   "metadata": {},
   "outputs": [
    {
     "name": "stdout",
     "output_type": "stream",
     "text": [
      "t_stat :  1.765879233231226\n",
      "p-value :  0.04597614747709146\n"
     ]
    }
   ],
   "source": [
    "print('t_stat : ',t_stat)\n",
    "print('p-value : ',p_val)"
   ]
  },
  {
   "cell_type": "code",
   "execution_count": 13,
   "id": "d04610de-12ea-49a0-aec0-701e1332780a",
   "metadata": {},
   "outputs": [
    {
     "name": "stdout",
     "output_type": "stream",
     "text": [
      "귀무가설을 기각합니다. 모평균은 75보다 큽니다.\n"
     ]
    }
   ],
   "source": [
    "if p_val < alpha:\n",
    "    print(\"귀무가설을 기각합니다. 모평균은 75보다 큽니다.\")\n",
    "else:\n",
    "    print(\"귀무가설을 채택합니다. 모평균은 75보다 크지 않습니다.\")"
   ]
  },
  {
   "cell_type": "code",
   "execution_count": 31,
   "id": "94040a92-cf0d-4eb3-ac32-e4ec47c46745",
   "metadata": {},
   "outputs": [],
   "source": [
    "# 검정통계량 \n",
    "# t 통계량은 **“표본평균과 모평균이 얼마나 떨어져 있는지를 표준오차 단위로 나타낸 값”**입니다."
   ]
  },
  {
   "cell_type": "code",
   "execution_count": 17,
   "id": "1f5e2fbd-56d4-47f5-995a-4f76d83c2049",
   "metadata": {},
   "outputs": [],
   "source": [
    "# help(ttest_1samp)"
   ]
  },
  {
   "cell_type": "code",
   "execution_count": 23,
   "id": "e19b141d-4efc-4c86-b123-4324357fcb97",
   "metadata": {},
   "outputs": [],
   "source": [
    "# import scipy.stats\n",
    "# dir(scipy.stats)"
   ]
  },
  {
   "cell_type": "markdown",
   "id": "f43e8c3e-50c7-4345-977e-656e00466ec8",
   "metadata": {},
   "source": [
    "- 기본 형태\n",
    "t_stat, p_val = ttest_1samp(data, popmean, alternative='two-sided')\n",
    "\n",
    "data: 샘플 데이터 (리스트 또는 배열)\n",
    "\n",
    "popmean: 비교할 모평균 (예: 75)\n",
    "\n",
    "alternative: 대립가설의 방향 설정\n",
    "\n",
    "    'two-sided' (기본값): μ ≠ popmean\n",
    "\n",
    "    'greater': μ > popmean\n",
    "\n",
    "    'less': μ < popmean"
   ]
  },
  {
   "cell_type": "markdown",
   "id": "5ab7ba8e-a564-4e87-ba6e-b8b3c4ab250a",
   "metadata": {},
   "source": [
    "| 유형       | 비교 대상              | 사용 조건 (주요 예시)            |\n",
    "| -------- | ------------------ | ------------------------ |\n",
    "| **단일표본** | 표본 평균 vs **모평균**   | “이 표본 평균이 μ = 75 보다 크다?” |\n",
    "| **독립표본** | **두 개의 독립된 집단** 평균 | “복용군 vs 비복용군의 평균 체온 차이?” |\n",
    "| **대응표본** | **같은 집단의 전/후** 평균  | “치료 전후 체중 변화가 유의한가?”     |\n"
   ]
  },
  {
   "cell_type": "markdown",
   "id": "b8c32d3c-d6a8-461a-8ff3-ee05e24703e5",
   "metadata": {},
   "source": [
    "# 독립표본 t 검정"
   ]
  },
  {
   "cell_type": "markdown",
   "id": "db9d7b66-246b-4f06-a83b-10623f7705a1",
   "metadata": {},
   "source": [
    "\n",
    "## 문제 : 어떤 특정 약물을 복용한 사람들의 평균 체온이 복용하지 않은 사람들의 평균 체온과 유의미하게 다른지 검정해보려고 합니다.\n",
    "\n",
    "가정:\n",
    "\n",
    "    약물을 복용한 그룹과 복용하지 않은 그룹의 체온 데이터가 각각 주어져 있다고 가정합니다.\n",
    "    각 그룹의 체온은 정규분포를 따른다고 가정합니다.\n",
    "\n",
    "검정통계량, p-value, 검정결과를 출력하시오¶\n"
   ]
  },
  {
   "cell_type": "code",
   "execution_count": 34,
   "id": "baedf6a2-6278-4da4-9118-769d7f4017a8",
   "metadata": {},
   "outputs": [],
   "source": [
    "from scipy import stats\n",
    "\n",
    "# 가설 설정\n",
    "# H0 : 약물을 복용한 그룹과 복용하지 않은 그룹의 평균 체온은 유의미한 차이가 없다.\n",
    "# H1 : 약물을 복용한 그룹과 복용하지 않은 그룹의 평균 체온은 유의미한 차이가 있다. "
   ]
  },
  {
   "cell_type": "code",
   "execution_count": 36,
   "id": "0f1cf13a-7500-40e5-b268-c020b68c9a22",
   "metadata": {},
   "outputs": [],
   "source": [
    "# 데이터 수집\n",
    "group1 = [36.8, 36.7, 37.1, 36.9, 37.2, 36.8, 36.9, 37.1, 36.7, 37.1]\n",
    "group2 = [36.5, 36.6, 36.3, 36.6, 36.9, 36.7, 36.7, 36.8, 36.5, 36.7]"
   ]
  },
  {
   "cell_type": "code",
   "execution_count": 54,
   "id": "6a582688-d4e3-40aa-bdf7-7a407a3e4d9e",
   "metadata": {},
   "outputs": [
    {
     "name": "stdout",
     "output_type": "stream",
     "text": [
      "검정통계량: 3.7964208654863336\n",
      "p-value: 0.001321891476703691\n"
     ]
    }
   ],
   "source": [
    "# 가설검정\n",
    "t_stat,p_val=stats.ttest_ind(group1,group2)  # 실전에서는 등분산 가정을 안하고 equal_var=false 로 두고 welch t-test 를 씀\n",
    "\n",
    "print(\"검정통계량:\", t_stat)\n",
    "print(\"p-value:\", p_val)"
   ]
  },
  {
   "cell_type": "code",
   "execution_count": null,
   "id": "3f21576c-e174-4cb5-8cd4-78b65fea079e",
   "metadata": {},
   "outputs": [],
   "source": []
  },
  {
   "cell_type": "markdown",
   "id": "9c607d7b-11c9-48ff-8e6d-a18659d0e37c",
   "metadata": {},
   "source": [
    "p-val < 0.05 이므로 귀무가설 기각, 대립가설 채택. 유의미한차이가 있다. "
   ]
  },
  {
   "cell_type": "code",
   "execution_count": 45,
   "id": "59b88843-8a9f-4c28-8163-89cb4318d521",
   "metadata": {},
   "outputs": [
    {
     "data": {
      "text/plain": [
       "LeveneResult(statistic=0.19889502762431177, pvalue=0.6609323607193374)"
      ]
     },
     "execution_count": 45,
     "metadata": {},
     "output_type": "execute_result"
    }
   ],
   "source": [
    "scipy.stats.levene(group1,group2)"
   ]
  },
  {
   "cell_type": "markdown",
   "id": "09b75116-fb4d-4c36-8da5-fadb9be524dc",
   "metadata": {},
   "source": [
    "pvalue=0.6609323607193374)\n",
    "귀무가설 채택, 등분산은 같다"
   ]
  },
  {
   "cell_type": "markdown",
   "id": "af9a1769-32ce-428f-83e7-caa76b6d17bb",
   "metadata": {},
   "source": [
    "| 상황            | 사용 함수                             | 설명                              |\n",
    "| ------------- | --------------------------------- | ------------------------------- |\n",
    "| **등분산 가정됨**   | `ttest_ind(..., equal_var=True)`  | **고전적 독립표본 t-검정**               |\n",
    "| **등분산 가정 안됨** | `ttest_ind(..., equal_var=False)` | **Welch’s t-검정**, **현실에서 더 안전** |\n"
   ]
  },
  {
   "cell_type": "code",
   "execution_count": 48,
   "id": "81006042-ffc3-416b-b25b-e0c476ddff58",
   "metadata": {},
   "outputs": [],
   "source": [
    "# help(stats.ttest_ind)"
   ]
  },
  {
   "cell_type": "markdown",
   "id": "d42734b2-fccf-45af-9b3f-be3e8f3d27d2",
   "metadata": {},
   "source": [
    "# 대응 표본 t 검정"
   ]
  },
  {
   "cell_type": "markdown",
   "id": "c48de0be-7199-474c-a1a2-badada433a97",
   "metadata": {},
   "source": [
    "## 문제 : 주어진 데이터는 고혈압 환자 치료 전후의 혈압이다. 해당 치료가 효과가 있는지 대응(쌍체)표본 t-검정을 진행하시오\n",
    "\n",
    "- 귀무가설(H0): $\\mu$ >= 0\n",
    "- 대립가설(H1): $\\mu$ < 0\n",
    "- $\\mu$ = (치료 후 혈압 - 치료 전 혈압)의 평균\n",
    "- 유의수준: 0.05\n",
    "\n",
    "1. $\\mu$의 표본평균은?(소수 둘째자리까지 반올림)\n",
    "2. 검정통계량 값은?(소수 넷째자리까지 반올림)\n",
    "3. p-값은?(소수 넷째자리까지 반올림)\n",
    "4. 가설검정의 결과는? (유의수준 5%)"
   ]
  },
  {
   "cell_type": "code",
   "execution_count": 59,
   "id": "26d1d27e-38cb-4fab-b2d5-374b0d017e5f",
   "metadata": {},
   "outputs": [],
   "source": [
    "import pandas as pd\n",
    "df=pd.read_csv('data/high_blood_pressure.csv')"
   ]
  },
  {
   "cell_type": "code",
   "execution_count": 64,
   "id": "551c7899-e51b-4c5a-a46c-13f3af7060cc",
   "metadata": {},
   "outputs": [],
   "source": [
    "# dir(scipy.stats)"
   ]
  },
  {
   "cell_type": "code",
   "execution_count": 66,
   "id": "28c4ad5b-4666-4192-b187-0aee16e0f3b0",
   "metadata": {},
   "outputs": [],
   "source": [
    "from scipy.stats import ttest_rel"
   ]
  },
  {
   "cell_type": "code",
   "execution_count": 70,
   "id": "9d3317de-a0df-49ec-bcf1-0048d7e945ef",
   "metadata": {},
   "outputs": [],
   "source": [
    "# help(ttest_rel)  # a, b : array_like  alternative : {'two-sided', 'less', 'greater'}, optional"
   ]
  },
  {
   "cell_type": "code",
   "execution_count": 72,
   "id": "98be22f8-8fa5-46b3-a825-6b6a672e0190",
   "metadata": {},
   "outputs": [
    {
     "data": {
      "text/html": [
       "<div>\n",
       "<style scoped>\n",
       "    .dataframe tbody tr th:only-of-type {\n",
       "        vertical-align: middle;\n",
       "    }\n",
       "\n",
       "    .dataframe tbody tr th {\n",
       "        vertical-align: top;\n",
       "    }\n",
       "\n",
       "    .dataframe thead th {\n",
       "        text-align: right;\n",
       "    }\n",
       "</style>\n",
       "<table border=\"1\" class=\"dataframe\">\n",
       "  <thead>\n",
       "    <tr style=\"text-align: right;\">\n",
       "      <th></th>\n",
       "      <th>Id</th>\n",
       "      <th>sex</th>\n",
       "      <th>age</th>\n",
       "      <th>bp_pre</th>\n",
       "      <th>bp_post</th>\n",
       "    </tr>\n",
       "  </thead>\n",
       "  <tbody>\n",
       "    <tr>\n",
       "      <th>0</th>\n",
       "      <td>p001</td>\n",
       "      <td>Male</td>\n",
       "      <td>33</td>\n",
       "      <td>149</td>\n",
       "      <td>129</td>\n",
       "    </tr>\n",
       "    <tr>\n",
       "      <th>1</th>\n",
       "      <td>p002</td>\n",
       "      <td>Male</td>\n",
       "      <td>39</td>\n",
       "      <td>168</td>\n",
       "      <td>168</td>\n",
       "    </tr>\n",
       "    <tr>\n",
       "      <th>2</th>\n",
       "      <td>p003</td>\n",
       "      <td>Male</td>\n",
       "      <td>70</td>\n",
       "      <td>176</td>\n",
       "      <td>155</td>\n",
       "    </tr>\n",
       "    <tr>\n",
       "      <th>3</th>\n",
       "      <td>p004</td>\n",
       "      <td>Female</td>\n",
       "      <td>41</td>\n",
       "      <td>169</td>\n",
       "      <td>178</td>\n",
       "    </tr>\n",
       "    <tr>\n",
       "      <th>4</th>\n",
       "      <td>p005</td>\n",
       "      <td>Male</td>\n",
       "      <td>48</td>\n",
       "      <td>160</td>\n",
       "      <td>126</td>\n",
       "    </tr>\n",
       "  </tbody>\n",
       "</table>\n",
       "</div>"
      ],
      "text/plain": [
       "     Id     sex  age  bp_pre  bp_post\n",
       "0  p001    Male   33     149      129\n",
       "1  p002    Male   39     168      168\n",
       "2  p003    Male   70     176      155\n",
       "3  p004  Female   41     169      178\n",
       "4  p005    Male   48     160      126"
      ]
     },
     "execution_count": 72,
     "metadata": {},
     "output_type": "execute_result"
    }
   ],
   "source": [
    "df.head()"
   ]
  },
  {
   "cell_type": "code",
   "execution_count": 77,
   "id": "f46d4d8a-4ea1-4611-8fa7-47faa8bc4277",
   "metadata": {},
   "outputs": [],
   "source": [
    "bp_post=df['bp_post']\n",
    "bp_pre=df['bp_pre']"
   ]
  },
  {
   "cell_type": "code",
   "execution_count": 84,
   "id": "602cf4bf-4810-44df-a26e-9364735d1ced",
   "metadata": {},
   "outputs": [
    {
     "data": {
      "text/plain": [
       "-6.12"
      ]
     },
     "execution_count": 84,
     "metadata": {},
     "output_type": "execute_result"
    }
   ],
   "source": [
    "mu= round((bp_post - bp_pre).mean(),2)\n",
    "mu"
   ]
  },
  {
   "cell_type": "code",
   "execution_count": 88,
   "id": "eccef810-2db9-4bc6-a8d0-d676c110acda",
   "metadata": {},
   "outputs": [
    {
     "name": "stdout",
     "output_type": "stream",
     "text": [
      "-3.0002\n",
      "0.0016\n"
     ]
    },
    {
     "data": {
      "text/plain": [
       "(None, None)"
      ]
     },
     "execution_count": 88,
     "metadata": {},
     "output_type": "execute_result"
    }
   ],
   "source": [
    "t_stats, p_val= stats.ttest_rel(bp_post,bp_pre,alternative = 'less')\n",
    "\n",
    "# 검정통계량 값은?(소수 넷째자리까지 반올림) #p-값은?(소수 넷째자리까지 반올림)\n",
    "print(round(t_stats,4)), print(round(p_val,4))\n",
    "\n"
   ]
  },
  {
   "cell_type": "markdown",
   "id": "79273790-90a1-4ac2-bc77-73458d736e84",
   "metadata": {},
   "source": [
    "유의도 0.05보다 작으므로 귀무가설기각, 유의미하게 혈압 강하 효과가 있다."
   ]
  },
  {
   "cell_type": "markdown",
   "id": "00980f00-e268-4e9a-9688-0ff786bc9712",
   "metadata": {},
   "source": [
    "# 일원분산분석 (ANOVA)"
   ]
  },
  {
   "cell_type": "markdown",
   "id": "7fa947fd-ecb3-4f84-a9eb-97e16fc42c28",
   "metadata": {},
   "source": [
    "## 문제 : 세 가지 다른 교육 방법(A, B, C)을 사용하여 수험생들의 시험 성적을 개선시키는 효과를 평가하고자 한다. \n",
    "\n",
    "30명의 학생들을 무작위로 세 그룹으로 배정하여 교육을 실시하였고, 시험을 보고 성적을 측정하였습니다. 다음은 각 그룹의 학생들의 성적 데이터입니다.\n",
    "\n",
    "    귀무가설(H0): 세 그룹(A, B, C) 간의 평균 성적 차이가 없다.\n",
    "    대립가설(H1 또는 Ha): 세 그룹(A, B, C) 간의 평균 성적 차이가 있다.\n",
    "\n"
   ]
  },
  {
   "cell_type": "markdown",
   "id": "90b46c3b-715f-4ecb-ba45-4f01cd28db01",
   "metadata": {},
   "source": [
    "**일원분산분석(One-Way ANOVA)**는 말 그대로 **“3개 이상의 집단 평균을 비교하는 확장된 t-검정”**"
   ]
  },
  {
   "cell_type": "code",
   "execution_count": 115,
   "id": "981663c4-a3bc-47d0-b64e-7e28636bd5cd",
   "metadata": {},
   "outputs": [],
   "source": [
    "# 각 그룹의 데이터\n",
    "groupA = [85, 92, 78, 88, 83, 90, 76, 84, 92, 87]\n",
    "groupB = [79, 69, 84, 78, 79, 83, 79, 81, 86, 88]\n",
    "groupC = [75, 68, 74, 65, 77, 72, 70, 73, 78, 75]"
   ]
  },
  {
   "cell_type": "markdown",
   "id": "78f5d627-595e-4b83-bc3a-9a199a712473",
   "metadata": {},
   "source": [
    "-다음 주어진 데이터로 일원배치법을 수행하여 그룹 간의 평균 성적 차이가 있는지 검정하세요\n",
    "\n",
    "    - f값 (소수 둘째자리)\n",
    "    - p값 (소수 여섯째자리)\n",
    "    - 검정결과 출력\n"
   ]
  },
  {
   "cell_type": "code",
   "execution_count": 107,
   "id": "d63ea892-ac2e-4de2-8ac7-55900938da3c",
   "metadata": {},
   "outputs": [],
   "source": [
    "# dir(scipy.stats)"
   ]
  },
  {
   "cell_type": "code",
   "execution_count": 109,
   "id": "7cf14fd1-a950-4ff5-868d-b1027f76ac73",
   "metadata": {},
   "outputs": [],
   "source": [
    "from scipy.stats import f_oneway"
   ]
  },
  {
   "cell_type": "code",
   "execution_count": 113,
   "id": "24382901-7eec-4fc0-8878-7f134cde22d2",
   "metadata": {},
   "outputs": [],
   "source": [
    "# help(f_oneway)"
   ]
  },
  {
   "cell_type": "code",
   "execution_count": 117,
   "id": "0c7c5024-6c55-4f73-9e4e-dbff57caa432",
   "metadata": {},
   "outputs": [],
   "source": [
    "stats,p_val= f_oneway(groupA,groupB,groupC)"
   ]
  },
  {
   "cell_type": "code",
   "execution_count": 121,
   "id": "15c1444a-9d1a-454c-b626-ca56872e41ff",
   "metadata": {},
   "outputs": [
    {
     "data": {
      "text/plain": [
       "16.88"
      ]
     },
     "execution_count": 121,
     "metadata": {},
     "output_type": "execute_result"
    }
   ],
   "source": [
    "round(stats,2)"
   ]
  },
  {
   "cell_type": "code",
   "execution_count": 123,
   "id": "0f5c50f7-a543-41e9-8018-4ae38c708213",
   "metadata": {},
   "outputs": [
    {
     "data": {
      "text/plain": [
       "1.8e-05"
      ]
     },
     "execution_count": 123,
     "metadata": {},
     "output_type": "execute_result"
    }
   ],
   "source": [
    "round(p_val,6)"
   ]
  },
  {
   "cell_type": "code",
   "execution_count": null,
   "id": "d7493cdb-c6f4-4100-8fa5-0df47e56382d",
   "metadata": {},
   "outputs": [],
   "source": []
  },
  {
   "cell_type": "code",
   "execution_count": 125,
   "id": "2054a7c6-125d-4f75-b5e0-3127616e1d1b",
   "metadata": {},
   "outputs": [],
   "source": [
    "import pandas as pd\n",
    "\n",
    "groupA = [85, 92, 78, 88, 83, 90, 76, 84, 92, 87]\n",
    "groupB = [79, 69, 84, 78, 79, 83, 79, 81, 86, 88]\n",
    "groupC = [75, 68, 74, 65, 77, 72, 70, 73, 78, 75]\n",
    "\n",
    "data = {'GroupA': groupA, 'GroupB': groupB, 'GroupC': groupC}"
   ]
  },
  {
   "cell_type": "code",
   "execution_count": 127,
   "id": "fce300a4-a079-4cc8-9018-e50d26c02c14",
   "metadata": {},
   "outputs": [],
   "source": [
    "df_wide = pd.DataFrame(data)"
   ]
  },
  {
   "cell_type": "code",
   "execution_count": 129,
   "id": "25234ffc-152f-4af4-9ab4-b39b3b73297c",
   "metadata": {},
   "outputs": [
    {
     "data": {
      "text/html": [
       "<div>\n",
       "<style scoped>\n",
       "    .dataframe tbody tr th:only-of-type {\n",
       "        vertical-align: middle;\n",
       "    }\n",
       "\n",
       "    .dataframe tbody tr th {\n",
       "        vertical-align: top;\n",
       "    }\n",
       "\n",
       "    .dataframe thead th {\n",
       "        text-align: right;\n",
       "    }\n",
       "</style>\n",
       "<table border=\"1\" class=\"dataframe\">\n",
       "  <thead>\n",
       "    <tr style=\"text-align: right;\">\n",
       "      <th></th>\n",
       "      <th>GroupA</th>\n",
       "      <th>GroupB</th>\n",
       "      <th>GroupC</th>\n",
       "    </tr>\n",
       "  </thead>\n",
       "  <tbody>\n",
       "    <tr>\n",
       "      <th>0</th>\n",
       "      <td>85</td>\n",
       "      <td>79</td>\n",
       "      <td>75</td>\n",
       "    </tr>\n",
       "    <tr>\n",
       "      <th>1</th>\n",
       "      <td>92</td>\n",
       "      <td>69</td>\n",
       "      <td>68</td>\n",
       "    </tr>\n",
       "    <tr>\n",
       "      <th>2</th>\n",
       "      <td>78</td>\n",
       "      <td>84</td>\n",
       "      <td>74</td>\n",
       "    </tr>\n",
       "    <tr>\n",
       "      <th>3</th>\n",
       "      <td>88</td>\n",
       "      <td>78</td>\n",
       "      <td>65</td>\n",
       "    </tr>\n",
       "    <tr>\n",
       "      <th>4</th>\n",
       "      <td>83</td>\n",
       "      <td>79</td>\n",
       "      <td>77</td>\n",
       "    </tr>\n",
       "    <tr>\n",
       "      <th>5</th>\n",
       "      <td>90</td>\n",
       "      <td>83</td>\n",
       "      <td>72</td>\n",
       "    </tr>\n",
       "    <tr>\n",
       "      <th>6</th>\n",
       "      <td>76</td>\n",
       "      <td>79</td>\n",
       "      <td>70</td>\n",
       "    </tr>\n",
       "    <tr>\n",
       "      <th>7</th>\n",
       "      <td>84</td>\n",
       "      <td>81</td>\n",
       "      <td>73</td>\n",
       "    </tr>\n",
       "    <tr>\n",
       "      <th>8</th>\n",
       "      <td>92</td>\n",
       "      <td>86</td>\n",
       "      <td>78</td>\n",
       "    </tr>\n",
       "    <tr>\n",
       "      <th>9</th>\n",
       "      <td>87</td>\n",
       "      <td>88</td>\n",
       "      <td>75</td>\n",
       "    </tr>\n",
       "  </tbody>\n",
       "</table>\n",
       "</div>"
      ],
      "text/plain": [
       "   GroupA  GroupB  GroupC\n",
       "0      85      79      75\n",
       "1      92      69      68\n",
       "2      78      84      74\n",
       "3      88      78      65\n",
       "4      83      79      77\n",
       "5      90      83      72\n",
       "6      76      79      70\n",
       "7      84      81      73\n",
       "8      92      86      78\n",
       "9      87      88      75"
      ]
     },
     "execution_count": 129,
     "metadata": {},
     "output_type": "execute_result"
    }
   ],
   "source": [
    "df_wide"
   ]
  },
  {
   "cell_type": "code",
   "execution_count": 131,
   "id": "a989dafa-3206-4b9f-8e4b-648708330e61",
   "metadata": {},
   "outputs": [],
   "source": [
    "df_long = df_wide.melt(value_vars=['GroupA', 'GroupB', 'GroupC'], var_name='Group', value_name='Score')"
   ]
  },
  {
   "cell_type": "code",
   "execution_count": 133,
   "id": "0cece729-0c8d-49a9-b4ae-2f0ba319d634",
   "metadata": {},
   "outputs": [
    {
     "data": {
      "text/html": [
       "<div>\n",
       "<style scoped>\n",
       "    .dataframe tbody tr th:only-of-type {\n",
       "        vertical-align: middle;\n",
       "    }\n",
       "\n",
       "    .dataframe tbody tr th {\n",
       "        vertical-align: top;\n",
       "    }\n",
       "\n",
       "    .dataframe thead th {\n",
       "        text-align: right;\n",
       "    }\n",
       "</style>\n",
       "<table border=\"1\" class=\"dataframe\">\n",
       "  <thead>\n",
       "    <tr style=\"text-align: right;\">\n",
       "      <th></th>\n",
       "      <th>Group</th>\n",
       "      <th>Score</th>\n",
       "    </tr>\n",
       "  </thead>\n",
       "  <tbody>\n",
       "    <tr>\n",
       "      <th>0</th>\n",
       "      <td>GroupA</td>\n",
       "      <td>85</td>\n",
       "    </tr>\n",
       "    <tr>\n",
       "      <th>1</th>\n",
       "      <td>GroupA</td>\n",
       "      <td>92</td>\n",
       "    </tr>\n",
       "    <tr>\n",
       "      <th>2</th>\n",
       "      <td>GroupA</td>\n",
       "      <td>78</td>\n",
       "    </tr>\n",
       "    <tr>\n",
       "      <th>3</th>\n",
       "      <td>GroupA</td>\n",
       "      <td>88</td>\n",
       "    </tr>\n",
       "    <tr>\n",
       "      <th>4</th>\n",
       "      <td>GroupA</td>\n",
       "      <td>83</td>\n",
       "    </tr>\n",
       "    <tr>\n",
       "      <th>5</th>\n",
       "      <td>GroupA</td>\n",
       "      <td>90</td>\n",
       "    </tr>\n",
       "    <tr>\n",
       "      <th>6</th>\n",
       "      <td>GroupA</td>\n",
       "      <td>76</td>\n",
       "    </tr>\n",
       "    <tr>\n",
       "      <th>7</th>\n",
       "      <td>GroupA</td>\n",
       "      <td>84</td>\n",
       "    </tr>\n",
       "    <tr>\n",
       "      <th>8</th>\n",
       "      <td>GroupA</td>\n",
       "      <td>92</td>\n",
       "    </tr>\n",
       "    <tr>\n",
       "      <th>9</th>\n",
       "      <td>GroupA</td>\n",
       "      <td>87</td>\n",
       "    </tr>\n",
       "    <tr>\n",
       "      <th>10</th>\n",
       "      <td>GroupB</td>\n",
       "      <td>79</td>\n",
       "    </tr>\n",
       "    <tr>\n",
       "      <th>11</th>\n",
       "      <td>GroupB</td>\n",
       "      <td>69</td>\n",
       "    </tr>\n",
       "    <tr>\n",
       "      <th>12</th>\n",
       "      <td>GroupB</td>\n",
       "      <td>84</td>\n",
       "    </tr>\n",
       "    <tr>\n",
       "      <th>13</th>\n",
       "      <td>GroupB</td>\n",
       "      <td>78</td>\n",
       "    </tr>\n",
       "    <tr>\n",
       "      <th>14</th>\n",
       "      <td>GroupB</td>\n",
       "      <td>79</td>\n",
       "    </tr>\n",
       "    <tr>\n",
       "      <th>15</th>\n",
       "      <td>GroupB</td>\n",
       "      <td>83</td>\n",
       "    </tr>\n",
       "    <tr>\n",
       "      <th>16</th>\n",
       "      <td>GroupB</td>\n",
       "      <td>79</td>\n",
       "    </tr>\n",
       "    <tr>\n",
       "      <th>17</th>\n",
       "      <td>GroupB</td>\n",
       "      <td>81</td>\n",
       "    </tr>\n",
       "    <tr>\n",
       "      <th>18</th>\n",
       "      <td>GroupB</td>\n",
       "      <td>86</td>\n",
       "    </tr>\n",
       "    <tr>\n",
       "      <th>19</th>\n",
       "      <td>GroupB</td>\n",
       "      <td>88</td>\n",
       "    </tr>\n",
       "    <tr>\n",
       "      <th>20</th>\n",
       "      <td>GroupC</td>\n",
       "      <td>75</td>\n",
       "    </tr>\n",
       "    <tr>\n",
       "      <th>21</th>\n",
       "      <td>GroupC</td>\n",
       "      <td>68</td>\n",
       "    </tr>\n",
       "    <tr>\n",
       "      <th>22</th>\n",
       "      <td>GroupC</td>\n",
       "      <td>74</td>\n",
       "    </tr>\n",
       "    <tr>\n",
       "      <th>23</th>\n",
       "      <td>GroupC</td>\n",
       "      <td>65</td>\n",
       "    </tr>\n",
       "    <tr>\n",
       "      <th>24</th>\n",
       "      <td>GroupC</td>\n",
       "      <td>77</td>\n",
       "    </tr>\n",
       "    <tr>\n",
       "      <th>25</th>\n",
       "      <td>GroupC</td>\n",
       "      <td>72</td>\n",
       "    </tr>\n",
       "    <tr>\n",
       "      <th>26</th>\n",
       "      <td>GroupC</td>\n",
       "      <td>70</td>\n",
       "    </tr>\n",
       "    <tr>\n",
       "      <th>27</th>\n",
       "      <td>GroupC</td>\n",
       "      <td>73</td>\n",
       "    </tr>\n",
       "    <tr>\n",
       "      <th>28</th>\n",
       "      <td>GroupC</td>\n",
       "      <td>78</td>\n",
       "    </tr>\n",
       "    <tr>\n",
       "      <th>29</th>\n",
       "      <td>GroupC</td>\n",
       "      <td>75</td>\n",
       "    </tr>\n",
       "  </tbody>\n",
       "</table>\n",
       "</div>"
      ],
      "text/plain": [
       "     Group  Score\n",
       "0   GroupA     85\n",
       "1   GroupA     92\n",
       "2   GroupA     78\n",
       "3   GroupA     88\n",
       "4   GroupA     83\n",
       "5   GroupA     90\n",
       "6   GroupA     76\n",
       "7   GroupA     84\n",
       "8   GroupA     92\n",
       "9   GroupA     87\n",
       "10  GroupB     79\n",
       "11  GroupB     69\n",
       "12  GroupB     84\n",
       "13  GroupB     78\n",
       "14  GroupB     79\n",
       "15  GroupB     83\n",
       "16  GroupB     79\n",
       "17  GroupB     81\n",
       "18  GroupB     86\n",
       "19  GroupB     88\n",
       "20  GroupC     75\n",
       "21  GroupC     68\n",
       "22  GroupC     74\n",
       "23  GroupC     65\n",
       "24  GroupC     77\n",
       "25  GroupC     72\n",
       "26  GroupC     70\n",
       "27  GroupC     73\n",
       "28  GroupC     78\n",
       "29  GroupC     75"
      ]
     },
     "execution_count": 133,
     "metadata": {},
     "output_type": "execute_result"
    }
   ],
   "source": [
    "df_long"
   ]
  },
  {
   "cell_type": "code",
   "execution_count": 137,
   "id": "cea70a09-dc4a-42b3-9467-ee46cf9e4922",
   "metadata": {},
   "outputs": [],
   "source": [
    "# help(df.melt)"
   ]
  },
  {
   "cell_type": "code",
   "execution_count": 139,
   "id": "0e0764ff-a546-4040-b667-6477f13827a6",
   "metadata": {},
   "outputs": [],
   "source": [
    "df_pivot = df_long.reset_index().pivot(index='index', columns='Group', values='Score')"
   ]
  },
  {
   "cell_type": "code",
   "execution_count": 141,
   "id": "787605f4-0186-4aba-a91d-57901633c449",
   "metadata": {},
   "outputs": [
    {
     "data": {
      "text/html": [
       "<div>\n",
       "<style scoped>\n",
       "    .dataframe tbody tr th:only-of-type {\n",
       "        vertical-align: middle;\n",
       "    }\n",
       "\n",
       "    .dataframe tbody tr th {\n",
       "        vertical-align: top;\n",
       "    }\n",
       "\n",
       "    .dataframe thead th {\n",
       "        text-align: right;\n",
       "    }\n",
       "</style>\n",
       "<table border=\"1\" class=\"dataframe\">\n",
       "  <thead>\n",
       "    <tr style=\"text-align: right;\">\n",
       "      <th>Group</th>\n",
       "      <th>GroupA</th>\n",
       "      <th>GroupB</th>\n",
       "      <th>GroupC</th>\n",
       "    </tr>\n",
       "    <tr>\n",
       "      <th>index</th>\n",
       "      <th></th>\n",
       "      <th></th>\n",
       "      <th></th>\n",
       "    </tr>\n",
       "  </thead>\n",
       "  <tbody>\n",
       "    <tr>\n",
       "      <th>0</th>\n",
       "      <td>85.0</td>\n",
       "      <td>NaN</td>\n",
       "      <td>NaN</td>\n",
       "    </tr>\n",
       "    <tr>\n",
       "      <th>1</th>\n",
       "      <td>92.0</td>\n",
       "      <td>NaN</td>\n",
       "      <td>NaN</td>\n",
       "    </tr>\n",
       "    <tr>\n",
       "      <th>2</th>\n",
       "      <td>78.0</td>\n",
       "      <td>NaN</td>\n",
       "      <td>NaN</td>\n",
       "    </tr>\n",
       "    <tr>\n",
       "      <th>3</th>\n",
       "      <td>88.0</td>\n",
       "      <td>NaN</td>\n",
       "      <td>NaN</td>\n",
       "    </tr>\n",
       "    <tr>\n",
       "      <th>4</th>\n",
       "      <td>83.0</td>\n",
       "      <td>NaN</td>\n",
       "      <td>NaN</td>\n",
       "    </tr>\n",
       "    <tr>\n",
       "      <th>5</th>\n",
       "      <td>90.0</td>\n",
       "      <td>NaN</td>\n",
       "      <td>NaN</td>\n",
       "    </tr>\n",
       "    <tr>\n",
       "      <th>6</th>\n",
       "      <td>76.0</td>\n",
       "      <td>NaN</td>\n",
       "      <td>NaN</td>\n",
       "    </tr>\n",
       "    <tr>\n",
       "      <th>7</th>\n",
       "      <td>84.0</td>\n",
       "      <td>NaN</td>\n",
       "      <td>NaN</td>\n",
       "    </tr>\n",
       "    <tr>\n",
       "      <th>8</th>\n",
       "      <td>92.0</td>\n",
       "      <td>NaN</td>\n",
       "      <td>NaN</td>\n",
       "    </tr>\n",
       "    <tr>\n",
       "      <th>9</th>\n",
       "      <td>87.0</td>\n",
       "      <td>NaN</td>\n",
       "      <td>NaN</td>\n",
       "    </tr>\n",
       "    <tr>\n",
       "      <th>10</th>\n",
       "      <td>NaN</td>\n",
       "      <td>79.0</td>\n",
       "      <td>NaN</td>\n",
       "    </tr>\n",
       "    <tr>\n",
       "      <th>11</th>\n",
       "      <td>NaN</td>\n",
       "      <td>69.0</td>\n",
       "      <td>NaN</td>\n",
       "    </tr>\n",
       "    <tr>\n",
       "      <th>12</th>\n",
       "      <td>NaN</td>\n",
       "      <td>84.0</td>\n",
       "      <td>NaN</td>\n",
       "    </tr>\n",
       "    <tr>\n",
       "      <th>13</th>\n",
       "      <td>NaN</td>\n",
       "      <td>78.0</td>\n",
       "      <td>NaN</td>\n",
       "    </tr>\n",
       "    <tr>\n",
       "      <th>14</th>\n",
       "      <td>NaN</td>\n",
       "      <td>79.0</td>\n",
       "      <td>NaN</td>\n",
       "    </tr>\n",
       "    <tr>\n",
       "      <th>15</th>\n",
       "      <td>NaN</td>\n",
       "      <td>83.0</td>\n",
       "      <td>NaN</td>\n",
       "    </tr>\n",
       "    <tr>\n",
       "      <th>16</th>\n",
       "      <td>NaN</td>\n",
       "      <td>79.0</td>\n",
       "      <td>NaN</td>\n",
       "    </tr>\n",
       "    <tr>\n",
       "      <th>17</th>\n",
       "      <td>NaN</td>\n",
       "      <td>81.0</td>\n",
       "      <td>NaN</td>\n",
       "    </tr>\n",
       "    <tr>\n",
       "      <th>18</th>\n",
       "      <td>NaN</td>\n",
       "      <td>86.0</td>\n",
       "      <td>NaN</td>\n",
       "    </tr>\n",
       "    <tr>\n",
       "      <th>19</th>\n",
       "      <td>NaN</td>\n",
       "      <td>88.0</td>\n",
       "      <td>NaN</td>\n",
       "    </tr>\n",
       "    <tr>\n",
       "      <th>20</th>\n",
       "      <td>NaN</td>\n",
       "      <td>NaN</td>\n",
       "      <td>75.0</td>\n",
       "    </tr>\n",
       "    <tr>\n",
       "      <th>21</th>\n",
       "      <td>NaN</td>\n",
       "      <td>NaN</td>\n",
       "      <td>68.0</td>\n",
       "    </tr>\n",
       "    <tr>\n",
       "      <th>22</th>\n",
       "      <td>NaN</td>\n",
       "      <td>NaN</td>\n",
       "      <td>74.0</td>\n",
       "    </tr>\n",
       "    <tr>\n",
       "      <th>23</th>\n",
       "      <td>NaN</td>\n",
       "      <td>NaN</td>\n",
       "      <td>65.0</td>\n",
       "    </tr>\n",
       "    <tr>\n",
       "      <th>24</th>\n",
       "      <td>NaN</td>\n",
       "      <td>NaN</td>\n",
       "      <td>77.0</td>\n",
       "    </tr>\n",
       "    <tr>\n",
       "      <th>25</th>\n",
       "      <td>NaN</td>\n",
       "      <td>NaN</td>\n",
       "      <td>72.0</td>\n",
       "    </tr>\n",
       "    <tr>\n",
       "      <th>26</th>\n",
       "      <td>NaN</td>\n",
       "      <td>NaN</td>\n",
       "      <td>70.0</td>\n",
       "    </tr>\n",
       "    <tr>\n",
       "      <th>27</th>\n",
       "      <td>NaN</td>\n",
       "      <td>NaN</td>\n",
       "      <td>73.0</td>\n",
       "    </tr>\n",
       "    <tr>\n",
       "      <th>28</th>\n",
       "      <td>NaN</td>\n",
       "      <td>NaN</td>\n",
       "      <td>78.0</td>\n",
       "    </tr>\n",
       "    <tr>\n",
       "      <th>29</th>\n",
       "      <td>NaN</td>\n",
       "      <td>NaN</td>\n",
       "      <td>75.0</td>\n",
       "    </tr>\n",
       "  </tbody>\n",
       "</table>\n",
       "</div>"
      ],
      "text/plain": [
       "Group  GroupA  GroupB  GroupC\n",
       "index                        \n",
       "0        85.0     NaN     NaN\n",
       "1        92.0     NaN     NaN\n",
       "2        78.0     NaN     NaN\n",
       "3        88.0     NaN     NaN\n",
       "4        83.0     NaN     NaN\n",
       "5        90.0     NaN     NaN\n",
       "6        76.0     NaN     NaN\n",
       "7        84.0     NaN     NaN\n",
       "8        92.0     NaN     NaN\n",
       "9        87.0     NaN     NaN\n",
       "10        NaN    79.0     NaN\n",
       "11        NaN    69.0     NaN\n",
       "12        NaN    84.0     NaN\n",
       "13        NaN    78.0     NaN\n",
       "14        NaN    79.0     NaN\n",
       "15        NaN    83.0     NaN\n",
       "16        NaN    79.0     NaN\n",
       "17        NaN    81.0     NaN\n",
       "18        NaN    86.0     NaN\n",
       "19        NaN    88.0     NaN\n",
       "20        NaN     NaN    75.0\n",
       "21        NaN     NaN    68.0\n",
       "22        NaN     NaN    74.0\n",
       "23        NaN     NaN    65.0\n",
       "24        NaN     NaN    77.0\n",
       "25        NaN     NaN    72.0\n",
       "26        NaN     NaN    70.0\n",
       "27        NaN     NaN    73.0\n",
       "28        NaN     NaN    78.0\n",
       "29        NaN     NaN    75.0"
      ]
     },
     "execution_count": 141,
     "metadata": {},
     "output_type": "execute_result"
    }
   ],
   "source": [
    "df_pivot"
   ]
  },
  {
   "cell_type": "markdown",
   "id": "1ef8957e-987b-4556-a704-56a631f73c09",
   "metadata": {},
   "source": [
    "# 정규성 검정 (Shapiro-Wilk)"
   ]
  },
  {
   "cell_type": "markdown",
   "id": "ba1476d1-826b-47bf-8852-2ab8dc006f82",
   "metadata": {},
   "source": [
    "## 문제 : 12명의 수험생이 빅데이터 분석기사 시험에서 받은 점수이다. Shapiro-Wilk 검정을 사용하여 데이터가 정규 분포를 따르는지 검증하시오\n",
    "\n",
    "    귀무 가설(H0): 데이터는 정규 분포를 따른다.\n",
    "    대립 가설(H1): 데이터는 정규 분포를 따르지 않는다.\n",
    "\n",
    "Shapiro-Wilk 검정 통계량, p-value, 검증결과를 출력하시오\n"
   ]
  },
  {
   "cell_type": "code",
   "execution_count": 152,
   "id": "cb286a59-00b6-4674-97d2-7df27484b3af",
   "metadata": {},
   "outputs": [],
   "source": [
    "# dir(scipy.stats)\n",
    "from scipy.stats import shapiro\n",
    "# help(shapiro)\n"
   ]
  },
  {
   "cell_type": "code",
   "execution_count": 154,
   "id": "4ea09ad3-bcb0-4592-aafb-09b61e82d6d9",
   "metadata": {},
   "outputs": [],
   "source": [
    "data = [75, 83, 81, 92, 68, 77, 78, 80, 85, 95, 79, 89]"
   ]
  },
  {
   "cell_type": "code",
   "execution_count": 156,
   "id": "e54be371-3ca6-44c8-96b3-8da2e96ad865",
   "metadata": {},
   "outputs": [
    {
     "data": {
      "text/plain": [
       "(0.9768091723993144, 0.9676506711851194)"
      ]
     },
     "execution_count": 156,
     "metadata": {},
     "output_type": "execute_result"
    }
   ],
   "source": [
    "statistic, p_val = shapiro(data)\n",
    "statistic, p_val"
   ]
  },
  {
   "cell_type": "code",
   "execution_count": 158,
   "id": "289a0368-ba0c-4789-85a7-436c7d3d2051",
   "metadata": {},
   "outputs": [],
   "source": [
    "# 귀무가설 기각 실패. 정규 분포를 따른다. "
   ]
  },
  {
   "cell_type": "markdown",
   "id": "7f607bfd-0f89-416a-a722-cbdba7278444",
   "metadata": {},
   "source": [
    "# 회귀모형 (상관계수)"
   ]
  },
  {
   "cell_type": "markdown",
   "id": "69f67fee-2677-42be-9fed-68abd0662aac",
   "metadata": {},
   "source": [
    "## 문제 : iris 데이터에서 Sepal Length와 Sepal Width의 상관계수 계산하고 소수 둘째자리까지 출력하시오"
   ]
  },
  {
   "cell_type": "code",
   "execution_count": 162,
   "id": "7e73bf5c-dbf6-4b81-866b-58b07b7e64b3",
   "metadata": {},
   "outputs": [],
   "source": [
    "\n",
    "\n",
    "import pandas as pd\n",
    "from sklearn.datasets import load_iris\n",
    "\n",
    "# iris 데이터셋 로드\n",
    "iris = load_iris()\n",
    "df = pd.DataFrame(iris.data, columns=iris.feature_names)"
   ]
  },
  {
   "cell_type": "code",
   "execution_count": 164,
   "id": "b164f72e-e043-45cb-bff9-06fd4dd6614d",
   "metadata": {},
   "outputs": [],
   "source": [
    "cor=df.corr()"
   ]
  },
  {
   "cell_type": "code",
   "execution_count": 166,
   "id": "1767551e-9273-4cca-8996-356fbdebff62",
   "metadata": {},
   "outputs": [
    {
     "data": {
      "text/html": [
       "<div>\n",
       "<style scoped>\n",
       "    .dataframe tbody tr th:only-of-type {\n",
       "        vertical-align: middle;\n",
       "    }\n",
       "\n",
       "    .dataframe tbody tr th {\n",
       "        vertical-align: top;\n",
       "    }\n",
       "\n",
       "    .dataframe thead th {\n",
       "        text-align: right;\n",
       "    }\n",
       "</style>\n",
       "<table border=\"1\" class=\"dataframe\">\n",
       "  <thead>\n",
       "    <tr style=\"text-align: right;\">\n",
       "      <th></th>\n",
       "      <th>sepal length (cm)</th>\n",
       "      <th>sepal width (cm)</th>\n",
       "      <th>petal length (cm)</th>\n",
       "      <th>petal width (cm)</th>\n",
       "    </tr>\n",
       "  </thead>\n",
       "  <tbody>\n",
       "    <tr>\n",
       "      <th>0</th>\n",
       "      <td>5.1</td>\n",
       "      <td>3.5</td>\n",
       "      <td>1.4</td>\n",
       "      <td>0.2</td>\n",
       "    </tr>\n",
       "    <tr>\n",
       "      <th>1</th>\n",
       "      <td>4.9</td>\n",
       "      <td>3.0</td>\n",
       "      <td>1.4</td>\n",
       "      <td>0.2</td>\n",
       "    </tr>\n",
       "    <tr>\n",
       "      <th>2</th>\n",
       "      <td>4.7</td>\n",
       "      <td>3.2</td>\n",
       "      <td>1.3</td>\n",
       "      <td>0.2</td>\n",
       "    </tr>\n",
       "    <tr>\n",
       "      <th>3</th>\n",
       "      <td>4.6</td>\n",
       "      <td>3.1</td>\n",
       "      <td>1.5</td>\n",
       "      <td>0.2</td>\n",
       "    </tr>\n",
       "    <tr>\n",
       "      <th>4</th>\n",
       "      <td>5.0</td>\n",
       "      <td>3.6</td>\n",
       "      <td>1.4</td>\n",
       "      <td>0.2</td>\n",
       "    </tr>\n",
       "  </tbody>\n",
       "</table>\n",
       "</div>"
      ],
      "text/plain": [
       "   sepal length (cm)  sepal width (cm)  petal length (cm)  petal width (cm)\n",
       "0                5.1               3.5                1.4               0.2\n",
       "1                4.9               3.0                1.4               0.2\n",
       "2                4.7               3.2                1.3               0.2\n",
       "3                4.6               3.1                1.5               0.2\n",
       "4                5.0               3.6                1.4               0.2"
      ]
     },
     "execution_count": 166,
     "metadata": {},
     "output_type": "execute_result"
    }
   ],
   "source": [
    "df.head()"
   ]
  },
  {
   "cell_type": "code",
   "execution_count": 168,
   "id": "0d5f803a-cb99-454d-9a1a-7dcd6c323e43",
   "metadata": {},
   "outputs": [
    {
     "data": {
      "text/html": [
       "<div>\n",
       "<style scoped>\n",
       "    .dataframe tbody tr th:only-of-type {\n",
       "        vertical-align: middle;\n",
       "    }\n",
       "\n",
       "    .dataframe tbody tr th {\n",
       "        vertical-align: top;\n",
       "    }\n",
       "\n",
       "    .dataframe thead th {\n",
       "        text-align: right;\n",
       "    }\n",
       "</style>\n",
       "<table border=\"1\" class=\"dataframe\">\n",
       "  <thead>\n",
       "    <tr style=\"text-align: right;\">\n",
       "      <th></th>\n",
       "      <th>sepal length (cm)</th>\n",
       "      <th>sepal width (cm)</th>\n",
       "      <th>petal length (cm)</th>\n",
       "      <th>petal width (cm)</th>\n",
       "    </tr>\n",
       "  </thead>\n",
       "  <tbody>\n",
       "    <tr>\n",
       "      <th>sepal length (cm)</th>\n",
       "      <td>1.000000</td>\n",
       "      <td>-0.117570</td>\n",
       "      <td>0.871754</td>\n",
       "      <td>0.817941</td>\n",
       "    </tr>\n",
       "    <tr>\n",
       "      <th>sepal width (cm)</th>\n",
       "      <td>-0.117570</td>\n",
       "      <td>1.000000</td>\n",
       "      <td>-0.428440</td>\n",
       "      <td>-0.366126</td>\n",
       "    </tr>\n",
       "    <tr>\n",
       "      <th>petal length (cm)</th>\n",
       "      <td>0.871754</td>\n",
       "      <td>-0.428440</td>\n",
       "      <td>1.000000</td>\n",
       "      <td>0.962865</td>\n",
       "    </tr>\n",
       "    <tr>\n",
       "      <th>petal width (cm)</th>\n",
       "      <td>0.817941</td>\n",
       "      <td>-0.366126</td>\n",
       "      <td>0.962865</td>\n",
       "      <td>1.000000</td>\n",
       "    </tr>\n",
       "  </tbody>\n",
       "</table>\n",
       "</div>"
      ],
      "text/plain": [
       "                   sepal length (cm)  sepal width (cm)  petal length (cm)  \\\n",
       "sepal length (cm)           1.000000         -0.117570           0.871754   \n",
       "sepal width (cm)           -0.117570          1.000000          -0.428440   \n",
       "petal length (cm)           0.871754         -0.428440           1.000000   \n",
       "petal width (cm)            0.817941         -0.366126           0.962865   \n",
       "\n",
       "                   petal width (cm)  \n",
       "sepal length (cm)          0.817941  \n",
       "sepal width (cm)          -0.366126  \n",
       "petal length (cm)          0.962865  \n",
       "petal width (cm)           1.000000  "
      ]
     },
     "execution_count": 168,
     "metadata": {},
     "output_type": "execute_result"
    }
   ],
   "source": [
    "cor.head()"
   ]
  },
  {
   "cell_type": "code",
   "execution_count": 170,
   "id": "58bfb72c-bbaa-495b-b0ae-730b684b0af2",
   "metadata": {},
   "outputs": [
    {
     "data": {
      "text/plain": [
       "-0.12"
      ]
     },
     "execution_count": 170,
     "metadata": {},
     "output_type": "execute_result"
    }
   ],
   "source": [
    "round(cor.iloc[0,1],2)"
   ]
  },
  {
   "cell_type": "markdown",
   "id": "890369ab-a8c0-4927-b756-0b46fb7d3d32",
   "metadata": {},
   "source": [
    "# 로지스틱 회귀"
   ]
  },
  {
   "cell_type": "markdown",
   "id": "a5c260c4-6223-4b1e-91be-ca99a587fa0f",
   "metadata": {},
   "source": [
    "## 문제 : 타이타닉 데이터에서 \n",
    "Pclass, Gender, sibsp, parch를 독립변수로 사용하여 로지스틱 회귀모형을 실시하였을 때, parch변수의 계수값은? 단, Pclass는 범주형 변수이다\n",
    "\n",
    "(반올림하여 소수 셋째 자리까지 계산)\n"
   ]
  },
  {
   "cell_type": "code",
   "execution_count": 174,
   "id": "38da941e-9d77-4529-bc1e-32c1252d78a3",
   "metadata": {},
   "outputs": [],
   "source": [
    "df= pd.read_csv('data/Titanic.csv')"
   ]
  },
  {
   "cell_type": "code",
   "execution_count": 176,
   "id": "adf16172-1545-4d19-83ff-61dd935f8416",
   "metadata": {},
   "outputs": [],
   "source": [
    "from statsmodels.formula.api import logit"
   ]
  },
  {
   "cell_type": "code",
   "execution_count": 182,
   "id": "aceb7669-6c29-4dfc-a906-d3bb4e386664",
   "metadata": {},
   "outputs": [
    {
     "data": {
      "text/html": [
       "<div>\n",
       "<style scoped>\n",
       "    .dataframe tbody tr th:only-of-type {\n",
       "        vertical-align: middle;\n",
       "    }\n",
       "\n",
       "    .dataframe tbody tr th {\n",
       "        vertical-align: top;\n",
       "    }\n",
       "\n",
       "    .dataframe thead th {\n",
       "        text-align: right;\n",
       "    }\n",
       "</style>\n",
       "<table border=\"1\" class=\"dataframe\">\n",
       "  <thead>\n",
       "    <tr style=\"text-align: right;\">\n",
       "      <th></th>\n",
       "      <th>PassengerId</th>\n",
       "      <th>Survived</th>\n",
       "      <th>Pclass</th>\n",
       "      <th>Name</th>\n",
       "      <th>Gender</th>\n",
       "      <th>Age</th>\n",
       "      <th>SibSp</th>\n",
       "      <th>Parch</th>\n",
       "      <th>Ticket</th>\n",
       "      <th>Fare</th>\n",
       "      <th>Cabin</th>\n",
       "      <th>Embarked</th>\n",
       "    </tr>\n",
       "  </thead>\n",
       "  <tbody>\n",
       "    <tr>\n",
       "      <th>0</th>\n",
       "      <td>1</td>\n",
       "      <td>0</td>\n",
       "      <td>3</td>\n",
       "      <td>Braund, Mr. Owen Harris</td>\n",
       "      <td>male</td>\n",
       "      <td>22.0</td>\n",
       "      <td>1</td>\n",
       "      <td>0</td>\n",
       "      <td>A/5 21171</td>\n",
       "      <td>7.2500</td>\n",
       "      <td>NaN</td>\n",
       "      <td>S</td>\n",
       "    </tr>\n",
       "    <tr>\n",
       "      <th>1</th>\n",
       "      <td>2</td>\n",
       "      <td>1</td>\n",
       "      <td>1</td>\n",
       "      <td>Cumings, Mrs. John Bradley (Florence Briggs Th...</td>\n",
       "      <td>female</td>\n",
       "      <td>38.0</td>\n",
       "      <td>1</td>\n",
       "      <td>0</td>\n",
       "      <td>PC 17599</td>\n",
       "      <td>71.2833</td>\n",
       "      <td>C85</td>\n",
       "      <td>C</td>\n",
       "    </tr>\n",
       "  </tbody>\n",
       "</table>\n",
       "</div>"
      ],
      "text/plain": [
       "   PassengerId  Survived  Pclass  \\\n",
       "0            1         0       3   \n",
       "1            2         1       1   \n",
       "\n",
       "                                                Name  Gender   Age  SibSp  \\\n",
       "0                            Braund, Mr. Owen Harris    male  22.0      1   \n",
       "1  Cumings, Mrs. John Bradley (Florence Briggs Th...  female  38.0      1   \n",
       "\n",
       "   Parch     Ticket     Fare Cabin Embarked  \n",
       "0      0  A/5 21171   7.2500   NaN        S  \n",
       "1      0   PC 17599  71.2833   C85        C  "
      ]
     },
     "execution_count": 182,
     "metadata": {},
     "output_type": "execute_result"
    }
   ],
   "source": [
    "df.head(2)"
   ]
  },
  {
   "cell_type": "code",
   "execution_count": 184,
   "id": "7e10f0cb-6196-4da2-a17e-3307f7a1f42c",
   "metadata": {},
   "outputs": [],
   "source": [
    "formula=\"Survived ~ C(Pclass) +Gender +SibSp +Parch\""
   ]
  },
  {
   "cell_type": "code",
   "execution_count": 188,
   "id": "75b4111a-e376-44af-ac1f-ff55ddb71640",
   "metadata": {},
   "outputs": [],
   "source": [
    "# help(logit)\n",
    "\n",
    "# from_formula(formula, data, subset=None, drop_cols=None, *args, **kwargs) class method of statsmodels.discrete.discrete_model.Logit\n",
    "#     Create a Model from a formula and dataframe.\n",
    "\n",
    "#     Parameters\n",
    "#     ----------\n",
    "#     formula : str or generic Formula object\n",
    "#         The formula specifying the model.\n",
    "#     data : array_like\n",
    "#         The data for the model. See Notes."
   ]
  },
  {
   "cell_type": "code",
   "execution_count": 190,
   "id": "25938dbc-6a49-4a32-93c6-c179dc623efe",
   "metadata": {},
   "outputs": [
    {
     "name": "stdout",
     "output_type": "stream",
     "text": [
      "Optimization terminated successfully.\n",
      "         Current function value: 0.459565\n",
      "         Iterations 6\n"
     ]
    },
    {
     "data": {
      "text/plain": [
       "Intercept         2.491729\n",
       "C(Pclass)[T.2]   -0.848152\n",
       "C(Pclass)[T.3]   -1.866905\n",
       "Gender[T.male]   -2.760281\n",
       "SibSp            -0.232553\n",
       "Parch            -0.049847\n",
       "dtype: float64"
      ]
     },
     "execution_count": 190,
     "metadata": {},
     "output_type": "execute_result"
    }
   ],
   "source": [
    "model= logit(formula, data=df).fit()\n",
    "model.params"
   ]
  },
  {
   "cell_type": "code",
   "execution_count": 204,
   "id": "13a48d04-b411-42fd-a99e-11583e0d1c7b",
   "metadata": {},
   "outputs": [
    {
     "name": "stdout",
     "output_type": "stream",
     "text": [
      "0.9513747279566538\n"
     ]
    }
   ],
   "source": [
    "import numpy as np\n",
    "parameter=model.params\n",
    "parch=parameter['Parch']\n",
    "print(np.exp(parch))"
   ]
  },
  {
   "cell_type": "code",
   "execution_count": 210,
   "id": "31478669-3664-484c-a016-d415e60f1b33",
   "metadata": {},
   "outputs": [],
   "source": [
    "# Parch가 1 증가할 때, 생존할 **오즈(odds)**는 약 0.95배로 감소합니다.\n",
    "# 즉, Parch가 많을수록 생존 확률이 약간 낮아지는 경향이 있음 (다른 변수들이 동일할 때)\n",
    "# 생존확률 p = odds / (1+odds)"
   ]
  },
  {
   "cell_type": "markdown",
   "id": "a41cae2a-fd5d-4d1c-9117-993d8736f607",
   "metadata": {},
   "source": [
    "✔ 로지스틱 회귀 해석 핵심\n",
    "\n",
    "    **계수(β)**는 log-odds에 대한 영향력\n",
    "\n",
    "    exp⁡(β)exp(β) → 오즈비(Odds Ratio) 해석 가능\n",
    "\n",
    "    예: parch 계수가 0.2면, parch가 1 증가할 때 생존할 log-odds가 0.2 증가"
   ]
  },
  {
   "cell_type": "markdown",
   "id": "e0c88ac9-2b3d-47db-8e13-b19ace1fe4c8",
   "metadata": {},
   "source": [
    "Pclass는 범주형이므로 → C(Pclass) 처리\n",
    "\n",
    "Gender는 문자열이므로 → df['Gender'].map({'male':0, 'female':1}) 등 변환\n",
    "\n",
    "logit()으로 적합\n",
    "\n",
    "params['parch']의 값을 소수 셋째 자리까지 반올림"
   ]
  },
  {
   "cell_type": "markdown",
   "id": "dfb535b4-71ac-4793-9fbf-1130d343d73c",
   "metadata": {},
   "source": [
    "| 항목     | 설명                                                    |\n",
    "| ------ | ----------------------------------------------------- |\n",
    "| 종속변수   | `Survived` (0/1 이진값)                                  |\n",
    "| 독립변수   | `Pclass` (범주형), `Gender` (이진으로 인코딩), `sibsp`, `parch` |\n",
    "| 회귀모형   | **로지스틱 회귀** (`Logit` 함수 사용)                           |\n",
    "| 회귀계수   | **로그 오즈비** (log-odds)                                 |\n",
    "| 영향력 해석 | $\\exp(\\beta)$ → **오즈비(Odds Ratio)** 로 해석 가능           |\n"
   ]
  },
  {
   "cell_type": "markdown",
   "id": "c737ec0d-9690-45bf-81c2-592cde49089e",
   "metadata": {},
   "source": [
    "| 요소       | 설명                              |\n",
    "| -------- | ------------------------------- |\n",
    "| `~`      | **왼쪽은 종속변수(Y), 오른쪽은 독립변수(X들)**  |\n",
    "| `+`      | **설명변수 간 단순 추가(선형결합)**          |\n",
    "| `C(변수명)` | **범주형(categorical) 변수임을 명시**    |\n",
    "| 숫자형 변수   | 그냥 이름만 쓰면 됨 (예: `Age`, `Parch`) |\n",
    "| 자동 더미화   | `C()`를 쓰면 **자동으로 원-핫 인코딩 처리됨**  |\n"
   ]
  },
  {
   "cell_type": "markdown",
   "id": "dea491bf-d759-40a7-babb-43634d9d5783",
   "metadata": {},
   "source": [
    "statsmodels.formula.api는 통계모델을 R 스타일의 formula 문자열로 표현할 수 있게 해주는 매우 실용적인 인터페이스입니다.\n",
    "\n",
    "| 함수명         | 설명                                 | 예시                              |\n",
    "| ----------- | ---------------------------------- | ------------------------------- |\n",
    "| `ols()`     | **선형 회귀(Ordinary Least Squares)**  | `\"Y ~ X1 + X2\"`                 |\n",
    "| `logit()`   | **로지스틱 회귀 (이항 분류)**                | `\"Y ~ X1 + C(X2)\"`              |\n",
    "| `glm()`     | **일반화 선형모형 (Poisson, Binomial 등)** | `\"Y ~ X1\"` + `family=Poisson()` |\n",
    "| `mnlogit()` | **다항 로지스틱 회귀 (3개 이상 클래스)**         | `\"Y ~ X1 + X2\"`                 |\n",
    "| `mixedlm()` | **혼합효과모형 (랜덤효과 포함)**               | `\"Y ~ X1\"`                      |\n",
    "| `rlm()`     | **강건 회귀 (이상치에 강한)**                | `\"Y ~ X1\"`                      |\n",
    "| `gee()`     | **일반화 추정 방정식 (반복측정)**              | `\"Y ~ X1\"`                      |\n"
   ]
  },
  {
   "cell_type": "markdown",
   "id": "7e2228b6-bd6e-4056-9401-065e8f850390",
   "metadata": {},
   "source": [
    "- ols() — 선형 회귀\n",
    "\n",
    "```python\n",
    "from statsmodels.formula.api import ols\n",
    "model = ols(\"score ~ age + hours+ C(Sex)\", data=df).fit()\n",
    "```\n",
    "- logit() — 로지스틱 회귀\n",
    "```python\n",
    "from statsmodels.formula.api import logit\n",
    "model = logit(\"Survived ~ C(Sex) + Age\", data=df).fit()\n",
    "```"
   ]
  },
  {
   "cell_type": "markdown",
   "id": "dc5334bf-b24d-4341-8d3f-ee953360d988",
   "metadata": {},
   "source": [
    "# 두 그룹 평균비교 (T/F 검정)"
   ]
  },
  {
   "cell_type": "markdown",
   "id": "9ed88468-e392-4eb4-b042-ae5d8449cc4c",
   "metadata": {},
   "source": [
    "## 문제: 두 교육 방법의 효과 비교\n",
    "\n",
    "연구자는 두 가지 다른 교육 방법이 학생들의 성적에 미치는 영향을 비교하고자 합니다. 연구자는 무작위로 선발된 20명의 학생들을 두 그룹으로 나누어 한 그룹에는 교육 방법 A를, 다른 그룹에는 교육 방법 B를 적용합니다. 교육이 끝난 후, 두 그룹의 성적을 비교하기 위해 독립 표본 t-검정과 ANOVA F-검정을 실시하려고 합니다.\n",
    "\n",
    "다음은 두 그룹의 성적입니다: 다음의 두 가지 검정을 사용하여 두 교육 방법 간의 성적 차이가 통계적으로 유의한지를 검증하세요\n",
    "\n",
    "    독립 표본 t-검정을 실시하여 t 통계량을 구하세요.\n",
    "    독립 표본 t-검정을 실시하여 p-값을 구하세요.\n",
    "    ANOVA F-검정을 실시하여 F 통계량을 구하세요.\n",
    "    ANOVA F-검정을 실시하여 p-값을 구하세요.\n",
    "\n"
   ]
  },
  {
   "cell_type": "code",
   "execution_count": 223,
   "id": "48775e00-58c9-43b9-b080-0471f26ba87b",
   "metadata": {},
   "outputs": [],
   "source": [
    "import pandas as pd\n",
    "df = pd.DataFrame({\n",
    "    'A':[77, 75, 82, 80, 81, 83, 84, 76, 75, 87],\n",
    "    'B':[80, 74, 77, 79, 71, 74, 78, 69, 70, 72],\n",
    "})"
   ]
  },
  {
   "cell_type": "code",
   "execution_count": 227,
   "id": "08687de2-03fe-430d-a560-265946b436f6",
   "metadata": {},
   "outputs": [],
   "source": [
    "from scipy import stats"
   ]
  },
  {
   "cell_type": "code",
   "execution_count": 229,
   "id": "b9710109-d618-451e-8acf-8a9025292ad0",
   "metadata": {},
   "outputs": [],
   "source": [
    "t_stats, p_val = stats.ttest_ind(df['A'],df['B']) # 기본 two-sided 사용\n",
    "t_anova, p_anova = stats.f_oneway(df['A'],df['B'])"
   ]
  },
  {
   "cell_type": "code",
   "execution_count": 231,
   "id": "8abd94b2-d918-4fdf-a261-f8f4c2708d81",
   "metadata": {},
   "outputs": [
    {
     "name": "stdout",
     "output_type": "stream",
     "text": [
      "독립표본 t검정 : 3.1068522301122954, 0.006087373605949963\n"
     ]
    }
   ],
   "source": [
    "print(f\"독립표본 t검정 : {t_stats}, {p_val}\")"
   ]
  },
  {
   "cell_type": "code",
   "execution_count": null,
   "id": "89841143-9128-4fe3-af9c-2858516c65f5",
   "metadata": {},
   "outputs": [],
   "source": [
    "# "
   ]
  },
  {
   "cell_type": "code",
   "execution_count": 233,
   "id": "2af148e7-be04-49e2-a42d-1f1b90044e39",
   "metadata": {},
   "outputs": [
    {
     "name": "stdout",
     "output_type": "stream",
     "text": [
      "ANOVA t검정 : 9.652530779753763, 0.006087373605949924\n"
     ]
    }
   ],
   "source": [
    "print(f\"ANOVA t검정 : {t_anova}, {p_anova}\")"
   ]
  },
  {
   "cell_type": "markdown",
   "id": "369ef608-5617-42f8-bd6b-f9b76c5c15fb",
   "metadata": {},
   "source": [
    "2그룹일 때: ttest_ind()와 f_oneway() → 동등한 결론\n",
    "\n",
    "3그룹 이상일 때: ttest_ind()는 불가능, → ANOVA만 가능\n",
    "\n",
    "p-value는 동일, 검정통계량만 다름 (F = t²)"
   ]
  },
  {
   "cell_type": "markdown",
   "id": "04bab833-b78b-44ad-beca-2ddcf2443b97",
   "metadata": {},
   "source": [
    "# 적합도 검정 (Chi-square)"
   ]
  },
  {
   "cell_type": "markdown",
   "id": "1b615bb5-c0a9-4f7b-8eca-818fb93c4267",
   "metadata": {},
   "source": [
    "## 문제 : 카이제곱 적합도 검정\n",
    "\n",
    "고등학교에서는 졸업생들이 선택하는 대학 전공 분야의 선호도가 시간이 지남에 따라 변하지 않는다고 가정합니다. 학교 측은 최근 졸업생들의 전공 선택이 과거와 같은 패턴을 따르는지 알아보기 위해 적합도 검정을 실시하기로 결정했습니다.\n",
    "\n",
    "과거 자료에 따르면 졸업생들이 선택하는 전공의 분포는 다음과 같습니다:\n",
    "\n",
    "인문학: 20% 사회과학: 30% 자연과학: 25% 공학: 15% 기타: 10% 올해 졸업한 학생 200명의 전공 선택 분포는 다음과 같았습니다:\n",
    "\n",
    "인문학: 30명 사회과학: 60명 자연과학: 50명 공학: 40명 기타: 20명 이 데이터를 바탕으로, 졸업생들의 전공 선택 패턴이 과거와 유사한지를 알아보기 위해 카이제곱 적합도 검정을 실시해야 합니다. 유의 수준은 0.05로 설정합니다.\n",
    "\n",
    "    검정 통계량?\n",
    "    p-value?\n",
    "    유의수준 하 귀무가설 기각 또는 채택?\n",
    "\n"
   ]
  },
  {
   "cell_type": "code",
   "execution_count": 242,
   "id": "16f43de4-9ad9-41e0-9c14-0f3397e779c8",
   "metadata": {},
   "outputs": [],
   "source": [
    "# 관측된 빈도\n",
    "observed_frequencies = [30, 60, 50, 40, 20]\n",
    "# 기대된 빈도 \n",
    "expected_frequencies = [200 * 0.20, 200 * 0.30, 200 * 0.25, 200 * 0.15, 200 * 0.10]"
   ]
  },
  {
   "cell_type": "code",
   "execution_count": 244,
   "id": "ee5c3e82-28af-47b9-8941-26ccaebe42ca",
   "metadata": {},
   "outputs": [],
   "source": [
    "from scipy.stats import chisquare"
   ]
  },
  {
   "cell_type": "code",
   "execution_count": 246,
   "id": "99f4d3ad-221a-42b1-92b3-b06192bc0c5a",
   "metadata": {},
   "outputs": [
    {
     "data": {
      "text/plain": [
       "Power_divergenceResult(statistic=5.833333333333334, pvalue=0.21194558437271782)"
      ]
     },
     "execution_count": 246,
     "metadata": {},
     "output_type": "execute_result"
    }
   ],
   "source": [
    "chisquare(observed_frequencies,expected_frequencies)\n",
    "# chisquare(f_obs=observed_frequencies, f_exp=expected_frequencies)"
   ]
  },
  {
   "cell_type": "code",
   "execution_count": 248,
   "id": "a6258da4-51db-46b9-bd95-cc94f0cb6d25",
   "metadata": {},
   "outputs": [],
   "source": [
    "# 귀무가설 : 올해 졸업생들의 전공 선택 분포는 과거와 동일하다\n",
    "# 대립가설 : 올해 졸업생들의 전공 선택 분포는 과거와 다르다"
   ]
  },
  {
   "cell_type": "code",
   "execution_count": 250,
   "id": "a2d2f162-4fe6-45fa-8ca4-d020fb7bea73",
   "metadata": {},
   "outputs": [],
   "source": [
    "# ✅ 보너스: 자유도 (df)\n",
    "\n",
    "# 자유도는:\n",
    "# df=k−1=5−1=4\n",
    "# df=k−1=5−1=4\n",
    "\n",
    "# → 이 정보는 시험에서 검정표나 임계값으로 기각여부를 따질 때 참고할 수 있어요."
   ]
  },
  {
   "cell_type": "markdown",
   "id": "b06eaf58-6c6d-4a8d-ab0c-b665dcfc68b3",
   "metadata": {},
   "source": [
    "카이제곱 적합도 검정과 독립표본 t-검정은 모두 두 그룹 이상의 차이를 비교하긴 하지만, 비교하는 대상과 데이터의 성격이 완전히 다릅니다."
   ]
  },
  {
   "cell_type": "markdown",
   "id": "187824b4-d755-4e9a-9528-c8c4d46729b3",
   "metadata": {},
   "source": [
    "| 구분        | **독립표본 t-검정**              | **카이제곱 적합도 검정**              |\n",
    "| --------- | -------------------------- | ---------------------------- |\n",
    "| **목적**    | **두 집단의 평균 차이** 비교         | **관측값과 기대값의 빈도 차이** 비교       |\n",
    "| **데이터**   | **연속형 데이터** (ex. 점수)       | **범주형 데이터의 빈도**              |\n",
    "| **가설 예시** | 교육방법 A vs B의 평균 점수 차이      | 전공 비율이 과거와 같은가               |\n",
    "| **통계량**   | t-통계량                      | χ²(카이제곱) 통계량                 |\n",
    "| **함수**    | `scipy.stats.ttest_ind()`  | `scipy.stats.chisquare()`    |\n",
    "| **사용 조건** | 그룹마다 **연속형 데이터 샘플**이 있어야 함 | **관측 빈도**와 **기대 비율**만 있으면 가능 |\n"
   ]
  },
  {
   "cell_type": "markdown",
   "id": "76a0d4fe-7f33-4cf1-b603-fc87398f9229",
   "metadata": {},
   "source": [
    "scipy.stats.chi2_contingency()는 카이제곱 독립성 검정\n",
    "- 두 개의 범주형 변수 간에 독립적인지, 관련이 있는지를 검정할 때 사용합니다."
   ]
  },
  {
   "cell_type": "markdown",
   "id": "0b282829-4545-43eb-8bf9-0321bb0a56a8",
   "metadata": {},
   "source": [
    "| 예시          | 설명                        |\n",
    "| ----------- | ------------------------- |\n",
    "| 성별 vs 흡연 여부 | 남/여와 흡연/비흡연의 **관계가 있는가?** |\n",
    "| 지역 vs 선호 음식 | 지역별로 음식 선호가 **다른가?**      |\n",
    "| 전공 vs 취업여부  | 전공과 취업률 간에 **연관이 있는가?**   |\n"
   ]
  },
  {
   "cell_type": "markdown",
   "id": "18f6266a-7827-48ea-a521-1976f3829498",
   "metadata": {},
   "source": [
    "ttest_ind는 평균값의 차이를 보고, chisquare는 범주(분류)의 비율(빈도) 차이를 본다."
   ]
  },
  {
   "cell_type": "markdown",
   "id": "326ea4fd-615d-4c5f-8dae-f7bce5770bee",
   "metadata": {},
   "source": [
    "# 지지도/신뢰도/향상도"
   ]
  },
  {
   "cell_type": "markdown",
   "id": "9fab2da3-a3c0-443e-85a9-9fa6bf9ce76a",
   "metadata": {},
   "source": [
    "## 문제 : 편의점 물건이 팔린 예\n",
    "    빼빼로'와 '딴짓초코'가 함께 팔린 거래의 지지도를 계산하세요.\n",
    "\n",
    "    '빼빼로'가 팔린 거래 중에서 '빼빼로'와 '오징어칩'이 함께 팔린 거래의 신뢰도를 계산하세요.\n",
    "\n",
    "    '빼빼로'와 '양조위빵'의 향상도를 계산하세요.\n",
    "\n"
   ]
  },
  {
   "cell_type": "markdown",
   "id": "3f6be0f8-8232-4d1b-b986-5dc483a1fee4",
   "metadata": {},
   "source": [
    "\n",
    "\n",
    "    지지도(A,B): A와 B가 함께 팔린 거래 횟수 / 전체 거래 횟수\n",
    "    신뢰도(A->B): A와 B가 함께 팔린 거래 횟수 / A가 팔린 거래 횟수\n",
    "    향상도(A,B): 신뢰도(A->B) / 지지도(B)\n",
    "\n"
   ]
  },
  {
   "cell_type": "code",
   "execution_count": 261,
   "id": "d8d43ede-32c1-4f5b-a8c2-84f105159c70",
   "metadata": {},
   "outputs": [
    {
     "data": {
      "text/html": [
       "<div>\n",
       "<style scoped>\n",
       "    .dataframe tbody tr th:only-of-type {\n",
       "        vertical-align: middle;\n",
       "    }\n",
       "\n",
       "    .dataframe tbody tr th {\n",
       "        vertical-align: top;\n",
       "    }\n",
       "\n",
       "    .dataframe thead th {\n",
       "        text-align: right;\n",
       "    }\n",
       "</style>\n",
       "<table border=\"1\" class=\"dataframe\">\n",
       "  <thead>\n",
       "    <tr style=\"text-align: right;\">\n",
       "      <th></th>\n",
       "      <th>transaction</th>\n",
       "      <th>빼빼로</th>\n",
       "      <th>딴짓초코</th>\n",
       "      <th>양조위빵</th>\n",
       "      <th>오징어칩</th>\n",
       "      <th>초코파이</th>\n",
       "    </tr>\n",
       "  </thead>\n",
       "  <tbody>\n",
       "    <tr>\n",
       "      <th>0</th>\n",
       "      <td>1</td>\n",
       "      <td>1</td>\n",
       "      <td>0</td>\n",
       "      <td>1</td>\n",
       "      <td>0</td>\n",
       "      <td>1</td>\n",
       "    </tr>\n",
       "    <tr>\n",
       "      <th>1</th>\n",
       "      <td>2</td>\n",
       "      <td>0</td>\n",
       "      <td>1</td>\n",
       "      <td>0</td>\n",
       "      <td>1</td>\n",
       "      <td>1</td>\n",
       "    </tr>\n",
       "    <tr>\n",
       "      <th>2</th>\n",
       "      <td>3</td>\n",
       "      <td>1</td>\n",
       "      <td>1</td>\n",
       "      <td>0</td>\n",
       "      <td>1</td>\n",
       "      <td>0</td>\n",
       "    </tr>\n",
       "    <tr>\n",
       "      <th>3</th>\n",
       "      <td>4</td>\n",
       "      <td>1</td>\n",
       "      <td>0</td>\n",
       "      <td>1</td>\n",
       "      <td>0</td>\n",
       "      <td>0</td>\n",
       "    </tr>\n",
       "    <tr>\n",
       "      <th>4</th>\n",
       "      <td>5</td>\n",
       "      <td>0</td>\n",
       "      <td>1</td>\n",
       "      <td>1</td>\n",
       "      <td>0</td>\n",
       "      <td>1</td>\n",
       "    </tr>\n",
       "    <tr>\n",
       "      <th>5</th>\n",
       "      <td>6</td>\n",
       "      <td>1</td>\n",
       "      <td>0</td>\n",
       "      <td>1</td>\n",
       "      <td>1</td>\n",
       "      <td>0</td>\n",
       "    </tr>\n",
       "    <tr>\n",
       "      <th>6</th>\n",
       "      <td>7</td>\n",
       "      <td>1</td>\n",
       "      <td>1</td>\n",
       "      <td>0</td>\n",
       "      <td>0</td>\n",
       "      <td>1</td>\n",
       "    </tr>\n",
       "    <tr>\n",
       "      <th>7</th>\n",
       "      <td>8</td>\n",
       "      <td>0</td>\n",
       "      <td>1</td>\n",
       "      <td>0</td>\n",
       "      <td>1</td>\n",
       "      <td>1</td>\n",
       "    </tr>\n",
       "    <tr>\n",
       "      <th>8</th>\n",
       "      <td>9</td>\n",
       "      <td>1</td>\n",
       "      <td>0</td>\n",
       "      <td>1</td>\n",
       "      <td>1</td>\n",
       "      <td>0</td>\n",
       "    </tr>\n",
       "    <tr>\n",
       "      <th>9</th>\n",
       "      <td>10</td>\n",
       "      <td>1</td>\n",
       "      <td>0</td>\n",
       "      <td>0</td>\n",
       "      <td>1</td>\n",
       "      <td>0</td>\n",
       "    </tr>\n",
       "  </tbody>\n",
       "</table>\n",
       "</div>"
      ],
      "text/plain": [
       "   transaction  빼빼로  딴짓초코  양조위빵  오징어칩  초코파이\n",
       "0            1    1     0     1     0     1\n",
       "1            2    0     1     0     1     1\n",
       "2            3    1     1     0     1     0\n",
       "3            4    1     0     1     0     0\n",
       "4            5    0     1     1     0     1\n",
       "5            6    1     0     1     1     0\n",
       "6            7    1     1     0     0     1\n",
       "7            8    0     1     0     1     1\n",
       "8            9    1     0     1     1     0\n",
       "9           10    1     0     0     1     0"
      ]
     },
     "execution_count": 261,
     "metadata": {},
     "output_type": "execute_result"
    }
   ],
   "source": [
    "import pandas as pd\n",
    "# 데이터\n",
    "df = pd.DataFrame({\n",
    "    'transaction': [1, 2, 3, 4, 5, 6, 7, 8, 9, 10],\n",
    "    '빼빼로': [1, 0, 1, 1, 0, 1, 1, 0, 1, 1],\n",
    "    '딴짓초코': [0, 1, 1, 0, 1, 0, 1, 1, 0, 0],\n",
    "    '양조위빵': [1, 0, 0, 1, 1, 1, 0, 0, 1, 0],\n",
    "    '오징어칩': [0, 1, 1, 0, 0, 1, 0, 1, 1, 1],\n",
    "    '초코파이': [1, 1, 0, 0, 1, 0, 1, 1, 0, 0]\n",
    "})\n",
    "df"
   ]
  },
  {
   "cell_type": "code",
   "execution_count": 263,
   "id": "eb15bd38-83a9-46c5-8b81-991e1a32fc86",
   "metadata": {},
   "outputs": [],
   "source": [
    "# 각 문제의 계산을 위한 데이터 준비\n",
    "total = df.shape[0]\n",
    "pepero = df['빼빼로'].sum()"
   ]
  },
  {
   "cell_type": "code",
   "execution_count": 265,
   "id": "fd32a63c-f8a1-47f9-befd-a0e156128718",
   "metadata": {},
   "outputs": [
    {
     "name": "stdout",
     "output_type": "stream",
     "text": [
      "0.2\n"
     ]
    }
   ],
   "source": [
    "# 문제 1: 빼빼로와 딴짓초코가 함께 팔린 거래의 지지도\n",
    "pepero_and_choco = len(df[(df['빼빼로'] == 1) & (df['딴짓초코'] == 1)])\n",
    "print(pepero_and_choco / total)"
   ]
  },
  {
   "cell_type": "code",
   "execution_count": 267,
   "id": "205ac860-2e85-437d-b5bb-dd59d77d9200",
   "metadata": {},
   "outputs": [
    {
     "name": "stdout",
     "output_type": "stream",
     "text": [
      "0.5714285714285714\n"
     ]
    }
   ],
   "source": [
    "# 문제 2: 빼빼로가 팔린 거래 중 빼빼로와 오징어칩이 함께 팔린 거래의 신뢰도\n",
    "pepero_and_squid = len(df[(df['빼빼로'] == 1) & (df['오징어칩'] == 1)])\n",
    "print(pepero_and_squid / pepero)"
   ]
  },
  {
   "cell_type": "code",
   "execution_count": 269,
   "id": "405515a6-738a-4a7f-a5b2-e9835038ce6e",
   "metadata": {},
   "outputs": [
    {
     "name": "stdout",
     "output_type": "stream",
     "text": [
      "1.1428571428571428\n"
     ]
    }
   ],
   "source": [
    "# 문제 3: 빼빼로와 양조위빵의 향상도\n",
    "pepero_and_bread = len(df[(df['빼빼로'] == 1) & (df['양조위빵'] == 1)])\n",
    "bread = df['양조위빵'].sum()\n",
    "print((pepero_and_bread / pepero) / (bread / total))"
   ]
  },
  {
   "cell_type": "code",
   "execution_count": 271,
   "id": "74ba7c8d-29ba-4d29-be15-666ad45914cf",
   "metadata": {},
   "outputs": [
    {
     "data": {
      "text/plain": [
       "5"
      ]
     },
     "execution_count": 271,
     "metadata": {},
     "output_type": "execute_result"
    }
   ],
   "source": [
    "bread"
   ]
  },
  {
   "cell_type": "code",
   "execution_count": 273,
   "id": "0b7f974e-a318-45d7-9775-637c7828ee19",
   "metadata": {},
   "outputs": [
    {
     "data": {
      "text/plain": [
       "4"
      ]
     },
     "execution_count": 273,
     "metadata": {},
     "output_type": "execute_result"
    }
   ],
   "source": [
    "pepero_and_bread"
   ]
  },
  {
   "cell_type": "markdown",
   "id": "260517fa-81d0-417c-82da-b481b08f4402",
   "metadata": {},
   "source": [
    "| 개념             | 수식                            | 분모 기준   | 해석                                   |\n",
    "| -------------- | ----------------------------- | ------- | ------------------------------------ |\n",
    "| **지지도(A)**     | $지원도 = P(A) = A 발생 비율$        | 전체 거래 수 | A가 얼마나 자주 등장하는가                      |\n",
    "| **지지도(A ∩ B)** | $P(A ∩ B)$                    | 전체 거래 수 | A와 B가 **동시에** 발생하는 비율                |\n",
    "| **신뢰도(A → B)** | $P(B \\| A) = P(A ∩ B) / P(A)$ | A 발생 수  | A가 발생했을 때 B도 발생할 확률                  |\n",
    "| **향상도(A → B)** | $신뢰도(A→B) / 지지도(B)$           | -       | A가 발생하면 B가 더 많이 일어나는지 (1보다 크면 양의 연관) |\n"
   ]
  },
  {
   "cell_type": "markdown",
   "id": "67d736e9-cdbd-4ee8-85bf-a1cd8f4931ef",
   "metadata": {},
   "source": [
    "# 포아송 분포"
   ]
  },
  {
   "cell_type": "markdown",
   "id": "90a657a3-45c7-4ace-a2c2-a19eedf13c2a",
   "metadata": {},
   "source": [
    "## 문제: 한 서점에서는 평균적으로 하루에 3명의 고객이 특정 잡지를 구매합니다. 이 데이터는 포아송 분포를 따른다고 가정할 때, 다음 질문에 대한 답을 구하세요.\n",
    "\n",
    "    하루에 정확히 5명의 고객이 잡지를 구매할 확률은 얼마입니까? (%로 값을 정수로 입력하시오)\n",
    "    하루에 적어도 2명의 고객이 잡지를 구매할 확률은 얼마입니까? (%로 값을 정수로 입력하시오)\n"
   ]
  },
  {
   "cell_type": "code",
   "execution_count": 279,
   "id": "7843ed69-4bae-4315-b86a-00a4a40c014f",
   "metadata": {},
   "outputs": [],
   "source": [
    "from scipy.stats import poisson"
   ]
  },
  {
   "cell_type": "code",
   "execution_count": 291,
   "id": "cbd44c01-3cda-4bde-9692-8ceb876f6c7c",
   "metadata": {
    "scrolled": true
   },
   "outputs": [],
   "source": [
    "# help(poisson) \n",
    "#     pmf(k, mu, loc=0)\n",
    "#         Probability mass function.\n",
    "#     cdf(k, mu, loc=0)\n",
    "#         Cumulative distribution function.\n"
   ]
  },
  {
   "cell_type": "code",
   "execution_count": 283,
   "id": "d130079e-3cae-45d2-aaf1-9f166128baba",
   "metadata": {},
   "outputs": [],
   "source": [
    "from scipy.stats import poisson\n",
    "\n",
    "# 평균 발생 횟수 (하루에 잡지를 구매하는 고객 수)\n",
    "lambda_ = 3"
   ]
  },
  {
   "cell_type": "code",
   "execution_count": 285,
   "id": "1663cafb-c73c-43bc-8766-cb5fab228382",
   "metadata": {},
   "outputs": [
    {
     "name": "stdout",
     "output_type": "stream",
     "text": [
      "0.10081881344492458\n"
     ]
    }
   ],
   "source": [
    "# 하루에 정확히 5명의 고객이 잡지를 구매할 확률\n",
    "print(poisson.pmf(5, lambda_))"
   ]
  },
  {
   "cell_type": "code",
   "execution_count": 289,
   "id": "29c7cd5f-e0dd-4725-8f9d-6cb4268b4fea",
   "metadata": {},
   "outputs": [],
   "source": [
    "# 10%"
   ]
  },
  {
   "cell_type": "code",
   "execution_count": 287,
   "id": "53fae23c-7b2a-4e86-8c92-4128bab5914f",
   "metadata": {},
   "outputs": [
    {
     "name": "stdout",
     "output_type": "stream",
     "text": [
      "0.8008517265285442\n"
     ]
    }
   ],
   "source": [
    "# 하루에 적어도 2명의 고객이 잡지를 구매할 확률\n",
    "print(1 - poisson.cdf(1, lambda_))"
   ]
  },
  {
   "cell_type": "markdown",
   "id": "ab174ec1-8e45-420e-8b7b-59df37501e54",
   "metadata": {},
   "source": [
    "| 함수           | 역할       | 설명                                         |\n",
    "| ------------ | -------- | ------------------------------------------ |\n",
    "| `pmf(k, mu)` | 확률 질량 함수 | **정확히 k번 발생할 확률**                          |\n",
    "| `cdf(k, mu)` | 누적 분포 함수 | **k번 이하로 발생할 확률** (P(X ≤ k))               |\n",
    "| `sf(k, mu)`  | 상위 누적    | **k번 초과 확률** (P(X > k)) = `1 - cdf(k, mu)` |\n"
   ]
  },
  {
   "cell_type": "markdown",
   "id": "811d5d91-2650-4854-9bbd-f6d0271d7d1f",
   "metadata": {},
   "source": [
    "# 독립성 검정 (chi2_contingency)"
   ]
  },
  {
   "cell_type": "markdown",
   "id": "e17b2ff5-6b57-41eb-86bf-624e8926ca33",
   "metadata": {},
   "source": [
    "## 문제 : 성별과 시험합격은 독립적인가를 검정하시오!\n",
    "\n",
    "    1 검정 통계량?\n",
    "    2 p-value?\n",
    "    3 귀무가설 기준 (기각/채택)?\n",
    "    4 남자의 합격 기대 빈도?\n",
    "\n"
   ]
  },
  {
   "cell_type": "code",
   "execution_count": 301,
   "id": "e9419975-c81d-44b1-bbc1-296ccaf9e6ed",
   "metadata": {},
   "outputs": [],
   "source": [
    "male = [100,200]\n",
    "female= [130,170]\n",
    "\n",
    "data= {\"남자\": male, \"여자\":female}\n",
    "df=pd.DataFrame(data, index= ['합격','불합격'])"
   ]
  },
  {
   "cell_type": "code",
   "execution_count": 303,
   "id": "8496bfc3-2e41-4f0e-be32-9838ac152491",
   "metadata": {},
   "outputs": [
    {
     "data": {
      "text/html": [
       "<div>\n",
       "<style scoped>\n",
       "    .dataframe tbody tr th:only-of-type {\n",
       "        vertical-align: middle;\n",
       "    }\n",
       "\n",
       "    .dataframe tbody tr th {\n",
       "        vertical-align: top;\n",
       "    }\n",
       "\n",
       "    .dataframe thead th {\n",
       "        text-align: right;\n",
       "    }\n",
       "</style>\n",
       "<table border=\"1\" class=\"dataframe\">\n",
       "  <thead>\n",
       "    <tr style=\"text-align: right;\">\n",
       "      <th></th>\n",
       "      <th>남자</th>\n",
       "      <th>여자</th>\n",
       "    </tr>\n",
       "  </thead>\n",
       "  <tbody>\n",
       "    <tr>\n",
       "      <th>합격</th>\n",
       "      <td>100</td>\n",
       "      <td>130</td>\n",
       "    </tr>\n",
       "    <tr>\n",
       "      <th>불합격</th>\n",
       "      <td>200</td>\n",
       "      <td>170</td>\n",
       "    </tr>\n",
       "  </tbody>\n",
       "</table>\n",
       "</div>"
      ],
      "text/plain": [
       "      남자   여자\n",
       "합격   100  130\n",
       "불합격  200  170"
      ]
     },
     "execution_count": 303,
     "metadata": {},
     "output_type": "execute_result"
    }
   ],
   "source": [
    "df"
   ]
  },
  {
   "cell_type": "code",
   "execution_count": 305,
   "id": "fa2bfa88-871b-42e3-89ea-8741a5acf6f8",
   "metadata": {},
   "outputs": [],
   "source": [
    "statistic, pvalue, dof,expected= stats.chi2_contingency(df)"
   ]
  },
  {
   "cell_type": "code",
   "execution_count": 309,
   "id": "f13b93af-cf28-4895-a298-6ee29f189c8f",
   "metadata": {},
   "outputs": [
    {
     "name": "stdout",
     "output_type": "stream",
     "text": [
      "5.929494712103407 0.01488951060599475 1 [[115. 115.]\n",
      " [185. 185.]]\n"
     ]
    }
   ],
   "source": [
    "print (statistic, pvalue, dof,expected)"
   ]
  },
  {
   "cell_type": "code",
   "execution_count": 311,
   "id": "4f5c306f-53bf-4b60-a748-e2b22ad27a80",
   "metadata": {},
   "outputs": [
    {
     "name": "stdout",
     "output_type": "stream",
     "text": [
      "검정통계량: 5.929494712103407\n",
      "p-value: 0.01488951060599475\n",
      "남자의 합격 기대빈도: 115.0\n"
     ]
    }
   ],
   "source": [
    "# 결과 출력\n",
    "print(f'검정통계량: {statistic}')\n",
    "print(f'p-value: {pvalue}')\n",
    "print(f'남자의 합격 기대빈도: {expected[0][0]}')"
   ]
  },
  {
   "cell_type": "code",
   "execution_count": 313,
   "id": "02d7045f-7cc5-4650-9ee4-ae431b8f74bc",
   "metadata": {},
   "outputs": [
    {
     "data": {
      "text/plain": [
       "Chi2ContingencyResult(statistic=5.929494712103407, pvalue=0.01488951060599475, dof=1, expected_freq=array([[115., 115.],\n",
       "       [185., 185.]]))"
      ]
     },
     "execution_count": 313,
     "metadata": {},
     "output_type": "execute_result"
    }
   ],
   "source": [
    "stats.chi2_contingency(df)"
   ]
  },
  {
   "cell_type": "code",
   "execution_count": 315,
   "id": "46ac6689-0018-4e0c-aa22-f0f232b93b3f",
   "metadata": {},
   "outputs": [],
   "source": [
    "# 유의수준 5%에서 성별과 시험 합격 간에는 통계적으로 유의한 관계가 있으며, 두 변수는 독립적이지 않다.\n",
    "# 특히, 남자는 기대보다 적게 합격했고, 여자는 기대보다 많이 합격하였다.\n",
    "# [[115. 115.], [185. 185.]]는 chi2_contingency() 함수의 반환값 중 **기대빈도표 (expected)**이고,그 안에 있는 185는 불합격자의 기대값"
   ]
  },
  {
   "cell_type": "markdown",
   "id": "81936168-0f15-4395-84b9-d906392a0c21",
   "metadata": {},
   "source": [
    "# 베르누이 분포와 이항분포"
   ]
  },
  {
   "cell_type": "markdown",
   "id": "3fb2ded8-79db-4263-a089-ac1b164b89df",
   "metadata": {},
   "source": [
    "## 문제 : 베르누이 분포와 이항분포\n",
    "    [베르누이 분포] 다음 데이터는 100번의 시도에서 각각 성공(1) 또는 실패(0)를 나타냅니다. 이 데이터를 바탕으로 각 시도의 성공 확률을 계산하시오.\n",
    "    [이항분포] 1번 문제에서 계산한 성공 확률을 사용하여, 100번의 시도 중 정확히 60번 성공할 확률을 계산하시오.\n"
   ]
  },
  {
   "cell_type": "code",
   "execution_count": 321,
   "id": "6abea87e-3f02-43ab-9c11-3b14fa507bef",
   "metadata": {},
   "outputs": [],
   "source": [
    "df= pd.read_csv('data/type3/t3_success.csv')"
   ]
  },
  {
   "cell_type": "code",
   "execution_count": 323,
   "id": "95f4e35e-dd1f-47e5-b455-3a1e4bcb7592",
   "metadata": {},
   "outputs": [
    {
     "data": {
      "text/html": [
       "<div>\n",
       "<style scoped>\n",
       "    .dataframe tbody tr th:only-of-type {\n",
       "        vertical-align: middle;\n",
       "    }\n",
       "\n",
       "    .dataframe tbody tr th {\n",
       "        vertical-align: top;\n",
       "    }\n",
       "\n",
       "    .dataframe thead th {\n",
       "        text-align: right;\n",
       "    }\n",
       "</style>\n",
       "<table border=\"1\" class=\"dataframe\">\n",
       "  <thead>\n",
       "    <tr style=\"text-align: right;\">\n",
       "      <th></th>\n",
       "      <th>Success</th>\n",
       "    </tr>\n",
       "  </thead>\n",
       "  <tbody>\n",
       "    <tr>\n",
       "      <th>0</th>\n",
       "      <td>1</td>\n",
       "    </tr>\n",
       "    <tr>\n",
       "      <th>1</th>\n",
       "      <td>0</td>\n",
       "    </tr>\n",
       "    <tr>\n",
       "      <th>2</th>\n",
       "      <td>0</td>\n",
       "    </tr>\n",
       "    <tr>\n",
       "      <th>3</th>\n",
       "      <td>1</td>\n",
       "    </tr>\n",
       "    <tr>\n",
       "      <th>4</th>\n",
       "      <td>1</td>\n",
       "    </tr>\n",
       "    <tr>\n",
       "      <th>...</th>\n",
       "      <td>...</td>\n",
       "    </tr>\n",
       "    <tr>\n",
       "      <th>95</th>\n",
       "      <td>1</td>\n",
       "    </tr>\n",
       "    <tr>\n",
       "      <th>96</th>\n",
       "      <td>1</td>\n",
       "    </tr>\n",
       "    <tr>\n",
       "      <th>97</th>\n",
       "      <td>1</td>\n",
       "    </tr>\n",
       "    <tr>\n",
       "      <th>98</th>\n",
       "      <td>0</td>\n",
       "    </tr>\n",
       "    <tr>\n",
       "      <th>99</th>\n",
       "      <td>1</td>\n",
       "    </tr>\n",
       "  </tbody>\n",
       "</table>\n",
       "<p>100 rows × 1 columns</p>\n",
       "</div>"
      ],
      "text/plain": [
       "    Success\n",
       "0         1\n",
       "1         0\n",
       "2         0\n",
       "3         1\n",
       "4         1\n",
       "..      ...\n",
       "95        1\n",
       "96        1\n",
       "97        1\n",
       "98        0\n",
       "99        1\n",
       "\n",
       "[100 rows x 1 columns]"
      ]
     },
     "execution_count": 323,
     "metadata": {},
     "output_type": "execute_result"
    }
   ],
   "source": [
    "df"
   ]
  },
  {
   "cell_type": "code",
   "execution_count": 325,
   "id": "d9fb8032-2a00-479c-8ab3-89c4bbb11201",
   "metadata": {},
   "outputs": [],
   "source": [
    "from scipy.stats import binom"
   ]
  },
  {
   "cell_type": "code",
   "execution_count": 329,
   "id": "b87aa8b3-158a-4ae5-b3c9-a9b3fd209c89",
   "metadata": {},
   "outputs": [],
   "source": [
    "# 베르누이 분포 : 각 시도의 성공 확률 계산\n",
    "total_attempts = len(df)\n",
    "number_of_successes = df['Success'].sum()\n",
    "success_probability = number_of_successes / total_attempts"
   ]
  },
  {
   "cell_type": "code",
   "execution_count": 345,
   "id": "279526db-79d0-489b-b13b-9bb1dd1dd2bc",
   "metadata": {},
   "outputs": [
    {
     "data": {
      "text/plain": [
       "0.62"
      ]
     },
     "execution_count": 345,
     "metadata": {},
     "output_type": "execute_result"
    }
   ],
   "source": [
    "success_probability"
   ]
  },
  {
   "cell_type": "code",
   "execution_count": 331,
   "id": "07c66576-3fea-496a-a575-8fe479a16e93",
   "metadata": {},
   "outputs": [],
   "source": [
    "# 이항분포 : 100 번의 시도 중 정확히 60번 성공할 확률 계산\n",
    "n=100 # 시도 횟수\n",
    "k=60 # 성공 횟수\n",
    "prob_60_success= binom.pmf(k,n,success_probability)"
   ]
  },
  {
   "cell_type": "code",
   "execution_count": 333,
   "id": "c18c0276-4741-45a8-8662-a7ff4bf8235f",
   "metadata": {},
   "outputs": [
    {
     "name": "stdout",
     "output_type": "stream",
     "text": [
      "0.07464985555860272\n"
     ]
    }
   ],
   "source": [
    "print(prob_60_success)"
   ]
  },
  {
   "cell_type": "code",
   "execution_count": 337,
   "id": "02371898-7287-46d9-9ef3-892d59ee0af5",
   "metadata": {},
   "outputs": [],
   "source": [
    "# help(binom) \n",
    "# pmf(k, n, p, loc=0)\n",
    "#         Probability mass function.\n",
    "# cdf(k, n, p, loc=0)\n",
    "#         Cumulative distribution function.\n"
   ]
  },
  {
   "cell_type": "code",
   "execution_count": 349,
   "id": "ce4cd02e-bd46-4601-8af8-31b26fb55b76",
   "metadata": {},
   "outputs": [],
   "source": [
    "# 60번 이상 성공할 확률 계산 \n",
    "# over_60= 1-binom.cdf(k,n,success_probability)\n",
    "over_60 = 1 - binom.cdf(59, n=100, p=0.6)"
   ]
  },
  {
   "cell_type": "code",
   "execution_count": 351,
   "id": "735ad919-cb49-4989-97c8-41742dc1d275",
   "metadata": {},
   "outputs": [
    {
     "name": "stdout",
     "output_type": "stream",
     "text": [
      "0.54329448588207\n"
     ]
    }
   ],
   "source": [
    "print(over_60)"
   ]
  },
  {
   "cell_type": "code",
   "execution_count": 347,
   "id": "27cb24c4-ceaa-4d7e-8ad3-929527f50e3a",
   "metadata": {},
   "outputs": [
    {
     "name": "stdout",
     "output_type": "stream",
     "text": [
      "Help on method cdf in module scipy.stats._distn_infrastructure:\n",
      "\n",
      "cdf(k, *args, **kwds) method of scipy.stats._discrete_distns.binom_gen instance\n",
      "    Cumulative distribution function of the given RV.\n",
      "\n",
      "    Parameters\n",
      "    ----------\n",
      "    k : array_like, int\n",
      "        Quantiles.\n",
      "    arg1, arg2, arg3,... : array_like\n",
      "        The shape parameter(s) for the distribution (see docstring of the\n",
      "        instance object for more information).\n",
      "    loc : array_like, optional\n",
      "        Location parameter (default=0).\n",
      "\n",
      "    Returns\n",
      "    -------\n",
      "    cdf : ndarray\n",
      "        Cumulative distribution function evaluated at `k`.\n",
      "\n"
     ]
    }
   ],
   "source": [
    "help(binom.cdf)"
   ]
  },
  {
   "cell_type": "markdown",
   "id": "7c209fc3-15be-4e85-a86d-df1580a397eb",
   "metadata": {},
   "source": [
    "## 문제: 확률이 0.7인 시험을 10번 응시했을 때,\n",
    "8번 이상 합격할 확률은?"
   ]
  },
  {
   "cell_type": "code",
   "execution_count": 353,
   "id": "bd3a92bd-ae8f-4c23-aecf-6f6056952113",
   "metadata": {},
   "outputs": [
    {
     "name": "stdout",
     "output_type": "stream",
     "text": [
      "P(X ≥ 8) = 0.3828\n"
     ]
    }
   ],
   "source": [
    "from scipy.stats import binom\n",
    "\n",
    "prob = 1 - binom.cdf(7, n=10, p=0.7)\n",
    "print(f\"P(X ≥ 8) = {round(prob, 4)}\")"
   ]
  },
  {
   "cell_type": "code",
   "execution_count": 358,
   "id": "a8e45ae1-2ec8-4a96-9e5e-6bbfebd0dbb4",
   "metadata": {},
   "outputs": [
    {
     "data": {
      "text/plain": [
       "0.08121914499610604"
      ]
     },
     "execution_count": 358,
     "metadata": {},
     "output_type": "execute_result"
    }
   ],
   "source": [
    "# 정확히 60번 성공할 확률은?\n",
    "binom.pmf(60, n=100, p=0.6)"
   ]
  },
  {
   "cell_type": "markdown",
   "id": "813589f9-373c-4b7f-bb4c-95e6a4cb92ff",
   "metadata": {},
   "source": [
    "| 분포                  | 설명                         | 핵심 파라미터          | 예시                      |\n",
    "| ------------------- | -------------------------- | ---------------- | ----------------------- |\n",
    "| **베르누이(Bernoulli)** | **1번 시도**에서 성공(1)/실패(0)    | 성공확률 `p`         | 동전 1번 던지기               |\n",
    "| **이항(Binomial)**    | **n번 반복된 베르누이 시행** 중 성공 횟수 | `n`, `p`         | 동전 10번 던져 3번 앞면         |\n",
    "| **포아송(Poisson)**    | 단위 시간/공간당 **이벤트 발생 횟수**    | 평균 발생횟수 `λ` (mu) | 1시간에 평균 3건 전화, 5건 올 확률? |\n"
   ]
  },
  {
   "cell_type": "markdown",
   "id": "773f714c-476e-4814-982d-29d3b32fc204",
   "metadata": {},
   "source": [
    "- 포아송 : scipy.stats.poisson,    poisson.pmf(5, lambda_)\n",
    "- 이항 : scipy.stats.binom,        binom.pmf(60, n=100, p=0.6)\n",
    "- 기억해야할 함수 pmf, cdf "
   ]
  },
  {
   "cell_type": "markdown",
   "id": "c2e71b59-79d9-4fc4-bbc4-c8132e6e51f2",
   "metadata": {},
   "source": [
    "# 점추정/구간추정 (t3-confidence_interval-py)"
   ]
  },
  {
   "cell_type": "markdown",
   "id": "882fa44b-d0ba-4fd0-9389-ea32b387715c",
   "metadata": {},
   "source": [
    "## 문제 : 데이터셋은 어떤 도시의 일일 평균 온도 입니다.\n",
    "\n",
    "    점추정: 데이터셋을 기반으로 이 도시의 평균 연간 온도를 점추정하세요. (반올림하여 소수 둘째자리까지)\n",
    "    구간추정: 95% 신뢰수준에서 이 도시의 평균 연간 온도에 대한 신뢰구간을 구하세요. (반올림하여 소수 둘째자리까지)\n"
   ]
  },
  {
   "cell_type": "code",
   "execution_count": 429,
   "id": "3a0f5185-6065-41c0-85f1-4ad6c2cd64ac",
   "metadata": {},
   "outputs": [],
   "source": [
    "df=pd.read_csv('data/type3/daily_temperatures.csv')"
   ]
  },
  {
   "cell_type": "code",
   "execution_count": 431,
   "id": "df947d6f-08bf-434c-acd0-1516d28028cb",
   "metadata": {},
   "outputs": [
    {
     "data": {
      "text/html": [
       "<div>\n",
       "<style scoped>\n",
       "    .dataframe tbody tr th:only-of-type {\n",
       "        vertical-align: middle;\n",
       "    }\n",
       "\n",
       "    .dataframe tbody tr th {\n",
       "        vertical-align: top;\n",
       "    }\n",
       "\n",
       "    .dataframe thead th {\n",
       "        text-align: right;\n",
       "    }\n",
       "</style>\n",
       "<table border=\"1\" class=\"dataframe\">\n",
       "  <thead>\n",
       "    <tr style=\"text-align: right;\">\n",
       "      <th></th>\n",
       "      <th>Daily Average Temperature</th>\n",
       "    </tr>\n",
       "  </thead>\n",
       "  <tbody>\n",
       "    <tr>\n",
       "      <th>0</th>\n",
       "      <td>28.820262</td>\n",
       "    </tr>\n",
       "    <tr>\n",
       "      <th>1</th>\n",
       "      <td>22.000786</td>\n",
       "    </tr>\n",
       "    <tr>\n",
       "      <th>2</th>\n",
       "      <td>24.893690</td>\n",
       "    </tr>\n",
       "    <tr>\n",
       "      <th>3</th>\n",
       "      <td>31.204466</td>\n",
       "    </tr>\n",
       "    <tr>\n",
       "      <th>4</th>\n",
       "      <td>29.337790</td>\n",
       "    </tr>\n",
       "  </tbody>\n",
       "</table>\n",
       "</div>"
      ],
      "text/plain": [
       "   Daily Average Temperature\n",
       "0                  28.820262\n",
       "1                  22.000786\n",
       "2                  24.893690\n",
       "3                  31.204466\n",
       "4                  29.337790"
      ]
     },
     "execution_count": 431,
     "metadata": {},
     "output_type": "execute_result"
    }
   ],
   "source": [
    "df.head()"
   ]
  },
  {
   "cell_type": "code",
   "execution_count": 433,
   "id": "43cef12c-a6c0-4812-b8ea-b37b841ab66d",
   "metadata": {},
   "outputs": [],
   "source": [
    "temperature_data=df.copy()"
   ]
  },
  {
   "cell_type": "code",
   "execution_count": 435,
   "id": "6d22fe4d-9175-4506-80e4-83fcac579c9f",
   "metadata": {},
   "outputs": [
    {
     "data": {
      "text/plain": [
       "(19.937577543978538, (19.427887094620406, 20.44726799333667))"
      ]
     },
     "execution_count": 435,
     "metadata": {},
     "output_type": "execute_result"
    }
   ],
   "source": [
    "import pandas as pd\n",
    "from scipy import stats\n",
    "# CSV 파일 불러오기\n",
    "# 점추정: 샘플 평균 계산\n",
    "sample_mean = temperature_data['Daily Average Temperature'].mean()\n",
    "\n",
    "# 구간추정: 샘플 표준편차 계산 및 신뢰구간 계산\n",
    "confidence_level = 0.95\n",
    "sample_std = temperature_data['Daily Average Temperature'].std()  # 자유도 n-1로 설정\n",
    "n_samples = len(temperature_data)\n",
    "\n",
    "# 95% 신뢰구간 계산\n",
    "confidence_interval = stats.t.interval(confidence_level, df=n_samples-1, loc=sample_mean, scale=sample_std/(n_samples**0.5))\n",
    "\n",
    "sample_mean, confidence_interval"
   ]
  },
  {
   "cell_type": "code",
   "execution_count": null,
   "id": "2c6626dd-d307-4642-b5b7-74bc4ee3dd6d",
   "metadata": {},
   "outputs": [],
   "source": []
  },
  {
   "cell_type": "code",
   "execution_count": 415,
   "id": "5fc7f66b-f2ef-439a-8ba5-0163da463969",
   "metadata": {},
   "outputs": [],
   "source": [
    "temp= df['Daily Average Temperature'].rename(\"온도\")"
   ]
  },
  {
   "cell_type": "code",
   "execution_count": 417,
   "id": "cb70bc14-2303-4648-a24e-55ce4e019d06",
   "metadata": {},
   "outputs": [
    {
     "data": {
      "text/plain": [
       "0      28.820262\n",
       "1      22.000786\n",
       "2      24.893690\n",
       "3      31.204466\n",
       "4      29.337790\n",
       "         ...    \n",
       "360    23.492286\n",
       "361    20.018854\n",
       "362    24.659242\n",
       "363    21.699825\n",
       "364    19.921589\n",
       "Name: 온도, Length: 365, dtype: float64"
      ]
     },
     "execution_count": 417,
     "metadata": {},
     "output_type": "execute_result"
    }
   ],
   "source": [
    "temp"
   ]
  },
  {
   "cell_type": "code",
   "execution_count": 442,
   "id": "e9e7dec0-3cee-4c50-91de-aa14e0a07920",
   "metadata": {},
   "outputs": [],
   "source": [
    "df = df.rename(columns={'Daily Average Temperature': '온도'})"
   ]
  },
  {
   "cell_type": "code",
   "execution_count": 444,
   "id": "d91f5056-cdc0-465f-b2bb-033f0cbc3bbd",
   "metadata": {},
   "outputs": [
    {
     "data": {
      "text/plain": [
       "4.951746576285235"
      ]
     },
     "execution_count": 444,
     "metadata": {},
     "output_type": "execute_result"
    }
   ],
   "source": [
    "std = df['온도'].std(ddof=1) # ddof=1 이 기본값이긴함\n",
    "std"
   ]
  },
  {
   "cell_type": "code",
   "execution_count": 446,
   "id": "9978b70e-be24-420d-86c7-4bb445c29664",
   "metadata": {},
   "outputs": [
    {
     "name": "stdout",
     "output_type": "stream",
     "text": [
      "점추정 (표본 평균): 19.94\n",
      "95% 신뢰구간: (19.43, 20.45)\n"
     ]
    }
   ],
   "source": [
    "import numpy as np\n",
    "import scipy.stats as stats\n",
    "\n",
    "# 예시: df['온도']에 평균 온도 데이터가 있다고 가정\n",
    "mean = df['온도'].mean()                     # 점추정\n",
    "std = df['온도'].std(ddof=1)                # 표본 표준편차\n",
    "n = len(df['온도'])                          # 표본 크기\n",
    "se = std / np.sqrt(n)                        # 표준오차\n",
    "\n",
    "# 95% 신뢰구간 (t 분포 사용)\n",
    "t_crit = stats.t.ppf(0.975, df=n-1)          # 양쪽 2.5%씩 잘림\n",
    "\n",
    "ci_lower = mean - t_crit * se\n",
    "ci_upper = mean + t_crit * se\n",
    "\n",
    "# 출력\n",
    "print(f\"점추정 (표본 평균): {round(mean, 2)}\")\n",
    "print(f\"95% 신뢰구간: ({round(ci_lower, 2)}, {round(ci_upper, 2)})\")\n"
   ]
  },
  {
   "cell_type": "markdown",
   "id": "e3f0823d-1cc2-4df3-b2b9-19774b94e5b2",
   "metadata": {},
   "source": [
    "| 매개변수         | 설명                                |\n",
    "| ------------ | --------------------------------- |\n",
    "| `confidence` | 신뢰수준 (예: 0.95 → 95% 신뢰구간)         |\n",
    "| `df`         | 자유도 (보통 `n - 1`)                  |\n",
    "| `loc`        | 평균 (샘플 평균)                        |\n",
    "| `scale`      | 표준오차 (standard error = 표준편차 / √n) |\n"
   ]
  },
  {
   "cell_type": "code",
   "execution_count": 448,
   "id": "8770d86f-0cb0-4060-a4a3-cc97df4c5255",
   "metadata": {},
   "outputs": [],
   "source": [
    "# help(stats.t.interval)"
   ]
  },
  {
   "cell_type": "code",
   "execution_count": 454,
   "id": "7c94868b-c23f-481d-badb-f38227024131",
   "metadata": {},
   "outputs": [
    {
     "name": "stdout",
     "output_type": "stream",
     "text": [
      "점추정 (표본 평균): 19.94\n",
      "95% 신뢰구간: (19.43, 20.45)\n"
     ]
    }
   ],
   "source": [
    "import numpy as np\n",
    "import scipy.stats as stats\n",
    "\n",
    "# 평균, 표준편차, 표본 크기\n",
    "mean = df['온도'].mean()\n",
    "std = df['온도'].std(ddof=1)\n",
    "n = len(df['온도'])\n",
    "se = std / np.sqrt(n)\n",
    "\n",
    "# 95% 신뢰구간 계산 (interval 함수 사용)\n",
    "ci_lower, ci_upper = stats.t.interval(\n",
    "    confidence=0.95,         # 신뢰수준\n",
    "    df=n - 1,           # 자유도\n",
    "    loc=mean,           # 중심 (표본 평균)\n",
    "    scale=se            # 표준오차\n",
    ")\n",
    "\n",
    "# 출력\n",
    "print(f\"점추정 (표본 평균): {round(mean, 2)}\")\n",
    "print(f\"95% 신뢰구간: ({round(ci_lower, 2)}, {round(ci_upper, 2)})\")\n"
   ]
  },
  {
   "cell_type": "code",
   "execution_count": 461,
   "id": "94ffda65-9557-40d8-8256-315e0c7f6d98",
   "metadata": {},
   "outputs": [
    {
     "name": "stdout",
     "output_type": "stream",
     "text": [
      "Help on method cdf in module scipy.stats._distn_infrastructure:\n",
      "\n",
      "cdf(x, *args, **kwds) method of scipy.stats._continuous_distns.t_gen instance\n",
      "    Cumulative distribution function of the given RV.\n",
      "\n",
      "    Parameters\n",
      "    ----------\n",
      "    x : array_like\n",
      "        quantiles\n",
      "    arg1, arg2, arg3,... : array_like\n",
      "        The shape parameter(s) for the distribution (see docstring of the\n",
      "        instance object for more information)\n",
      "    loc : array_like, optional\n",
      "        location parameter (default=0)\n",
      "    scale : array_like, optional\n",
      "        scale parameter (default=1)\n",
      "\n",
      "    Returns\n",
      "    -------\n",
      "    cdf : ndarray\n",
      "        Cumulative distribution function evaluated at `x`\n",
      "\n"
     ]
    }
   ],
   "source": [
    "help(stats.t.cdf)"
   ]
  },
  {
   "cell_type": "markdown",
   "id": "0a9b015f-b332-4f3d-8d91-f66d74d9f6d8",
   "metadata": {},
   "source": [
    "신뢰구간: (19.43°C, 20.45°C)\n",
    "→ 95%의 신뢰 수준으로, 이 도시의 **모평균(진짜 평균 온도)**는\n",
    "19.43도에서 20.45도 사이에 있을 것이라고 추정할 수 있습니다."
   ]
  },
  {
   "cell_type": "markdown",
   "id": "4e59fb8e-4bf7-41de-b884-cdb1e3f15ecb",
   "metadata": {},
   "source": [
    "| 함수           | 역할         | 사용 목적         |\n",
    "| ------------ | ---------- | ------------- |\n",
    "| `ppf()`      | 임계값 계산     | 신뢰구간 ±t값      |\n",
    "| `cdf()`      | 누적확률       | 양측 검정 p-value |\n",
    "| `sf()`       | 초과확률       | 단측 검정 p-value |\n",
    "| `interval()` | 신뢰구간 자동 계산 | 평균 ± t×표준오차   |\n"
   ]
  },
  {
   "cell_type": "markdown",
   "id": "2fa53284-c5a3-4e41-8a2a-b6cb0cbfcfc5",
   "metadata": {},
   "source": [
    "`scipy.stats.t`는 **t-분포** 관련 함수들을 다루는 모듈이며, **통계 검정·신뢰구간 계산에 필수적인 함수들**이 들어 있습니다. 아래에 **자주 쓰는 함수 4개만 간단히** 정리해드릴게요.\n",
    "\n",
    "---\n",
    "\n",
    "## ✅ 1. `ppf(q, df)`: 퍼센트 포인트 함수\n",
    "\n",
    "→ **t분포의 분위수**를 구함 (임계값 계산용)\n",
    "\n",
    "```python\n",
    "from scipy.stats import t\n",
    "t_crit = t.ppf(0.975, df=29)  # 95% 신뢰구간 (양쪽 2.5% 제외)\n",
    "```\n",
    "\n",
    "---\n",
    "\n",
    "## ✅ 2. `cdf(x, df)`: 누적 분포 함수\n",
    "\n",
    "→ **P(T ≤ x)** 값을 계산 (p-value 구할 때 사용)\n",
    "\n",
    "```python\n",
    "t.cdf(1.96, df=29)\n",
    "```\n",
    "t.cdf(1.96, df)에서 나오는 **1.96**은 **표준정규분포(또는 근사된 t-분포)**에서의 임계값을 의미합니다.\n",
    " 1.96의 의미\n",
    "\n",
    "    신뢰수준 95% 기준:\n",
    "\n",
    "        양쪽 2.5%씩 잘라낸 구간\n",
    "\n",
    "        가운데 95%를 포함하는 분포의 경계값\n",
    "\n",
    "        즉,\n",
    "        P(−1.96≤Z≤1.96)=0.95\n",
    "        P(−1.96≤Z≤1.96)=0.95\n",
    "\n",
    "→ 그래서 양측 검정에서 유의수준 5%일 때,\n",
    "임계값이 ±1.96이 됩니다 (표준정규 기준)\n",
    "\n",
    "\n",
    "---\n",
    "\n",
    "## ✅ 3. `sf(x, df)`: 상위 누적 분포\n",
    "\n",
    "→ **P(T > x)** = 1 - cdf(x) (단측 검정 p-value)\n",
    "\n",
    "```python\n",
    "t.sf(1.96, df=29)\n",
    "```\n",
    "\n",
    "---\n",
    "\n",
    "## ✅ 4. `interval(confidence, df, loc=mean, scale=se)`\n",
    "\n",
    "→ **신뢰구간 계산**을 한 번에\n",
    "\n",
    "```python\n",
    "t.interval(0.95, df=29, loc=19.94, scale=0.25)\n",
    "```\n",
    "\n",
    "---\n",
    "\n",
    "## ✴️ 요약표\n",
    "\n",
    "| 함수           | 역할         | 사용 목적         |\n",
    "| ------------ | ---------- | ------------- |\n",
    "| `ppf()`      | 임계값 계산     | 신뢰구간 ±t값      |\n",
    "| `cdf()`      | 누적확률       | 양측 검정 p-value |\n",
    "| `sf()`       | 초과확률       | 단측 검정 p-value |\n",
    "| `interval()` | 신뢰구간 자동 계산 | 평균 ± t×표준오차   |\n",
    "\n",
    "---\n",
    "\n",
    "이 4개만 익숙해지면, **t-검정, 신뢰구간, p-value 계산 대부분 처리 가능합니다.**\n"
   ]
  },
  {
   "cell_type": "markdown",
   "id": "3b642383-1684-403d-adce-ed52d8d0cbc0",
   "metadata": {},
   "source": [
    "# 이원분산분석 (Two-way ANOVA)"
   ]
  },
  {
   "cell_type": "markdown",
   "id": "e22d75f1-93da-4a7b-858a-d2990d91ad1b",
   "metadata": {},
   "source": [
    "\n",
    "## 문제 : 크리스마스 장식 종류와 지역에 따라 판매량에 유의미한 차이가 있는지 이원 분산 분석을 통해 검정하세요¶\n",
    "\n",
    "    크리스마스 장식 종류(트리, 조명, 장식품)가 판매량에 미치는 영향을 분석하세요. 이때, 장식 종류의 F-value, p-value를 구하시오\n",
    "    지역(북부, 남부, 동부, 서부)이 판매량에 미치는 영향을 분석하세요. 이때, 장식 종류의 F-value, p-value를 구하시오\n",
    "    크리스마스 장식 종류와 지역의 상호작용이 판매량에 미치는 영향을 분석하세요. 이때, 장식 종류의 F-value, p-value를 구하시오\n",
    "\n"
   ]
  },
  {
   "cell_type": "code",
   "execution_count": 668,
   "id": "c1f6bf0e-22aa-411a-9b4b-3f60b0f398c3",
   "metadata": {},
   "outputs": [],
   "source": [
    "df=pd.read_csv('data/type3/christmas_decoration_sales.csv')"
   ]
  },
  {
   "cell_type": "code",
   "execution_count": 670,
   "id": "4d1f8bcb-310a-4487-9de8-8abe92149dd4",
   "metadata": {},
   "outputs": [
    {
     "data": {
      "text/html": [
       "<div>\n",
       "<style scoped>\n",
       "    .dataframe tbody tr th:only-of-type {\n",
       "        vertical-align: middle;\n",
       "    }\n",
       "\n",
       "    .dataframe tbody tr th {\n",
       "        vertical-align: top;\n",
       "    }\n",
       "\n",
       "    .dataframe thead th {\n",
       "        text-align: right;\n",
       "    }\n",
       "</style>\n",
       "<table border=\"1\" class=\"dataframe\">\n",
       "  <thead>\n",
       "    <tr style=\"text-align: right;\">\n",
       "      <th></th>\n",
       "      <th>Decoration_Type</th>\n",
       "      <th>Region</th>\n",
       "      <th>Sales</th>\n",
       "    </tr>\n",
       "  </thead>\n",
       "  <tbody>\n",
       "    <tr>\n",
       "      <th>0</th>\n",
       "      <td>트리</td>\n",
       "      <td>북부</td>\n",
       "      <td>64</td>\n",
       "    </tr>\n",
       "    <tr>\n",
       "      <th>1</th>\n",
       "      <td>트리</td>\n",
       "      <td>남부</td>\n",
       "      <td>67</td>\n",
       "    </tr>\n",
       "  </tbody>\n",
       "</table>\n",
       "</div>"
      ],
      "text/plain": [
       "  Decoration_Type Region  Sales\n",
       "0              트리     북부     64\n",
       "1              트리     남부     67"
      ]
     },
     "execution_count": 670,
     "metadata": {},
     "output_type": "execute_result"
    }
   ],
   "source": [
    "df.head(2)"
   ]
  },
  {
   "cell_type": "code",
   "execution_count": 672,
   "id": "21f0e6be-d9a5-4998-a882-d8b1396647eb",
   "metadata": {},
   "outputs": [
    {
     "name": "stdout",
     "output_type": "stream",
     "text": [
      "<class 'pandas.core.frame.DataFrame'>\n",
      "RangeIndex: 36 entries, 0 to 35\n",
      "Data columns (total 3 columns):\n",
      " #   Column           Non-Null Count  Dtype \n",
      "---  ------           --------------  ----- \n",
      " 0   Decoration_Type  36 non-null     object\n",
      " 1   Region           36 non-null     object\n",
      " 2   Sales            36 non-null     int64 \n",
      "dtypes: int64(1), object(2)\n",
      "memory usage: 996.0+ bytes\n"
     ]
    }
   ],
   "source": [
    "df.info()"
   ]
  },
  {
   "cell_type": "code",
   "execution_count": 674,
   "id": "90d81b61-a313-486e-a5f3-2b4351a1de7f",
   "metadata": {},
   "outputs": [],
   "source": [
    "# 종속변수는 판매량, 독립변수는 장식 종류 + 지역 + 상호작용"
   ]
  },
  {
   "cell_type": "markdown",
   "id": "5afe55df-c851-48c4-bd02-5b656faf37b6",
   "metadata": {},
   "source": [
    "- 일원분산분석\n",
    "    - 독립변수(요인): 교육 방법 (A, B, C)\n",
    "    - 종속변수: 시험 성적\n",
    "\n",
    "- 이원분산분석\n",
    "    - 독립변수(요인): 장식타입(트리,조명,장식품), 지역(동부,서부..) ... 2개 이상의 독립변수\n",
    "    - 종속변수 : 판매량\n",
    "\n",
    "- ANOVA도 결국 “집단에 따른 평균 차이” → 선형 회귀식으로 표현 가능\n",
    "- ols()는 범주형 변수도 더미코딩해서 선형회귀 모델로 적합 가능"
   ]
  },
  {
   "cell_type": "code",
   "execution_count": 677,
   "id": "de5e1335-8f10-4941-bf44-0fe76543c7dc",
   "metadata": {},
   "outputs": [],
   "source": [
    "import pandas as pd\n",
    "import statsmodels.api as sm              # 이건 좀 따로 외워야할듯?\n",
    "from statsmodels.formula.api import ols"
   ]
  },
  {
   "cell_type": "code",
   "execution_count": 679,
   "id": "e9a90989-9a24-4571-8d02-f08a4ab80f3d",
   "metadata": {},
   "outputs": [
    {
     "name": "stdout",
     "output_type": "stream",
     "text": [
      "                                   sum_sq    df         F    PR(>F)\n",
      "C(Decoration_Type)            1764.500000   2.0  2.370578  0.114943\n",
      "C(Region)                      804.305556   3.0  0.720381  0.549614\n",
      "C(Decoration_Type):C(Region)  5153.944444   6.0  2.308081  0.066915\n",
      "Residual                      8932.000000  24.0       NaN       NaN\n"
     ]
    }
   ],
   "source": [
    "# 모델 적합\n",
    "model = ols('Sales ~ C(Decoration_Type) + C(Region) + C(Decoration_Type):C(Region)', data=df).fit()\n",
    "\n",
    "# 이원 분산분석 수행\n",
    "anova_table = sm.stats.anova_lm(model,typ=2)   # 항상 typ=2를 명시하는 습관이 안전하고 정석적인 방법. 그래야 변수 순서에 영향없음. 상호작용을 독립적으로 평가.\n",
    "\n",
    "# 결과 출력\n",
    "print(anova_table)"
   ]
  },
  {
   "cell_type": "code",
   "execution_count": 681,
   "id": "28825d70-595b-4889-b13c-22e460bcd29c",
   "metadata": {},
   "outputs": [
    {
     "data": {
      "text/html": [
       "<table class=\"simpletable\">\n",
       "<caption>OLS Regression Results</caption>\n",
       "<tr>\n",
       "  <th>Dep. Variable:</th>          <td>Sales</td>      <th>  R-squared:         </th> <td>   0.464</td>\n",
       "</tr>\n",
       "<tr>\n",
       "  <th>Model:</th>                   <td>OLS</td>       <th>  Adj. R-squared:    </th> <td>   0.218</td>\n",
       "</tr>\n",
       "<tr>\n",
       "  <th>Method:</th>             <td>Least Squares</td>  <th>  F-statistic:       </th> <td>   1.886</td>\n",
       "</tr>\n",
       "<tr>\n",
       "  <th>Date:</th>             <td>Wed, 18 Jun 2025</td> <th>  Prob (F-statistic):</th>  <td>0.0938</td> \n",
       "</tr>\n",
       "<tr>\n",
       "  <th>Time:</th>                 <td>22:57:15</td>     <th>  Log-Likelihood:    </th> <td> -150.33</td>\n",
       "</tr>\n",
       "<tr>\n",
       "  <th>No. Observations:</th>      <td>    36</td>      <th>  AIC:               </th> <td>   324.7</td>\n",
       "</tr>\n",
       "<tr>\n",
       "  <th>Df Residuals:</th>          <td>    24</td>      <th>  BIC:               </th> <td>   343.7</td>\n",
       "</tr>\n",
       "<tr>\n",
       "  <th>Df Model:</th>              <td>    11</td>      <th>                     </th>     <td> </td>   \n",
       "</tr>\n",
       "<tr>\n",
       "  <th>Covariance Type:</th>      <td>nonrobust</td>    <th>                     </th>     <td> </td>   \n",
       "</tr>\n",
       "</table>\n",
       "<table class=\"simpletable\">\n",
       "<tr>\n",
       "                      <td></td>                        <th>coef</th>     <th>std err</th>      <th>t</th>      <th>P>|t|</th>  <th>[0.025</th>    <th>0.975]</th>  \n",
       "</tr>\n",
       "<tr>\n",
       "  <th>Intercept</th>                                <td>   61.6667</td> <td>   11.138</td> <td>    5.537</td> <td> 0.000</td> <td>   38.679</td> <td>   84.654</td>\n",
       "</tr>\n",
       "<tr>\n",
       "  <th>C(Decoration_Type)[T.조명]</th>                 <td>   24.0000</td> <td>   15.752</td> <td>    1.524</td> <td> 0.141</td> <td>   -8.510</td> <td>   56.510</td>\n",
       "</tr>\n",
       "<tr>\n",
       "  <th>C(Decoration_Type)[T.트리]</th>                 <td>  -19.0000</td> <td>   15.752</td> <td>   -1.206</td> <td> 0.239</td> <td>  -51.510</td> <td>   13.510</td>\n",
       "</tr>\n",
       "<tr>\n",
       "  <th>C(Region)[T.동부]</th>                          <td>  -14.0000</td> <td>   15.752</td> <td>   -0.889</td> <td> 0.383</td> <td>  -46.510</td> <td>   18.510</td>\n",
       "</tr>\n",
       "<tr>\n",
       "  <th>C(Region)[T.북부]</th>                          <td>  -17.6667</td> <td>   15.752</td> <td>   -1.122</td> <td> 0.273</td> <td>  -50.176</td> <td>   14.843</td>\n",
       "</tr>\n",
       "<tr>\n",
       "  <th>C(Region)[T.서부]</th>                          <td>   -3.3333</td> <td>   15.752</td> <td>   -0.212</td> <td> 0.834</td> <td>  -35.843</td> <td>   29.176</td>\n",
       "</tr>\n",
       "<tr>\n",
       "  <th>C(Decoration_Type)[T.조명]:C(Region)[T.동부]</th> <td>  -20.6667</td> <td>   22.276</td> <td>   -0.928</td> <td> 0.363</td> <td>  -66.642</td> <td>   25.309</td>\n",
       "</tr>\n",
       "<tr>\n",
       "  <th>C(Decoration_Type)[T.트리]:C(Region)[T.동부]</th> <td>   39.0000</td> <td>   22.276</td> <td>    1.751</td> <td> 0.093</td> <td>   -6.975</td> <td>   84.975</td>\n",
       "</tr>\n",
       "<tr>\n",
       "  <th>C(Decoration_Type)[T.조명]:C(Region)[T.북부]</th> <td>   13.6667</td> <td>   22.276</td> <td>    0.614</td> <td> 0.545</td> <td>  -32.309</td> <td>   59.642</td>\n",
       "</tr>\n",
       "<tr>\n",
       "  <th>C(Decoration_Type)[T.트리]:C(Region)[T.북부]</th> <td>   55.3333</td> <td>   22.276</td> <td>    2.484</td> <td> 0.020</td> <td>    9.358</td> <td>  101.309</td>\n",
       "</tr>\n",
       "<tr>\n",
       "  <th>C(Decoration_Type)[T.조명]:C(Region)[T.서부]</th> <td>  -26.0000</td> <td>   22.276</td> <td>   -1.167</td> <td> 0.255</td> <td>  -71.975</td> <td>   19.975</td>\n",
       "</tr>\n",
       "<tr>\n",
       "  <th>C(Decoration_Type)[T.트리]:C(Region)[T.서부]</th> <td>   36.6667</td> <td>   22.276</td> <td>    1.646</td> <td> 0.113</td> <td>   -9.309</td> <td>   82.642</td>\n",
       "</tr>\n",
       "</table>\n",
       "<table class=\"simpletable\">\n",
       "<tr>\n",
       "  <th>Omnibus:</th>       <td> 8.070</td> <th>  Durbin-Watson:     </th> <td>   1.525</td>\n",
       "</tr>\n",
       "<tr>\n",
       "  <th>Prob(Omnibus):</th> <td> 0.018</td> <th>  Jarque-Bera (JB):  </th> <td>   2.300</td>\n",
       "</tr>\n",
       "<tr>\n",
       "  <th>Skew:</th>          <td> 0.058</td> <th>  Prob(JB):          </th> <td>   0.317</td>\n",
       "</tr>\n",
       "<tr>\n",
       "  <th>Kurtosis:</th>      <td> 1.767</td> <th>  Cond. No.          </th> <td>    17.9</td>\n",
       "</tr>\n",
       "</table><br/><br/>Notes:<br/>[1] Standard Errors assume that the covariance matrix of the errors is correctly specified."
      ],
      "text/latex": [
       "\\begin{center}\n",
       "\\begin{tabular}{lclc}\n",
       "\\toprule\n",
       "\\textbf{Dep. Variable:}                            &      Sales       & \\textbf{  R-squared:         } &     0.464   \\\\\n",
       "\\textbf{Model:}                                    &       OLS        & \\textbf{  Adj. R-squared:    } &     0.218   \\\\\n",
       "\\textbf{Method:}                                   &  Least Squares   & \\textbf{  F-statistic:       } &     1.886   \\\\\n",
       "\\textbf{Date:}                                     & Wed, 18 Jun 2025 & \\textbf{  Prob (F-statistic):} &   0.0938    \\\\\n",
       "\\textbf{Time:}                                     &     22:57:15     & \\textbf{  Log-Likelihood:    } &   -150.33   \\\\\n",
       "\\textbf{No. Observations:}                         &          36      & \\textbf{  AIC:               } &     324.7   \\\\\n",
       "\\textbf{Df Residuals:}                             &          24      & \\textbf{  BIC:               } &     343.7   \\\\\n",
       "\\textbf{Df Model:}                                 &          11      & \\textbf{                     } &             \\\\\n",
       "\\textbf{Covariance Type:}                          &    nonrobust     & \\textbf{                     } &             \\\\\n",
       "\\bottomrule\n",
       "\\end{tabular}\n",
       "\\begin{tabular}{lcccccc}\n",
       "                                                   & \\textbf{coef} & \\textbf{std err} & \\textbf{t} & \\textbf{P$> |$t$|$} & \\textbf{[0.025} & \\textbf{0.975]}  \\\\\n",
       "\\midrule\n",
       "\\textbf{Intercept}                                 &      61.6667  &       11.138     &     5.537  &         0.000        &       38.679    &       84.654     \\\\\n",
       "\\textbf{C(Decoration\\_Type)[T.조명]}                 &      24.0000  &       15.752     &     1.524  &         0.141        &       -8.510    &       56.510     \\\\\n",
       "\\textbf{C(Decoration\\_Type)[T.트리]}                 &     -19.0000  &       15.752     &    -1.206  &         0.239        &      -51.510    &       13.510     \\\\\n",
       "\\textbf{C(Region)[T.동부]}                           &     -14.0000  &       15.752     &    -0.889  &         0.383        &      -46.510    &       18.510     \\\\\n",
       "\\textbf{C(Region)[T.북부]}                           &     -17.6667  &       15.752     &    -1.122  &         0.273        &      -50.176    &       14.843     \\\\\n",
       "\\textbf{C(Region)[T.서부]}                           &      -3.3333  &       15.752     &    -0.212  &         0.834        &      -35.843    &       29.176     \\\\\n",
       "\\textbf{C(Decoration\\_Type)[T.조명]:C(Region)[T.동부]} &     -20.6667  &       22.276     &    -0.928  &         0.363        &      -66.642    &       25.309     \\\\\n",
       "\\textbf{C(Decoration\\_Type)[T.트리]:C(Region)[T.동부]} &      39.0000  &       22.276     &     1.751  &         0.093        &       -6.975    &       84.975     \\\\\n",
       "\\textbf{C(Decoration\\_Type)[T.조명]:C(Region)[T.북부]} &      13.6667  &       22.276     &     0.614  &         0.545        &      -32.309    &       59.642     \\\\\n",
       "\\textbf{C(Decoration\\_Type)[T.트리]:C(Region)[T.북부]} &      55.3333  &       22.276     &     2.484  &         0.020        &        9.358    &      101.309     \\\\\n",
       "\\textbf{C(Decoration\\_Type)[T.조명]:C(Region)[T.서부]} &     -26.0000  &       22.276     &    -1.167  &         0.255        &      -71.975    &       19.975     \\\\\n",
       "\\textbf{C(Decoration\\_Type)[T.트리]:C(Region)[T.서부]} &      36.6667  &       22.276     &     1.646  &         0.113        &       -9.309    &       82.642     \\\\\n",
       "\\bottomrule\n",
       "\\end{tabular}\n",
       "\\begin{tabular}{lclc}\n",
       "\\textbf{Omnibus:}       &  8.070 & \\textbf{  Durbin-Watson:     } &    1.525  \\\\\n",
       "\\textbf{Prob(Omnibus):} &  0.018 & \\textbf{  Jarque-Bera (JB):  } &    2.300  \\\\\n",
       "\\textbf{Skew:}          &  0.058 & \\textbf{  Prob(JB):          } &    0.317  \\\\\n",
       "\\textbf{Kurtosis:}      &  1.767 & \\textbf{  Cond. No.          } &     17.9  \\\\\n",
       "\\bottomrule\n",
       "\\end{tabular}\n",
       "%\\caption{OLS Regression Results}\n",
       "\\end{center}\n",
       "\n",
       "Notes: \\newline\n",
       " [1] Standard Errors assume that the covariance matrix of the errors is correctly specified."
      ],
      "text/plain": [
       "<class 'statsmodels.iolib.summary.Summary'>\n",
       "\"\"\"\n",
       "                            OLS Regression Results                            \n",
       "==============================================================================\n",
       "Dep. Variable:                  Sales   R-squared:                       0.464\n",
       "Model:                            OLS   Adj. R-squared:                  0.218\n",
       "Method:                 Least Squares   F-statistic:                     1.886\n",
       "Date:                Wed, 18 Jun 2025   Prob (F-statistic):             0.0938\n",
       "Time:                        22:57:15   Log-Likelihood:                -150.33\n",
       "No. Observations:                  36   AIC:                             324.7\n",
       "Df Residuals:                      24   BIC:                             343.7\n",
       "Df Model:                          11                                         \n",
       "Covariance Type:            nonrobust                                         \n",
       "============================================================================================================\n",
       "                                               coef    std err          t      P>|t|      [0.025      0.975]\n",
       "------------------------------------------------------------------------------------------------------------\n",
       "Intercept                                   61.6667     11.138      5.537      0.000      38.679      84.654\n",
       "C(Decoration_Type)[T.조명]                    24.0000     15.752      1.524      0.141      -8.510      56.510\n",
       "C(Decoration_Type)[T.트리]                   -19.0000     15.752     -1.206      0.239     -51.510      13.510\n",
       "C(Region)[T.동부]                            -14.0000     15.752     -0.889      0.383     -46.510      18.510\n",
       "C(Region)[T.북부]                            -17.6667     15.752     -1.122      0.273     -50.176      14.843\n",
       "C(Region)[T.서부]                             -3.3333     15.752     -0.212      0.834     -35.843      29.176\n",
       "C(Decoration_Type)[T.조명]:C(Region)[T.동부]   -20.6667     22.276     -0.928      0.363     -66.642      25.309\n",
       "C(Decoration_Type)[T.트리]:C(Region)[T.동부]    39.0000     22.276      1.751      0.093      -6.975      84.975\n",
       "C(Decoration_Type)[T.조명]:C(Region)[T.북부]    13.6667     22.276      0.614      0.545     -32.309      59.642\n",
       "C(Decoration_Type)[T.트리]:C(Region)[T.북부]    55.3333     22.276      2.484      0.020       9.358     101.309\n",
       "C(Decoration_Type)[T.조명]:C(Region)[T.서부]   -26.0000     22.276     -1.167      0.255     -71.975      19.975\n",
       "C(Decoration_Type)[T.트리]:C(Region)[T.서부]    36.6667     22.276      1.646      0.113      -9.309      82.642\n",
       "==============================================================================\n",
       "Omnibus:                        8.070   Durbin-Watson:                   1.525\n",
       "Prob(Omnibus):                  0.018   Jarque-Bera (JB):                2.300\n",
       "Skew:                           0.058   Prob(JB):                        0.317\n",
       "Kurtosis:                       1.767   Cond. No.                         17.9\n",
       "==============================================================================\n",
       "\n",
       "Notes:\n",
       "[1] Standard Errors assume that the covariance matrix of the errors is correctly specified.\n",
       "\"\"\""
      ]
     },
     "execution_count": 681,
     "metadata": {},
     "output_type": "execute_result"
    }
   ],
   "source": [
    "model.summary()"
   ]
  },
  {
   "cell_type": "code",
   "execution_count": 507,
   "id": "a0e67b22-5923-4cd1-93bd-8d3bd33c87c5",
   "metadata": {},
   "outputs": [],
   "source": [
    "# dir(statsmodels.formula.api)"
   ]
  },
  {
   "cell_type": "code",
   "execution_count": 515,
   "id": "b1aaeb21-56d1-4dd9-9c23-5da999b7c0a2",
   "metadata": {},
   "outputs": [],
   "source": [
    "# dir(statsmodels.api.stats.anova_lm)"
   ]
  },
  {
   "cell_type": "markdown",
   "id": "2ef5e2a6-d9d7-4844-bc52-b89aba9cb441",
   "metadata": {},
   "source": [
    "anova_lm()은 statsmodels의 핵심 분산분석 함수"
   ]
  },
  {
   "cell_type": "code",
   "execution_count": 526,
   "id": "a14cdee7-b547-4f61-8db6-6fc918c84dd0",
   "metadata": {},
   "outputs": [],
   "source": [
    "df=pd.read_csv('data/type3/Customer_Data.csv')"
   ]
  },
  {
   "cell_type": "code",
   "execution_count": 528,
   "id": "6efb8a58-e71d-4e9e-ac4b-28fca6f4cc54",
   "metadata": {},
   "outputs": [
    {
     "data": {
      "text/html": [
       "<div>\n",
       "<style scoped>\n",
       "    .dataframe tbody tr th:only-of-type {\n",
       "        vertical-align: middle;\n",
       "    }\n",
       "\n",
       "    .dataframe tbody tr th {\n",
       "        vertical-align: top;\n",
       "    }\n",
       "\n",
       "    .dataframe thead th {\n",
       "        text-align: right;\n",
       "    }\n",
       "</style>\n",
       "<table border=\"1\" class=\"dataframe\">\n",
       "  <thead>\n",
       "    <tr style=\"text-align: right;\">\n",
       "      <th></th>\n",
       "      <th>age</th>\n",
       "      <th>income</th>\n",
       "      <th>marital_status</th>\n",
       "      <th>children</th>\n",
       "      <th>gender</th>\n",
       "      <th>purchase</th>\n",
       "    </tr>\n",
       "  </thead>\n",
       "  <tbody>\n",
       "    <tr>\n",
       "      <th>0</th>\n",
       "      <td>62</td>\n",
       "      <td>111980</td>\n",
       "      <td>1</td>\n",
       "      <td>2</td>\n",
       "      <td>1</td>\n",
       "      <td>0</td>\n",
       "    </tr>\n",
       "    <tr>\n",
       "      <th>1</th>\n",
       "      <td>65</td>\n",
       "      <td>107314</td>\n",
       "      <td>0</td>\n",
       "      <td>3</td>\n",
       "      <td>1</td>\n",
       "      <td>0</td>\n",
       "    </tr>\n",
       "  </tbody>\n",
       "</table>\n",
       "</div>"
      ],
      "text/plain": [
       "   age  income  marital_status  children  gender  purchase\n",
       "0   62  111980               1         2       1         0\n",
       "1   65  107314               0         3       1         0"
      ]
     },
     "execution_count": 528,
     "metadata": {},
     "output_type": "execute_result"
    }
   ],
   "source": [
    "df.head(2)"
   ]
  },
  {
   "cell_type": "code",
   "execution_count": 530,
   "id": "52c5d4a6-56f6-469e-8b5c-e4b3516700b0",
   "metadata": {},
   "outputs": [
    {
     "name": "stdout",
     "output_type": "stream",
     "text": [
      "<class 'pandas.core.frame.DataFrame'>\n",
      "RangeIndex: 500 entries, 0 to 499\n",
      "Data columns (total 6 columns):\n",
      " #   Column          Non-Null Count  Dtype\n",
      "---  ------          --------------  -----\n",
      " 0   age             500 non-null    int64\n",
      " 1   income          500 non-null    int64\n",
      " 2   marital_status  500 non-null    int64\n",
      " 3   children        500 non-null    int64\n",
      " 4   gender          500 non-null    int64\n",
      " 5   purchase        500 non-null    int64\n",
      "dtypes: int64(6)\n",
      "memory usage: 23.6 KB\n"
     ]
    }
   ],
   "source": [
    "df.info()"
   ]
  },
  {
   "cell_type": "code",
   "execution_count": 542,
   "id": "0aa07281-549b-4406-959f-b79190859c9d",
   "metadata": {},
   "outputs": [],
   "source": [
    "train= df.iloc[:350]\n",
    "test=df.iloc[350:]"
   ]
  },
  {
   "cell_type": "code",
   "execution_count": 544,
   "id": "78ce9e65-b86c-4f93-9efb-946ebd03ef24",
   "metadata": {},
   "outputs": [
    {
     "data": {
      "text/plain": [
       "((350, 6), (150, 6))"
      ]
     },
     "execution_count": 544,
     "metadata": {},
     "output_type": "execute_result"
    }
   ],
   "source": [
    "train.shape,test.shape"
   ]
  },
  {
   "cell_type": "code",
   "execution_count": 547,
   "id": "5c601f42-6cfc-4f57-8b34-4082fd996c3b",
   "metadata": {},
   "outputs": [],
   "source": [
    "import statsmodels.api as sm\n",
    "import numpy as np\n"
   ]
  },
  {
   "cell_type": "markdown",
   "id": "7f90bda6-73fc-4543-a29c-96550eca5d38",
   "metadata": {},
   "source": [
    "- import statsmodels.api as sm  # ANOVA 표, 통계 모델 도우미\n",
    "- import statsmodels.formula.api as smf  # ols, logit 등 formula 모델 정의\n",
    "\n",
    "\n",
    "이원분산분석 vs 다중선형회귀 차이\n",
    "\n",
    "| 항목       | 다중선형회귀                          | 이원분산분석 (Two-way ANOVA)                |\n",
    "| -------- | ------------------------------- | ------------------------------------- |\n",
    "| 목적       | **수치형 종속변수**를 여러 독립변수로 예측       | **집단 간 평균 차이** 검정                     |\n",
    "| 독립변수 종류  | **수치형/범주형 모두 가능**               | **범주형 2개** (예: 성별, 교육수준)              |\n",
    "| 주요 함수    | `ols(...).fit()` + `.summary()` | `ols(...)` + `sm.stats.anova_lm(...)` |\n",
    "| 출력 중심    | 회귀계수, p-value, R² 등             | 각 요인의 F-값, p-value (주효과/상호작용 확인)      |\n",
    "| 모델 구성 예시 | `y ~ x1 + x2`                   | `y ~ A + B + A:B` (`A:B`는 상호작용항)      |\n"
   ]
  },
  {
   "cell_type": "markdown",
   "id": "ae5a30bf-c304-4ca9-ae08-4e87c7a1aae4",
   "metadata": {},
   "source": [
    "# 잔차 이탈도"
   ]
  },
  {
   "cell_type": "markdown",
   "id": "30f97c21-650f-4d0a-8095-bfc46a0d8286",
   "metadata": {},
   "source": [
    "## 문제 : 잔차이탈도를 구하시오\n",
    "- 고객 정보를 나타낸 데이터이다. 주어진 데이터에서 500개 중 앞에서부터 300개는 train으로, 200개는 test 데이터로 나눈다. 모델을 학습(적합)할 때는 train 데이터를 사용하고, 예측할 때는 test 데이터를 사용한다. 모델은 로지스틱 회귀를 써서 고객이 특정 제품을 구매할지 여부를 예측하되, 페널티는 부과하지 않는다.\n",
    "\n",
    "종속변수: purchase (0: 구매 안 함, 1: 구매 함)\n",
    "\n",
    "Q. age, income, marital_status 변수를 독립변수로 purchase를 종속변수로 사용하여 로지스틱 회귀 모형을 만들고, 잔차이탈도를 구하시오. (반올림하여 소수 넷째자리까지 계산)"
   ]
  },
  {
   "cell_type": "code",
   "execution_count": 553,
   "id": "b7931447-e0b6-4e02-96cd-c9c1d97beb4a",
   "metadata": {},
   "outputs": [],
   "source": [
    "import pandas as pd\n",
    "from statsmodels.formula.api import logit"
   ]
  },
  {
   "cell_type": "code",
   "execution_count": 555,
   "id": "e8e2cedf-320c-4579-9434-5daaecf1e13b",
   "metadata": {},
   "outputs": [],
   "source": [
    "df= pd.read_csv('data/type3/Customer_Data.csv')"
   ]
  },
  {
   "cell_type": "code",
   "execution_count": 557,
   "id": "e6100d87-c191-411f-9721-8663cd626550",
   "metadata": {},
   "outputs": [],
   "source": [
    "train = df.iloc[:300]\n",
    "test = df.iloc[300:]"
   ]
  },
  {
   "cell_type": "code",
   "execution_count": 559,
   "id": "5922651b-2047-48d5-8ac9-b5fad08d6b05",
   "metadata": {},
   "outputs": [
    {
     "name": "stdout",
     "output_type": "stream",
     "text": [
      "Optimization terminated successfully.\n",
      "         Current function value: 0.687415\n",
      "         Iterations 4\n"
     ]
    }
   ],
   "source": [
    "model = logit('purchase ~ age + income + marital_status', data=train).fit()"
   ]
  },
  {
   "cell_type": "code",
   "execution_count": 561,
   "id": "7ab8f165-9644-4bb3-8570-58228fc2a9a4",
   "metadata": {},
   "outputs": [
    {
     "name": "stdout",
     "output_type": "stream",
     "text": [
      "                           Logit Regression Results                           \n",
      "==============================================================================\n",
      "Dep. Variable:               purchase   No. Observations:                  300\n",
      "Model:                          Logit   Df Residuals:                      296\n",
      "Method:                           MLE   Df Model:                            3\n",
      "Date:                Wed, 18 Jun 2025   Pseudo R-squ.:                0.007474\n",
      "Time:                        17:03:34   Log-Likelihood:                -206.22\n",
      "converged:                       True   LL-Null:                       -207.78\n",
      "Covariance Type:            nonrobust   LLR p-value:                    0.3756\n",
      "==================================================================================\n",
      "                     coef    std err          z      P>|z|      [0.025      0.975]\n",
      "----------------------------------------------------------------------------------\n",
      "Intercept          0.3407      0.452      0.753      0.451      -0.546       1.227\n",
      "age               -0.0094      0.008     -1.236      0.216      -0.024       0.005\n",
      "income          3.636e-06   4.02e-06      0.904      0.366   -4.25e-06    1.15e-05\n",
      "marital_status    -0.2192      0.235     -0.931      0.352      -0.680       0.242\n",
      "==================================================================================\n"
     ]
    }
   ],
   "source": [
    "print(model.summary())"
   ]
  },
  {
   "cell_type": "code",
   "execution_count": 565,
   "id": "62397239-31fb-4b2d-8273-63a51893dcbe",
   "metadata": {},
   "outputs": [
    {
     "data": {
      "text/plain": [
       "Intercept         0.340700\n",
       "age              -0.009367\n",
       "income            0.000004\n",
       "marital_status   -0.219173\n",
       "dtype: float64"
      ]
     },
     "execution_count": 565,
     "metadata": {},
     "output_type": "execute_result"
    }
   ],
   "source": [
    "model.params"
   ]
  },
  {
   "cell_type": "markdown",
   "id": "c88630e5-8ab2-42a0-b3a7-9c993036ee21",
   "metadata": {},
   "source": [
    "Residual Deviance=−2⋅logL(β^​)\n",
    "\n",
    "| 항목               | 방향성         | 의미    |\n",
    "| ---------------- | ----------- | ----- |\n",
    "| 로그 우도 `llf`      | **클수록** 좋음  | 설명 잘함 |\n",
    "| 잔차이탈도 `-2 * llf` | **작을수록** 좋음 | 잔차 적음 |\n"
   ]
  },
  {
   "cell_type": "code",
   "execution_count": 573,
   "id": "2f9bcb43-75cc-40f3-9898-d7447bc09c38",
   "metadata": {},
   "outputs": [
    {
     "name": "stdout",
     "output_type": "stream",
     "text": [
      "412.45\n"
     ]
    }
   ],
   "source": [
    "# 잔차이탈도\t-2 * 로그 우도 (Log-Likelihood)\t모델의 적합도 지표\n",
    "print(round(-2 * model.llf,2))"
   ]
  },
  {
   "cell_type": "code",
   "execution_count": 569,
   "id": "373178c5-4907-4293-9486-509d1941b524",
   "metadata": {},
   "outputs": [
    {
     "data": {
      "text/plain": [
       "412.44"
      ]
     },
     "execution_count": 569,
     "metadata": {},
     "output_type": "execute_result"
    }
   ],
   "source": [
    "# summary 만 보고 계산하면 소수점이 모두 나오지 않기 때문에 차이가 있음\n",
    "-2 * -206.22"
   ]
  },
  {
   "cell_type": "markdown",
   "id": "4500302f-5194-4b3e-8ba1-2cfbb0c4b474",
   "metadata": {},
   "source": [
    "# 다중 선형회귀"
   ]
  },
  {
   "cell_type": "markdown",
   "id": "d11e1a9a-76d3-4dea-8b8a-fc71248c8af7",
   "metadata": {},
   "source": [
    "## 문제 :\n",
    "\n",
    "    - 모든 변수를 사용하여 OLS 모델을 적합하고, 회귀계수 중 가장 큰 값은?\n",
    "    - 유의미하지 않은 변수를 제거한 후 모델을 다시 적합하고, 회귀계수 중 가장 작은 변수명은?\n",
    "    - 2번 모델의 R-squared 값을 계산하고 해석하세요.\n",
    "    - 1번 모델에서 새로운 데이터(x1=5, x2=12, x3=10, x4=3)에 대해 y 값을 예측하세요.\n",
    "    - 1번 모델에서 x1, x2, x3, x4의 상관관계를 계산하고 가장 큰 상관계수를 구하시오. (단, 자기 상관관계 제외)\n",
    "    - x1과 x2만을 예측 변수로 사용하는 모델을 적합하고, 전체 모델과 R-squared 값을 구하시오.\n",
    "    - 잔차(residual) 분석을 수행하고, 잔차의 표준편차를 구하시오.\n",
    "    - 1번 모델에서 새로운 데이터(x1=5, x2=12, x3=10, x4=3)에 대해 y의 신뢰구간 하한(97% 신뢰수준)을 구하세요.\n",
    "    - 1번 모델에서 새로운 데이터(x1=5, x2=12, x3=10, x4=3)에 대해 y의 예측구간 상한(97% 신뢰수준)을 구하세요.\n",
    "\n"
   ]
  },
  {
   "cell_type": "code",
   "execution_count": 589,
   "id": "8b1a5274-ce9c-4bbe-a8ee-58ff76074307",
   "metadata": {},
   "outputs": [],
   "source": [
    "data = pd.read_csv('data/type3/t3_regression_data.csv')"
   ]
  },
  {
   "cell_type": "code",
   "execution_count": 591,
   "id": "51f6e71a-0323-4d35-b99f-67bd351ea753",
   "metadata": {},
   "outputs": [
    {
     "data": {
      "text/html": [
       "<div>\n",
       "<style scoped>\n",
       "    .dataframe tbody tr th:only-of-type {\n",
       "        vertical-align: middle;\n",
       "    }\n",
       "\n",
       "    .dataframe tbody tr th {\n",
       "        vertical-align: top;\n",
       "    }\n",
       "\n",
       "    .dataframe thead th {\n",
       "        text-align: right;\n",
       "    }\n",
       "</style>\n",
       "<table border=\"1\" class=\"dataframe\">\n",
       "  <thead>\n",
       "    <tr style=\"text-align: right;\">\n",
       "      <th></th>\n",
       "      <th>x1</th>\n",
       "      <th>x2</th>\n",
       "      <th>x3</th>\n",
       "      <th>x4</th>\n",
       "      <th>y</th>\n",
       "    </tr>\n",
       "  </thead>\n",
       "  <tbody>\n",
       "    <tr>\n",
       "      <th>0</th>\n",
       "      <td>1.354882</td>\n",
       "      <td>13.660146</td>\n",
       "      <td>12.025720</td>\n",
       "      <td>2.265464</td>\n",
       "      <td>-10.090372</td>\n",
       "    </tr>\n",
       "    <tr>\n",
       "      <th>1</th>\n",
       "      <td>8.878517</td>\n",
       "      <td>12.798070</td>\n",
       "      <td>14.194644</td>\n",
       "      <td>4.694667</td>\n",
       "      <td>7.798310</td>\n",
       "    </tr>\n",
       "    <tr>\n",
       "      <th>2</th>\n",
       "      <td>9.326056</td>\n",
       "      <td>18.815027</td>\n",
       "      <td>9.817460</td>\n",
       "      <td>2.519119</td>\n",
       "      <td>-2.287519</td>\n",
       "    </tr>\n",
       "    <tr>\n",
       "      <th>3</th>\n",
       "      <td>4.455682</td>\n",
       "      <td>11.667165</td>\n",
       "      <td>7.402825</td>\n",
       "      <td>4.801164</td>\n",
       "      <td>-1.945564</td>\n",
       "    </tr>\n",
       "    <tr>\n",
       "      <th>4</th>\n",
       "      <td>3.882355</td>\n",
       "      <td>11.008464</td>\n",
       "      <td>14.603228</td>\n",
       "      <td>3.360569</td>\n",
       "      <td>1.628605</td>\n",
       "    </tr>\n",
       "  </tbody>\n",
       "</table>\n",
       "</div>"
      ],
      "text/plain": [
       "         x1         x2         x3        x4          y\n",
       "0  1.354882  13.660146  12.025720  2.265464 -10.090372\n",
       "1  8.878517  12.798070  14.194644  4.694667   7.798310\n",
       "2  9.326056  18.815027   9.817460  2.519119  -2.287519\n",
       "3  4.455682  11.667165   7.402825  4.801164  -1.945564\n",
       "4  3.882355  11.008464  14.603228  3.360569   1.628605"
      ]
     },
     "execution_count": 591,
     "metadata": {},
     "output_type": "execute_result"
    }
   ],
   "source": [
    "data.head()"
   ]
  },
  {
   "cell_type": "code",
   "execution_count": 593,
   "id": "b4761f25-8d2a-4585-8a84-266c84f24ce3",
   "metadata": {},
   "outputs": [
    {
     "name": "stdout",
     "output_type": "stream",
     "text": [
      "<class 'pandas.core.frame.DataFrame'>\n",
      "RangeIndex: 100 entries, 0 to 99\n",
      "Data columns (total 5 columns):\n",
      " #   Column  Non-Null Count  Dtype  \n",
      "---  ------  --------------  -----  \n",
      " 0   x1      100 non-null    float64\n",
      " 1   x2      100 non-null    float64\n",
      " 2   x3      100 non-null    float64\n",
      " 3   x4      100 non-null    float64\n",
      " 4   y       100 non-null    float64\n",
      "dtypes: float64(5)\n",
      "memory usage: 4.0 KB\n"
     ]
    }
   ],
   "source": [
    "data.info()"
   ]
  },
  {
   "cell_type": "code",
   "execution_count": 595,
   "id": "9fc5c1c8-b3e1-4e07-8bdb-ae3acb7c1e68",
   "metadata": {},
   "outputs": [
    {
     "name": "stdout",
     "output_type": "stream",
     "text": [
      "1. 전체 모델:\n",
      "                            OLS Regression Results                            \n",
      "==============================================================================\n",
      "Dep. Variable:                      y   R-squared:                       0.988\n",
      "Model:                            OLS   Adj. R-squared:                  0.988\n",
      "Method:                 Least Squares   F-statistic:                     1984.\n",
      "Date:                Wed, 18 Jun 2025   Prob (F-statistic):           1.39e-90\n",
      "Time:                        17:19:49   Log-Likelihood:                -130.88\n",
      "No. Observations:                 100   AIC:                             271.8\n",
      "Df Residuals:                      95   BIC:                             284.8\n",
      "Df Model:                           4                                         \n",
      "Covariance Type:            nonrobust                                         \n",
      "==============================================================================\n",
      "                 coef    std err          t      P>|t|      [0.025      0.975]\n",
      "------------------------------------------------------------------------------\n",
      "Intercept      2.9816      0.740      4.029      0.000       1.512       4.451\n",
      "x1             1.9979      0.030     66.384      0.000       1.938       2.058\n",
      "x2            -1.4924      0.034    -44.274      0.000      -1.559      -1.425\n",
      "x3             0.4633      0.033     13.837      0.000       0.397       0.530\n",
      "x4             0.0203      0.078      0.260      0.796      -0.135       0.175\n",
      "==============================================================================\n",
      "Omnibus:                        2.161   Durbin-Watson:                   1.921\n",
      "Prob(Omnibus):                  0.340   Jarque-Bera (JB):                1.718\n",
      "Skew:                           0.313   Prob(JB):                        0.424\n",
      "Kurtosis:                       3.140   Cond. No.                         155.\n",
      "==============================================================================\n",
      "\n",
      "Notes:\n",
      "[1] Standard Errors assume that the covariance matrix of the errors is correctly specified.\n"
     ]
    }
   ],
   "source": [
    "# 필요한 라이브러리 임포트\n",
    "import statsmodels.formula.api as smf\n",
    "\n",
    "# 1. 모든 변수를 사용하여 OLS 모델 적합\n",
    "model_full = smf.ols('y ~ x1 + x2 + x3 + x4', data=data).fit()\n",
    "print(\"1. 전체 모델:\")\n",
    "print(model_full.summary())"
   ]
  },
  {
   "cell_type": "code",
   "execution_count": 600,
   "id": "0c4b2bac-7742-49dd-91af-b4d9f9d91977",
   "metadata": {},
   "outputs": [],
   "source": [
    "# 가장 무의미한 변수 x4 (p_value : 0.796)"
   ]
  },
  {
   "cell_type": "code",
   "execution_count": 598,
   "id": "dd63fb8f-1860-4198-975e-02d6cd9daaa0",
   "metadata": {},
   "outputs": [
    {
     "name": "stdout",
     "output_type": "stream",
     "text": [
      "\n",
      "2. 유의미한 변수로 재적합한 모델:\n",
      "                            OLS Regression Results                            \n",
      "==============================================================================\n",
      "Dep. Variable:                      y   R-squared:                       0.988\n",
      "Model:                            OLS   Adj. R-squared:                  0.988\n",
      "Method:                 Least Squares   F-statistic:                     2672.\n",
      "Date:                Wed, 18 Jun 2025   Prob (F-statistic):           2.55e-92\n",
      "Time:                        17:27:00   Log-Likelihood:                -130.91\n",
      "No. Observations:                 100   AIC:                             269.8\n",
      "Df Residuals:                      96   BIC:                             280.2\n",
      "Df Model:                           3                                         \n",
      "Covariance Type:            nonrobust                                         \n",
      "==============================================================================\n",
      "                 coef    std err          t      P>|t|      [0.025      0.975]\n",
      "------------------------------------------------------------------------------\n",
      "Intercept      3.0628      0.667      4.589      0.000       1.738       4.388\n",
      "x1             1.9986      0.030     67.020      0.000       1.939       2.058\n",
      "x2            -1.4942      0.033    -45.529      0.000      -1.559      -1.429\n",
      "x3             0.4636      0.033     13.923      0.000       0.398       0.530\n",
      "==============================================================================\n",
      "Omnibus:                        2.285   Durbin-Watson:                   1.931\n",
      "Prob(Omnibus):                  0.319   Jarque-Bera (JB):                1.836\n",
      "Skew:                           0.324   Prob(JB):                        0.399\n",
      "Kurtosis:                       3.140   Cond. No.                         138.\n",
      "==============================================================================\n",
      "\n",
      "Notes:\n",
      "[1] Standard Errors assume that the covariance matrix of the errors is correctly specified.\n"
     ]
    }
   ],
   "source": [
    "# 2. 유의미하지 않은 변수를 제거한 후 모델 재적합\n",
    "# 유의미한 변수만 골라 새로운 모델 적합\n",
    "model_refit = smf.ols('y ~ x1 + x2 + x3', data=data).fit()\n",
    "print(\"\\n2. 유의미한 변수로 재적합한 모델:\")\n",
    "print(model_refit.summary())"
   ]
  },
  {
   "cell_type": "code",
   "execution_count": 602,
   "id": "9fa30462-00f9-4ecc-a575-51eff3d71990",
   "metadata": {},
   "outputs": [
    {
     "name": "stdout",
     "output_type": "stream",
     "text": [
      "\n",
      "3. 초기 모델의 R-squared 값: 0.9881643592045125\n"
     ]
    }
   ],
   "source": [
    "# 3. 초기 모델의 R-squared 값 계산\n",
    "print(\"\\n3. 초기 모델의 R-squared 값:\", model_refit.rsquared)"
   ]
  },
  {
   "cell_type": "code",
   "execution_count": 604,
   "id": "5a4526e3-6b0f-4116-8b7b-7304a0c1e46a",
   "metadata": {},
   "outputs": [
    {
     "name": "stdout",
     "output_type": "stream",
     "text": [
      "\n",
      "4. 새로운 데이터 포인트에 대한 예측값: -0.2433084582017389\n"
     ]
    }
   ],
   "source": [
    "# 4. 새로운 데이터(x1=5, x2=12, x3=10, x4=3)에 대해 y 예측\n",
    "new_data = pd.DataFrame({'x1': [5], 'x2': [12], 'x3': [10], 'x4': [3]})\n",
    "y_pred = model_full.predict(new_data)\n",
    "print(\"\\n4. 새로운 데이터 포인트에 대한 예측값:\", y_pred.iloc[0])"
   ]
  },
  {
   "cell_type": "code",
   "execution_count": 608,
   "id": "25ccfcd2-b612-4f39-85bb-f723d3827cd5",
   "metadata": {},
   "outputs": [
    {
     "name": "stdout",
     "output_type": "stream",
     "text": [
      "\n",
      "5. 예측 변수 간의 상관관계 행렬:\n",
      "          x1        x2        x3        x4         y\n",
      "x1  1.000000 -0.115152  0.080456  0.117670  0.822594\n",
      "x2 -0.115152  1.000000 -0.164049 -0.224881 -0.627445\n",
      "x3  0.080456 -0.164049  1.000000  0.075652  0.301941\n",
      "x4  0.117670 -0.224881  0.075652  1.000000  0.218884\n",
      "y   0.822594 -0.627445  0.301941  0.218884  1.000000\n"
     ]
    }
   ],
   "source": [
    "# 5. 독립 변수 간의 상관관계 계산\n",
    "correlation_matrix = data.corr()\n",
    "print(\"\\n5. 예측 변수 간의 상관관계 행렬:\")\n",
    "print(correlation_matrix)"
   ]
  },
  {
   "cell_type": "code",
   "execution_count": 610,
   "id": "a20bb096-4c1a-4f94-964e-feb3f785f3fc",
   "metadata": {},
   "outputs": [
    {
     "name": "stdout",
     "output_type": "stream",
     "text": [
      "\n",
      "6. x1과 x2만 사용한 모델의 R-squared 값: 0.9642665748957848\n"
     ]
    }
   ],
   "source": [
    "# 6. x1과 x2만을 사용한 모델 적합 및 R-squared 값\n",
    "model_x1_x2 = smf.ols('y ~ x1 + x2', data=data).fit()\n",
    "print(\"\\n6. x1과 x2만 사용한 모델의 R-squared 값:\", model_x1_x2.rsquared)"
   ]
  },
  {
   "cell_type": "code",
   "execution_count": 614,
   "id": "d44f6f92-a7d7-4afe-818f-eba001825f3a",
   "metadata": {},
   "outputs": [
    {
     "name": "stdout",
     "output_type": "stream",
     "text": [
      "\n",
      "7. 잔차의 표준편차:\n",
      "0.9001841451852484\n"
     ]
    }
   ],
   "source": [
    "# 7. 잔차 분석 수행\n",
    "residuals = model_full.resid\n",
    "print(\"\\n7. 잔차의 표준편차:\")\n",
    "print(residuals.std())"
   ]
  },
  {
   "cell_type": "code",
   "execution_count": 620,
   "id": "072d8006-4daa-4816-a45b-54c9b3751482",
   "metadata": {},
   "outputs": [
    {
     "name": "stdout",
     "output_type": "stream",
     "text": [
      "10. y의 신뢰구간 하한(97% 신뢰수준): -0.540230664436758\n"
     ]
    }
   ],
   "source": [
    "# 8. 1번 모델에서 새로운 데이터에 대해 y의 신뢰구간 하한(97% 신뢰수준)을 구하세요.\n",
    "pred_conf_int_97 = model_full.get_prediction(new_data).summary_frame(alpha=0.03)\n",
    "conf_lower_97 = pred_conf_int_97['mean_ci_lower'].iloc[0]\n",
    "print(\"10. y의 신뢰구간 하한(97% 신뢰수준):\", conf_lower_97)"
   ]
  },
  {
   "cell_type": "code",
   "execution_count": 632,
   "id": "7a6f6a6b-a25c-4bf5-ab38-014ca42a5eda",
   "metadata": {},
   "outputs": [],
   "source": [
    "# pred = model.get_prediction(new_data).summary_frame(alpha=0.05)\n",
    "# print(pred[['mean', 'mean_ci_lower', 'mean_ci_upper']])"
   ]
  },
  {
   "cell_type": "markdown",
   "id": "8f7de13f-b1d9-4fee-be96-0de1e2c908ae",
   "metadata": {},
   "source": [
    "예측값 + 신뢰구간/예측구간까지 함께 계산\n",
    "\n",
    "시험에서 신뢰구간 하한/상한 물을 땐 반드시 사용해야 함"
   ]
  },
  {
   "cell_type": "code",
   "execution_count": 636,
   "id": "2f19c444-c6c9-498c-8a32-76f38cf433b1",
   "metadata": {},
   "outputs": [
    {
     "name": "stdout",
     "output_type": "stream",
     "text": [
      "11. y의 예측구간 상한(97% 신뢰수준): 1.802933556874063\n"
     ]
    }
   ],
   "source": [
    "# 9. 1번 모델에서 새로운 데이터에 대해 y의 예측구간 상한(97% 신뢰수준)을 구하세요.\n",
    "pred_upper_97 = pred_conf_int_97['obs_ci_upper'].iloc[0]\n",
    "print(\"11. y의 예측구간 상한(97% 신뢰수준):\", pred_upper_97)"
   ]
  },
  {
   "cell_type": "code",
   "execution_count": 639,
   "id": "107e3c3a-fbf4-4474-9822-958024238f84",
   "metadata": {},
   "outputs": [
    {
     "data": {
      "text/html": [
       "<div>\n",
       "<style scoped>\n",
       "    .dataframe tbody tr th:only-of-type {\n",
       "        vertical-align: middle;\n",
       "    }\n",
       "\n",
       "    .dataframe tbody tr th {\n",
       "        vertical-align: top;\n",
       "    }\n",
       "\n",
       "    .dataframe thead th {\n",
       "        text-align: right;\n",
       "    }\n",
       "</style>\n",
       "<table border=\"1\" class=\"dataframe\">\n",
       "  <thead>\n",
       "    <tr style=\"text-align: right;\">\n",
       "      <th></th>\n",
       "      <th>mean</th>\n",
       "      <th>mean_se</th>\n",
       "      <th>mean_ci_lower</th>\n",
       "      <th>mean_ci_upper</th>\n",
       "      <th>obs_ci_lower</th>\n",
       "      <th>obs_ci_upper</th>\n",
       "    </tr>\n",
       "  </thead>\n",
       "  <tbody>\n",
       "    <tr>\n",
       "      <th>0</th>\n",
       "      <td>-0.243308</td>\n",
       "      <td>0.13477</td>\n",
       "      <td>-0.540231</td>\n",
       "      <td>0.053614</td>\n",
       "      <td>-2.28955</td>\n",
       "      <td>1.802934</td>\n",
       "    </tr>\n",
       "  </tbody>\n",
       "</table>\n",
       "</div>"
      ],
      "text/plain": [
       "       mean  mean_se  mean_ci_lower  mean_ci_upper  obs_ci_lower  obs_ci_upper\n",
       "0 -0.243308  0.13477      -0.540231       0.053614      -2.28955      1.802934"
      ]
     },
     "execution_count": 639,
     "metadata": {},
     "output_type": "execute_result"
    }
   ],
   "source": [
    "pred_conf_int_97"
   ]
  },
  {
   "cell_type": "markdown",
   "id": "cdba9253-80c2-4f14-a620-37e7609a0ccf",
   "metadata": {},
   "source": [
    "# 비모수 검정(wilcoxon)"
   ]
  },
  {
   "cell_type": "markdown",
   "id": "35ac87d2-2fba-4cf8-92a2-3089ee52a16b",
   "metadata": {},
   "source": [
    "## 문제 : 베스킨라빈스는 쿼트(Quart) 아이스크림의 중앙값이 620g이라고 주장하고 있습니다. \n",
    "저는 실제로 이 아이스크림의 중앙값이 620g보다 무겁다고 주장합니다. 다음은 20개의 쿼트 아이스크림 샘플의 무게 측정 결과입니다. 이 측정 결과를 바탕으로 나의 주장이 사실인지 비모수 검정(Wilcoxon Signed-Rank Test)을 통해 검정해보십시오. p-value값을 반올림하여 소수점 둘째 자리까지 계산\n",
    "\n",
    "    귀무가설: \"베스킨라빈스 쿼트 아이스크림의 중앙값은 620g이다.\"\n",
    "    대립가설: \"베스킨라빈스 쿼트 아이스크림의 중앙값은 620g보다 무겁다.\""
   ]
  },
  {
   "cell_type": "code",
   "execution_count": 650,
   "id": "53080cf4-4800-4c63-84c6-1c46831356c7",
   "metadata": {},
   "outputs": [],
   "source": [
    "import pandas as pd\n",
    "data = {\n",
    "    \"weight\": [630, 610, 625, 615, 622, 618, 623, 619, 620, 624, 616, 621, 617, 629, 626, 620, 618, 622, 625, 615, \n",
    "               628, 617, 624, 619, 621, 623, 620, 622, 618, 625, 616, 629, 620, 624, 617, 621, 623, 619, 625, 618,\n",
    "               622, 620, 624, 617, 621, 623, 619, 625, 618, 622]\n",
    "}\n",
    "df = pd.DataFrame(data)"
   ]
  },
  {
   "cell_type": "markdown",
   "id": "f0c2cc27-ba5d-4091-9b06-f856852105a3",
   "metadata": {},
   "source": [
    "| 항목         | 설명                                  |\n",
    "| ---------- | ----------------------------------- |\n",
    "| **모수 검정**  | 정규분포, 평균, 분산 등을 가정하고 검정 (예: t-test) |\n",
    "| **비모수 검정** | **정규성 가정 없이** 순위나 부호 등을 기반으로 검정     |\n",
    "| **언제 사용?** | 샘플 수가 작거나, 정규분포를 따르지 않을 때           |\n"
   ]
  },
  {
   "cell_type": "code",
   "execution_count": 648,
   "id": "0cb63222-5e10-4d50-91b7-55dca25b76b0",
   "metadata": {},
   "outputs": [],
   "source": [
    "# 설정값\n",
    "med = 620"
   ]
  },
  {
   "cell_type": "code",
   "execution_count": 654,
   "id": "0fed3c70-b0d4-489c-8419-71b81d8bd2de",
   "metadata": {},
   "outputs": [
    {
     "data": {
      "text/plain": [
       "weight    621.0\n",
       "dtype: float64"
      ]
     },
     "execution_count": 654,
     "metadata": {},
     "output_type": "execute_result"
    }
   ],
   "source": [
    "df.median()"
   ]
  },
  {
   "cell_type": "code",
   "execution_count": 652,
   "id": "5de7b1d4-8613-4df1-881c-c69b9250835a",
   "metadata": {},
   "outputs": [
    {
     "data": {
      "text/plain": [
       "WilcoxonResult(statistic=684.0, pvalue=0.029661945180945556)"
      ]
     },
     "execution_count": 652,
     "metadata": {},
     "output_type": "execute_result"
    }
   ],
   "source": [
    "from scipy.stats import wilcoxon\n",
    "\n",
    "wilcoxon(df['weight']- med,alternative='greater')"
   ]
  },
  {
   "cell_type": "code",
   "execution_count": 658,
   "id": "dbb0cdb4-38ba-4f18-abd3-f8fa762d27ec",
   "metadata": {},
   "outputs": [],
   "source": [
    "# help(wilcoxon)"
   ]
  },
  {
   "cell_type": "markdown",
   "id": "ba04de56-7e09-42f9-8a9c-ee7e33988a4f",
   "metadata": {},
   "source": [
    "| 함수              | 기준값 전달 방식                         |\n",
    "| --------------- | --------------------------------- |\n",
    "| `ttest_1samp()` | `popmean=620` ← ✅ 기준값 직접 인자 전달    |\n",
    "| `wilcoxon()`    | 기준값 없음 ❌ → **직접 차이값을 계산해서 넣어야 함** |\n"
   ]
  },
  {
   "cell_type": "code",
   "execution_count": null,
   "id": "04f4671b-5cdc-4109-a287-6fd238220e32",
   "metadata": {},
   "outputs": [],
   "source": []
  }
 ],
 "metadata": {
  "kernelspec": {
   "display_name": "Python [conda env:base] *",
   "language": "python",
   "name": "conda-base-py"
  },
  "language_info": {
   "codemirror_mode": {
    "name": "ipython",
    "version": 3
   },
   "file_extension": ".py",
   "mimetype": "text/x-python",
   "name": "python",
   "nbconvert_exporter": "python",
   "pygments_lexer": "ipython3",
   "version": "3.12.3"
  }
 },
 "nbformat": 4,
 "nbformat_minor": 5
}
