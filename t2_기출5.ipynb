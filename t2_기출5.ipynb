{
 "cells": [
  {
   "cell_type": "markdown",
   "id": "010319a8-99da-45ae-934c-f402552945ff",
   "metadata": {},
   "source": [
    "# 빅데이터 분석기사 5회 실기 기출 유형\n",
    "[가격 예측] 중고 자동차\n",
    "\n",
    "    자동차 가격을 예측해주세요!\n",
    "    예측할 값(y): price\n",
    "    평가: RMSE (Root Mean Squared Error)\n",
    "    data: train.csv, test.csv\n"
   ]
  },
  {
   "cell_type": "code",
   "execution_count": 3,
   "id": "79de1921-2375-4112-953b-5d38acde040b",
   "metadata": {},
   "outputs": [],
   "source": [
    "import pandas as pd\n",
    "import numpy as np\n",
    "train=pd.read_csv('data/car/train.csv')\n",
    "test= pd.read_csv('data/car/test.csv')"
   ]
  },
  {
   "cell_type": "code",
   "execution_count": 5,
   "id": "69cb71ac-b609-4438-9375-df790f209d3b",
   "metadata": {},
   "outputs": [
    {
     "name": "stdout",
     "output_type": "stream",
     "text": [
      "<class 'pandas.core.frame.DataFrame'>\n",
      "RangeIndex: 3759 entries, 0 to 3758\n",
      "Data columns (total 9 columns):\n",
      " #   Column        Non-Null Count  Dtype  \n",
      "---  ------        --------------  -----  \n",
      " 0   model         3759 non-null   object \n",
      " 1   year          3759 non-null   int64  \n",
      " 2   price         3759 non-null   int64  \n",
      " 3   transmission  3759 non-null   object \n",
      " 4   mileage       3759 non-null   int64  \n",
      " 5   fuelType      3759 non-null   object \n",
      " 6   tax           3759 non-null   int64  \n",
      " 7   mpg           3759 non-null   float64\n",
      " 8   engineSize    3759 non-null   float64\n",
      "dtypes: float64(2), int64(4), object(3)\n",
      "memory usage: 264.4+ KB\n"
     ]
    }
   ],
   "source": [
    "train.info()"
   ]
  },
  {
   "cell_type": "code",
   "execution_count": 7,
   "id": "4b007a1a-4520-4a7c-980f-71eb8a624430",
   "metadata": {},
   "outputs": [
    {
     "name": "stdout",
     "output_type": "stream",
     "text": [
      "<class 'pandas.core.frame.DataFrame'>\n",
      "RangeIndex: 1617 entries, 0 to 1616\n",
      "Data columns (total 8 columns):\n",
      " #   Column        Non-Null Count  Dtype  \n",
      "---  ------        --------------  -----  \n",
      " 0   model         1617 non-null   object \n",
      " 1   year          1617 non-null   int64  \n",
      " 2   transmission  1617 non-null   object \n",
      " 3   mileage       1617 non-null   int64  \n",
      " 4   fuelType      1617 non-null   object \n",
      " 5   tax           1617 non-null   int64  \n",
      " 6   mpg           1617 non-null   float64\n",
      " 7   engineSize    1617 non-null   float64\n",
      "dtypes: float64(2), int64(3), object(3)\n",
      "memory usage: 101.2+ KB\n"
     ]
    }
   ],
   "source": [
    "test.info()"
   ]
  },
  {
   "cell_type": "code",
   "execution_count": 9,
   "id": "135cb5f5-6b42-4059-a8ad-3ec328530f0b",
   "metadata": {},
   "outputs": [],
   "source": [
    "target= train.pop('price')"
   ]
  },
  {
   "cell_type": "code",
   "execution_count": 11,
   "id": "b9bc2f17-f6ae-4a8f-ad06-8832d92d78f4",
   "metadata": {},
   "outputs": [
    {
     "data": {
      "text/plain": [
       "model           0\n",
       "year            0\n",
       "transmission    0\n",
       "mileage         0\n",
       "fuelType        0\n",
       "tax             0\n",
       "mpg             0\n",
       "engineSize      0\n",
       "dtype: int64"
      ]
     },
     "execution_count": 11,
     "metadata": {},
     "output_type": "execute_result"
    }
   ],
   "source": [
    "train.isnull().sum()"
   ]
  },
  {
   "cell_type": "code",
   "execution_count": 13,
   "id": "570e62a9-8004-4fb3-8b47-54d984fb8a61",
   "metadata": {},
   "outputs": [],
   "source": [
    "from sklearn.ensemble import RandomForestRegressor\n",
    "from sklearn.model_selection import cross_val_score"
   ]
  },
  {
   "cell_type": "code",
   "execution_count": 15,
   "id": "bbc7b10f-093e-4e13-b32d-165e02633f2b",
   "metadata": {},
   "outputs": [
    {
     "data": {
      "text/plain": [
       "19"
      ]
     },
     "execution_count": 15,
     "metadata": {},
     "output_type": "execute_result"
    }
   ],
   "source": [
    "train['model'].nunique()"
   ]
  },
  {
   "cell_type": "code",
   "execution_count": 17,
   "id": "64402e5c-7edf-4e19-8c60-a082bfe86153",
   "metadata": {},
   "outputs": [
    {
     "data": {
      "text/plain": [
       "((3759, 8), (1617, 8))"
      ]
     },
     "execution_count": 17,
     "metadata": {},
     "output_type": "execute_result"
    }
   ],
   "source": [
    "train.shape,test.shape"
   ]
  },
  {
   "cell_type": "code",
   "execution_count": 23,
   "id": "72aba355-3cb4-4730-a244-326f3185b12f",
   "metadata": {},
   "outputs": [],
   "source": [
    "train=pd.get_dummies(train)\n",
    "test=pd.get_dummies(test)"
   ]
  },
  {
   "cell_type": "code",
   "execution_count": 25,
   "id": "33db7c60-3995-4c97-9065-0a28c23216ba",
   "metadata": {},
   "outputs": [
    {
     "data": {
      "text/plain": [
       "((3759, 30), (1617, 30))"
      ]
     },
     "execution_count": 25,
     "metadata": {},
     "output_type": "execute_result"
    }
   ],
   "source": [
    "train.shape,test.shape"
   ]
  },
  {
   "cell_type": "code",
   "execution_count": 27,
   "id": "cf26d8af-4912-40b0-a2d8-4e1d7115384e",
   "metadata": {},
   "outputs": [
    {
     "data": {
      "text/plain": [
       "True"
      ]
     },
     "execution_count": 27,
     "metadata": {},
     "output_type": "execute_result"
    }
   ],
   "source": [
    "train.columns.equals(test.columns)"
   ]
  },
  {
   "cell_type": "code",
   "execution_count": 29,
   "id": "563e7dc7-1caf-4c7b-8918-bc384769f28d",
   "metadata": {},
   "outputs": [],
   "source": [
    "rf= RandomForestRegressor(random_state=42,n_estimators=500)"
   ]
  },
  {
   "cell_type": "code",
   "execution_count": 31,
   "id": "0d098cd0-2d4f-49f3-96dc-144485dbbf84",
   "metadata": {},
   "outputs": [
    {
     "data": {
      "text/plain": [
       "array([0.91625683, 0.89984172])"
      ]
     },
     "execution_count": 31,
     "metadata": {},
     "output_type": "execute_result"
    }
   ],
   "source": [
    "score=cross_val_score(rf,train,target,cv=2)\n",
    "score"
   ]
  },
  {
   "cell_type": "code",
   "execution_count": null,
   "id": "2cb287b0-b3b2-483b-955e-91fb80831cd7",
   "metadata": {},
   "outputs": [],
   "source": [
    "rf.fit(train,target)\n",
    "pred=rf.predict(test)\n",
    "\n",
    "result=pd.DataFrame({\"pred\":pred})\n",
    "result"
   ]
  },
  {
   "cell_type": "code",
   "execution_count": 43,
   "id": "96ad6094-1361-4181-9b38-9056414a0914",
   "metadata": {},
   "outputs": [],
   "source": [
    "result.to_csv('result.csv',index=False)\n"
   ]
  },
  {
   "cell_type": "code",
   "execution_count": null,
   "id": "943865f0-9fc3-48bc-baa8-dd1310d541e1",
   "metadata": {},
   "outputs": [],
   "source": []
  },
  {
   "cell_type": "code",
   "execution_count": null,
   "id": "c9fbf430-8742-486c-ab30-456cd56b2ced",
   "metadata": {},
   "outputs": [],
   "source": [
    "#"
   ]
  },
  {
   "cell_type": "code",
   "execution_count": 58,
   "id": "edcd8739-cb43-43f4-ba7c-670d64729e07",
   "metadata": {},
   "outputs": [],
   "source": [
    "from sklearn.model_selection import train_test_split\n",
    "from sklearn.metrics import r2_score,root_mean_squared_error"
   ]
  },
  {
   "cell_type": "code",
   "execution_count": 50,
   "id": "8c4a2f6c-8338-4cd4-81f0-fc270f1b817f",
   "metadata": {},
   "outputs": [],
   "source": [
    "train=pd.read_csv('data/car/train.csv')"
   ]
  },
  {
   "cell_type": "code",
   "execution_count": 52,
   "id": "541327ad-d73e-473c-bc83-457cc6ba6b86",
   "metadata": {},
   "outputs": [],
   "source": [
    "X_train, X_test= train_test_split(train)"
   ]
  },
  {
   "cell_type": "code",
   "execution_count": null,
   "id": "26a844f8-9c7a-42b3-997c-b67a34a3acff",
   "metadata": {},
   "outputs": [],
   "source": [
    "X_train.pop("
   ]
  }
 ],
 "metadata": {
  "kernelspec": {
   "display_name": "PyTorch 2.5.1 (CUDA 12.4)",
   "language": "python",
   "name": "pytorch-cuda124"
  },
  "language_info": {
   "codemirror_mode": {
    "name": "ipython",
    "version": 3
   },
   "file_extension": ".py",
   "mimetype": "text/x-python",
   "name": "python",
   "nbconvert_exporter": "python",
   "pygments_lexer": "ipython3",
   "version": "3.10.16"
  }
 },
 "nbformat": 4,
 "nbformat_minor": 5
}
