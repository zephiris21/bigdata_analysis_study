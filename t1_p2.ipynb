{
 "cells": [
  {
   "cell_type": "markdown",
   "id": "f8c650d0-8403-457d-af38-35c84cf906f6",
   "metadata": {},
   "source": [
    "# 문제 1. [정렬 및 상위 추출]\n",
    "\n",
    "- 다음 조건을 만족하는 평균값을 계산하시오.\n",
    "\n",
    "  -   mtcars.csv 데이터에서 mpg 값을 기준으로 내림차순 정렬한 후, 상위 10개의 mpg 평균을 소수 둘째 자리까지 반올림하여 출력하시오."
   ]
  },
  {
   "cell_type": "code",
   "execution_count": 2,
   "id": "b6bcfd47-ce3c-4099-8257-3205c845c591",
   "metadata": {},
   "outputs": [],
   "source": [
    "import pandas as pd\n",
    "import numpy as np"
   ]
  },
  {
   "cell_type": "code",
   "execution_count": 4,
   "id": "45d11e9d-5cd7-4bd0-8c23-bc92ad9e7203",
   "metadata": {},
   "outputs": [],
   "source": [
    "df= pd.read_csv(\"data/mtcars.csv\")"
   ]
  },
  {
   "cell_type": "code",
   "execution_count": 6,
   "id": "c6678721-6353-41bf-a8de-0543d4896f13",
   "metadata": {},
   "outputs": [
    {
     "name": "stdout",
     "output_type": "stream",
     "text": [
      "<class 'pandas.core.frame.DataFrame'>\n",
      "RangeIndex: 32 entries, 0 to 31\n",
      "Data columns (total 12 columns):\n",
      " #   Column      Non-Null Count  Dtype  \n",
      "---  ------      --------------  -----  \n",
      " 0   Unnamed: 0  32 non-null     object \n",
      " 1   mpg         32 non-null     float64\n",
      " 2   cyl         32 non-null     int64  \n",
      " 3   disp        32 non-null     float64\n",
      " 4   hp          32 non-null     int64  \n",
      " 5   drat        32 non-null     float64\n",
      " 6   wt          32 non-null     float64\n",
      " 7   qsec        32 non-null     float64\n",
      " 8   vs          32 non-null     int64  \n",
      " 9   am          32 non-null     int64  \n",
      " 10  gear        32 non-null     int64  \n",
      " 11  carb        32 non-null     int64  \n",
      "dtypes: float64(5), int64(6), object(1)\n",
      "memory usage: 3.1+ KB\n"
     ]
    }
   ],
   "source": [
    "df.info()"
   ]
  },
  {
   "cell_type": "code",
   "execution_count": 8,
   "id": "5a3fbbe8-ed99-4cfc-9140-be32588a00a9",
   "metadata": {},
   "outputs": [
    {
     "data": {
      "text/html": [
       "<div>\n",
       "<style scoped>\n",
       "    .dataframe tbody tr th:only-of-type {\n",
       "        vertical-align: middle;\n",
       "    }\n",
       "\n",
       "    .dataframe tbody tr th {\n",
       "        vertical-align: top;\n",
       "    }\n",
       "\n",
       "    .dataframe thead th {\n",
       "        text-align: right;\n",
       "    }\n",
       "</style>\n",
       "<table border=\"1\" class=\"dataframe\">\n",
       "  <thead>\n",
       "    <tr style=\"text-align: right;\">\n",
       "      <th></th>\n",
       "      <th>Unnamed: 0</th>\n",
       "      <th>mpg</th>\n",
       "      <th>cyl</th>\n",
       "      <th>disp</th>\n",
       "      <th>hp</th>\n",
       "      <th>drat</th>\n",
       "      <th>wt</th>\n",
       "      <th>qsec</th>\n",
       "      <th>vs</th>\n",
       "      <th>am</th>\n",
       "      <th>gear</th>\n",
       "      <th>carb</th>\n",
       "    </tr>\n",
       "  </thead>\n",
       "  <tbody>\n",
       "    <tr>\n",
       "      <th>0</th>\n",
       "      <td>Mazda RX4</td>\n",
       "      <td>21.0</td>\n",
       "      <td>6</td>\n",
       "      <td>160.0</td>\n",
       "      <td>110</td>\n",
       "      <td>3.9</td>\n",
       "      <td>2.620</td>\n",
       "      <td>16.46</td>\n",
       "      <td>0</td>\n",
       "      <td>1</td>\n",
       "      <td>4</td>\n",
       "      <td>4</td>\n",
       "    </tr>\n",
       "    <tr>\n",
       "      <th>1</th>\n",
       "      <td>Mazda RX4 Wag</td>\n",
       "      <td>21.0</td>\n",
       "      <td>6</td>\n",
       "      <td>160.0</td>\n",
       "      <td>110</td>\n",
       "      <td>3.9</td>\n",
       "      <td>2.875</td>\n",
       "      <td>17.02</td>\n",
       "      <td>0</td>\n",
       "      <td>1</td>\n",
       "      <td>4</td>\n",
       "      <td>4</td>\n",
       "    </tr>\n",
       "  </tbody>\n",
       "</table>\n",
       "</div>"
      ],
      "text/plain": [
       "      Unnamed: 0   mpg  cyl   disp   hp  drat     wt   qsec  vs  am  gear  \\\n",
       "0      Mazda RX4  21.0    6  160.0  110   3.9  2.620  16.46   0   1     4   \n",
       "1  Mazda RX4 Wag  21.0    6  160.0  110   3.9  2.875  17.02   0   1     4   \n",
       "\n",
       "   carb  \n",
       "0     4  \n",
       "1     4  "
      ]
     },
     "execution_count": 8,
     "metadata": {},
     "output_type": "execute_result"
    }
   ],
   "source": [
    "df.head(2)"
   ]
  },
  {
   "cell_type": "code",
   "execution_count": 10,
   "id": "b13659c5-b569-4247-819e-f1c73c05571a",
   "metadata": {},
   "outputs": [],
   "source": [
    "df.rename(columns={'Unnamed: 0':'car_name'},inplace=True)"
   ]
  },
  {
   "cell_type": "code",
   "execution_count": 12,
   "id": "2413bf93-4160-476f-9d95-37f1197894e0",
   "metadata": {},
   "outputs": [
    {
     "data": {
      "text/html": [
       "<div>\n",
       "<style scoped>\n",
       "    .dataframe tbody tr th:only-of-type {\n",
       "        vertical-align: middle;\n",
       "    }\n",
       "\n",
       "    .dataframe tbody tr th {\n",
       "        vertical-align: top;\n",
       "    }\n",
       "\n",
       "    .dataframe thead th {\n",
       "        text-align: right;\n",
       "    }\n",
       "</style>\n",
       "<table border=\"1\" class=\"dataframe\">\n",
       "  <thead>\n",
       "    <tr style=\"text-align: right;\">\n",
       "      <th></th>\n",
       "      <th>car_name</th>\n",
       "      <th>mpg</th>\n",
       "      <th>cyl</th>\n",
       "      <th>disp</th>\n",
       "      <th>hp</th>\n",
       "      <th>drat</th>\n",
       "      <th>wt</th>\n",
       "      <th>qsec</th>\n",
       "      <th>vs</th>\n",
       "      <th>am</th>\n",
       "      <th>gear</th>\n",
       "      <th>carb</th>\n",
       "    </tr>\n",
       "  </thead>\n",
       "  <tbody>\n",
       "    <tr>\n",
       "      <th>0</th>\n",
       "      <td>Mazda RX4</td>\n",
       "      <td>21.0</td>\n",
       "      <td>6</td>\n",
       "      <td>160.0</td>\n",
       "      <td>110</td>\n",
       "      <td>3.9</td>\n",
       "      <td>2.620</td>\n",
       "      <td>16.46</td>\n",
       "      <td>0</td>\n",
       "      <td>1</td>\n",
       "      <td>4</td>\n",
       "      <td>4</td>\n",
       "    </tr>\n",
       "    <tr>\n",
       "      <th>1</th>\n",
       "      <td>Mazda RX4 Wag</td>\n",
       "      <td>21.0</td>\n",
       "      <td>6</td>\n",
       "      <td>160.0</td>\n",
       "      <td>110</td>\n",
       "      <td>3.9</td>\n",
       "      <td>2.875</td>\n",
       "      <td>17.02</td>\n",
       "      <td>0</td>\n",
       "      <td>1</td>\n",
       "      <td>4</td>\n",
       "      <td>4</td>\n",
       "    </tr>\n",
       "  </tbody>\n",
       "</table>\n",
       "</div>"
      ],
      "text/plain": [
       "        car_name   mpg  cyl   disp   hp  drat     wt   qsec  vs  am  gear  \\\n",
       "0      Mazda RX4  21.0    6  160.0  110   3.9  2.620  16.46   0   1     4   \n",
       "1  Mazda RX4 Wag  21.0    6  160.0  110   3.9  2.875  17.02   0   1     4   \n",
       "\n",
       "   carb  \n",
       "0     4  \n",
       "1     4  "
      ]
     },
     "execution_count": 12,
     "metadata": {},
     "output_type": "execute_result"
    }
   ],
   "source": [
    "df.head(2)"
   ]
  },
  {
   "cell_type": "code",
   "execution_count": 16,
   "id": "a4998aed-41fb-4d7d-8141-2ef12b3e47ce",
   "metadata": {},
   "outputs": [
    {
     "data": {
      "text/plain": [
       "27.19"
      ]
     },
     "execution_count": 16,
     "metadata": {},
     "output_type": "execute_result"
    }
   ],
   "source": [
    "round(df.sort_values(['mpg'],ascending=False).head(10)['mpg'].mean(),2)"
   ]
  },
  {
   "cell_type": "code",
   "execution_count": 74,
   "id": "3dff973c-5304-4a08-9380-1c7c7183cf02",
   "metadata": {},
   "outputs": [],
   "source": [
    "# dir(df)"
   ]
  },
  {
   "cell_type": "markdown",
   "id": "11c5b6da-c906-4515-a0f0-c033a5847537",
   "metadata": {},
   "source": [
    "# 문제 2. [스케일링]\n",
    "\n",
    "- 다음 조건을 만족하는 개수를 계산하시오.\n",
    "\n",
    "  -  qsec 컬럼을 MinMaxScaler로 0~1 범위로 정규화한 후, 변환된 값이 0.5 이상인 행의 개수를 출력하시오."
   ]
  },
  {
   "cell_type": "code",
   "execution_count": 103,
   "id": "12cd20c4-f68a-4108-8d72-5a090c99095e",
   "metadata": {},
   "outputs": [],
   "source": [
    "# import scipy.stats\n",
    "# dir(scipy.stats)"
   ]
  },
  {
   "cell_type": "code",
   "execution_count": 38,
   "id": "0f3526f4-78c6-4cc9-adb5-0fe90363d3b5",
   "metadata": {},
   "outputs": [],
   "source": [
    "# import sklearn.preprocessing \n",
    "# dir(sklearn.preprocessing)\n"
   ]
  },
  {
   "cell_type": "code",
   "execution_count": 20,
   "id": "380e4ce5-0bb8-470a-96b9-5798b4bf2950",
   "metadata": {},
   "outputs": [],
   "source": [
    "from sklearn.preprocessing import MinMaxScaler"
   ]
  },
  {
   "cell_type": "code",
   "execution_count": 66,
   "id": "ec70bcfe-86fe-4f5e-a5b5-a2177c60893a",
   "metadata": {},
   "outputs": [
    {
     "data": {
      "text/plain": [
       "9"
      ]
     },
     "execution_count": 66,
     "metadata": {},
     "output_type": "execute_result"
    }
   ],
   "source": [
    "scaler= MinMaxScaler()\n",
    "scaled= scaler.fit(df[['qsec']]).transform(df[['qsec']])\n",
    "df['scaled_qsec'] = scaled\n",
    "\n",
    "(df['scaled_qsec'] >0.5).sum()"
   ]
  },
  {
   "cell_type": "code",
   "execution_count": 63,
   "id": "e0871a23-232e-446e-b2cd-aed1df8bffc2",
   "metadata": {},
   "outputs": [
    {
     "data": {
      "text/plain": [
       "array([[0.23333333],\n",
       "       [0.3       ],\n",
       "       [0.48928571],\n",
       "       [0.58809524],\n",
       "       [0.3       ],\n",
       "       [0.68095238],\n",
       "       [0.15952381],\n",
       "       [0.6547619 ],\n",
       "       [1.        ],\n",
       "       [0.45238095],\n",
       "       [0.52380952],\n",
       "       [0.3452381 ],\n",
       "       [0.36904762],\n",
       "       [0.41666667],\n",
       "       [0.41428571],\n",
       "       [0.3952381 ],\n",
       "       [0.34761905],\n",
       "       [0.59166667],\n",
       "       [0.47857143],\n",
       "       [0.64285714],\n",
       "       [0.65595238],\n",
       "       [0.28214286],\n",
       "       [0.33333333],\n",
       "       [0.10833333],\n",
       "       [0.30357143],\n",
       "       [0.52380952],\n",
       "       [0.26190476],\n",
       "       [0.28571429],\n",
       "       [0.        ],\n",
       "       [0.11904762],\n",
       "       [0.01190476],\n",
       "       [0.48809524]])"
      ]
     },
     "execution_count": 63,
     "metadata": {},
     "output_type": "execute_result"
    }
   ],
   "source": [
    "scaled"
   ]
  },
  {
   "cell_type": "code",
   "execution_count": 40,
   "id": "ae70205b-f301-44c4-8b2c-d2731bc087b2",
   "metadata": {},
   "outputs": [],
   "source": [
    "# help(scaler)"
   ]
  },
  {
   "cell_type": "markdown",
   "id": "ccb59198-3117-4c4f-a259-49a167d1c555",
   "metadata": {},
   "source": [
    "# 문제 3. [날짜/시간 처리]\n",
    "\n",
    "- 다음 조건을 만족하는 평균값을 계산하시오.\n",
    "\n",
    "  -  데이터에 2022-01-01부터 시작하는 주간 날짜를 date라는 컬럼으로 추가하시오. 이후 2022년 6월~12월 기간의 mpg 평균을 소수 둘째 자리까지 반올림하여 출력하시오."
   ]
  },
  {
   "cell_type": "code",
   "execution_count": 145,
   "id": "a7037985-d8ea-46f1-a746-f9ae848ed489",
   "metadata": {},
   "outputs": [],
   "source": [
    "df[\"date\"] = pd.date_range(start=\"2022-01-01\", periods=len(df), freq=\"W\")"
   ]
  },
  {
   "cell_type": "code",
   "execution_count": 155,
   "id": "344fd709-6cec-4436-8223-8a5fa3f18d6b",
   "metadata": {},
   "outputs": [],
   "source": [
    "# df['date']"
   ]
  },
  {
   "cell_type": "code",
   "execution_count": 161,
   "id": "0fc1a5fb-6be9-45f0-9efc-98e30a9e7d32",
   "metadata": {},
   "outputs": [],
   "source": [
    "df['year']=df['date'].dt.year\n",
    "df['month']=df['date'].dt.month\n",
    "df['dayofweek']=df['date'].dt.weekday\n",
    "df['week']=df['date'].dt.isocalendar().week"
   ]
  },
  {
   "cell_type": "code",
   "execution_count": 163,
   "id": "8ee28639-50fc-4391-864e-058ce47c64f5",
   "metadata": {},
   "outputs": [],
   "source": [
    "# help(df['date'].dt)"
   ]
  },
  {
   "cell_type": "code",
   "execution_count": 177,
   "id": "1a96b5be-8035-49f0-a4e7-f2d6bd9c68fc",
   "metadata": {},
   "outputs": [],
   "source": [
    "filtered_df=df[(df['year']==2022)& (df['month'].between(6,12))]\n",
    "avg_mpg_6_to_12 = round(filtered_df[\"mpg\"].mean(), 2)"
   ]
  },
  {
   "cell_type": "code",
   "execution_count": 175,
   "id": "9871f5cc-fdf8-48b9-87d4-1a12059a1378",
   "metadata": {},
   "outputs": [
    {
     "data": {
      "text/html": [
       "<div>\n",
       "<style scoped>\n",
       "    .dataframe tbody tr th:only-of-type {\n",
       "        vertical-align: middle;\n",
       "    }\n",
       "\n",
       "    .dataframe tbody tr th {\n",
       "        vertical-align: top;\n",
       "    }\n",
       "\n",
       "    .dataframe thead th {\n",
       "        text-align: right;\n",
       "    }\n",
       "</style>\n",
       "<table border=\"1\" class=\"dataframe\">\n",
       "  <thead>\n",
       "    <tr style=\"text-align: right;\">\n",
       "      <th></th>\n",
       "      <th>car_name</th>\n",
       "      <th>mpg</th>\n",
       "      <th>cyl</th>\n",
       "      <th>disp</th>\n",
       "      <th>hp</th>\n",
       "      <th>drat</th>\n",
       "      <th>wt</th>\n",
       "      <th>qsec</th>\n",
       "      <th>vs</th>\n",
       "      <th>am</th>\n",
       "      <th>gear</th>\n",
       "      <th>carb</th>\n",
       "      <th>scaled_qsec</th>\n",
       "      <th>date</th>\n",
       "      <th>year</th>\n",
       "      <th>month</th>\n",
       "      <th>dayofweek</th>\n",
       "      <th>week</th>\n",
       "    </tr>\n",
       "  </thead>\n",
       "  <tbody>\n",
       "    <tr>\n",
       "      <th>0</th>\n",
       "      <td>Mazda RX4</td>\n",
       "      <td>21.0</td>\n",
       "      <td>6</td>\n",
       "      <td>160.0</td>\n",
       "      <td>110</td>\n",
       "      <td>3.9</td>\n",
       "      <td>2.620</td>\n",
       "      <td>16.46</td>\n",
       "      <td>0</td>\n",
       "      <td>1</td>\n",
       "      <td>4</td>\n",
       "      <td>4</td>\n",
       "      <td>0.233333</td>\n",
       "      <td>2022-01-02</td>\n",
       "      <td>2022</td>\n",
       "      <td>1</td>\n",
       "      <td>6</td>\n",
       "      <td>52</td>\n",
       "    </tr>\n",
       "    <tr>\n",
       "      <th>1</th>\n",
       "      <td>Mazda RX4 Wag</td>\n",
       "      <td>21.0</td>\n",
       "      <td>6</td>\n",
       "      <td>160.0</td>\n",
       "      <td>110</td>\n",
       "      <td>3.9</td>\n",
       "      <td>2.875</td>\n",
       "      <td>17.02</td>\n",
       "      <td>0</td>\n",
       "      <td>1</td>\n",
       "      <td>4</td>\n",
       "      <td>4</td>\n",
       "      <td>0.300000</td>\n",
       "      <td>2022-01-09</td>\n",
       "      <td>2022</td>\n",
       "      <td>1</td>\n",
       "      <td>6</td>\n",
       "      <td>1</td>\n",
       "    </tr>\n",
       "  </tbody>\n",
       "</table>\n",
       "</div>"
      ],
      "text/plain": [
       "        car_name   mpg  cyl   disp   hp  drat     wt   qsec  vs  am  gear  \\\n",
       "0      Mazda RX4  21.0    6  160.0  110   3.9  2.620  16.46   0   1     4   \n",
       "1  Mazda RX4 Wag  21.0    6  160.0  110   3.9  2.875  17.02   0   1     4   \n",
       "\n",
       "   carb  scaled_qsec       date  year  month  dayofweek  week  \n",
       "0     4     0.233333 2022-01-02  2022      1          6    52  \n",
       "1     4     0.300000 2022-01-09  2022      1          6     1  "
      ]
     },
     "execution_count": 175,
     "metadata": {},
     "output_type": "execute_result"
    }
   ],
   "source": [
    "df.head(2)"
   ]
  },
  {
   "cell_type": "code",
   "execution_count": 179,
   "id": "7466b3d3-0e0a-4b27-a704-66e69a900c03",
   "metadata": {},
   "outputs": [
    {
     "data": {
      "text/plain": [
       "(10, 18)"
      ]
     },
     "execution_count": 179,
     "metadata": {},
     "output_type": "execute_result"
    }
   ],
   "source": [
    "filtered_df.shape"
   ]
  },
  {
   "cell_type": "code",
   "execution_count": 184,
   "id": "c0f95ef6-9c1f-41ff-ab57-45b591dc9bd3",
   "metadata": {},
   "outputs": [],
   "source": [
    "### 날짜 파생변수 생성해서 머신러닝 작업 2유형에서 중요한 변수로 사용 가능"
   ]
  },
  {
   "cell_type": "markdown",
   "id": "7dc0ac67-971e-497d-a458-7e26e360b7c5",
   "metadata": {},
   "source": [
    "| 변수                           | 처리 방식             | 이유                      |\n",
    "| ---------------------------- | ----------------- | ----------------------- |\n",
    "| `month`, `weekday`, `season` | **범주형 → 원-핫 인코딩** | 순서 의미 없음, 트리 모델 분할에 유리  |\n",
    "| `year`                       | **연속형 그대로 사용 가능** | 시간 흐름 반영 (예: 2021→2022) |\n"
   ]
  },
  {
   "cell_type": "markdown",
   "id": "5b2f928e-d5a3-4924-8225-accefabce164",
   "metadata": {},
   "source": [
    "| 모델                              | 인코딩 방식                                   | 비고                    |\n",
    "| ------------------------------- | ---------------------------------------- | --------------------- |\n",
    "| **RandomForest, XGBoost**       | 보통 **get\\_dummies** 사용 권장                | 순서 의미 제거, 성능 안정성 ↑    |\n",
    "| **LogisticRegression, SVM, NN** | 무조건 인코딩 필요                               | 숫자 외 입력 불가            |\n",
    "| **CatBoost, LightGBM**          | `categorical_features` 지정 시 **자동 처리 가능** | 원-핫 없이도 처리 가능 (성능 좋음) |\n"
   ]
  },
  {
   "cell_type": "markdown",
   "id": "69270c4f-1e3f-4607-b3b8-c9916f15b2e4",
   "metadata": {},
   "source": [
    "# 문제 4. [파생변수 생성]\n",
    "\n",
    "- 다음 조건을 만족하는 새로운 컬럼 2개를 생성하시오.\n",
    "\n",
    "  -  power_to_weight: hp 값을 wt로 나눈 비율\n",
    "\n",
    "  -  mpg_label: mpg가 20 이상이면 \"high\", 미만이면 \"low\"로 구분"
   ]
  },
  {
   "cell_type": "code",
   "execution_count": 189,
   "id": "67d826d5-11d9-4ad3-a28f-9f699d7388f0",
   "metadata": {},
   "outputs": [],
   "source": [
    "df= pd.read_csv(\"data/mtcars.csv\")"
   ]
  },
  {
   "cell_type": "code",
   "execution_count": 192,
   "id": "72cf4f23-ce3f-43c0-8e76-6846c82c6349",
   "metadata": {},
   "outputs": [
    {
     "data": {
      "text/html": [
       "<div>\n",
       "<style scoped>\n",
       "    .dataframe tbody tr th:only-of-type {\n",
       "        vertical-align: middle;\n",
       "    }\n",
       "\n",
       "    .dataframe tbody tr th {\n",
       "        vertical-align: top;\n",
       "    }\n",
       "\n",
       "    .dataframe thead th {\n",
       "        text-align: right;\n",
       "    }\n",
       "</style>\n",
       "<table border=\"1\" class=\"dataframe\">\n",
       "  <thead>\n",
       "    <tr style=\"text-align: right;\">\n",
       "      <th></th>\n",
       "      <th>Unnamed: 0</th>\n",
       "      <th>mpg</th>\n",
       "      <th>cyl</th>\n",
       "      <th>disp</th>\n",
       "      <th>hp</th>\n",
       "      <th>drat</th>\n",
       "      <th>wt</th>\n",
       "      <th>qsec</th>\n",
       "      <th>vs</th>\n",
       "      <th>am</th>\n",
       "      <th>gear</th>\n",
       "      <th>carb</th>\n",
       "    </tr>\n",
       "  </thead>\n",
       "  <tbody>\n",
       "    <tr>\n",
       "      <th>0</th>\n",
       "      <td>Mazda RX4</td>\n",
       "      <td>21.0</td>\n",
       "      <td>6</td>\n",
       "      <td>160.0</td>\n",
       "      <td>110</td>\n",
       "      <td>3.90</td>\n",
       "      <td>2.620</td>\n",
       "      <td>16.46</td>\n",
       "      <td>0</td>\n",
       "      <td>1</td>\n",
       "      <td>4</td>\n",
       "      <td>4</td>\n",
       "    </tr>\n",
       "    <tr>\n",
       "      <th>1</th>\n",
       "      <td>Mazda RX4 Wag</td>\n",
       "      <td>21.0</td>\n",
       "      <td>6</td>\n",
       "      <td>160.0</td>\n",
       "      <td>110</td>\n",
       "      <td>3.90</td>\n",
       "      <td>2.875</td>\n",
       "      <td>17.02</td>\n",
       "      <td>0</td>\n",
       "      <td>1</td>\n",
       "      <td>4</td>\n",
       "      <td>4</td>\n",
       "    </tr>\n",
       "    <tr>\n",
       "      <th>2</th>\n",
       "      <td>Datsun 710</td>\n",
       "      <td>22.8</td>\n",
       "      <td>4</td>\n",
       "      <td>108.0</td>\n",
       "      <td>93</td>\n",
       "      <td>3.85</td>\n",
       "      <td>2.320</td>\n",
       "      <td>18.61</td>\n",
       "      <td>1</td>\n",
       "      <td>1</td>\n",
       "      <td>4</td>\n",
       "      <td>1</td>\n",
       "    </tr>\n",
       "  </tbody>\n",
       "</table>\n",
       "</div>"
      ],
      "text/plain": [
       "      Unnamed: 0   mpg  cyl   disp   hp  drat     wt   qsec  vs  am  gear  \\\n",
       "0      Mazda RX4  21.0    6  160.0  110  3.90  2.620  16.46   0   1     4   \n",
       "1  Mazda RX4 Wag  21.0    6  160.0  110  3.90  2.875  17.02   0   1     4   \n",
       "2     Datsun 710  22.8    4  108.0   93  3.85  2.320  18.61   1   1     4   \n",
       "\n",
       "   carb  \n",
       "0     4  \n",
       "1     4  \n",
       "2     1  "
      ]
     },
     "execution_count": 192,
     "metadata": {},
     "output_type": "execute_result"
    }
   ],
   "source": [
    "df.head(3)"
   ]
  },
  {
   "cell_type": "code",
   "execution_count": 198,
   "id": "83734a87-d0a0-433a-9772-a0ad577c78e4",
   "metadata": {},
   "outputs": [
    {
     "data": {
      "text/plain": [
       "(32, 32)"
      ]
     },
     "execution_count": 198,
     "metadata": {},
     "output_type": "execute_result"
    }
   ],
   "source": [
    "df.shape[0],len(df)"
   ]
  },
  {
   "cell_type": "code",
   "execution_count": 200,
   "id": "406a26f0-4d57-49d4-8626-c5371a6a23e9",
   "metadata": {},
   "outputs": [],
   "source": [
    "df['power_to_weight']=df['hp']/df['wt']"
   ]
  },
  {
   "cell_type": "code",
   "execution_count": 202,
   "id": "af11dd23-0b46-4392-9e9e-1e20dbd67cd3",
   "metadata": {},
   "outputs": [
    {
     "data": {
      "text/html": [
       "<div>\n",
       "<style scoped>\n",
       "    .dataframe tbody tr th:only-of-type {\n",
       "        vertical-align: middle;\n",
       "    }\n",
       "\n",
       "    .dataframe tbody tr th {\n",
       "        vertical-align: top;\n",
       "    }\n",
       "\n",
       "    .dataframe thead th {\n",
       "        text-align: right;\n",
       "    }\n",
       "</style>\n",
       "<table border=\"1\" class=\"dataframe\">\n",
       "  <thead>\n",
       "    <tr style=\"text-align: right;\">\n",
       "      <th></th>\n",
       "      <th>Unnamed: 0</th>\n",
       "      <th>mpg</th>\n",
       "      <th>cyl</th>\n",
       "      <th>disp</th>\n",
       "      <th>hp</th>\n",
       "      <th>drat</th>\n",
       "      <th>wt</th>\n",
       "      <th>qsec</th>\n",
       "      <th>vs</th>\n",
       "      <th>am</th>\n",
       "      <th>gear</th>\n",
       "      <th>carb</th>\n",
       "      <th>power_to_weight</th>\n",
       "    </tr>\n",
       "  </thead>\n",
       "  <tbody>\n",
       "    <tr>\n",
       "      <th>0</th>\n",
       "      <td>Mazda RX4</td>\n",
       "      <td>21.0</td>\n",
       "      <td>6</td>\n",
       "      <td>160.0</td>\n",
       "      <td>110</td>\n",
       "      <td>3.9</td>\n",
       "      <td>2.620</td>\n",
       "      <td>16.46</td>\n",
       "      <td>0</td>\n",
       "      <td>1</td>\n",
       "      <td>4</td>\n",
       "      <td>4</td>\n",
       "      <td>41.984733</td>\n",
       "    </tr>\n",
       "    <tr>\n",
       "      <th>1</th>\n",
       "      <td>Mazda RX4 Wag</td>\n",
       "      <td>21.0</td>\n",
       "      <td>6</td>\n",
       "      <td>160.0</td>\n",
       "      <td>110</td>\n",
       "      <td>3.9</td>\n",
       "      <td>2.875</td>\n",
       "      <td>17.02</td>\n",
       "      <td>0</td>\n",
       "      <td>1</td>\n",
       "      <td>4</td>\n",
       "      <td>4</td>\n",
       "      <td>38.260870</td>\n",
       "    </tr>\n",
       "  </tbody>\n",
       "</table>\n",
       "</div>"
      ],
      "text/plain": [
       "      Unnamed: 0   mpg  cyl   disp   hp  drat     wt   qsec  vs  am  gear  \\\n",
       "0      Mazda RX4  21.0    6  160.0  110   3.9  2.620  16.46   0   1     4   \n",
       "1  Mazda RX4 Wag  21.0    6  160.0  110   3.9  2.875  17.02   0   1     4   \n",
       "\n",
       "   carb  power_to_weight  \n",
       "0     4        41.984733  \n",
       "1     4        38.260870  "
      ]
     },
     "execution_count": 202,
     "metadata": {},
     "output_type": "execute_result"
    }
   ],
   "source": [
    "df.head(2)"
   ]
  },
  {
   "cell_type": "code",
   "execution_count": 205,
   "id": "1805e904-c346-4ed1-9af3-935c773ea63a",
   "metadata": {},
   "outputs": [],
   "source": [
    "df['mpg_label']=np.where(df['mpg']>=20,'high','low')"
   ]
  },
  {
   "cell_type": "code",
   "execution_count": 207,
   "id": "449e7d94-b5b8-4281-9d31-51f1e64a1707",
   "metadata": {},
   "outputs": [
    {
     "data": {
      "text/html": [
       "<div>\n",
       "<style scoped>\n",
       "    .dataframe tbody tr th:only-of-type {\n",
       "        vertical-align: middle;\n",
       "    }\n",
       "\n",
       "    .dataframe tbody tr th {\n",
       "        vertical-align: top;\n",
       "    }\n",
       "\n",
       "    .dataframe thead th {\n",
       "        text-align: right;\n",
       "    }\n",
       "</style>\n",
       "<table border=\"1\" class=\"dataframe\">\n",
       "  <thead>\n",
       "    <tr style=\"text-align: right;\">\n",
       "      <th></th>\n",
       "      <th>Unnamed: 0</th>\n",
       "      <th>mpg</th>\n",
       "      <th>cyl</th>\n",
       "      <th>disp</th>\n",
       "      <th>hp</th>\n",
       "      <th>drat</th>\n",
       "      <th>wt</th>\n",
       "      <th>qsec</th>\n",
       "      <th>vs</th>\n",
       "      <th>am</th>\n",
       "      <th>gear</th>\n",
       "      <th>carb</th>\n",
       "      <th>power_to_weight</th>\n",
       "      <th>mpg_label</th>\n",
       "    </tr>\n",
       "  </thead>\n",
       "  <tbody>\n",
       "    <tr>\n",
       "      <th>0</th>\n",
       "      <td>Mazda RX4</td>\n",
       "      <td>21.0</td>\n",
       "      <td>6</td>\n",
       "      <td>160.0</td>\n",
       "      <td>110</td>\n",
       "      <td>3.9</td>\n",
       "      <td>2.620</td>\n",
       "      <td>16.46</td>\n",
       "      <td>0</td>\n",
       "      <td>1</td>\n",
       "      <td>4</td>\n",
       "      <td>4</td>\n",
       "      <td>41.984733</td>\n",
       "      <td>high</td>\n",
       "    </tr>\n",
       "    <tr>\n",
       "      <th>1</th>\n",
       "      <td>Mazda RX4 Wag</td>\n",
       "      <td>21.0</td>\n",
       "      <td>6</td>\n",
       "      <td>160.0</td>\n",
       "      <td>110</td>\n",
       "      <td>3.9</td>\n",
       "      <td>2.875</td>\n",
       "      <td>17.02</td>\n",
       "      <td>0</td>\n",
       "      <td>1</td>\n",
       "      <td>4</td>\n",
       "      <td>4</td>\n",
       "      <td>38.260870</td>\n",
       "      <td>high</td>\n",
       "    </tr>\n",
       "  </tbody>\n",
       "</table>\n",
       "</div>"
      ],
      "text/plain": [
       "      Unnamed: 0   mpg  cyl   disp   hp  drat     wt   qsec  vs  am  gear  \\\n",
       "0      Mazda RX4  21.0    6  160.0  110   3.9  2.620  16.46   0   1     4   \n",
       "1  Mazda RX4 Wag  21.0    6  160.0  110   3.9  2.875  17.02   0   1     4   \n",
       "\n",
       "   carb  power_to_weight mpg_label  \n",
       "0     4        41.984733      high  \n",
       "1     4        38.260870      high  "
      ]
     },
     "execution_count": 207,
     "metadata": {},
     "output_type": "execute_result"
    }
   ],
   "source": [
    "df.head(2)"
   ]
  },
  {
   "cell_type": "code",
   "execution_count": null,
   "id": "75bb9d93-3252-4b4d-8fc9-ab53b0f3ae93",
   "metadata": {},
   "outputs": [],
   "source": []
  }
 ],
 "metadata": {
  "kernelspec": {
   "display_name": "Python [conda env:base] *",
   "language": "python",
   "name": "conda-base-py"
  },
  "language_info": {
   "codemirror_mode": {
    "name": "ipython",
    "version": 3
   },
   "file_extension": ".py",
   "mimetype": "text/x-python",
   "name": "python",
   "nbconvert_exporter": "python",
   "pygments_lexer": "ipython3",
   "version": "3.12.3"
  }
 },
 "nbformat": 4,
 "nbformat_minor": 5
}
