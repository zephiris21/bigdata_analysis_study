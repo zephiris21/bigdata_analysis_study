{
 "cells": [
  {
   "cell_type": "code",
   "execution_count": 27,
   "id": "19b9c584-2b74-40d2-838d-bcc7327f2606",
   "metadata": {},
   "outputs": [],
   "source": [
    "import pandas as pd\n",
    "import numpy as np"
   ]
  },
  {
   "cell_type": "code",
   "execution_count": 18,
   "id": "3e4a9c30-06da-4cc9-a748-91b85bd61af0",
   "metadata": {},
   "outputs": [
    {
     "data": {
      "text/html": [
       "<div>\n",
       "<style scoped>\n",
       "    .dataframe tbody tr th:only-of-type {\n",
       "        vertical-align: middle;\n",
       "    }\n",
       "\n",
       "    .dataframe tbody tr th {\n",
       "        vertical-align: top;\n",
       "    }\n",
       "\n",
       "    .dataframe thead th {\n",
       "        text-align: right;\n",
       "    }\n",
       "</style>\n",
       "<table border=\"1\" class=\"dataframe\">\n",
       "  <thead>\n",
       "    <tr style=\"text-align: right;\">\n",
       "      <th></th>\n",
       "      <th>PassengerId</th>\n",
       "      <th>Survived</th>\n",
       "      <th>Pclass</th>\n",
       "      <th>Name</th>\n",
       "      <th>Gender</th>\n",
       "      <th>Age</th>\n",
       "      <th>SibSp</th>\n",
       "      <th>Parch</th>\n",
       "      <th>Ticket</th>\n",
       "      <th>Fare</th>\n",
       "      <th>Cabin</th>\n",
       "      <th>Embarked</th>\n",
       "    </tr>\n",
       "  </thead>\n",
       "  <tbody>\n",
       "    <tr>\n",
       "      <th>0</th>\n",
       "      <td>1</td>\n",
       "      <td>0</td>\n",
       "      <td>3</td>\n",
       "      <td>Braund, Mr. Owen Harris</td>\n",
       "      <td>male</td>\n",
       "      <td>22.0</td>\n",
       "      <td>1</td>\n",
       "      <td>0</td>\n",
       "      <td>A/5 21171</td>\n",
       "      <td>7.2500</td>\n",
       "      <td>NaN</td>\n",
       "      <td>S</td>\n",
       "    </tr>\n",
       "    <tr>\n",
       "      <th>1</th>\n",
       "      <td>2</td>\n",
       "      <td>1</td>\n",
       "      <td>1</td>\n",
       "      <td>Cumings, Mrs. John Bradley (Florence Briggs Th...</td>\n",
       "      <td>female</td>\n",
       "      <td>38.0</td>\n",
       "      <td>1</td>\n",
       "      <td>0</td>\n",
       "      <td>PC 17599</td>\n",
       "      <td>71.2833</td>\n",
       "      <td>C85</td>\n",
       "      <td>C</td>\n",
       "    </tr>\n",
       "    <tr>\n",
       "      <th>2</th>\n",
       "      <td>3</td>\n",
       "      <td>1</td>\n",
       "      <td>3</td>\n",
       "      <td>Heikkinen, Miss. Laina</td>\n",
       "      <td>female</td>\n",
       "      <td>26.0</td>\n",
       "      <td>0</td>\n",
       "      <td>0</td>\n",
       "      <td>STON/O2. 3101282</td>\n",
       "      <td>7.9250</td>\n",
       "      <td>NaN</td>\n",
       "      <td>S</td>\n",
       "    </tr>\n",
       "    <tr>\n",
       "      <th>3</th>\n",
       "      <td>4</td>\n",
       "      <td>1</td>\n",
       "      <td>1</td>\n",
       "      <td>Futrelle, Mrs. Jacques Heath (Lily May Peel)</td>\n",
       "      <td>female</td>\n",
       "      <td>35.0</td>\n",
       "      <td>1</td>\n",
       "      <td>0</td>\n",
       "      <td>113803</td>\n",
       "      <td>53.1000</td>\n",
       "      <td>C123</td>\n",
       "      <td>S</td>\n",
       "    </tr>\n",
       "    <tr>\n",
       "      <th>4</th>\n",
       "      <td>5</td>\n",
       "      <td>0</td>\n",
       "      <td>3</td>\n",
       "      <td>Allen, Mr. William Henry</td>\n",
       "      <td>male</td>\n",
       "      <td>35.0</td>\n",
       "      <td>0</td>\n",
       "      <td>0</td>\n",
       "      <td>373450</td>\n",
       "      <td>8.0500</td>\n",
       "      <td>NaN</td>\n",
       "      <td>S</td>\n",
       "    </tr>\n",
       "  </tbody>\n",
       "</table>\n",
       "</div>"
      ],
      "text/plain": [
       "   PassengerId  Survived  Pclass  \\\n",
       "0            1         0       3   \n",
       "1            2         1       1   \n",
       "2            3         1       3   \n",
       "3            4         1       1   \n",
       "4            5         0       3   \n",
       "\n",
       "                                                Name  Gender   Age  SibSp  \\\n",
       "0                            Braund, Mr. Owen Harris    male  22.0      1   \n",
       "1  Cumings, Mrs. John Bradley (Florence Briggs Th...  female  38.0      1   \n",
       "2                             Heikkinen, Miss. Laina  female  26.0      0   \n",
       "3       Futrelle, Mrs. Jacques Heath (Lily May Peel)  female  35.0      1   \n",
       "4                           Allen, Mr. William Henry    male  35.0      0   \n",
       "\n",
       "   Parch            Ticket     Fare Cabin Embarked  \n",
       "0      0         A/5 21171   7.2500   NaN        S  \n",
       "1      0          PC 17599  71.2833   C85        C  \n",
       "2      0  STON/O2. 3101282   7.9250   NaN        S  \n",
       "3      0            113803  53.1000  C123        S  \n",
       "4      0            373450   8.0500   NaN        S  "
      ]
     },
     "execution_count": 18,
     "metadata": {},
     "output_type": "execute_result"
    }
   ],
   "source": [
    "import os\n",
    "os.chdir('bigdata-analysis-test-study')\n",
    "# df = pd.read_csv(r\"D:\\study\\bigdata-analysis-test-study\\data\\Titanic.csv\")\n",
    "df=pd.read_csv(\"data/Titanic.csv\")\n",
    "df.head()"
   ]
  },
  {
   "cell_type": "markdown",
   "id": "b1dfa958-d745-410e-a147-91c570b3c0c6",
   "metadata": {},
   "source": [
    "## 작업형 1 연습 - 문제 1\n",
    "🎯 문제 1: 조건부 집계 (기본)\n",
    "문제\n",
    "승객 클래스(Pclass)별로 그룹을 나누어서, 각 클래스에서 생존한 승객의 평균 나이를 구하세요.\n",
    "조건:\n",
    "\n",
    "생존한 승객만 대상 (Survived == 1)\n",
    "결측치(NaN)가 있는 나이는 제외하고 계산\n",
    "소수점 둘째 자리까지 반올림\n",
    "결과를 딕셔너리 형태로 출력: {클래스: 평균나이}\n",
    "\n",
    "힌트\n",
    "\n",
    "먼저 생존한 승객만 필터링\n",
    "나이에 결측치가 없는 데이터만 선택\n",
    "Pclass로 groupby 후 Age의 평균 계산"
   ]
  },
  {
   "cell_type": "code",
   "execution_count": 25,
   "id": "615c8339-51dd-4174-a3d9-46062780fda2",
   "metadata": {},
   "outputs": [
    {
     "name": "stdout",
     "output_type": "stream",
     "text": [
      "<class 'pandas.core.frame.DataFrame'>\n",
      "RangeIndex: 891 entries, 0 to 890\n",
      "Data columns (total 12 columns):\n",
      " #   Column       Non-Null Count  Dtype  \n",
      "---  ------       --------------  -----  \n",
      " 0   PassengerId  891 non-null    int64  \n",
      " 1   Survived     891 non-null    int64  \n",
      " 2   Pclass       891 non-null    int64  \n",
      " 3   Name         891 non-null    object \n",
      " 4   Gender       891 non-null    object \n",
      " 5   Age          714 non-null    float64\n",
      " 6   SibSp        891 non-null    int64  \n",
      " 7   Parch        891 non-null    int64  \n",
      " 8   Ticket       891 non-null    object \n",
      " 9   Fare         891 non-null    float64\n",
      " 10  Cabin        204 non-null    object \n",
      " 11  Embarked     889 non-null    object \n",
      "dtypes: float64(2), int64(5), object(5)\n",
      "memory usage: 83.7+ KB\n"
     ]
    }
   ],
   "source": [
    "df.info()"
   ]
  },
  {
   "cell_type": "code",
   "execution_count": 35,
   "id": "95ac546f-4bdd-4ef1-8251-6ce8e309a15f",
   "metadata": {},
   "outputs": [],
   "source": [
    "group=df.groupby(\"Pclass\")"
   ]
  },
  {
   "cell_type": "code",
   "execution_count": 41,
   "id": "19587a7e-ac64-4bbc-9d55-37eb1f1267e4",
   "metadata": {},
   "outputs": [
    {
     "name": "stdout",
     "output_type": "stream",
     "text": [
      "{1: 35.37, 2: 25.9, 3: 20.65}\n"
     ]
    }
   ],
   "source": [
    "result = df[(df['Survived'] == 1) & (df['Age'].notna())].groupby('Pclass')['Age'].mean().round(2).to_dict()\n",
    "print(result)"
   ]
  },
  {
   "cell_type": "code",
   "execution_count": 55,
   "id": "264191c2-82d0-4fea-976f-a7e132a8f93c",
   "metadata": {},
   "outputs": [
    {
     "name": "stdout",
     "output_type": "stream",
     "text": [
      "생존자 수: 342\n"
     ]
    }
   ],
   "source": [
    "# 1단계: 생존한 승객만 필터링\n",
    "survived_passengers = df[df['Survived'] == 1]\n",
    "print(\"생존자 수:\", len(survived_passengers))"
   ]
  },
  {
   "cell_type": "code",
   "execution_count": 57,
   "id": "f849d357-31da-4646-84fd-0d57330bbb42",
   "metadata": {},
   "outputs": [
    {
     "name": "stdout",
     "output_type": "stream",
     "text": [
      "나이 정보가 있는 생존자 수: 290\n"
     ]
    }
   ],
   "source": [
    "# 2단계: 나이 결측치 제거\n",
    "survived_with_age = survived_passengers[survived_passengers['Age'].notna()]\n",
    "print(\"나이 정보가 있는 생존자 수:\", len(survived_with_age))\n"
   ]
  },
  {
   "cell_type": "code",
   "execution_count": 61,
   "id": "93ccbded-0f11-403e-96c3-3e82c3cbd5f0",
   "metadata": {},
   "outputs": [
    {
     "data": {
      "text/plain": [
       "28.343689655172415"
      ]
     },
     "execution_count": 61,
     "metadata": {},
     "output_type": "execute_result"
    }
   ],
   "source": [
    "survived_with_age['Age'].mean()"
   ]
  },
  {
   "cell_type": "code",
   "execution_count": 59,
   "id": "76c2c235-6242-4125-84e9-9c8d29d9dc99",
   "metadata": {},
   "outputs": [
    {
     "name": "stdout",
     "output_type": "stream",
     "text": [
      "클래스별 평균 나이:\n",
      "Pclass\n",
      "1    35.368197\n",
      "2    25.901566\n",
      "3    20.646118\n",
      "Name: Age, dtype: float64\n"
     ]
    }
   ],
   "source": [
    "# 3단계: 클래스별 그룹화 후 나이 평균 계산\n",
    "class_age_mean = survived_with_age.groupby('Pclass')['Age'].mean()\n",
    "print(\"클래스별 평균 나이:\")\n",
    "print(class_age_mean)"
   ]
  },
  {
   "cell_type": "code",
   "execution_count": 63,
   "id": "cccb0f26-1773-4b90-be42-fb0c9c7b3938",
   "metadata": {},
   "outputs": [
    {
     "name": "stdout",
     "output_type": "stream",
     "text": [
      "{1: 35.37, 2: 25.9, 3: 20.65}\n"
     ]
    }
   ],
   "source": [
    "\n",
    "# 문제 1 정답\n",
    "result = df[(df['Survived'] == 1) & (df['Age'].notna())].groupby('Pclass')['Age'].mean().round(2).to_dict()\n",
    "print(result)"
   ]
  },
  {
   "cell_type": "markdown",
   "id": "69adc334-1d06-4ac8-a42e-c6fcc27b8619",
   "metadata": {},
   "source": [
    "## 작업형 1 연습 - 문제 2\n",
    "🎯 문제 2: 결측치 처리 + 조건부 집계\n",
    "문제\n",
    "나이(Age) 컬럼의 결측치를 성별(Gender)별 중앙값으로 채운 후, 각 성별에서 요금(Fare)이 가장 비싼 승객의 나이를 구하세요.\n",
    "조건:\n",
    "\n",
    "나이 결측치를 성별별 중앙값으로 대체\n",
    "성별별로 요금이 최대인 승객 찾기\n",
    "해당 승객들의 나이를 정수로 반환\n",
    "결과를 딕셔너리 형태로 출력: {'female': 나이, 'male': 나이}\n",
    "\n",
    "힌트\n",
    "\n",
    "성별별 나이 중앙값 계산\n",
    "결측치 대체\n",
    "성별별 요금 최대값 찾기\n",
    "최대 요금 승객의 나이 추출"
   ]
  },
  {
   "cell_type": "code",
   "execution_count": 66,
   "id": "779d3f93-1a82-4cfe-be28-5343f76ad795",
   "metadata": {},
   "outputs": [
    {
     "name": "stdout",
     "output_type": "stream",
     "text": [
      "<class 'pandas.core.frame.DataFrame'>\n",
      "RangeIndex: 891 entries, 0 to 890\n",
      "Data columns (total 12 columns):\n",
      " #   Column       Non-Null Count  Dtype  \n",
      "---  ------       --------------  -----  \n",
      " 0   PassengerId  891 non-null    int64  \n",
      " 1   Survived     891 non-null    int64  \n",
      " 2   Pclass       891 non-null    int64  \n",
      " 3   Name         891 non-null    object \n",
      " 4   Gender       891 non-null    object \n",
      " 5   Age          714 non-null    float64\n",
      " 6   SibSp        891 non-null    int64  \n",
      " 7   Parch        891 non-null    int64  \n",
      " 8   Ticket       891 non-null    object \n",
      " 9   Fare         891 non-null    float64\n",
      " 10  Cabin        204 non-null    object \n",
      " 11  Embarked     889 non-null    object \n",
      "dtypes: float64(2), int64(5), object(5)\n",
      "memory usage: 83.7+ KB\n"
     ]
    }
   ],
   "source": [
    "df.info()"
   ]
  },
  {
   "cell_type": "code",
   "execution_count": 68,
   "id": "943ba2a0-f976-4e15-aac8-b4a3eaf19953",
   "metadata": {},
   "outputs": [
    {
     "data": {
      "text/html": [
       "<div>\n",
       "<style scoped>\n",
       "    .dataframe tbody tr th:only-of-type {\n",
       "        vertical-align: middle;\n",
       "    }\n",
       "\n",
       "    .dataframe tbody tr th {\n",
       "        vertical-align: top;\n",
       "    }\n",
       "\n",
       "    .dataframe thead th {\n",
       "        text-align: right;\n",
       "    }\n",
       "</style>\n",
       "<table border=\"1\" class=\"dataframe\">\n",
       "  <thead>\n",
       "    <tr style=\"text-align: right;\">\n",
       "      <th></th>\n",
       "      <th>PassengerId</th>\n",
       "      <th>Survived</th>\n",
       "      <th>Pclass</th>\n",
       "      <th>Name</th>\n",
       "      <th>Gender</th>\n",
       "      <th>Age</th>\n",
       "      <th>SibSp</th>\n",
       "      <th>Parch</th>\n",
       "      <th>Ticket</th>\n",
       "      <th>Fare</th>\n",
       "      <th>Cabin</th>\n",
       "      <th>Embarked</th>\n",
       "    </tr>\n",
       "  </thead>\n",
       "  <tbody>\n",
       "    <tr>\n",
       "      <th>0</th>\n",
       "      <td>1</td>\n",
       "      <td>0</td>\n",
       "      <td>3</td>\n",
       "      <td>Braund, Mr. Owen Harris</td>\n",
       "      <td>male</td>\n",
       "      <td>22.0</td>\n",
       "      <td>1</td>\n",
       "      <td>0</td>\n",
       "      <td>A/5 21171</td>\n",
       "      <td>7.2500</td>\n",
       "      <td>NaN</td>\n",
       "      <td>S</td>\n",
       "    </tr>\n",
       "    <tr>\n",
       "      <th>1</th>\n",
       "      <td>2</td>\n",
       "      <td>1</td>\n",
       "      <td>1</td>\n",
       "      <td>Cumings, Mrs. John Bradley (Florence Briggs Th...</td>\n",
       "      <td>female</td>\n",
       "      <td>38.0</td>\n",
       "      <td>1</td>\n",
       "      <td>0</td>\n",
       "      <td>PC 17599</td>\n",
       "      <td>71.2833</td>\n",
       "      <td>C85</td>\n",
       "      <td>C</td>\n",
       "    </tr>\n",
       "  </tbody>\n",
       "</table>\n",
       "</div>"
      ],
      "text/plain": [
       "   PassengerId  Survived  Pclass  \\\n",
       "0            1         0       3   \n",
       "1            2         1       1   \n",
       "\n",
       "                                                Name  Gender   Age  SibSp  \\\n",
       "0                            Braund, Mr. Owen Harris    male  22.0      1   \n",
       "1  Cumings, Mrs. John Bradley (Florence Briggs Th...  female  38.0      1   \n",
       "\n",
       "   Parch     Ticket     Fare Cabin Embarked  \n",
       "0      0  A/5 21171   7.2500   NaN        S  \n",
       "1      0   PC 17599  71.2833   C85        C  "
      ]
     },
     "execution_count": 68,
     "metadata": {},
     "output_type": "execute_result"
    }
   ],
   "source": [
    "df.head(2)"
   ]
  },
  {
   "cell_type": "markdown",
   "id": "3786837b-b402-4219-b3bc-3781a99e5b37",
   "metadata": {},
   "source": [
    "## 나이 결측치를 성별별 중앙값으로 대체"
   ]
  },
  {
   "cell_type": "code",
   "execution_count": 106,
   "id": "34b45230-1d3c-4ae3-bc97-1f77e8fedd8d",
   "metadata": {},
   "outputs": [
    {
     "name": "stderr",
     "output_type": "stream",
     "text": [
      "C:\\Users\\pjjeo\\AppData\\Local\\Temp\\ipykernel_70760\\3103380174.py:4: SettingWithCopyWarning: \n",
      "A value is trying to be set on a copy of a slice from a DataFrame.\n",
      "Try using .loc[row_indexer,col_indexer] = value instead\n",
      "\n",
      "See the caveats in the documentation: https://pandas.pydata.org/pandas-docs/stable/user_guide/indexing.html#returning-a-view-versus-a-copy\n",
      "  df[df['Gender']=='male']['Age']= df[df['Gender']=='male']['Age'].fillna(m_med)\n"
     ]
    }
   ],
   "source": [
    "# df['Gender'].isnull().sum()\n",
    "m_med=df[df['Gender']=='male']['Age'].median()\n",
    "f_med=df[df['Gender']=='female']['Age'].median()\n",
    "df[df['Gender']=='male']['Age'].fillna(m_med, inplace=True)"
   ]
  },
  {
   "cell_type": "code",
   "execution_count": 108,
   "id": "2b01cdfb-7ba3-4c9b-b1a5-bd2323854622",
   "metadata": {},
   "outputs": [
    {
     "data": {
      "text/plain": [
       "124"
      ]
     },
     "execution_count": 108,
     "metadata": {},
     "output_type": "execute_result"
    }
   ],
   "source": [
    "df[df['Gender']=='male']['Age'].isnull().sum()"
   ]
  },
  {
   "cell_type": "code",
   "execution_count": 114,
   "id": "72a122e6-91b9-4a16-b37a-b4aa9e4df672",
   "metadata": {},
   "outputs": [],
   "source": [
    "# 방법 1: loc 사용 (가장 안전)\n",
    "df.loc[df['Gender']=='male', 'Age'] = df.loc[df['Gender']=='male', 'Age'].fillna(m_med)\n",
    "df.loc[df['Gender']=='female', 'Age'] = df.loc[df['Gender']=='female', 'Age'].fillna(f_med)"
   ]
  },
  {
   "cell_type": "markdown",
   "id": "3ec0156d-abd0-44ef-80e5-9b1e787811cf",
   "metadata": {},
   "source": [
    "### 성별별로 요금이 최대인 승객 찾기"
   ]
  },
  {
   "cell_type": "code",
   "execution_count": 141,
   "id": "5a2dae81-174f-4bd5-9f5c-172786f9a9cb",
   "metadata": {},
   "outputs": [],
   "source": [
    "m_max_fare=df.loc[df['Gender']=='male','Fare'].max()"
   ]
  },
  {
   "cell_type": "code",
   "execution_count": 143,
   "id": "76410f85-a610-4a5e-b88c-daec2ba0e732",
   "metadata": {},
   "outputs": [],
   "source": [
    "f_max_fare=df.loc[df['Gender']=='female','Fare'].max()"
   ]
  },
  {
   "cell_type": "code",
   "execution_count": 145,
   "id": "7fc39d36-9afc-43a6-a7d3-5807d784ab2e",
   "metadata": {},
   "outputs": [
    {
     "data": {
      "text/plain": [
       "679    36.0\n",
       "737    35.0\n",
       "Name: Age, dtype: float64"
      ]
     },
     "execution_count": 145,
     "metadata": {},
     "output_type": "execute_result"
    }
   ],
   "source": [
    "df.loc[(df['Gender']=='male') & (df['Fare']==m_max_fare), 'Age']"
   ]
  },
  {
   "cell_type": "code",
   "execution_count": 147,
   "id": "9421a127-1c61-4acf-be5e-ca0934c88f33",
   "metadata": {},
   "outputs": [
    {
     "data": {
      "text/plain": [
       "258    35.0\n",
       "Name: Age, dtype: float64"
      ]
     },
     "execution_count": 147,
     "metadata": {},
     "output_type": "execute_result"
    }
   ],
   "source": [
    "df.loc[(df['Gender']=='female')&(df['Fare']==f_max_fare),'Age']"
   ]
  },
  {
   "cell_type": "code",
   "execution_count": 137,
   "id": "95b605aa-fa7e-4cc1-be47-a9b10007e4ef",
   "metadata": {},
   "outputs": [],
   "source": [
    "max_idx = df.loc[df['Gender']=='male','Fare'].idxmax()\n",
    "age = df.loc[max_idx, 'Age']"
   ]
  },
  {
   "cell_type": "code",
   "execution_count": 139,
   "id": "0982b6a6-2a78-4f27-a9be-2f96b76c61ee",
   "metadata": {},
   "outputs": [
    {
     "name": "stdout",
     "output_type": "stream",
     "text": [
      "36.0\n"
     ]
    }
   ],
   "source": [
    "print(age)"
   ]
  },
  {
   "cell_type": "markdown",
   "id": "73ce4bc4-68d2-4ea2-8dc9-5bb9784c9de8",
   "metadata": {},
   "source": [
    "## 작업형 1 연습 - 문제 3\n",
    "🎯 문제 3: 정렬 + 상위 데이터 추출\n",
    "문제\n",
    "승객을 나이 내림차순으로 정렬한 후, 상위 20명의 평균 요금과 하위 20명의 평균 요금의 차이를 구하세요.\n",
    "조건:\n",
    "\n",
    "나이에 결측치가 있는 승객은 제외\n",
    "나이 내림차순 정렬 (나이 많은 순)\n",
    "상위 20명(나이 많은 20명)의 평균 요금 계산\n",
    "하위 20명(나이 적은 20명)의 평균 요금 계산\n",
    "상위 평균 - 하위 평균의 차이를 소수점 둘째 자리까지 반올림"
   ]
  },
  {
   "cell_type": "code",
   "execution_count": 163,
   "id": "c7fa0a57-8444-4577-8a6d-e30f8b1dff7d",
   "metadata": {},
   "outputs": [],
   "source": [
    "df2=df.copy()"
   ]
  },
  {
   "cell_type": "code",
   "execution_count": 171,
   "id": "7cbdd655-b994-48a2-847a-5a7471528072",
   "metadata": {},
   "outputs": [
    {
     "data": {
      "text/plain": [
       "0"
      ]
     },
     "execution_count": 171,
     "metadata": {},
     "output_type": "execute_result"
    }
   ],
   "source": [
    "df2['Age'].isnull().sum()"
   ]
  },
  {
   "cell_type": "code",
   "execution_count": 185,
   "id": "7cb2e0e0-67d4-4404-b6cf-a8b1aa688bb6",
   "metadata": {},
   "outputs": [
    {
     "data": {
      "text/plain": [
       "nan"
      ]
     },
     "execution_count": 185,
     "metadata": {},
     "output_type": "execute_result"
    }
   ],
   "source": [
    "df2_sorted=df2.sort_values('Age', ascending=False)\n",
    "df2_sorted.loc[0:20,'Fare'].mean()"
   ]
  },
  {
   "cell_type": "code",
   "execution_count": 207,
   "id": "588a81fb-8db6-4528-b5de-5ee21445b48c",
   "metadata": {},
   "outputs": [
    {
     "data": {
      "text/plain": [
       "43.58042"
      ]
     },
     "execution_count": 207,
     "metadata": {},
     "output_type": "execute_result"
    }
   ],
   "source": [
    "df2_sorted.iloc[0:20, 9].mean()"
   ]
  },
  {
   "cell_type": "code",
   "execution_count": 197,
   "id": "26b1ea66-51b0-45ef-9799-cbf9f6bc50ef",
   "metadata": {},
   "outputs": [
    {
     "data": {
      "text/plain": [
       "nan"
      ]
     },
     "execution_count": 197,
     "metadata": {},
     "output_type": "execute_result"
    }
   ],
   "source": [
    "df2_sorted.loc[0:20, 'Fare'].mean()"
   ]
  },
  {
   "cell_type": "code",
   "execution_count": 217,
   "id": "d92c223d-a137-46fe-ac53-5143b981266a",
   "metadata": {},
   "outputs": [
    {
     "name": "stdout",
     "output_type": "stream",
     "text": [
      "6.0\n"
     ]
    }
   ],
   "source": [
    "print(round(df2_sorted.head(20)['Fare'].mean()-df2_sorted.tail(20)['Fare'].mean(),1))"
   ]
  },
  {
   "cell_type": "code",
   "execution_count": 215,
   "id": "0cac30b9-ea66-4c16-8014-86de3a983b0b",
   "metadata": {},
   "outputs": [
    {
     "name": "stdout",
     "output_type": "stream",
     "text": [
      "상위 20명과 하위 20명의 요금 차이: 6.034169999999996\n",
      "최종 답안 (소수점 둘째 자리): 6.03\n",
      "\n",
      "=== 검증 ===\n",
      "상위 20명 나이 범위: 61.0 ~ 80.0세\n",
      "하위 20명 나이 범위: 0.4 ~ 2.0세\n",
      "상위 20명 평균 요금: 43.58\n",
      "하위 20명 평균 요금: 37.55\n",
      "차이: 6.03\n",
      "\n",
      "=== 코드 분석 ===\n",
      "✅ 정렬: sort_values('Age', ascending=False)\n",
      "✅ 상위 추출: head(20)\n",
      "✅ 하위 추출: tail(20)\n",
      "✅ 평균 계산: mean()\n",
      "✅ 차이 계산: 상위 - 하위\n",
      "✅ 한 줄 완성: 매우 효율적!\n"
     ]
    }
   ],
   "source": [
    "\n",
    "# 문제 3 완료된 코드\n",
    "result = df2_sorted.head(20)['Fare'].mean() - df2_sorted.tail(20)['Fare'].mean()\n",
    "print(f\"상위 20명과 하위 20명의 요금 차이: {result}\")\n",
    "\n",
    "# 문제에서 요구한 소수점 둘째 자리 반올림\n",
    "final_answer = round(result, 2)\n",
    "print(f\"최종 답안 (소수점 둘째 자리): {final_answer}\")\n",
    "\n",
    "# === 검증 ===\n",
    "print(\"\\n=== 검증 ===\")\n",
    "top_20 = df2_sorted.head(20)\n",
    "bottom_20 = df2_sorted.tail(20)\n",
    "\n",
    "print(f\"상위 20명 나이 범위: {top_20['Age'].min():.1f} ~ {top_20['Age'].max():.1f}세\")\n",
    "print(f\"하위 20명 나이 범위: {bottom_20['Age'].min():.1f} ~ {bottom_20['Age'].max():.1f}세\")\n",
    "\n",
    "print(f\"상위 20명 평균 요금: {top_20['Fare'].mean():.2f}\")\n",
    "print(f\"하위 20명 평균 요금: {bottom_20['Fare'].mean():.2f}\")\n",
    "print(f\"차이: {final_answer}\")\n",
    "\n",
    "# 🎯 코드 분석\n",
    "print(\"\\n=== 코드 분석 ===\")\n",
    "print(\"✅ 정렬: sort_values('Age', ascending=False)\")\n",
    "print(\"✅ 상위 추출: head(20)\")  \n",
    "print(\"✅ 하위 추출: tail(20)\")\n",
    "print(\"✅ 평균 계산: mean()\")\n",
    "print(\"✅ 차이 계산: 상위 - 하위\")\n",
    "print(\"✅ 한 줄 완성: 매우 효율적!\")"
   ]
  },
  {
   "cell_type": "markdown",
   "id": "52c71910-4457-4718-b629-297e47b2a605",
   "metadata": {},
   "source": [
    "## 작업형 1 연습 - 문제 4\n",
    "🎯 문제 4: 그룹별 결측치 대체 (기출 스타일)\n",
    "- 나이(Age) 컬럼의 결측치를 승객 클래스(Pclass)와 성별(Gender)이 같은 그룹의 평균 나이로 대체한 후, 각 클래스별 평균 나이의 차이를 구하세요.\n",
    "    - 나이 결측치를 Pclass + Gender 조합별 평균으로 대체\n",
    "    - 1등석과 3등석의 평균 나이 차이를 계산\n",
    "    - 소수점 첫째 자리까지 반올림"
   ]
  },
  {
   "cell_type": "code",
   "execution_count": 325,
   "id": "95cd3038-1ef1-48af-b6a5-63105efa4303",
   "metadata": {},
   "outputs": [],
   "source": [
    "df=pd.read_csv(\"data/Titanic.csv\")"
   ]
  },
  {
   "cell_type": "markdown",
   "id": "fb78a541-45af-4fa1-99e4-737e15bfc222",
   "metadata": {},
   "source": [
    "### 답안 축약"
   ]
  },
  {
   "cell_type": "code",
   "execution_count": 374,
   "id": "6b81c54a-d5ab-42d4-b6f2-7f3307c56129",
   "metadata": {},
   "outputs": [
    {
     "data": {
      "text/plain": [
       "13.3"
      ]
     },
     "execution_count": 374,
     "metadata": {},
     "output_type": "execute_result"
    }
   ],
   "source": [
    "#축약 식 답\n",
    "df['Age']=df['Age'].fillna(df.groupby(['Pclass','Gender'])['Age'].transform('mean'))\n",
    "abs(round(df[df['Pclass']==3]['Age'].mean()-df[df['Pclass']==1]['Age'].mean(),1))"
   ]
  },
  {
   "cell_type": "markdown",
   "id": "49ffc980-4d01-45a8-a651-99fe1bf89956",
   "metadata": {},
   "source": [
    "\n",
    "- df.groupby(['Pclass', 'Gender'])['Age'].transform('mean')은 각 (Pclass, Gender) 그룹의 평균 나이로 해당 그룹의 모든 행의 'Age' 값을 대체한 Series를 반환해.\n",
    "- 원래의 인덱스와 길이를 유지하면서 그룹 평균을 각 행에 할당하지.\n",
    "- 그럼 그걸 전체 인덱스에 fillna 에 사용할 수 있어.\n",
    "- groupby(...).transform('mean') → 그룹 평균을 전체 인덱스 기준으로 확장\n",
    "- fillna(...) → 그 그룹 평균으로 결측치만 채움\n",
    "- groupby + transform + fillna는 세트처럼 외워도 돼."
   ]
  },
  {
   "cell_type": "code",
   "execution_count": 372,
   "id": "d170dc8a-e678-4bf7-8238-92f75335b415",
   "metadata": {},
   "outputs": [],
   "source": [
    "df=pd.read_csv(\"data/Titanic.csv\")"
   ]
  },
  {
   "cell_type": "code",
   "execution_count": 327,
   "id": "42b11db5-9e79-4fa5-856c-3a5dd91685ac",
   "metadata": {},
   "outputs": [],
   "source": [
    "df1=df.copy()\n",
    "df2=df.copy()"
   ]
  },
  {
   "cell_type": "markdown",
   "id": "f9983f1b-416e-46b9-aebe-c1781d0022cb",
   "metadata": {},
   "source": [
    "### 1번 방법. transform 으로 결측치를 그룹별로 채우기"
   ]
  },
  {
   "cell_type": "code",
   "execution_count": 329,
   "id": "6ce0927e-17cd-42e3-8035-822bdfbac955",
   "metadata": {},
   "outputs": [
    {
     "data": {
      "text/plain": [
       "177"
      ]
     },
     "execution_count": 329,
     "metadata": {},
     "output_type": "execute_result"
    }
   ],
   "source": [
    "df1['Age'].isnull().sum()"
   ]
  },
  {
   "cell_type": "code",
   "execution_count": 331,
   "id": "dcf05136-c0eb-4874-9cfe-b8a12a076bf8",
   "metadata": {},
   "outputs": [],
   "source": [
    "group=df1.groupby(['Pclass','Gender'])"
   ]
  },
  {
   "cell_type": "code",
   "execution_count": 333,
   "id": "d9dd917d-f01c-4d3b-98c6-a8cd9802d283",
   "metadata": {},
   "outputs": [],
   "source": [
    "grouped_mean=group['Age'].transform('mean')"
   ]
  },
  {
   "cell_type": "code",
   "execution_count": 335,
   "id": "255868c2-0758-4a05-9e95-ba13a7f77034",
   "metadata": {},
   "outputs": [],
   "source": [
    "df1['Age']=df1['Age'].fillna(grouped_mean)"
   ]
  },
  {
   "cell_type": "code",
   "execution_count": 337,
   "id": "4a2e1490-f279-4f87-9385-023c21e5aeab",
   "metadata": {},
   "outputs": [
    {
     "data": {
      "text/plain": [
       "0"
      ]
     },
     "execution_count": 337,
     "metadata": {},
     "output_type": "execute_result"
    }
   ],
   "source": [
    "df1['Age'].isnull().sum()"
   ]
  },
  {
   "cell_type": "markdown",
   "id": "e8ecd91d-9999-4a34-8714-1e3bf3112df0",
   "metadata": {},
   "source": [
    "### 1등석과 3등석의 평균 나이 차이를 계산 소수점 첫째 자리까지 반올림"
   ]
  },
  {
   "cell_type": "code",
   "execution_count": 357,
   "id": "f05a798f-a22f-4592-b7ca-d1670dcb4149",
   "metadata": {},
   "outputs": [
    {
     "data": {
      "text/plain": [
       "13.3"
      ]
     },
     "execution_count": 357,
     "metadata": {},
     "output_type": "execute_result"
    }
   ],
   "source": [
    "abs(round(df1[df1['Pclass']==3]['Age'].mean()-df1[df1['Pclass']==1]['Age'].mean(),1))"
   ]
  },
  {
   "cell_type": "code",
   "execution_count": null,
   "id": "291626cf-f638-4080-949e-c71c4589872e",
   "metadata": {},
   "outputs": [],
   "source": []
  },
  {
   "cell_type": "code",
   "execution_count": null,
   "id": "951c54de-94e6-4e29-bec3-70b78cbaf493",
   "metadata": {},
   "outputs": [],
   "source": []
  },
  {
   "cell_type": "markdown",
   "id": "fc40120d-f6ca-4aba-baf2-32f444a0901e",
   "metadata": {},
   "source": [
    "### 2번 방법: 직접 할당. 어려움"
   ]
  },
  {
   "cell_type": "code",
   "execution_count": 343,
   "id": "3f887c80-2674-4c3d-877d-7ab0f919059a",
   "metadata": {},
   "outputs": [
    {
     "data": {
      "text/plain": [
       "Pclass  Gender\n",
       "1       female    34.611765\n",
       "        male      41.281386\n",
       "2       female    28.722973\n",
       "        male      30.740707\n",
       "3       female    21.750000\n",
       "        male      26.507589\n",
       "Name: Age, dtype: float64"
      ]
     },
     "execution_count": 343,
     "metadata": {},
     "output_type": "execute_result"
    }
   ],
   "source": [
    "df2.groupby(['Pclass','Gender'])['Age'].mean()"
   ]
  },
  {
   "cell_type": "code",
   "execution_count": 347,
   "id": "35e0d5ec-6138-4533-8c3b-faba9686078f",
   "metadata": {},
   "outputs": [
    {
     "data": {
      "text/plain": [
       "1      38.000000\n",
       "3      35.000000\n",
       "11     58.000000\n",
       "31     34.611765\n",
       "52     49.000000\n",
       "         ...    \n",
       "856    45.000000\n",
       "862    48.000000\n",
       "871    47.000000\n",
       "879    56.000000\n",
       "887    19.000000\n",
       "Name: Age, Length: 94, dtype: float64"
      ]
     },
     "execution_count": 347,
     "metadata": {},
     "output_type": "execute_result"
    }
   ],
   "source": [
    "df2[(df2['Pclass']==1)&(df2['Gender']=='female')]['Age'].fillna(34.611765)"
   ]
  },
  {
   "cell_type": "code",
   "execution_count": 264,
   "id": "c6a3b09a-f53a-4d0a-b8bc-a8631ed08917",
   "metadata": {},
   "outputs": [
    {
     "name": "stdout",
     "output_type": "stream",
     "text": [
      "\n",
      "=== 방법 1: transform() 사용 ===\n",
      "대체 후 결측치 수: 0\n",
      "\n",
      "=== 방법 2: 그룹별 평균 미리 계산 ===\n"
     ]
    }
   ],
   "source": [
    "df_copy=df.copy()\n",
    "# === 방법 1: transform() 사용 (가장 깔끔) ===\n",
    "print(\"\\n=== 방법 1: transform() 사용 ===\")\n",
    "df_copy['Age'] = df_copy['Age'].fillna(\n",
    "    df_copy.groupby(['Pclass', 'Gender'])['Age'].transform('mean')\n",
    ")\n",
    "print(f\"대체 후 결측치 수: {df_copy['Age'].isnull().sum()}\")\n",
    "\n",
    "# === 방법 2: 그룹별 평균 미리 계산 ===\n",
    "print(\"\\n=== 방법 2: 그룹별 평균 미리 계산 ===\")"
   ]
  },
  {
   "cell_type": "code",
   "execution_count": 260,
   "id": "3d297355-7397-4fd2-a33f-ffbaa5ba84dc",
   "metadata": {},
   "outputs": [],
   "source": [
    "df_copy['Age'] = df_copy['Age'].fillna(\n",
    "    df_copy.groupby(['Pclass', 'Gender'])['Age'].transform('mean')\n",
    ")"
   ]
  },
  {
   "cell_type": "code",
   "execution_count": 269,
   "id": "47d94753-28ad-4aae-a441-1c77c5ad4a08",
   "metadata": {},
   "outputs": [
    {
     "data": {
      "text/plain": [
       "Pclass  Gender\n",
       "1       female    34.611765\n",
       "        male      41.281386\n",
       "2       female    28.722973\n",
       "        male      30.740707\n",
       "3       female    21.750000\n",
       "        male      26.507589\n",
       "Name: Age, dtype: float64"
      ]
     },
     "execution_count": 269,
     "metadata": {},
     "output_type": "execute_result"
    }
   ],
   "source": [
    "group['Age'].mean()"
   ]
  },
  {
   "cell_type": "code",
   "execution_count": 285,
   "id": "b62dd6b6-8579-451f-a829-d7397a9ea75f",
   "metadata": {},
   "outputs": [],
   "source": [
    "group_mean=df.groupby(['Pclass', 'Gender'])['Age'].transform('mean')"
   ]
  },
  {
   "cell_type": "code",
   "execution_count": 281,
   "id": "d59eecd4-c916-4989-a0c5-c0cb8597bec8",
   "metadata": {},
   "outputs": [
    {
     "data": {
      "text/plain": [
       "Pclass  Gender\n",
       "1       female    34.611765\n",
       "        male      41.281386\n",
       "2       female    28.722973\n",
       "        male      30.740707\n",
       "3       female    21.750000\n",
       "        male      26.507589\n",
       "Name: Age, dtype: float64"
      ]
     },
     "execution_count": 281,
     "metadata": {},
     "output_type": "execute_result"
    }
   ],
   "source": [
    "df.groupby(['Pclass','Gender'])['Age'].mean()"
   ]
  },
  {
   "cell_type": "code",
   "execution_count": 289,
   "id": "c32246d4-c593-4187-a19f-bd72125914f7",
   "metadata": {},
   "outputs": [],
   "source": [
    "df['Age'] = df['Age'].fillna(group_mean)"
   ]
  },
  {
   "cell_type": "markdown",
   "id": "bccd345b-5cd1-48a5-95d9-6c29a0df8a6d",
   "metadata": {},
   "source": [
    "### 작업형 1 연습 - 문제 5\n",
    "- 문제 5: 시계열 데이터 처리\n",
    "- 승객 ID(PassengerId)를 날짜 형태로 변환하여, 홀수 달에 해당하는 승객들의 평균 요금을 구하세요.\n",
    "\n",
    "    - PassengerId를 문자열로 변환 후 날짜 형식으로 변환: 2023-01-{PassengerId}\n",
    "    - 월(month) 추출하여 홀수 달 필터링 (1,3,5,7,9,11월)\n",
    "    - 홀수 달 승객들의 평균 요금 계산\n",
    "    - 소수점 둘째 자리까지 반올림\n",
    "\n",
    "힌트\n",
    "\n",
    "pd.to_datetime() 사용\n",
    ".dt.month 로 월 추출\n",
    "% 2 == 1 로 홀수 판별"
   ]
  },
  {
   "cell_type": "code",
   "execution_count": 379,
   "id": "83b9a930-b192-4355-9747-07bec43e6205",
   "metadata": {},
   "outputs": [],
   "source": [
    "df=pd.read_csv(\"data/Titanic.csv\")"
   ]
  },
  {
   "cell_type": "code",
   "execution_count": 381,
   "id": "c4ac4352-5036-46b3-b8ae-fc0d6b5ec62c",
   "metadata": {},
   "outputs": [
    {
     "name": "stdout",
     "output_type": "stream",
     "text": [
      "<class 'pandas.core.frame.DataFrame'>\n",
      "RangeIndex: 891 entries, 0 to 890\n",
      "Data columns (total 12 columns):\n",
      " #   Column       Non-Null Count  Dtype  \n",
      "---  ------       --------------  -----  \n",
      " 0   PassengerId  891 non-null    int64  \n",
      " 1   Survived     891 non-null    int64  \n",
      " 2   Pclass       891 non-null    int64  \n",
      " 3   Name         891 non-null    object \n",
      " 4   Gender       891 non-null    object \n",
      " 5   Age          714 non-null    float64\n",
      " 6   SibSp        891 non-null    int64  \n",
      " 7   Parch        891 non-null    int64  \n",
      " 8   Ticket       891 non-null    object \n",
      " 9   Fare         891 non-null    float64\n",
      " 10  Cabin        204 non-null    object \n",
      " 11  Embarked     889 non-null    object \n",
      "dtypes: float64(2), int64(5), object(5)\n",
      "memory usage: 83.7+ KB\n"
     ]
    }
   ],
   "source": [
    "df.info()"
   ]
  },
  {
   "cell_type": "code",
   "execution_count": 385,
   "id": "f57ec232-4886-4322-b281-884d77b48646",
   "metadata": {},
   "outputs": [
    {
     "data": {
      "text/html": [
       "<div>\n",
       "<style scoped>\n",
       "    .dataframe tbody tr th:only-of-type {\n",
       "        vertical-align: middle;\n",
       "    }\n",
       "\n",
       "    .dataframe tbody tr th {\n",
       "        vertical-align: top;\n",
       "    }\n",
       "\n",
       "    .dataframe thead th {\n",
       "        text-align: right;\n",
       "    }\n",
       "</style>\n",
       "<table border=\"1\" class=\"dataframe\">\n",
       "  <thead>\n",
       "    <tr style=\"text-align: right;\">\n",
       "      <th></th>\n",
       "      <th>PassengerId</th>\n",
       "      <th>Survived</th>\n",
       "      <th>Pclass</th>\n",
       "      <th>Name</th>\n",
       "      <th>Gender</th>\n",
       "      <th>Age</th>\n",
       "      <th>SibSp</th>\n",
       "      <th>Parch</th>\n",
       "      <th>Ticket</th>\n",
       "      <th>Fare</th>\n",
       "      <th>Cabin</th>\n",
       "      <th>Embarked</th>\n",
       "    </tr>\n",
       "  </thead>\n",
       "  <tbody>\n",
       "    <tr>\n",
       "      <th>0</th>\n",
       "      <td>1</td>\n",
       "      <td>0</td>\n",
       "      <td>3</td>\n",
       "      <td>Braund, Mr. Owen Harris</td>\n",
       "      <td>male</td>\n",
       "      <td>22.0</td>\n",
       "      <td>1</td>\n",
       "      <td>0</td>\n",
       "      <td>A/5 21171</td>\n",
       "      <td>7.2500</td>\n",
       "      <td>NaN</td>\n",
       "      <td>S</td>\n",
       "    </tr>\n",
       "    <tr>\n",
       "      <th>1</th>\n",
       "      <td>2</td>\n",
       "      <td>1</td>\n",
       "      <td>1</td>\n",
       "      <td>Cumings, Mrs. John Bradley (Florence Briggs Th...</td>\n",
       "      <td>female</td>\n",
       "      <td>38.0</td>\n",
       "      <td>1</td>\n",
       "      <td>0</td>\n",
       "      <td>PC 17599</td>\n",
       "      <td>71.2833</td>\n",
       "      <td>C85</td>\n",
       "      <td>C</td>\n",
       "    </tr>\n",
       "    <tr>\n",
       "      <th>2</th>\n",
       "      <td>3</td>\n",
       "      <td>1</td>\n",
       "      <td>3</td>\n",
       "      <td>Heikkinen, Miss. Laina</td>\n",
       "      <td>female</td>\n",
       "      <td>26.0</td>\n",
       "      <td>0</td>\n",
       "      <td>0</td>\n",
       "      <td>STON/O2. 3101282</td>\n",
       "      <td>7.9250</td>\n",
       "      <td>NaN</td>\n",
       "      <td>S</td>\n",
       "    </tr>\n",
       "    <tr>\n",
       "      <th>3</th>\n",
       "      <td>4</td>\n",
       "      <td>1</td>\n",
       "      <td>1</td>\n",
       "      <td>Futrelle, Mrs. Jacques Heath (Lily May Peel)</td>\n",
       "      <td>female</td>\n",
       "      <td>35.0</td>\n",
       "      <td>1</td>\n",
       "      <td>0</td>\n",
       "      <td>113803</td>\n",
       "      <td>53.1000</td>\n",
       "      <td>C123</td>\n",
       "      <td>S</td>\n",
       "    </tr>\n",
       "    <tr>\n",
       "      <th>4</th>\n",
       "      <td>5</td>\n",
       "      <td>0</td>\n",
       "      <td>3</td>\n",
       "      <td>Allen, Mr. William Henry</td>\n",
       "      <td>male</td>\n",
       "      <td>35.0</td>\n",
       "      <td>0</td>\n",
       "      <td>0</td>\n",
       "      <td>373450</td>\n",
       "      <td>8.0500</td>\n",
       "      <td>NaN</td>\n",
       "      <td>S</td>\n",
       "    </tr>\n",
       "  </tbody>\n",
       "</table>\n",
       "</div>"
      ],
      "text/plain": [
       "   PassengerId  Survived  Pclass  \\\n",
       "0            1         0       3   \n",
       "1            2         1       1   \n",
       "2            3         1       3   \n",
       "3            4         1       1   \n",
       "4            5         0       3   \n",
       "\n",
       "                                                Name  Gender   Age  SibSp  \\\n",
       "0                            Braund, Mr. Owen Harris    male  22.0      1   \n",
       "1  Cumings, Mrs. John Bradley (Florence Briggs Th...  female  38.0      1   \n",
       "2                             Heikkinen, Miss. Laina  female  26.0      0   \n",
       "3       Futrelle, Mrs. Jacques Heath (Lily May Peel)  female  35.0      1   \n",
       "4                           Allen, Mr. William Henry    male  35.0      0   \n",
       "\n",
       "   Parch            Ticket     Fare Cabin Embarked  \n",
       "0      0         A/5 21171   7.2500   NaN        S  \n",
       "1      0          PC 17599  71.2833   C85        C  \n",
       "2      0  STON/O2. 3101282   7.9250   NaN        S  \n",
       "3      0            113803  53.1000  C123        S  \n",
       "4      0            373450   8.0500   NaN        S  "
      ]
     },
     "execution_count": 385,
     "metadata": {},
     "output_type": "execute_result"
    }
   ],
   "source": [
    "df.head(5)"
   ]
  },
  {
   "cell_type": "code",
   "execution_count": null,
   "id": "5fd47c98-a51e-43ac-aff6-6549cfba585e",
   "metadata": {},
   "outputs": [],
   "source": []
  }
 ],
 "metadata": {
  "kernelspec": {
   "display_name": "Python [conda env:base] *",
   "language": "python",
   "name": "conda-base-py"
  },
  "language_info": {
   "codemirror_mode": {
    "name": "ipython",
    "version": 3
   },
   "file_extension": ".py",
   "mimetype": "text/x-python",
   "name": "python",
   "nbconvert_exporter": "python",
   "pygments_lexer": "ipython3",
   "version": "3.12.3"
  }
 },
 "nbformat": 4,
 "nbformat_minor": 5
}
