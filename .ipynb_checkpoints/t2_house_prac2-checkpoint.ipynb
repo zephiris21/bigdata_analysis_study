{
 "cells": [
  {
   "cell_type": "code",
   "execution_count": 171,
   "id": "ed21805d-2d49-40c7-9055-3e80f9a634eb",
   "metadata": {},
   "outputs": [
    {
     "data": {
      "text/plain": [
       "((1168, 79), (292, 79), (1168, 2), (292, 2))"
      ]
     },
     "execution_count": 171,
     "metadata": {},
     "output_type": "execute_result"
    }
   ],
   "source": [
    "# 시험환경 세팅 (코드 변경 X)\n",
    "import pandas as pd\n",
    "import numpy as np\n",
    "from sklearn.model_selection import train_test_split\n",
    "\n",
    "def exam_data_load(df, target, id_name=\"\", null_name=\"\"):\n",
    "    if id_name == \"\":\n",
    "        df = df.reset_index().rename(columns={\"index\": \"id\"})\n",
    "        id_name = 'id'\n",
    "    else:\n",
    "        id_name = id_name\n",
    "    \n",
    "    if null_name != \"\":\n",
    "        df[df == null_name] = np.nan\n",
    "    \n",
    "    X_train, X_test = train_test_split(df, test_size=0.2, shuffle=True, random_state=2021)\n",
    "    y_train = X_train[[id_name, target]]\n",
    "    X_train = X_train.drop(columns=[id_name, target])\n",
    "    y_test = X_test[[id_name, target]]\n",
    "    X_test = X_test.drop(columns=[id_name, target])\n",
    "    return X_train, X_test, y_train, y_test \n",
    "    \n",
    "df = pd.read_csv(\"data/house/train.csv\")\n",
    "X_train, X_test, y_train, y_test = exam_data_load(df, target='SalePrice', id_name='Id')\n",
    "\n",
    "X_train.shape, X_test.shape, y_train.shape, y_test.shape"
   ]
  },
  {
   "cell_type": "markdown",
   "id": "78a8d233-4c60-49b8-9aea-0acc8dea1285",
   "metadata": {},
   "source": [
    "## 데이터 분석"
   ]
  },
  {
   "cell_type": "code",
   "execution_count": 173,
   "id": "4add873e-98fe-4feb-905a-d6fa933e7fa9",
   "metadata": {},
   "outputs": [
    {
     "data": {
      "text/html": [
       "<div>\n",
       "<style scoped>\n",
       "    .dataframe tbody tr th:only-of-type {\n",
       "        vertical-align: middle;\n",
       "    }\n",
       "\n",
       "    .dataframe tbody tr th {\n",
       "        vertical-align: top;\n",
       "    }\n",
       "\n",
       "    .dataframe thead th {\n",
       "        text-align: right;\n",
       "    }\n",
       "</style>\n",
       "<table border=\"1\" class=\"dataframe\">\n",
       "  <thead>\n",
       "    <tr style=\"text-align: right;\">\n",
       "      <th></th>\n",
       "      <th>MSSubClass</th>\n",
       "      <th>MSZoning</th>\n",
       "      <th>LotFrontage</th>\n",
       "      <th>LotArea</th>\n",
       "      <th>Street</th>\n",
       "      <th>Alley</th>\n",
       "      <th>LotShape</th>\n",
       "      <th>LandContour</th>\n",
       "      <th>Utilities</th>\n",
       "      <th>LotConfig</th>\n",
       "      <th>...</th>\n",
       "      <th>ScreenPorch</th>\n",
       "      <th>PoolArea</th>\n",
       "      <th>PoolQC</th>\n",
       "      <th>Fence</th>\n",
       "      <th>MiscFeature</th>\n",
       "      <th>MiscVal</th>\n",
       "      <th>MoSold</th>\n",
       "      <th>YrSold</th>\n",
       "      <th>SaleType</th>\n",
       "      <th>SaleCondition</th>\n",
       "    </tr>\n",
       "  </thead>\n",
       "  <tbody>\n",
       "    <tr>\n",
       "      <th>81</th>\n",
       "      <td>120</td>\n",
       "      <td>RM</td>\n",
       "      <td>32.0</td>\n",
       "      <td>4500</td>\n",
       "      <td>Pave</td>\n",
       "      <td>NaN</td>\n",
       "      <td>Reg</td>\n",
       "      <td>Lvl</td>\n",
       "      <td>AllPub</td>\n",
       "      <td>FR2</td>\n",
       "      <td>...</td>\n",
       "      <td>0</td>\n",
       "      <td>0</td>\n",
       "      <td>NaN</td>\n",
       "      <td>NaN</td>\n",
       "      <td>NaN</td>\n",
       "      <td>0</td>\n",
       "      <td>3</td>\n",
       "      <td>2006</td>\n",
       "      <td>WD</td>\n",
       "      <td>Normal</td>\n",
       "    </tr>\n",
       "    <tr>\n",
       "      <th>1418</th>\n",
       "      <td>20</td>\n",
       "      <td>RL</td>\n",
       "      <td>71.0</td>\n",
       "      <td>9204</td>\n",
       "      <td>Pave</td>\n",
       "      <td>NaN</td>\n",
       "      <td>Reg</td>\n",
       "      <td>Lvl</td>\n",
       "      <td>AllPub</td>\n",
       "      <td>Inside</td>\n",
       "      <td>...</td>\n",
       "      <td>0</td>\n",
       "      <td>0</td>\n",
       "      <td>NaN</td>\n",
       "      <td>NaN</td>\n",
       "      <td>NaN</td>\n",
       "      <td>0</td>\n",
       "      <td>8</td>\n",
       "      <td>2008</td>\n",
       "      <td>COD</td>\n",
       "      <td>Normal</td>\n",
       "    </tr>\n",
       "    <tr>\n",
       "      <th>1212</th>\n",
       "      <td>30</td>\n",
       "      <td>RL</td>\n",
       "      <td>50.0</td>\n",
       "      <td>9340</td>\n",
       "      <td>Pave</td>\n",
       "      <td>NaN</td>\n",
       "      <td>Reg</td>\n",
       "      <td>Lvl</td>\n",
       "      <td>AllPub</td>\n",
       "      <td>Inside</td>\n",
       "      <td>...</td>\n",
       "      <td>0</td>\n",
       "      <td>0</td>\n",
       "      <td>NaN</td>\n",
       "      <td>NaN</td>\n",
       "      <td>NaN</td>\n",
       "      <td>0</td>\n",
       "      <td>8</td>\n",
       "      <td>2009</td>\n",
       "      <td>WD</td>\n",
       "      <td>Normal</td>\n",
       "    </tr>\n",
       "    <tr>\n",
       "      <th>588</th>\n",
       "      <td>20</td>\n",
       "      <td>RL</td>\n",
       "      <td>65.0</td>\n",
       "      <td>25095</td>\n",
       "      <td>Pave</td>\n",
       "      <td>NaN</td>\n",
       "      <td>IR1</td>\n",
       "      <td>Low</td>\n",
       "      <td>AllPub</td>\n",
       "      <td>Inside</td>\n",
       "      <td>...</td>\n",
       "      <td>60</td>\n",
       "      <td>0</td>\n",
       "      <td>NaN</td>\n",
       "      <td>NaN</td>\n",
       "      <td>NaN</td>\n",
       "      <td>0</td>\n",
       "      <td>6</td>\n",
       "      <td>2009</td>\n",
       "      <td>WD</td>\n",
       "      <td>Partial</td>\n",
       "    </tr>\n",
       "    <tr>\n",
       "      <th>251</th>\n",
       "      <td>120</td>\n",
       "      <td>RM</td>\n",
       "      <td>44.0</td>\n",
       "      <td>4750</td>\n",
       "      <td>Pave</td>\n",
       "      <td>NaN</td>\n",
       "      <td>IR1</td>\n",
       "      <td>HLS</td>\n",
       "      <td>AllPub</td>\n",
       "      <td>Inside</td>\n",
       "      <td>...</td>\n",
       "      <td>153</td>\n",
       "      <td>0</td>\n",
       "      <td>NaN</td>\n",
       "      <td>NaN</td>\n",
       "      <td>NaN</td>\n",
       "      <td>0</td>\n",
       "      <td>12</td>\n",
       "      <td>2007</td>\n",
       "      <td>WD</td>\n",
       "      <td>Family</td>\n",
       "    </tr>\n",
       "  </tbody>\n",
       "</table>\n",
       "<p>5 rows × 79 columns</p>\n",
       "</div>"
      ],
      "text/plain": [
       "      MSSubClass MSZoning  LotFrontage  LotArea Street Alley LotShape  \\\n",
       "81           120       RM         32.0     4500   Pave   NaN      Reg   \n",
       "1418          20       RL         71.0     9204   Pave   NaN      Reg   \n",
       "1212          30       RL         50.0     9340   Pave   NaN      Reg   \n",
       "588           20       RL         65.0    25095   Pave   NaN      IR1   \n",
       "251          120       RM         44.0     4750   Pave   NaN      IR1   \n",
       "\n",
       "     LandContour Utilities LotConfig  ... ScreenPorch PoolArea PoolQC Fence  \\\n",
       "81           Lvl    AllPub       FR2  ...           0        0    NaN   NaN   \n",
       "1418         Lvl    AllPub    Inside  ...           0        0    NaN   NaN   \n",
       "1212         Lvl    AllPub    Inside  ...           0        0    NaN   NaN   \n",
       "588          Low    AllPub    Inside  ...          60        0    NaN   NaN   \n",
       "251          HLS    AllPub    Inside  ...         153        0    NaN   NaN   \n",
       "\n",
       "     MiscFeature MiscVal  MoSold  YrSold  SaleType  SaleCondition  \n",
       "81           NaN       0       3    2006        WD         Normal  \n",
       "1418         NaN       0       8    2008       COD         Normal  \n",
       "1212         NaN       0       8    2009        WD         Normal  \n",
       "588          NaN       0       6    2009        WD        Partial  \n",
       "251          NaN       0      12    2007        WD         Family  \n",
       "\n",
       "[5 rows x 79 columns]"
      ]
     },
     "execution_count": 173,
     "metadata": {},
     "output_type": "execute_result"
    }
   ],
   "source": [
    "X_train.head()"
   ]
  },
  {
   "cell_type": "code",
   "execution_count": 175,
   "id": "4c626b7a-9e37-4d9f-9ed6-ca622eff71da",
   "metadata": {},
   "outputs": [
    {
     "data": {
      "text/plain": [
       "((1168, 79), (292, 79))"
      ]
     },
     "execution_count": 175,
     "metadata": {},
     "output_type": "execute_result"
    }
   ],
   "source": [
    "import pandas as pd\n",
    "X_train.shape, X_test.shape"
   ]
  },
  {
   "cell_type": "code",
   "execution_count": 177,
   "id": "efa98bf7-3424-47b4-b1c1-d3790749ef25",
   "metadata": {},
   "outputs": [
    {
     "name": "stdout",
     "output_type": "stream",
     "text": [
      "<class 'pandas.core.frame.DataFrame'>\n",
      "Index: 1168 entries, 81 to 1140\n",
      "Data columns (total 79 columns):\n",
      " #   Column         Non-Null Count  Dtype  \n",
      "---  ------         --------------  -----  \n",
      " 0   MSSubClass     1168 non-null   int64  \n",
      " 1   MSZoning       1168 non-null   object \n",
      " 2   LotFrontage    956 non-null    float64\n",
      " 3   LotArea        1168 non-null   int64  \n",
      " 4   Street         1168 non-null   object \n",
      " 5   Alley          70 non-null     object \n",
      " 6   LotShape       1168 non-null   object \n",
      " 7   LandContour    1168 non-null   object \n",
      " 8   Utilities      1168 non-null   object \n",
      " 9   LotConfig      1168 non-null   object \n",
      " 10  LandSlope      1168 non-null   object \n",
      " 11  Neighborhood   1168 non-null   object \n",
      " 12  Condition1     1168 non-null   object \n",
      " 13  Condition2     1168 non-null   object \n",
      " 14  BldgType       1168 non-null   object \n",
      " 15  HouseStyle     1168 non-null   object \n",
      " 16  OverallQual    1168 non-null   int64  \n",
      " 17  OverallCond    1168 non-null   int64  \n",
      " 18  YearBuilt      1168 non-null   int64  \n",
      " 19  YearRemodAdd   1168 non-null   int64  \n",
      " 20  RoofStyle      1168 non-null   object \n",
      " 21  RoofMatl       1168 non-null   object \n",
      " 22  Exterior1st    1168 non-null   object \n",
      " 23  Exterior2nd    1168 non-null   object \n",
      " 24  MasVnrType     465 non-null    object \n",
      " 25  MasVnrArea     1162 non-null   float64\n",
      " 26  ExterQual      1168 non-null   object \n",
      " 27  ExterCond      1168 non-null   object \n",
      " 28  Foundation     1168 non-null   object \n",
      " 29  BsmtQual       1139 non-null   object \n",
      " 30  BsmtCond       1139 non-null   object \n",
      " 31  BsmtExposure   1138 non-null   object \n",
      " 32  BsmtFinType1   1139 non-null   object \n",
      " 33  BsmtFinSF1     1168 non-null   int64  \n",
      " 34  BsmtFinType2   1139 non-null   object \n",
      " 35  BsmtFinSF2     1168 non-null   int64  \n",
      " 36  BsmtUnfSF      1168 non-null   int64  \n",
      " 37  TotalBsmtSF    1168 non-null   int64  \n",
      " 38  Heating        1168 non-null   object \n",
      " 39  HeatingQC      1168 non-null   object \n",
      " 40  CentralAir     1168 non-null   object \n",
      " 41  Electrical     1167 non-null   object \n",
      " 42  1stFlrSF       1168 non-null   int64  \n",
      " 43  2ndFlrSF       1168 non-null   int64  \n",
      " 44  LowQualFinSF   1168 non-null   int64  \n",
      " 45  GrLivArea      1168 non-null   int64  \n",
      " 46  BsmtFullBath   1168 non-null   int64  \n",
      " 47  BsmtHalfBath   1168 non-null   int64  \n",
      " 48  FullBath       1168 non-null   int64  \n",
      " 49  HalfBath       1168 non-null   int64  \n",
      " 50  BedroomAbvGr   1168 non-null   int64  \n",
      " 51  KitchenAbvGr   1168 non-null   int64  \n",
      " 52  KitchenQual    1168 non-null   object \n",
      " 53  TotRmsAbvGrd   1168 non-null   int64  \n",
      " 54  Functional     1168 non-null   object \n",
      " 55  Fireplaces     1168 non-null   int64  \n",
      " 56  FireplaceQu    615 non-null    object \n",
      " 57  GarageType     1107 non-null   object \n",
      " 58  GarageYrBlt    1107 non-null   float64\n",
      " 59  GarageFinish   1107 non-null   object \n",
      " 60  GarageCars     1168 non-null   int64  \n",
      " 61  GarageArea     1168 non-null   int64  \n",
      " 62  GarageQual     1107 non-null   object \n",
      " 63  GarageCond     1107 non-null   object \n",
      " 64  PavedDrive     1168 non-null   object \n",
      " 65  WoodDeckSF     1168 non-null   int64  \n",
      " 66  OpenPorchSF    1168 non-null   int64  \n",
      " 67  EnclosedPorch  1168 non-null   int64  \n",
      " 68  3SsnPorch      1168 non-null   int64  \n",
      " 69  ScreenPorch    1168 non-null   int64  \n",
      " 70  PoolArea       1168 non-null   int64  \n",
      " 71  PoolQC         5 non-null      object \n",
      " 72  Fence          231 non-null    object \n",
      " 73  MiscFeature    44 non-null     object \n",
      " 74  MiscVal        1168 non-null   int64  \n",
      " 75  MoSold         1168 non-null   int64  \n",
      " 76  YrSold         1168 non-null   int64  \n",
      " 77  SaleType       1168 non-null   object \n",
      " 78  SaleCondition  1168 non-null   object \n",
      "dtypes: float64(3), int64(33), object(43)\n",
      "memory usage: 730.0+ KB\n"
     ]
    }
   ],
   "source": [
    "X_train.info()"
   ]
  },
  {
   "cell_type": "code",
   "execution_count": 179,
   "id": "1e41cb86-1e88-46f0-849a-06c7b284fd4b",
   "metadata": {},
   "outputs": [
    {
     "data": {
      "text/plain": [
       "Alley          1098\n",
       "MiscFeature    1124\n",
       "PoolQC         1163\n",
       "dtype: int64"
      ]
     },
     "execution_count": 179,
     "metadata": {},
     "output_type": "execute_result"
    }
   ],
   "source": [
    "X_train.isnull().sum().sort_values().tail(3)"
   ]
  },
  {
   "cell_type": "markdown",
   "id": "fb75d2ad-06e8-4a91-bd5d-7a9bf4fd2a0d",
   "metadata": {},
   "source": [
    "## 심각한 결측치 제거"
   ]
  },
  {
   "cell_type": "code",
   "execution_count": 182,
   "id": "ff0e2b7f-26b2-46c3-8cb8-56013a3882df",
   "metadata": {},
   "outputs": [],
   "source": [
    "X_train.drop(columns=['PoolQC','MiscFeature','Alley'],inplace=True)\n",
    "X_test.drop(columns=['PoolQC','MiscFeature','Alley'],inplace=True)"
   ]
  },
  {
   "cell_type": "code",
   "execution_count": 184,
   "id": "f4887000-97c7-4da6-9464-dcdca68bfe6c",
   "metadata": {},
   "outputs": [
    {
     "data": {
      "text/plain": [
       "((1168, 76), (292, 76))"
      ]
     },
     "execution_count": 184,
     "metadata": {},
     "output_type": "execute_result"
    }
   ],
   "source": [
    "X_train.shape, X_test.shape"
   ]
  },
  {
   "cell_type": "markdown",
   "id": "8d3b8ac9-65c5-4bbb-9799-e7b13f81eb62",
   "metadata": {},
   "source": [
    "## 결측치 보간"
   ]
  },
  {
   "cell_type": "code",
   "execution_count": 187,
   "id": "50e67ee3-8089-4914-bab8-cbd2706b8f50",
   "metadata": {},
   "outputs": [],
   "source": [
    "num_cols=X_train.select_dtypes(['float64','int64']).columns\n",
    "cat_cols=X_train.select_dtypes(['object']).columns"
   ]
  },
  {
   "cell_type": "code",
   "execution_count": 189,
   "id": "f5af6413-1a03-4e99-9a8a-edeed6a5b153",
   "metadata": {},
   "outputs": [
    {
     "data": {
      "text/html": [
       "<div>\n",
       "<style scoped>\n",
       "    .dataframe tbody tr th:only-of-type {\n",
       "        vertical-align: middle;\n",
       "    }\n",
       "\n",
       "    .dataframe tbody tr th {\n",
       "        vertical-align: top;\n",
       "    }\n",
       "\n",
       "    .dataframe thead th {\n",
       "        text-align: right;\n",
       "    }\n",
       "</style>\n",
       "<table border=\"1\" class=\"dataframe\">\n",
       "  <thead>\n",
       "    <tr style=\"text-align: right;\">\n",
       "      <th></th>\n",
       "      <th>MSSubClass</th>\n",
       "      <th>MSZoning</th>\n",
       "      <th>LotFrontage</th>\n",
       "      <th>LotArea</th>\n",
       "      <th>Street</th>\n",
       "      <th>LotShape</th>\n",
       "      <th>LandContour</th>\n",
       "      <th>Utilities</th>\n",
       "      <th>LotConfig</th>\n",
       "      <th>LandSlope</th>\n",
       "      <th>...</th>\n",
       "      <th>EnclosedPorch</th>\n",
       "      <th>3SsnPorch</th>\n",
       "      <th>ScreenPorch</th>\n",
       "      <th>PoolArea</th>\n",
       "      <th>Fence</th>\n",
       "      <th>MiscVal</th>\n",
       "      <th>MoSold</th>\n",
       "      <th>YrSold</th>\n",
       "      <th>SaleType</th>\n",
       "      <th>SaleCondition</th>\n",
       "    </tr>\n",
       "  </thead>\n",
       "  <tbody>\n",
       "    <tr>\n",
       "      <th>81</th>\n",
       "      <td>120</td>\n",
       "      <td>RM</td>\n",
       "      <td>32.0</td>\n",
       "      <td>4500</td>\n",
       "      <td>Pave</td>\n",
       "      <td>Reg</td>\n",
       "      <td>Lvl</td>\n",
       "      <td>AllPub</td>\n",
       "      <td>FR2</td>\n",
       "      <td>Gtl</td>\n",
       "      <td>...</td>\n",
       "      <td>0</td>\n",
       "      <td>0</td>\n",
       "      <td>0</td>\n",
       "      <td>0</td>\n",
       "      <td>NaN</td>\n",
       "      <td>0</td>\n",
       "      <td>3</td>\n",
       "      <td>2006</td>\n",
       "      <td>WD</td>\n",
       "      <td>Normal</td>\n",
       "    </tr>\n",
       "    <tr>\n",
       "      <th>1418</th>\n",
       "      <td>20</td>\n",
       "      <td>RL</td>\n",
       "      <td>71.0</td>\n",
       "      <td>9204</td>\n",
       "      <td>Pave</td>\n",
       "      <td>Reg</td>\n",
       "      <td>Lvl</td>\n",
       "      <td>AllPub</td>\n",
       "      <td>Inside</td>\n",
       "      <td>Gtl</td>\n",
       "      <td>...</td>\n",
       "      <td>0</td>\n",
       "      <td>0</td>\n",
       "      <td>0</td>\n",
       "      <td>0</td>\n",
       "      <td>NaN</td>\n",
       "      <td>0</td>\n",
       "      <td>8</td>\n",
       "      <td>2008</td>\n",
       "      <td>COD</td>\n",
       "      <td>Normal</td>\n",
       "    </tr>\n",
       "    <tr>\n",
       "      <th>1212</th>\n",
       "      <td>30</td>\n",
       "      <td>RL</td>\n",
       "      <td>50.0</td>\n",
       "      <td>9340</td>\n",
       "      <td>Pave</td>\n",
       "      <td>Reg</td>\n",
       "      <td>Lvl</td>\n",
       "      <td>AllPub</td>\n",
       "      <td>Inside</td>\n",
       "      <td>Gtl</td>\n",
       "      <td>...</td>\n",
       "      <td>0</td>\n",
       "      <td>0</td>\n",
       "      <td>0</td>\n",
       "      <td>0</td>\n",
       "      <td>NaN</td>\n",
       "      <td>0</td>\n",
       "      <td>8</td>\n",
       "      <td>2009</td>\n",
       "      <td>WD</td>\n",
       "      <td>Normal</td>\n",
       "    </tr>\n",
       "    <tr>\n",
       "      <th>588</th>\n",
       "      <td>20</td>\n",
       "      <td>RL</td>\n",
       "      <td>65.0</td>\n",
       "      <td>25095</td>\n",
       "      <td>Pave</td>\n",
       "      <td>IR1</td>\n",
       "      <td>Low</td>\n",
       "      <td>AllPub</td>\n",
       "      <td>Inside</td>\n",
       "      <td>Sev</td>\n",
       "      <td>...</td>\n",
       "      <td>0</td>\n",
       "      <td>0</td>\n",
       "      <td>60</td>\n",
       "      <td>0</td>\n",
       "      <td>NaN</td>\n",
       "      <td>0</td>\n",
       "      <td>6</td>\n",
       "      <td>2009</td>\n",
       "      <td>WD</td>\n",
       "      <td>Partial</td>\n",
       "    </tr>\n",
       "    <tr>\n",
       "      <th>251</th>\n",
       "      <td>120</td>\n",
       "      <td>RM</td>\n",
       "      <td>44.0</td>\n",
       "      <td>4750</td>\n",
       "      <td>Pave</td>\n",
       "      <td>IR1</td>\n",
       "      <td>HLS</td>\n",
       "      <td>AllPub</td>\n",
       "      <td>Inside</td>\n",
       "      <td>Mod</td>\n",
       "      <td>...</td>\n",
       "      <td>0</td>\n",
       "      <td>0</td>\n",
       "      <td>153</td>\n",
       "      <td>0</td>\n",
       "      <td>NaN</td>\n",
       "      <td>0</td>\n",
       "      <td>12</td>\n",
       "      <td>2007</td>\n",
       "      <td>WD</td>\n",
       "      <td>Family</td>\n",
       "    </tr>\n",
       "  </tbody>\n",
       "</table>\n",
       "<p>5 rows × 76 columns</p>\n",
       "</div>"
      ],
      "text/plain": [
       "      MSSubClass MSZoning  LotFrontage  LotArea Street LotShape LandContour  \\\n",
       "81           120       RM         32.0     4500   Pave      Reg         Lvl   \n",
       "1418          20       RL         71.0     9204   Pave      Reg         Lvl   \n",
       "1212          30       RL         50.0     9340   Pave      Reg         Lvl   \n",
       "588           20       RL         65.0    25095   Pave      IR1         Low   \n",
       "251          120       RM         44.0     4750   Pave      IR1         HLS   \n",
       "\n",
       "     Utilities LotConfig LandSlope  ... EnclosedPorch 3SsnPorch ScreenPorch  \\\n",
       "81      AllPub       FR2       Gtl  ...             0         0           0   \n",
       "1418    AllPub    Inside       Gtl  ...             0         0           0   \n",
       "1212    AllPub    Inside       Gtl  ...             0         0           0   \n",
       "588     AllPub    Inside       Sev  ...             0         0          60   \n",
       "251     AllPub    Inside       Mod  ...             0         0         153   \n",
       "\n",
       "     PoolArea Fence  MiscVal  MoSold  YrSold  SaleType SaleCondition  \n",
       "81          0   NaN        0       3    2006        WD        Normal  \n",
       "1418        0   NaN        0       8    2008       COD        Normal  \n",
       "1212        0   NaN        0       8    2009        WD        Normal  \n",
       "588         0   NaN        0       6    2009        WD       Partial  \n",
       "251         0   NaN        0      12    2007        WD        Family  \n",
       "\n",
       "[5 rows x 76 columns]"
      ]
     },
     "execution_count": 189,
     "metadata": {},
     "output_type": "execute_result"
    }
   ],
   "source": [
    "X_train.head()"
   ]
  },
  {
   "cell_type": "code",
   "execution_count": 191,
   "id": "6b0a861a-b058-4c24-a642-866f775e4ffc",
   "metadata": {},
   "outputs": [],
   "source": [
    "for col in num_cols:\n",
    "    X_train[col]=X_train[col].fillna(X_train[col].mean())\n",
    "    X_test[col]=X_test[col].fillna(X_test[col].mean())"
   ]
  },
  {
   "cell_type": "code",
   "execution_count": 193,
   "id": "6a05274b-f056-4270-9f28-0546638d4213",
   "metadata": {},
   "outputs": [
    {
     "data": {
      "text/plain": [
       "(2584, 669)"
      ]
     },
     "execution_count": 193,
     "metadata": {},
     "output_type": "execute_result"
    }
   ],
   "source": [
    "X_train.isnull().sum().sum(), X_test.isnull().sum().sum()"
   ]
  },
  {
   "cell_type": "code",
   "execution_count": 195,
   "id": "ec5fd1d5-ef6b-45c0-ac38-539b50632632",
   "metadata": {},
   "outputs": [],
   "source": [
    "for col in cat_cols:\n",
    "    X_train[col]=X_train[col].fillna(X_train[col].mode()[0])\n",
    "    X_test[col]=X_test[col].fillna(X_test[col].mode()[0])"
   ]
  },
  {
   "cell_type": "code",
   "execution_count": 197,
   "id": "d99d2271-3507-4ef5-a220-286f02239f53",
   "metadata": {},
   "outputs": [
    {
     "data": {
      "text/plain": [
       "(0, 0)"
      ]
     },
     "execution_count": 197,
     "metadata": {},
     "output_type": "execute_result"
    }
   ],
   "source": [
    "X_train.isnull().sum().sum(), X_test.isnull().sum().sum()"
   ]
  },
  {
   "cell_type": "markdown",
   "id": "96deb666-c664-433b-9d44-9872f4f58d86",
   "metadata": {},
   "source": [
    "## 범주형 변수 원핫인코딩"
   ]
  },
  {
   "cell_type": "code",
   "execution_count": 199,
   "id": "8ccf9c5c-d782-46d8-84c5-80e833dca101",
   "metadata": {},
   "outputs": [
    {
     "data": {
      "text/plain": [
       "((1168, 76), (292, 76))"
      ]
     },
     "execution_count": 199,
     "metadata": {},
     "output_type": "execute_result"
    }
   ],
   "source": [
    "X_train.shape, X_test.shape"
   ]
  },
  {
   "cell_type": "code",
   "execution_count": 201,
   "id": "cad4047d-e7c7-403e-940c-ddc169abe257",
   "metadata": {},
   "outputs": [],
   "source": [
    "X_train= pd.get_dummies(X_train)\n",
    "X_test= pd.get_dummies(X_test)"
   ]
  },
  {
   "cell_type": "code",
   "execution_count": 203,
   "id": "84fcbba2-b51c-4115-8d4d-9bc6643b9901",
   "metadata": {},
   "outputs": [
    {
     "data": {
      "text/plain": [
       "((1168, 275), (292, 246))"
      ]
     },
     "execution_count": 203,
     "metadata": {},
     "output_type": "execute_result"
    }
   ],
   "source": [
    "X_train.shape, X_test.shape"
   ]
  },
  {
   "cell_type": "markdown",
   "id": "03c7d45d-b090-43de-923b-97590de0c53b",
   "metadata": {},
   "source": [
    "## train test align 작업"
   ]
  },
  {
   "cell_type": "code",
   "execution_count": 206,
   "id": "78f3ab56-f47a-435a-9771-70808a365fcc",
   "metadata": {},
   "outputs": [],
   "source": [
    "X_train, X_test = X_train.align(X_test,join='left',fill_value=0,axis=1)"
   ]
  },
  {
   "cell_type": "code",
   "execution_count": 208,
   "id": "68d26108-6cbc-476f-8646-335367739a38",
   "metadata": {},
   "outputs": [
    {
     "data": {
      "text/plain": [
       "((1168, 275), (292, 275))"
      ]
     },
     "execution_count": 208,
     "metadata": {},
     "output_type": "execute_result"
    }
   ],
   "source": [
    "X_train.shape, X_test.shape"
   ]
  },
  {
   "cell_type": "markdown",
   "id": "0c55d1af-e0f0-4fe1-983c-64cff4dbebf3",
   "metadata": {},
   "source": [
    "## 랜덤포레스트 학습"
   ]
  },
  {
   "cell_type": "code",
   "execution_count": 210,
   "id": "5d1ae88f-8545-4a7d-968d-2dd143fcb450",
   "metadata": {},
   "outputs": [],
   "source": [
    "from sklearn.ensemble import RandomForestRegressor"
   ]
  },
  {
   "cell_type": "code",
   "execution_count": 212,
   "id": "3f07c55f-3357-415e-91f0-d5e3f4e66cef",
   "metadata": {},
   "outputs": [],
   "source": [
    "rf = RandomForestRegressor(random_state=42, n_estimators=500)"
   ]
  },
  {
   "cell_type": "code",
   "execution_count": 220,
   "id": "db306b4f-2d1d-4dba-8470-f5f6ab32b975",
   "metadata": {},
   "outputs": [
    {
     "data": {
      "text/html": [
       "<div>\n",
       "<style scoped>\n",
       "    .dataframe tbody tr th:only-of-type {\n",
       "        vertical-align: middle;\n",
       "    }\n",
       "\n",
       "    .dataframe tbody tr th {\n",
       "        vertical-align: top;\n",
       "    }\n",
       "\n",
       "    .dataframe thead th {\n",
       "        text-align: right;\n",
       "    }\n",
       "</style>\n",
       "<table border=\"1\" class=\"dataframe\">\n",
       "  <thead>\n",
       "    <tr style=\"text-align: right;\">\n",
       "      <th></th>\n",
       "      <th>Id</th>\n",
       "      <th>SalePrice</th>\n",
       "    </tr>\n",
       "  </thead>\n",
       "  <tbody>\n",
       "    <tr>\n",
       "      <th>81</th>\n",
       "      <td>82</td>\n",
       "      <td>153500</td>\n",
       "    </tr>\n",
       "    <tr>\n",
       "      <th>1418</th>\n",
       "      <td>1419</td>\n",
       "      <td>124000</td>\n",
       "    </tr>\n",
       "    <tr>\n",
       "      <th>1212</th>\n",
       "      <td>1213</td>\n",
       "      <td>113000</td>\n",
       "    </tr>\n",
       "    <tr>\n",
       "      <th>588</th>\n",
       "      <td>589</td>\n",
       "      <td>143000</td>\n",
       "    </tr>\n",
       "    <tr>\n",
       "      <th>251</th>\n",
       "      <td>252</td>\n",
       "      <td>235000</td>\n",
       "    </tr>\n",
       "  </tbody>\n",
       "</table>\n",
       "</div>"
      ],
      "text/plain": [
       "        Id  SalePrice\n",
       "81      82     153500\n",
       "1418  1419     124000\n",
       "1212  1213     113000\n",
       "588    589     143000\n",
       "251    252     235000"
      ]
     },
     "execution_count": 220,
     "metadata": {},
     "output_type": "execute_result"
    }
   ],
   "source": [
    "y_train.head()"
   ]
  },
  {
   "cell_type": "code",
   "execution_count": 216,
   "id": "9489def7-dafd-4f5c-bd32-a0032a991a52",
   "metadata": {},
   "outputs": [],
   "source": [
    "# y_train.pop('Id')"
   ]
  },
  {
   "cell_type": "code",
   "execution_count": 222,
   "id": "166d085a-8545-4189-827b-d972e18ea1e9",
   "metadata": {},
   "outputs": [],
   "source": [
    "rf.fit(X_train,y_train['SalePrice'])\n",
    "pred= rf.predict(X_test)"
   ]
  },
  {
   "cell_type": "code",
   "execution_count": 225,
   "id": "a41bd9c5-1d42-4aac-a55f-1a6951b734d4",
   "metadata": {},
   "outputs": [],
   "source": [
    "from sklearn.metrics import mean_squared_error, r2_score"
   ]
  },
  {
   "cell_type": "code",
   "execution_count": 227,
   "id": "0ef6d0b6-3b47-4586-b7c9-d2c49ef199bf",
   "metadata": {},
   "outputs": [
    {
     "name": "stderr",
     "output_type": "stream",
     "text": [
      "C:\\Users\\pjjeo\\anaconda3\\Lib\\site-packages\\sklearn\\metrics\\_regression.py:492: FutureWarning: 'squared' is deprecated in version 1.4 and will be removed in 1.6. To calculate the root mean squared error, use the function'root_mean_squared_error'.\n",
      "  warnings.warn(\n"
     ]
    }
   ],
   "source": [
    "rmse= mean_squared_error(y_test['SalePrice'],pred,squared=False)\n",
    "r2= r2_score(y_test['SalePrice'],pred)"
   ]
  },
  {
   "cell_type": "code",
   "execution_count": 233,
   "id": "3fc984d4-7f23-4dd5-b3f6-070ae11f1fb8",
   "metadata": {},
   "outputs": [
    {
     "name": "stdout",
     "output_type": "stream",
     "text": [
      "RMSE: 24844.269928350943\n",
      "R²: 0.8942271397027238\n"
     ]
    }
   ],
   "source": [
    "print(\"RMSE:\", rmse)\n",
    "print(\"R²:\", r2)"
   ]
  },
  {
   "cell_type": "code",
   "execution_count": null,
   "id": "581301eb-80f3-457f-abe1-c6a888d9a177",
   "metadata": {},
   "outputs": [],
   "source": []
  }
 ],
 "metadata": {
  "kernelspec": {
   "display_name": "Python [conda env:base] *",
   "language": "python",
   "name": "conda-base-py"
  },
  "language_info": {
   "codemirror_mode": {
    "name": "ipython",
    "version": 3
   },
   "file_extension": ".py",
   "mimetype": "text/x-python",
   "name": "python",
   "nbconvert_exporter": "python",
   "pygments_lexer": "ipython3",
   "version": "3.12.3"
  }
 },
 "nbformat": 4,
 "nbformat_minor": 5
}
