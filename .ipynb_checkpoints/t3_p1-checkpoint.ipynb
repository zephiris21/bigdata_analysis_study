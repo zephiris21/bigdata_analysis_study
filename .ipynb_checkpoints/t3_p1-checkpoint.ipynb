{
 "cells": [
  {
   "cell_type": "markdown",
   "id": "54a4dd55-2a09-4d21-8a5d-2854c74164d6",
   "metadata": {},
   "source": [
    "| 검정 종류              | 직접 출제 비중 | 출제 방식                       |\n",
    "| ------------------ | -------- | --------------------------- |\n",
    "| **단일표본 t‑검정**      | 매우 드묾    | **명시적 출제 거의 없음**            |\n",
    "| **독립/대응표본 t**      | 자주 나옴    | 예: 두 집단 전후 비교 등             |\n",
    "| **카이제곱 독립성**       | 매우 자주 나옴 | 범주형 변수 간 연관성 판단             |\n",
    "| **신뢰구간 계산**        | 종종 나옴    | `stats.t.interval()` 형태로 출제 |\n",
    "| **statsmodels 회귀** | 자주 나옴    | 계수 유의성, p-value 등 분석        |\n"
   ]
  },
  {
   "cell_type": "markdown",
   "id": "8f1d1208-ff5e-44a0-a7cf-5434afb0d445",
   "metadata": {},
   "source": [
    "# 단일 표본 t 검정 (단측) \n",
    "## 문제: 다음은 22명의 학생들이 국어시험에서 받은 점수이다. 학생들의 평균이 75보다 크다고 할 수 있는가?\n",
    "- 귀무가설(H0): 모평균은 mu와 같다. (μ = mu), 학생들의 평균은 75이다\n",
    "- 대립가설(H1): 모평균은 mu보다 크다. (μ > mu), 학생들의 평균은 75보다 크다\n",
    "\n",
    "가정:\n",
    "- 모집단은 정규분포를 따른다.\n",
    "- 표본의 크기가 충분히 크다.\n",
    "\n",
    "**검정통계량, p-value, 검정결과를 출력하시오**\n"
   ]
  },
  {
   "cell_type": "code",
   "execution_count": 3,
   "id": "be9f45b4-82f7-45ff-b465-880cfce30ed3",
   "metadata": {},
   "outputs": [],
   "source": [
    "from scipy.stats import ttest_1samp\n",
    "\n",
    "# 단일 표본 t 검정\n",
    "# \"75보다 크다\" → 단측 검정 (우측)\n",
    "# 방법: scipy.stats.ttest_1samp() 사용 후, 단측 p-value로 변환 필요"
   ]
  },
  {
   "cell_type": "code",
   "execution_count": 5,
   "id": "beb60c2d-d958-48b1-85d3-3d374fac7a9a",
   "metadata": {},
   "outputs": [],
   "source": [
    "# 데이터\n",
    "scores = [75, 80, 68, 72, 77, 82, 81, 79, 70, 74, 76, 78, 81, 73, 81, 78, 75, 72, 74, 79, 78, 79]"
   ]
  },
  {
   "cell_type": "code",
   "execution_count": 7,
   "id": "707ee593-a497-4a1e-93e8-faf75928c9ea",
   "metadata": {},
   "outputs": [],
   "source": [
    "# 모평균 가설검정\n",
    "mu=75 # 검정할 모평균\n",
    "alpha=0.05 # 유의수준"
   ]
  },
  {
   "cell_type": "code",
   "execution_count": 9,
   "id": "6c891edf-a8fe-4075-a6ef-5287baeefdd5",
   "metadata": {},
   "outputs": [],
   "source": [
    "# t-test 를 사용하여 가설 검정\n",
    "t_stat,p_val=ttest_1samp(scores,mu,alternative='greater')"
   ]
  },
  {
   "cell_type": "code",
   "execution_count": 11,
   "id": "bcdf0df4-21db-4138-8fd8-34b5c9d815d9",
   "metadata": {},
   "outputs": [
    {
     "name": "stdout",
     "output_type": "stream",
     "text": [
      "t_stat :  1.765879233231226\n",
      "p-value :  0.04597614747709146\n"
     ]
    }
   ],
   "source": [
    "print('t_stat : ',t_stat)\n",
    "print('p-value : ',p_val)"
   ]
  },
  {
   "cell_type": "code",
   "execution_count": 13,
   "id": "d04610de-12ea-49a0-aec0-701e1332780a",
   "metadata": {},
   "outputs": [
    {
     "name": "stdout",
     "output_type": "stream",
     "text": [
      "귀무가설을 기각합니다. 모평균은 75보다 큽니다.\n"
     ]
    }
   ],
   "source": [
    "if p_val < alpha:\n",
    "    print(\"귀무가설을 기각합니다. 모평균은 75보다 큽니다.\")\n",
    "else:\n",
    "    print(\"귀무가설을 채택합니다. 모평균은 75보다 크지 않습니다.\")"
   ]
  },
  {
   "cell_type": "code",
   "execution_count": 31,
   "id": "94040a92-cf0d-4eb3-ac32-e4ec47c46745",
   "metadata": {},
   "outputs": [],
   "source": [
    "# 검정통계량 \n",
    "# t 통계량은 **“표본평균과 모평균이 얼마나 떨어져 있는지를 표준오차 단위로 나타낸 값”**입니다."
   ]
  },
  {
   "cell_type": "code",
   "execution_count": 17,
   "id": "1f5e2fbd-56d4-47f5-995a-4f76d83c2049",
   "metadata": {},
   "outputs": [],
   "source": [
    "# help(ttest_1samp)"
   ]
  },
  {
   "cell_type": "code",
   "execution_count": 23,
   "id": "e19b141d-4efc-4c86-b123-4324357fcb97",
   "metadata": {},
   "outputs": [],
   "source": [
    "# import scipy.stats\n",
    "# dir(scipy.stats)"
   ]
  },
  {
   "cell_type": "markdown",
   "id": "f43e8c3e-50c7-4345-977e-656e00466ec8",
   "metadata": {},
   "source": [
    "- 기본 형태\n",
    "t_stat, p_val = ttest_1samp(data, popmean, alternative='two-sided')\n",
    "\n",
    "data: 샘플 데이터 (리스트 또는 배열)\n",
    "\n",
    "popmean: 비교할 모평균 (예: 75)\n",
    "\n",
    "alternative: 대립가설의 방향 설정\n",
    "\n",
    "    'two-sided' (기본값): μ ≠ popmean\n",
    "\n",
    "    'greater': μ > popmean\n",
    "\n",
    "    'less': μ < popmean"
   ]
  },
  {
   "cell_type": "markdown",
   "id": "5ab7ba8e-a564-4e87-ba6e-b8b3c4ab250a",
   "metadata": {},
   "source": [
    "| 유형       | 비교 대상              | 사용 조건 (주요 예시)            |\n",
    "| -------- | ------------------ | ------------------------ |\n",
    "| **단일표본** | 표본 평균 vs **모평균**   | “이 표본 평균이 μ = 75 보다 크다?” |\n",
    "| **독립표본** | **두 개의 독립된 집단** 평균 | “복용군 vs 비복용군의 평균 체온 차이?” |\n",
    "| **대응표본** | **같은 집단의 전/후** 평균  | “치료 전후 체중 변화가 유의한가?”     |\n"
   ]
  },
  {
   "cell_type": "markdown",
   "id": "b8c32d3c-d6a8-461a-8ff3-ee05e24703e5",
   "metadata": {},
   "source": [
    "# 독립표본 t 검정"
   ]
  },
  {
   "cell_type": "markdown",
   "id": "db9d7b66-246b-4f06-a83b-10623f7705a1",
   "metadata": {},
   "source": [
    "\n",
    "## 문제 : 어떤 특정 약물을 복용한 사람들의 평균 체온이 복용하지 않은 사람들의 평균 체온과 유의미하게 다른지 검정해보려고 합니다.\n",
    "\n",
    "가정:\n",
    "\n",
    "    약물을 복용한 그룹과 복용하지 않은 그룹의 체온 데이터가 각각 주어져 있다고 가정합니다.\n",
    "    각 그룹의 체온은 정규분포를 따른다고 가정합니다.\n",
    "\n",
    "검정통계량, p-value, 검정결과를 출력하시오¶\n"
   ]
  },
  {
   "cell_type": "code",
   "execution_count": 34,
   "id": "baedf6a2-6278-4da4-9118-769d7f4017a8",
   "metadata": {},
   "outputs": [],
   "source": [
    "from scipy import stats\n",
    "\n",
    "# 가설 설정\n",
    "# H0 : 약물을 복용한 그룹과 복용하지 않은 그룹의 평균 체온은 유의미한 차이가 없다.\n",
    "# H1 : 약물을 복용한 그룹과 복용하지 않은 그룹의 평균 체온은 유의미한 차이가 있다. "
   ]
  },
  {
   "cell_type": "code",
   "execution_count": 36,
   "id": "0f1cf13a-7500-40e5-b268-c020b68c9a22",
   "metadata": {},
   "outputs": [],
   "source": [
    "# 데이터 수집\n",
    "group1 = [36.8, 36.7, 37.1, 36.9, 37.2, 36.8, 36.9, 37.1, 36.7, 37.1]\n",
    "group2 = [36.5, 36.6, 36.3, 36.6, 36.9, 36.7, 36.7, 36.8, 36.5, 36.7]"
   ]
  },
  {
   "cell_type": "code",
   "execution_count": 54,
   "id": "6a582688-d4e3-40aa-bdf7-7a407a3e4d9e",
   "metadata": {},
   "outputs": [
    {
     "name": "stdout",
     "output_type": "stream",
     "text": [
      "검정통계량: 3.7964208654863336\n",
      "p-value: 0.001321891476703691\n"
     ]
    }
   ],
   "source": [
    "# 가설검정\n",
    "t_stat,p_val=stats.ttest_ind(group1,group2)  # 실전에서는 등분산 가정을 안하고 equal_var=false 로 두고 welch t-test 를 씀\n",
    "\n",
    "print(\"검정통계량:\", t_stat)\n",
    "print(\"p-value:\", p_val)"
   ]
  },
  {
   "cell_type": "code",
   "execution_count": null,
   "id": "3f21576c-e174-4cb5-8cd4-78b65fea079e",
   "metadata": {},
   "outputs": [],
   "source": []
  },
  {
   "cell_type": "markdown",
   "id": "9c607d7b-11c9-48ff-8e6d-a18659d0e37c",
   "metadata": {},
   "source": [
    "p-val < 0.05 이므로 귀무가설 기각, 대립가설 채택. 유의미한차이가 있다. "
   ]
  },
  {
   "cell_type": "code",
   "execution_count": 45,
   "id": "59b88843-8a9f-4c28-8163-89cb4318d521",
   "metadata": {},
   "outputs": [
    {
     "data": {
      "text/plain": [
       "LeveneResult(statistic=0.19889502762431177, pvalue=0.6609323607193374)"
      ]
     },
     "execution_count": 45,
     "metadata": {},
     "output_type": "execute_result"
    }
   ],
   "source": [
    "scipy.stats.levene(group1,group2)"
   ]
  },
  {
   "cell_type": "markdown",
   "id": "09b75116-fb4d-4c36-8da5-fadb9be524dc",
   "metadata": {},
   "source": [
    "pvalue=0.6609323607193374)\n",
    "귀무가설 채택, 등분산은 같다"
   ]
  },
  {
   "cell_type": "markdown",
   "id": "af9a1769-32ce-428f-83e7-caa76b6d17bb",
   "metadata": {},
   "source": [
    "| 상황            | 사용 함수                             | 설명                              |\n",
    "| ------------- | --------------------------------- | ------------------------------- |\n",
    "| **등분산 가정됨**   | `ttest_ind(..., equal_var=True)`  | **고전적 독립표본 t-검정**               |\n",
    "| **등분산 가정 안됨** | `ttest_ind(..., equal_var=False)` | **Welch’s t-검정**, **현실에서 더 안전** |\n"
   ]
  },
  {
   "cell_type": "code",
   "execution_count": 48,
   "id": "81006042-ffc3-416b-b25b-e0c476ddff58",
   "metadata": {},
   "outputs": [],
   "source": [
    "# help(stats.ttest_ind)"
   ]
  },
  {
   "cell_type": "markdown",
   "id": "d42734b2-fccf-45af-9b3f-be3e8f3d27d2",
   "metadata": {},
   "source": [
    "# 대응 표본 t 검정"
   ]
  },
  {
   "cell_type": "markdown",
   "id": "c48de0be-7199-474c-a1a2-badada433a97",
   "metadata": {},
   "source": [
    "## 문제 : 주어진 데이터는 고혈압 환자 치료 전후의 혈압이다. 해당 치료가 효과가 있는지 대응(쌍체)표본 t-검정을 진행하시오\n",
    "\n",
    "- 귀무가설(H0): $\\mu$ >= 0\n",
    "- 대립가설(H1): $\\mu$ < 0\n",
    "- $\\mu$ = (치료 후 혈압 - 치료 전 혈압)의 평균\n",
    "- 유의수준: 0.05\n",
    "\n",
    "1. $\\mu$의 표본평균은?(소수 둘째자리까지 반올림)\n",
    "2. 검정통계량 값은?(소수 넷째자리까지 반올림)\n",
    "3. p-값은?(소수 넷째자리까지 반올림)\n",
    "4. 가설검정의 결과는? (유의수준 5%)"
   ]
  },
  {
   "cell_type": "code",
   "execution_count": 59,
   "id": "26d1d27e-38cb-4fab-b2d5-374b0d017e5f",
   "metadata": {},
   "outputs": [],
   "source": [
    "import pandas as pd\n",
    "df=pd.read_csv('data/high_blood_pressure.csv')"
   ]
  },
  {
   "cell_type": "code",
   "execution_count": 64,
   "id": "551c7899-e51b-4c5a-a46c-13f3af7060cc",
   "metadata": {},
   "outputs": [],
   "source": [
    "# dir(scipy.stats)"
   ]
  },
  {
   "cell_type": "code",
   "execution_count": 66,
   "id": "28c4ad5b-4666-4192-b187-0aee16e0f3b0",
   "metadata": {},
   "outputs": [],
   "source": [
    "from scipy.stats import ttest_rel"
   ]
  },
  {
   "cell_type": "code",
   "execution_count": 70,
   "id": "9d3317de-a0df-49ec-bcf1-0048d7e945ef",
   "metadata": {},
   "outputs": [],
   "source": [
    "# help(ttest_rel)  # a, b : array_like  alternative : {'two-sided', 'less', 'greater'}, optional"
   ]
  },
  {
   "cell_type": "code",
   "execution_count": 72,
   "id": "98be22f8-8fa5-46b3-a825-6b6a672e0190",
   "metadata": {},
   "outputs": [
    {
     "data": {
      "text/html": [
       "<div>\n",
       "<style scoped>\n",
       "    .dataframe tbody tr th:only-of-type {\n",
       "        vertical-align: middle;\n",
       "    }\n",
       "\n",
       "    .dataframe tbody tr th {\n",
       "        vertical-align: top;\n",
       "    }\n",
       "\n",
       "    .dataframe thead th {\n",
       "        text-align: right;\n",
       "    }\n",
       "</style>\n",
       "<table border=\"1\" class=\"dataframe\">\n",
       "  <thead>\n",
       "    <tr style=\"text-align: right;\">\n",
       "      <th></th>\n",
       "      <th>Id</th>\n",
       "      <th>sex</th>\n",
       "      <th>age</th>\n",
       "      <th>bp_pre</th>\n",
       "      <th>bp_post</th>\n",
       "    </tr>\n",
       "  </thead>\n",
       "  <tbody>\n",
       "    <tr>\n",
       "      <th>0</th>\n",
       "      <td>p001</td>\n",
       "      <td>Male</td>\n",
       "      <td>33</td>\n",
       "      <td>149</td>\n",
       "      <td>129</td>\n",
       "    </tr>\n",
       "    <tr>\n",
       "      <th>1</th>\n",
       "      <td>p002</td>\n",
       "      <td>Male</td>\n",
       "      <td>39</td>\n",
       "      <td>168</td>\n",
       "      <td>168</td>\n",
       "    </tr>\n",
       "    <tr>\n",
       "      <th>2</th>\n",
       "      <td>p003</td>\n",
       "      <td>Male</td>\n",
       "      <td>70</td>\n",
       "      <td>176</td>\n",
       "      <td>155</td>\n",
       "    </tr>\n",
       "    <tr>\n",
       "      <th>3</th>\n",
       "      <td>p004</td>\n",
       "      <td>Female</td>\n",
       "      <td>41</td>\n",
       "      <td>169</td>\n",
       "      <td>178</td>\n",
       "    </tr>\n",
       "    <tr>\n",
       "      <th>4</th>\n",
       "      <td>p005</td>\n",
       "      <td>Male</td>\n",
       "      <td>48</td>\n",
       "      <td>160</td>\n",
       "      <td>126</td>\n",
       "    </tr>\n",
       "  </tbody>\n",
       "</table>\n",
       "</div>"
      ],
      "text/plain": [
       "     Id     sex  age  bp_pre  bp_post\n",
       "0  p001    Male   33     149      129\n",
       "1  p002    Male   39     168      168\n",
       "2  p003    Male   70     176      155\n",
       "3  p004  Female   41     169      178\n",
       "4  p005    Male   48     160      126"
      ]
     },
     "execution_count": 72,
     "metadata": {},
     "output_type": "execute_result"
    }
   ],
   "source": [
    "df.head()"
   ]
  },
  {
   "cell_type": "code",
   "execution_count": 77,
   "id": "f46d4d8a-4ea1-4611-8fa7-47faa8bc4277",
   "metadata": {},
   "outputs": [],
   "source": [
    "bp_post=df['bp_post']\n",
    "bp_pre=df['bp_pre']"
   ]
  },
  {
   "cell_type": "code",
   "execution_count": 84,
   "id": "602cf4bf-4810-44df-a26e-9364735d1ced",
   "metadata": {},
   "outputs": [
    {
     "data": {
      "text/plain": [
       "-6.12"
      ]
     },
     "execution_count": 84,
     "metadata": {},
     "output_type": "execute_result"
    }
   ],
   "source": [
    "mu= round((bp_post - bp_pre).mean(),2)\n",
    "mu"
   ]
  },
  {
   "cell_type": "code",
   "execution_count": 88,
   "id": "eccef810-2db9-4bc6-a8d0-d676c110acda",
   "metadata": {},
   "outputs": [
    {
     "name": "stdout",
     "output_type": "stream",
     "text": [
      "-3.0002\n",
      "0.0016\n"
     ]
    },
    {
     "data": {
      "text/plain": [
       "(None, None)"
      ]
     },
     "execution_count": 88,
     "metadata": {},
     "output_type": "execute_result"
    }
   ],
   "source": [
    "t_stats, p_val= stats.ttest_rel(bp_post,bp_pre,alternative = 'less')\n",
    "\n",
    "# 검정통계량 값은?(소수 넷째자리까지 반올림) #p-값은?(소수 넷째자리까지 반올림)\n",
    "print(round(t_stats,4)), print(round(p_val,4))\n",
    "\n"
   ]
  },
  {
   "cell_type": "markdown",
   "id": "79273790-90a1-4ac2-bc77-73458d736e84",
   "metadata": {},
   "source": [
    "유의도 0.05보다 작으므로 귀무가설기각, 유의미하게 혈압 강하 효과가 있다."
   ]
  },
  {
   "cell_type": "markdown",
   "id": "00980f00-e268-4e9a-9688-0ff786bc9712",
   "metadata": {},
   "source": [
    "# 일원분산분석 (ANOVA)"
   ]
  },
  {
   "cell_type": "markdown",
   "id": "7fa947fd-ecb3-4f84-a9eb-97e16fc42c28",
   "metadata": {},
   "source": [
    "## 문제 : 세 가지 다른 교육 방법(A, B, C)을 사용하여 수험생들의 시험 성적을 개선시키는 효과를 평가하고자 한다. \n",
    "\n",
    "30명의 학생들을 무작위로 세 그룹으로 배정하여 교육을 실시하였고, 시험을 보고 성적을 측정하였습니다. 다음은 각 그룹의 학생들의 성적 데이터입니다.\n",
    "\n",
    "    귀무가설(H0): 세 그룹(A, B, C) 간의 평균 성적 차이가 없다.\n",
    "    대립가설(H1 또는 Ha): 세 그룹(A, B, C) 간의 평균 성적 차이가 있다.\n",
    "\n"
   ]
  },
  {
   "cell_type": "markdown",
   "id": "90b46c3b-715f-4ecb-ba45-4f01cd28db01",
   "metadata": {},
   "source": [
    "**일원분산분석(One-Way ANOVA)**는 말 그대로 **“3개 이상의 집단 평균을 비교하는 확장된 t-검정”**"
   ]
  },
  {
   "cell_type": "code",
   "execution_count": 115,
   "id": "981663c4-a3bc-47d0-b64e-7e28636bd5cd",
   "metadata": {},
   "outputs": [],
   "source": [
    "# 각 그룹의 데이터\n",
    "groupA = [85, 92, 78, 88, 83, 90, 76, 84, 92, 87]\n",
    "groupB = [79, 69, 84, 78, 79, 83, 79, 81, 86, 88]\n",
    "groupC = [75, 68, 74, 65, 77, 72, 70, 73, 78, 75]"
   ]
  },
  {
   "cell_type": "markdown",
   "id": "78f5d627-595e-4b83-bc3a-9a199a712473",
   "metadata": {},
   "source": [
    "-다음 주어진 데이터로 일원배치법을 수행하여 그룹 간의 평균 성적 차이가 있는지 검정하세요\n",
    "\n",
    "    - f값 (소수 둘째자리)\n",
    "    - p값 (소수 여섯째자리)\n",
    "    - 검정결과 출력\n"
   ]
  },
  {
   "cell_type": "code",
   "execution_count": 107,
   "id": "d63ea892-ac2e-4de2-8ac7-55900938da3c",
   "metadata": {},
   "outputs": [],
   "source": [
    "# dir(scipy.stats)"
   ]
  },
  {
   "cell_type": "code",
   "execution_count": 109,
   "id": "7cf14fd1-a950-4ff5-868d-b1027f76ac73",
   "metadata": {},
   "outputs": [],
   "source": [
    "from scipy.stats import f_oneway"
   ]
  },
  {
   "cell_type": "code",
   "execution_count": 113,
   "id": "24382901-7eec-4fc0-8878-7f134cde22d2",
   "metadata": {},
   "outputs": [],
   "source": [
    "# help(f_oneway)"
   ]
  },
  {
   "cell_type": "code",
   "execution_count": 117,
   "id": "0c7c5024-6c55-4f73-9e4e-dbff57caa432",
   "metadata": {},
   "outputs": [],
   "source": [
    "stats,p_val= f_oneway(groupA,groupB,groupC)"
   ]
  },
  {
   "cell_type": "code",
   "execution_count": 121,
   "id": "15c1444a-9d1a-454c-b626-ca56872e41ff",
   "metadata": {},
   "outputs": [
    {
     "data": {
      "text/plain": [
       "16.88"
      ]
     },
     "execution_count": 121,
     "metadata": {},
     "output_type": "execute_result"
    }
   ],
   "source": [
    "round(stats,2)"
   ]
  },
  {
   "cell_type": "code",
   "execution_count": 123,
   "id": "0f5c50f7-a543-41e9-8018-4ae38c708213",
   "metadata": {},
   "outputs": [
    {
     "data": {
      "text/plain": [
       "1.8e-05"
      ]
     },
     "execution_count": 123,
     "metadata": {},
     "output_type": "execute_result"
    }
   ],
   "source": [
    "round(p_val,6)"
   ]
  },
  {
   "cell_type": "code",
   "execution_count": null,
   "id": "d7493cdb-c6f4-4100-8fa5-0df47e56382d",
   "metadata": {},
   "outputs": [],
   "source": []
  },
  {
   "cell_type": "code",
   "execution_count": 125,
   "id": "2054a7c6-125d-4f75-b5e0-3127616e1d1b",
   "metadata": {},
   "outputs": [],
   "source": [
    "import pandas as pd\n",
    "\n",
    "groupA = [85, 92, 78, 88, 83, 90, 76, 84, 92, 87]\n",
    "groupB = [79, 69, 84, 78, 79, 83, 79, 81, 86, 88]\n",
    "groupC = [75, 68, 74, 65, 77, 72, 70, 73, 78, 75]\n",
    "\n",
    "data = {'GroupA': groupA, 'GroupB': groupB, 'GroupC': groupC}"
   ]
  },
  {
   "cell_type": "code",
   "execution_count": 127,
   "id": "fce300a4-a079-4cc8-9018-e50d26c02c14",
   "metadata": {},
   "outputs": [],
   "source": [
    "df_wide = pd.DataFrame(data)"
   ]
  },
  {
   "cell_type": "code",
   "execution_count": 129,
   "id": "25234ffc-152f-4af4-9ab4-b39b3b73297c",
   "metadata": {},
   "outputs": [
    {
     "data": {
      "text/html": [
       "<div>\n",
       "<style scoped>\n",
       "    .dataframe tbody tr th:only-of-type {\n",
       "        vertical-align: middle;\n",
       "    }\n",
       "\n",
       "    .dataframe tbody tr th {\n",
       "        vertical-align: top;\n",
       "    }\n",
       "\n",
       "    .dataframe thead th {\n",
       "        text-align: right;\n",
       "    }\n",
       "</style>\n",
       "<table border=\"1\" class=\"dataframe\">\n",
       "  <thead>\n",
       "    <tr style=\"text-align: right;\">\n",
       "      <th></th>\n",
       "      <th>GroupA</th>\n",
       "      <th>GroupB</th>\n",
       "      <th>GroupC</th>\n",
       "    </tr>\n",
       "  </thead>\n",
       "  <tbody>\n",
       "    <tr>\n",
       "      <th>0</th>\n",
       "      <td>85</td>\n",
       "      <td>79</td>\n",
       "      <td>75</td>\n",
       "    </tr>\n",
       "    <tr>\n",
       "      <th>1</th>\n",
       "      <td>92</td>\n",
       "      <td>69</td>\n",
       "      <td>68</td>\n",
       "    </tr>\n",
       "    <tr>\n",
       "      <th>2</th>\n",
       "      <td>78</td>\n",
       "      <td>84</td>\n",
       "      <td>74</td>\n",
       "    </tr>\n",
       "    <tr>\n",
       "      <th>3</th>\n",
       "      <td>88</td>\n",
       "      <td>78</td>\n",
       "      <td>65</td>\n",
       "    </tr>\n",
       "    <tr>\n",
       "      <th>4</th>\n",
       "      <td>83</td>\n",
       "      <td>79</td>\n",
       "      <td>77</td>\n",
       "    </tr>\n",
       "    <tr>\n",
       "      <th>5</th>\n",
       "      <td>90</td>\n",
       "      <td>83</td>\n",
       "      <td>72</td>\n",
       "    </tr>\n",
       "    <tr>\n",
       "      <th>6</th>\n",
       "      <td>76</td>\n",
       "      <td>79</td>\n",
       "      <td>70</td>\n",
       "    </tr>\n",
       "    <tr>\n",
       "      <th>7</th>\n",
       "      <td>84</td>\n",
       "      <td>81</td>\n",
       "      <td>73</td>\n",
       "    </tr>\n",
       "    <tr>\n",
       "      <th>8</th>\n",
       "      <td>92</td>\n",
       "      <td>86</td>\n",
       "      <td>78</td>\n",
       "    </tr>\n",
       "    <tr>\n",
       "      <th>9</th>\n",
       "      <td>87</td>\n",
       "      <td>88</td>\n",
       "      <td>75</td>\n",
       "    </tr>\n",
       "  </tbody>\n",
       "</table>\n",
       "</div>"
      ],
      "text/plain": [
       "   GroupA  GroupB  GroupC\n",
       "0      85      79      75\n",
       "1      92      69      68\n",
       "2      78      84      74\n",
       "3      88      78      65\n",
       "4      83      79      77\n",
       "5      90      83      72\n",
       "6      76      79      70\n",
       "7      84      81      73\n",
       "8      92      86      78\n",
       "9      87      88      75"
      ]
     },
     "execution_count": 129,
     "metadata": {},
     "output_type": "execute_result"
    }
   ],
   "source": [
    "df_wide"
   ]
  },
  {
   "cell_type": "code",
   "execution_count": 131,
   "id": "a989dafa-3206-4b9f-8e4b-648708330e61",
   "metadata": {},
   "outputs": [],
   "source": [
    "df_long = df_wide.melt(value_vars=['GroupA', 'GroupB', 'GroupC'], var_name='Group', value_name='Score')"
   ]
  },
  {
   "cell_type": "code",
   "execution_count": 133,
   "id": "0cece729-0c8d-49a9-b4ae-2f0ba319d634",
   "metadata": {},
   "outputs": [
    {
     "data": {
      "text/html": [
       "<div>\n",
       "<style scoped>\n",
       "    .dataframe tbody tr th:only-of-type {\n",
       "        vertical-align: middle;\n",
       "    }\n",
       "\n",
       "    .dataframe tbody tr th {\n",
       "        vertical-align: top;\n",
       "    }\n",
       "\n",
       "    .dataframe thead th {\n",
       "        text-align: right;\n",
       "    }\n",
       "</style>\n",
       "<table border=\"1\" class=\"dataframe\">\n",
       "  <thead>\n",
       "    <tr style=\"text-align: right;\">\n",
       "      <th></th>\n",
       "      <th>Group</th>\n",
       "      <th>Score</th>\n",
       "    </tr>\n",
       "  </thead>\n",
       "  <tbody>\n",
       "    <tr>\n",
       "      <th>0</th>\n",
       "      <td>GroupA</td>\n",
       "      <td>85</td>\n",
       "    </tr>\n",
       "    <tr>\n",
       "      <th>1</th>\n",
       "      <td>GroupA</td>\n",
       "      <td>92</td>\n",
       "    </tr>\n",
       "    <tr>\n",
       "      <th>2</th>\n",
       "      <td>GroupA</td>\n",
       "      <td>78</td>\n",
       "    </tr>\n",
       "    <tr>\n",
       "      <th>3</th>\n",
       "      <td>GroupA</td>\n",
       "      <td>88</td>\n",
       "    </tr>\n",
       "    <tr>\n",
       "      <th>4</th>\n",
       "      <td>GroupA</td>\n",
       "      <td>83</td>\n",
       "    </tr>\n",
       "    <tr>\n",
       "      <th>5</th>\n",
       "      <td>GroupA</td>\n",
       "      <td>90</td>\n",
       "    </tr>\n",
       "    <tr>\n",
       "      <th>6</th>\n",
       "      <td>GroupA</td>\n",
       "      <td>76</td>\n",
       "    </tr>\n",
       "    <tr>\n",
       "      <th>7</th>\n",
       "      <td>GroupA</td>\n",
       "      <td>84</td>\n",
       "    </tr>\n",
       "    <tr>\n",
       "      <th>8</th>\n",
       "      <td>GroupA</td>\n",
       "      <td>92</td>\n",
       "    </tr>\n",
       "    <tr>\n",
       "      <th>9</th>\n",
       "      <td>GroupA</td>\n",
       "      <td>87</td>\n",
       "    </tr>\n",
       "    <tr>\n",
       "      <th>10</th>\n",
       "      <td>GroupB</td>\n",
       "      <td>79</td>\n",
       "    </tr>\n",
       "    <tr>\n",
       "      <th>11</th>\n",
       "      <td>GroupB</td>\n",
       "      <td>69</td>\n",
       "    </tr>\n",
       "    <tr>\n",
       "      <th>12</th>\n",
       "      <td>GroupB</td>\n",
       "      <td>84</td>\n",
       "    </tr>\n",
       "    <tr>\n",
       "      <th>13</th>\n",
       "      <td>GroupB</td>\n",
       "      <td>78</td>\n",
       "    </tr>\n",
       "    <tr>\n",
       "      <th>14</th>\n",
       "      <td>GroupB</td>\n",
       "      <td>79</td>\n",
       "    </tr>\n",
       "    <tr>\n",
       "      <th>15</th>\n",
       "      <td>GroupB</td>\n",
       "      <td>83</td>\n",
       "    </tr>\n",
       "    <tr>\n",
       "      <th>16</th>\n",
       "      <td>GroupB</td>\n",
       "      <td>79</td>\n",
       "    </tr>\n",
       "    <tr>\n",
       "      <th>17</th>\n",
       "      <td>GroupB</td>\n",
       "      <td>81</td>\n",
       "    </tr>\n",
       "    <tr>\n",
       "      <th>18</th>\n",
       "      <td>GroupB</td>\n",
       "      <td>86</td>\n",
       "    </tr>\n",
       "    <tr>\n",
       "      <th>19</th>\n",
       "      <td>GroupB</td>\n",
       "      <td>88</td>\n",
       "    </tr>\n",
       "    <tr>\n",
       "      <th>20</th>\n",
       "      <td>GroupC</td>\n",
       "      <td>75</td>\n",
       "    </tr>\n",
       "    <tr>\n",
       "      <th>21</th>\n",
       "      <td>GroupC</td>\n",
       "      <td>68</td>\n",
       "    </tr>\n",
       "    <tr>\n",
       "      <th>22</th>\n",
       "      <td>GroupC</td>\n",
       "      <td>74</td>\n",
       "    </tr>\n",
       "    <tr>\n",
       "      <th>23</th>\n",
       "      <td>GroupC</td>\n",
       "      <td>65</td>\n",
       "    </tr>\n",
       "    <tr>\n",
       "      <th>24</th>\n",
       "      <td>GroupC</td>\n",
       "      <td>77</td>\n",
       "    </tr>\n",
       "    <tr>\n",
       "      <th>25</th>\n",
       "      <td>GroupC</td>\n",
       "      <td>72</td>\n",
       "    </tr>\n",
       "    <tr>\n",
       "      <th>26</th>\n",
       "      <td>GroupC</td>\n",
       "      <td>70</td>\n",
       "    </tr>\n",
       "    <tr>\n",
       "      <th>27</th>\n",
       "      <td>GroupC</td>\n",
       "      <td>73</td>\n",
       "    </tr>\n",
       "    <tr>\n",
       "      <th>28</th>\n",
       "      <td>GroupC</td>\n",
       "      <td>78</td>\n",
       "    </tr>\n",
       "    <tr>\n",
       "      <th>29</th>\n",
       "      <td>GroupC</td>\n",
       "      <td>75</td>\n",
       "    </tr>\n",
       "  </tbody>\n",
       "</table>\n",
       "</div>"
      ],
      "text/plain": [
       "     Group  Score\n",
       "0   GroupA     85\n",
       "1   GroupA     92\n",
       "2   GroupA     78\n",
       "3   GroupA     88\n",
       "4   GroupA     83\n",
       "5   GroupA     90\n",
       "6   GroupA     76\n",
       "7   GroupA     84\n",
       "8   GroupA     92\n",
       "9   GroupA     87\n",
       "10  GroupB     79\n",
       "11  GroupB     69\n",
       "12  GroupB     84\n",
       "13  GroupB     78\n",
       "14  GroupB     79\n",
       "15  GroupB     83\n",
       "16  GroupB     79\n",
       "17  GroupB     81\n",
       "18  GroupB     86\n",
       "19  GroupB     88\n",
       "20  GroupC     75\n",
       "21  GroupC     68\n",
       "22  GroupC     74\n",
       "23  GroupC     65\n",
       "24  GroupC     77\n",
       "25  GroupC     72\n",
       "26  GroupC     70\n",
       "27  GroupC     73\n",
       "28  GroupC     78\n",
       "29  GroupC     75"
      ]
     },
     "execution_count": 133,
     "metadata": {},
     "output_type": "execute_result"
    }
   ],
   "source": [
    "df_long"
   ]
  },
  {
   "cell_type": "code",
   "execution_count": 137,
   "id": "cea70a09-dc4a-42b3-9467-ee46cf9e4922",
   "metadata": {},
   "outputs": [],
   "source": [
    "# help(df.melt)"
   ]
  },
  {
   "cell_type": "code",
   "execution_count": 139,
   "id": "0e0764ff-a546-4040-b667-6477f13827a6",
   "metadata": {},
   "outputs": [],
   "source": [
    "df_pivot = df_long.reset_index().pivot(index='index', columns='Group', values='Score')"
   ]
  },
  {
   "cell_type": "code",
   "execution_count": 141,
   "id": "787605f4-0186-4aba-a91d-57901633c449",
   "metadata": {},
   "outputs": [
    {
     "data": {
      "text/html": [
       "<div>\n",
       "<style scoped>\n",
       "    .dataframe tbody tr th:only-of-type {\n",
       "        vertical-align: middle;\n",
       "    }\n",
       "\n",
       "    .dataframe tbody tr th {\n",
       "        vertical-align: top;\n",
       "    }\n",
       "\n",
       "    .dataframe thead th {\n",
       "        text-align: right;\n",
       "    }\n",
       "</style>\n",
       "<table border=\"1\" class=\"dataframe\">\n",
       "  <thead>\n",
       "    <tr style=\"text-align: right;\">\n",
       "      <th>Group</th>\n",
       "      <th>GroupA</th>\n",
       "      <th>GroupB</th>\n",
       "      <th>GroupC</th>\n",
       "    </tr>\n",
       "    <tr>\n",
       "      <th>index</th>\n",
       "      <th></th>\n",
       "      <th></th>\n",
       "      <th></th>\n",
       "    </tr>\n",
       "  </thead>\n",
       "  <tbody>\n",
       "    <tr>\n",
       "      <th>0</th>\n",
       "      <td>85.0</td>\n",
       "      <td>NaN</td>\n",
       "      <td>NaN</td>\n",
       "    </tr>\n",
       "    <tr>\n",
       "      <th>1</th>\n",
       "      <td>92.0</td>\n",
       "      <td>NaN</td>\n",
       "      <td>NaN</td>\n",
       "    </tr>\n",
       "    <tr>\n",
       "      <th>2</th>\n",
       "      <td>78.0</td>\n",
       "      <td>NaN</td>\n",
       "      <td>NaN</td>\n",
       "    </tr>\n",
       "    <tr>\n",
       "      <th>3</th>\n",
       "      <td>88.0</td>\n",
       "      <td>NaN</td>\n",
       "      <td>NaN</td>\n",
       "    </tr>\n",
       "    <tr>\n",
       "      <th>4</th>\n",
       "      <td>83.0</td>\n",
       "      <td>NaN</td>\n",
       "      <td>NaN</td>\n",
       "    </tr>\n",
       "    <tr>\n",
       "      <th>5</th>\n",
       "      <td>90.0</td>\n",
       "      <td>NaN</td>\n",
       "      <td>NaN</td>\n",
       "    </tr>\n",
       "    <tr>\n",
       "      <th>6</th>\n",
       "      <td>76.0</td>\n",
       "      <td>NaN</td>\n",
       "      <td>NaN</td>\n",
       "    </tr>\n",
       "    <tr>\n",
       "      <th>7</th>\n",
       "      <td>84.0</td>\n",
       "      <td>NaN</td>\n",
       "      <td>NaN</td>\n",
       "    </tr>\n",
       "    <tr>\n",
       "      <th>8</th>\n",
       "      <td>92.0</td>\n",
       "      <td>NaN</td>\n",
       "      <td>NaN</td>\n",
       "    </tr>\n",
       "    <tr>\n",
       "      <th>9</th>\n",
       "      <td>87.0</td>\n",
       "      <td>NaN</td>\n",
       "      <td>NaN</td>\n",
       "    </tr>\n",
       "    <tr>\n",
       "      <th>10</th>\n",
       "      <td>NaN</td>\n",
       "      <td>79.0</td>\n",
       "      <td>NaN</td>\n",
       "    </tr>\n",
       "    <tr>\n",
       "      <th>11</th>\n",
       "      <td>NaN</td>\n",
       "      <td>69.0</td>\n",
       "      <td>NaN</td>\n",
       "    </tr>\n",
       "    <tr>\n",
       "      <th>12</th>\n",
       "      <td>NaN</td>\n",
       "      <td>84.0</td>\n",
       "      <td>NaN</td>\n",
       "    </tr>\n",
       "    <tr>\n",
       "      <th>13</th>\n",
       "      <td>NaN</td>\n",
       "      <td>78.0</td>\n",
       "      <td>NaN</td>\n",
       "    </tr>\n",
       "    <tr>\n",
       "      <th>14</th>\n",
       "      <td>NaN</td>\n",
       "      <td>79.0</td>\n",
       "      <td>NaN</td>\n",
       "    </tr>\n",
       "    <tr>\n",
       "      <th>15</th>\n",
       "      <td>NaN</td>\n",
       "      <td>83.0</td>\n",
       "      <td>NaN</td>\n",
       "    </tr>\n",
       "    <tr>\n",
       "      <th>16</th>\n",
       "      <td>NaN</td>\n",
       "      <td>79.0</td>\n",
       "      <td>NaN</td>\n",
       "    </tr>\n",
       "    <tr>\n",
       "      <th>17</th>\n",
       "      <td>NaN</td>\n",
       "      <td>81.0</td>\n",
       "      <td>NaN</td>\n",
       "    </tr>\n",
       "    <tr>\n",
       "      <th>18</th>\n",
       "      <td>NaN</td>\n",
       "      <td>86.0</td>\n",
       "      <td>NaN</td>\n",
       "    </tr>\n",
       "    <tr>\n",
       "      <th>19</th>\n",
       "      <td>NaN</td>\n",
       "      <td>88.0</td>\n",
       "      <td>NaN</td>\n",
       "    </tr>\n",
       "    <tr>\n",
       "      <th>20</th>\n",
       "      <td>NaN</td>\n",
       "      <td>NaN</td>\n",
       "      <td>75.0</td>\n",
       "    </tr>\n",
       "    <tr>\n",
       "      <th>21</th>\n",
       "      <td>NaN</td>\n",
       "      <td>NaN</td>\n",
       "      <td>68.0</td>\n",
       "    </tr>\n",
       "    <tr>\n",
       "      <th>22</th>\n",
       "      <td>NaN</td>\n",
       "      <td>NaN</td>\n",
       "      <td>74.0</td>\n",
       "    </tr>\n",
       "    <tr>\n",
       "      <th>23</th>\n",
       "      <td>NaN</td>\n",
       "      <td>NaN</td>\n",
       "      <td>65.0</td>\n",
       "    </tr>\n",
       "    <tr>\n",
       "      <th>24</th>\n",
       "      <td>NaN</td>\n",
       "      <td>NaN</td>\n",
       "      <td>77.0</td>\n",
       "    </tr>\n",
       "    <tr>\n",
       "      <th>25</th>\n",
       "      <td>NaN</td>\n",
       "      <td>NaN</td>\n",
       "      <td>72.0</td>\n",
       "    </tr>\n",
       "    <tr>\n",
       "      <th>26</th>\n",
       "      <td>NaN</td>\n",
       "      <td>NaN</td>\n",
       "      <td>70.0</td>\n",
       "    </tr>\n",
       "    <tr>\n",
       "      <th>27</th>\n",
       "      <td>NaN</td>\n",
       "      <td>NaN</td>\n",
       "      <td>73.0</td>\n",
       "    </tr>\n",
       "    <tr>\n",
       "      <th>28</th>\n",
       "      <td>NaN</td>\n",
       "      <td>NaN</td>\n",
       "      <td>78.0</td>\n",
       "    </tr>\n",
       "    <tr>\n",
       "      <th>29</th>\n",
       "      <td>NaN</td>\n",
       "      <td>NaN</td>\n",
       "      <td>75.0</td>\n",
       "    </tr>\n",
       "  </tbody>\n",
       "</table>\n",
       "</div>"
      ],
      "text/plain": [
       "Group  GroupA  GroupB  GroupC\n",
       "index                        \n",
       "0        85.0     NaN     NaN\n",
       "1        92.0     NaN     NaN\n",
       "2        78.0     NaN     NaN\n",
       "3        88.0     NaN     NaN\n",
       "4        83.0     NaN     NaN\n",
       "5        90.0     NaN     NaN\n",
       "6        76.0     NaN     NaN\n",
       "7        84.0     NaN     NaN\n",
       "8        92.0     NaN     NaN\n",
       "9        87.0     NaN     NaN\n",
       "10        NaN    79.0     NaN\n",
       "11        NaN    69.0     NaN\n",
       "12        NaN    84.0     NaN\n",
       "13        NaN    78.0     NaN\n",
       "14        NaN    79.0     NaN\n",
       "15        NaN    83.0     NaN\n",
       "16        NaN    79.0     NaN\n",
       "17        NaN    81.0     NaN\n",
       "18        NaN    86.0     NaN\n",
       "19        NaN    88.0     NaN\n",
       "20        NaN     NaN    75.0\n",
       "21        NaN     NaN    68.0\n",
       "22        NaN     NaN    74.0\n",
       "23        NaN     NaN    65.0\n",
       "24        NaN     NaN    77.0\n",
       "25        NaN     NaN    72.0\n",
       "26        NaN     NaN    70.0\n",
       "27        NaN     NaN    73.0\n",
       "28        NaN     NaN    78.0\n",
       "29        NaN     NaN    75.0"
      ]
     },
     "execution_count": 141,
     "metadata": {},
     "output_type": "execute_result"
    }
   ],
   "source": [
    "df_pivot"
   ]
  },
  {
   "cell_type": "markdown",
   "id": "1ef8957e-987b-4556-a704-56a631f73c09",
   "metadata": {},
   "source": [
    "# 정규성 검정 (Shapiro-Wilk)"
   ]
  },
  {
   "cell_type": "markdown",
   "id": "ba1476d1-826b-47bf-8852-2ab8dc006f82",
   "metadata": {},
   "source": [
    "## 문제 : 12명의 수험생이 빅데이터 분석기사 시험에서 받은 점수이다. Shapiro-Wilk 검정을 사용하여 데이터가 정규 분포를 따르는지 검증하시오\n",
    "\n",
    "    귀무 가설(H0): 데이터는 정규 분포를 따른다.\n",
    "    대립 가설(H1): 데이터는 정규 분포를 따르지 않는다.\n",
    "\n",
    "Shapiro-Wilk 검정 통계량, p-value, 검증결과를 출력하시오\n"
   ]
  },
  {
   "cell_type": "code",
   "execution_count": 152,
   "id": "cb286a59-00b6-4674-97d2-7df27484b3af",
   "metadata": {},
   "outputs": [],
   "source": [
    "# dir(scipy.stats)\n",
    "from scipy.stats import shapiro\n",
    "# help(shapiro)\n"
   ]
  },
  {
   "cell_type": "code",
   "execution_count": 154,
   "id": "4ea09ad3-bcb0-4592-aafb-09b61e82d6d9",
   "metadata": {},
   "outputs": [],
   "source": [
    "data = [75, 83, 81, 92, 68, 77, 78, 80, 85, 95, 79, 89]"
   ]
  },
  {
   "cell_type": "code",
   "execution_count": 156,
   "id": "e54be371-3ca6-44c8-96b3-8da2e96ad865",
   "metadata": {},
   "outputs": [
    {
     "data": {
      "text/plain": [
       "(0.9768091723993144, 0.9676506711851194)"
      ]
     },
     "execution_count": 156,
     "metadata": {},
     "output_type": "execute_result"
    }
   ],
   "source": [
    "statistic, p_val = shapiro(data)\n",
    "statistic, p_val"
   ]
  },
  {
   "cell_type": "code",
   "execution_count": 158,
   "id": "289a0368-ba0c-4789-85a7-436c7d3d2051",
   "metadata": {},
   "outputs": [],
   "source": [
    "# 귀무가설 기각 실패. 정규 분포를 따른다. "
   ]
  },
  {
   "cell_type": "markdown",
   "id": "7f607bfd-0f89-416a-a722-cbdba7278444",
   "metadata": {},
   "source": [
    "# 회귀모형 (상관계수)"
   ]
  },
  {
   "cell_type": "markdown",
   "id": "69f67fee-2677-42be-9fed-68abd0662aac",
   "metadata": {},
   "source": [
    "## 문제 : iris 데이터에서 Sepal Length와 Sepal Width의 상관계수 계산하고 소수 둘째자리까지 출력하시오"
   ]
  },
  {
   "cell_type": "code",
   "execution_count": 162,
   "id": "7e73bf5c-dbf6-4b81-866b-58b07b7e64b3",
   "metadata": {},
   "outputs": [],
   "source": [
    "\n",
    "\n",
    "import pandas as pd\n",
    "from sklearn.datasets import load_iris\n",
    "\n",
    "# iris 데이터셋 로드\n",
    "iris = load_iris()\n",
    "df = pd.DataFrame(iris.data, columns=iris.feature_names)"
   ]
  },
  {
   "cell_type": "code",
   "execution_count": 164,
   "id": "b164f72e-e043-45cb-bff9-06fd4dd6614d",
   "metadata": {},
   "outputs": [],
   "source": [
    "cor=df.corr()"
   ]
  },
  {
   "cell_type": "code",
   "execution_count": 166,
   "id": "1767551e-9273-4cca-8996-356fbdebff62",
   "metadata": {},
   "outputs": [
    {
     "data": {
      "text/html": [
       "<div>\n",
       "<style scoped>\n",
       "    .dataframe tbody tr th:only-of-type {\n",
       "        vertical-align: middle;\n",
       "    }\n",
       "\n",
       "    .dataframe tbody tr th {\n",
       "        vertical-align: top;\n",
       "    }\n",
       "\n",
       "    .dataframe thead th {\n",
       "        text-align: right;\n",
       "    }\n",
       "</style>\n",
       "<table border=\"1\" class=\"dataframe\">\n",
       "  <thead>\n",
       "    <tr style=\"text-align: right;\">\n",
       "      <th></th>\n",
       "      <th>sepal length (cm)</th>\n",
       "      <th>sepal width (cm)</th>\n",
       "      <th>petal length (cm)</th>\n",
       "      <th>petal width (cm)</th>\n",
       "    </tr>\n",
       "  </thead>\n",
       "  <tbody>\n",
       "    <tr>\n",
       "      <th>0</th>\n",
       "      <td>5.1</td>\n",
       "      <td>3.5</td>\n",
       "      <td>1.4</td>\n",
       "      <td>0.2</td>\n",
       "    </tr>\n",
       "    <tr>\n",
       "      <th>1</th>\n",
       "      <td>4.9</td>\n",
       "      <td>3.0</td>\n",
       "      <td>1.4</td>\n",
       "      <td>0.2</td>\n",
       "    </tr>\n",
       "    <tr>\n",
       "      <th>2</th>\n",
       "      <td>4.7</td>\n",
       "      <td>3.2</td>\n",
       "      <td>1.3</td>\n",
       "      <td>0.2</td>\n",
       "    </tr>\n",
       "    <tr>\n",
       "      <th>3</th>\n",
       "      <td>4.6</td>\n",
       "      <td>3.1</td>\n",
       "      <td>1.5</td>\n",
       "      <td>0.2</td>\n",
       "    </tr>\n",
       "    <tr>\n",
       "      <th>4</th>\n",
       "      <td>5.0</td>\n",
       "      <td>3.6</td>\n",
       "      <td>1.4</td>\n",
       "      <td>0.2</td>\n",
       "    </tr>\n",
       "  </tbody>\n",
       "</table>\n",
       "</div>"
      ],
      "text/plain": [
       "   sepal length (cm)  sepal width (cm)  petal length (cm)  petal width (cm)\n",
       "0                5.1               3.5                1.4               0.2\n",
       "1                4.9               3.0                1.4               0.2\n",
       "2                4.7               3.2                1.3               0.2\n",
       "3                4.6               3.1                1.5               0.2\n",
       "4                5.0               3.6                1.4               0.2"
      ]
     },
     "execution_count": 166,
     "metadata": {},
     "output_type": "execute_result"
    }
   ],
   "source": [
    "df.head()"
   ]
  },
  {
   "cell_type": "code",
   "execution_count": 168,
   "id": "0d5f803a-cb99-454d-9a1a-7dcd6c323e43",
   "metadata": {},
   "outputs": [
    {
     "data": {
      "text/html": [
       "<div>\n",
       "<style scoped>\n",
       "    .dataframe tbody tr th:only-of-type {\n",
       "        vertical-align: middle;\n",
       "    }\n",
       "\n",
       "    .dataframe tbody tr th {\n",
       "        vertical-align: top;\n",
       "    }\n",
       "\n",
       "    .dataframe thead th {\n",
       "        text-align: right;\n",
       "    }\n",
       "</style>\n",
       "<table border=\"1\" class=\"dataframe\">\n",
       "  <thead>\n",
       "    <tr style=\"text-align: right;\">\n",
       "      <th></th>\n",
       "      <th>sepal length (cm)</th>\n",
       "      <th>sepal width (cm)</th>\n",
       "      <th>petal length (cm)</th>\n",
       "      <th>petal width (cm)</th>\n",
       "    </tr>\n",
       "  </thead>\n",
       "  <tbody>\n",
       "    <tr>\n",
       "      <th>sepal length (cm)</th>\n",
       "      <td>1.000000</td>\n",
       "      <td>-0.117570</td>\n",
       "      <td>0.871754</td>\n",
       "      <td>0.817941</td>\n",
       "    </tr>\n",
       "    <tr>\n",
       "      <th>sepal width (cm)</th>\n",
       "      <td>-0.117570</td>\n",
       "      <td>1.000000</td>\n",
       "      <td>-0.428440</td>\n",
       "      <td>-0.366126</td>\n",
       "    </tr>\n",
       "    <tr>\n",
       "      <th>petal length (cm)</th>\n",
       "      <td>0.871754</td>\n",
       "      <td>-0.428440</td>\n",
       "      <td>1.000000</td>\n",
       "      <td>0.962865</td>\n",
       "    </tr>\n",
       "    <tr>\n",
       "      <th>petal width (cm)</th>\n",
       "      <td>0.817941</td>\n",
       "      <td>-0.366126</td>\n",
       "      <td>0.962865</td>\n",
       "      <td>1.000000</td>\n",
       "    </tr>\n",
       "  </tbody>\n",
       "</table>\n",
       "</div>"
      ],
      "text/plain": [
       "                   sepal length (cm)  sepal width (cm)  petal length (cm)  \\\n",
       "sepal length (cm)           1.000000         -0.117570           0.871754   \n",
       "sepal width (cm)           -0.117570          1.000000          -0.428440   \n",
       "petal length (cm)           0.871754         -0.428440           1.000000   \n",
       "petal width (cm)            0.817941         -0.366126           0.962865   \n",
       "\n",
       "                   petal width (cm)  \n",
       "sepal length (cm)          0.817941  \n",
       "sepal width (cm)          -0.366126  \n",
       "petal length (cm)          0.962865  \n",
       "petal width (cm)           1.000000  "
      ]
     },
     "execution_count": 168,
     "metadata": {},
     "output_type": "execute_result"
    }
   ],
   "source": [
    "cor.head()"
   ]
  },
  {
   "cell_type": "code",
   "execution_count": 170,
   "id": "58bfb72c-bbaa-495b-b0ae-730b684b0af2",
   "metadata": {},
   "outputs": [
    {
     "data": {
      "text/plain": [
       "-0.12"
      ]
     },
     "execution_count": 170,
     "metadata": {},
     "output_type": "execute_result"
    }
   ],
   "source": [
    "round(cor.iloc[0,1],2)"
   ]
  },
  {
   "cell_type": "markdown",
   "id": "890369ab-a8c0-4927-b756-0b46fb7d3d32",
   "metadata": {},
   "source": [
    "# 로지스틱 회귀"
   ]
  },
  {
   "cell_type": "markdown",
   "id": "a5c260c4-6223-4b1e-91be-ca99a587fa0f",
   "metadata": {},
   "source": [
    "## 문제 : 타이타닉 데이터에서 \n",
    "Pclass, Gender, sibsp, parch를 독립변수로 사용하여 로지스틱 회귀모형을 실시하였을 때, parch변수의 계수값은? 단, Pclass는 범주형 변수이다\n",
    "\n",
    "(반올림하여 소수 셋째 자리까지 계산)\n"
   ]
  },
  {
   "cell_type": "code",
   "execution_count": 174,
   "id": "38da941e-9d77-4529-bc1e-32c1252d78a3",
   "metadata": {},
   "outputs": [],
   "source": [
    "df= pd.read_csv('data/Titanic.csv')"
   ]
  },
  {
   "cell_type": "code",
   "execution_count": 176,
   "id": "adf16172-1545-4d19-83ff-61dd935f8416",
   "metadata": {},
   "outputs": [],
   "source": [
    "from statsmodels.formula.api import logit"
   ]
  },
  {
   "cell_type": "code",
   "execution_count": 182,
   "id": "aceb7669-6c29-4dfc-a906-d3bb4e386664",
   "metadata": {},
   "outputs": [
    {
     "data": {
      "text/html": [
       "<div>\n",
       "<style scoped>\n",
       "    .dataframe tbody tr th:only-of-type {\n",
       "        vertical-align: middle;\n",
       "    }\n",
       "\n",
       "    .dataframe tbody tr th {\n",
       "        vertical-align: top;\n",
       "    }\n",
       "\n",
       "    .dataframe thead th {\n",
       "        text-align: right;\n",
       "    }\n",
       "</style>\n",
       "<table border=\"1\" class=\"dataframe\">\n",
       "  <thead>\n",
       "    <tr style=\"text-align: right;\">\n",
       "      <th></th>\n",
       "      <th>PassengerId</th>\n",
       "      <th>Survived</th>\n",
       "      <th>Pclass</th>\n",
       "      <th>Name</th>\n",
       "      <th>Gender</th>\n",
       "      <th>Age</th>\n",
       "      <th>SibSp</th>\n",
       "      <th>Parch</th>\n",
       "      <th>Ticket</th>\n",
       "      <th>Fare</th>\n",
       "      <th>Cabin</th>\n",
       "      <th>Embarked</th>\n",
       "    </tr>\n",
       "  </thead>\n",
       "  <tbody>\n",
       "    <tr>\n",
       "      <th>0</th>\n",
       "      <td>1</td>\n",
       "      <td>0</td>\n",
       "      <td>3</td>\n",
       "      <td>Braund, Mr. Owen Harris</td>\n",
       "      <td>male</td>\n",
       "      <td>22.0</td>\n",
       "      <td>1</td>\n",
       "      <td>0</td>\n",
       "      <td>A/5 21171</td>\n",
       "      <td>7.2500</td>\n",
       "      <td>NaN</td>\n",
       "      <td>S</td>\n",
       "    </tr>\n",
       "    <tr>\n",
       "      <th>1</th>\n",
       "      <td>2</td>\n",
       "      <td>1</td>\n",
       "      <td>1</td>\n",
       "      <td>Cumings, Mrs. John Bradley (Florence Briggs Th...</td>\n",
       "      <td>female</td>\n",
       "      <td>38.0</td>\n",
       "      <td>1</td>\n",
       "      <td>0</td>\n",
       "      <td>PC 17599</td>\n",
       "      <td>71.2833</td>\n",
       "      <td>C85</td>\n",
       "      <td>C</td>\n",
       "    </tr>\n",
       "  </tbody>\n",
       "</table>\n",
       "</div>"
      ],
      "text/plain": [
       "   PassengerId  Survived  Pclass  \\\n",
       "0            1         0       3   \n",
       "1            2         1       1   \n",
       "\n",
       "                                                Name  Gender   Age  SibSp  \\\n",
       "0                            Braund, Mr. Owen Harris    male  22.0      1   \n",
       "1  Cumings, Mrs. John Bradley (Florence Briggs Th...  female  38.0      1   \n",
       "\n",
       "   Parch     Ticket     Fare Cabin Embarked  \n",
       "0      0  A/5 21171   7.2500   NaN        S  \n",
       "1      0   PC 17599  71.2833   C85        C  "
      ]
     },
     "execution_count": 182,
     "metadata": {},
     "output_type": "execute_result"
    }
   ],
   "source": [
    "df.head(2)"
   ]
  },
  {
   "cell_type": "code",
   "execution_count": 184,
   "id": "7e10f0cb-6196-4da2-a17e-3307f7a1f42c",
   "metadata": {},
   "outputs": [],
   "source": [
    "formula=\"Survived ~ C(Pclass) +Gender +SibSp +Parch\""
   ]
  },
  {
   "cell_type": "code",
   "execution_count": 188,
   "id": "75b4111a-e376-44af-ac1f-ff55ddb71640",
   "metadata": {},
   "outputs": [],
   "source": [
    "# help(logit)\n",
    "\n",
    "# from_formula(formula, data, subset=None, drop_cols=None, *args, **kwargs) class method of statsmodels.discrete.discrete_model.Logit\n",
    "#     Create a Model from a formula and dataframe.\n",
    "\n",
    "#     Parameters\n",
    "#     ----------\n",
    "#     formula : str or generic Formula object\n",
    "#         The formula specifying the model.\n",
    "#     data : array_like\n",
    "#         The data for the model. See Notes."
   ]
  },
  {
   "cell_type": "code",
   "execution_count": 190,
   "id": "25938dbc-6a49-4a32-93c6-c179dc623efe",
   "metadata": {},
   "outputs": [
    {
     "name": "stdout",
     "output_type": "stream",
     "text": [
      "Optimization terminated successfully.\n",
      "         Current function value: 0.459565\n",
      "         Iterations 6\n"
     ]
    },
    {
     "data": {
      "text/plain": [
       "Intercept         2.491729\n",
       "C(Pclass)[T.2]   -0.848152\n",
       "C(Pclass)[T.3]   -1.866905\n",
       "Gender[T.male]   -2.760281\n",
       "SibSp            -0.232553\n",
       "Parch            -0.049847\n",
       "dtype: float64"
      ]
     },
     "execution_count": 190,
     "metadata": {},
     "output_type": "execute_result"
    }
   ],
   "source": [
    "model= logit(formula, data=df).fit()\n",
    "model.params"
   ]
  },
  {
   "cell_type": "code",
   "execution_count": 204,
   "id": "13a48d04-b411-42fd-a99e-11583e0d1c7b",
   "metadata": {},
   "outputs": [
    {
     "name": "stdout",
     "output_type": "stream",
     "text": [
      "0.9513747279566538\n"
     ]
    }
   ],
   "source": [
    "import numpy as np\n",
    "parameter=model.params\n",
    "parch=parameter['Parch']\n",
    "print(np.exp(parch))"
   ]
  },
  {
   "cell_type": "code",
   "execution_count": 210,
   "id": "31478669-3664-484c-a016-d415e60f1b33",
   "metadata": {},
   "outputs": [],
   "source": [
    "# Parch가 1 증가할 때, 생존할 **오즈(odds)**는 약 0.95배로 감소합니다.\n",
    "# 즉, Parch가 많을수록 생존 확률이 약간 낮아지는 경향이 있음 (다른 변수들이 동일할 때)\n",
    "# 생존확률 p = odds / (1+odds)"
   ]
  },
  {
   "cell_type": "markdown",
   "id": "a41cae2a-fd5d-4d1c-9117-993d8736f607",
   "metadata": {},
   "source": [
    "✔ 로지스틱 회귀 해석 핵심\n",
    "\n",
    "    **계수(β)**는 log-odds에 대한 영향력\n",
    "\n",
    "    exp⁡(β)exp(β) → 오즈비(Odds Ratio) 해석 가능\n",
    "\n",
    "    예: parch 계수가 0.2면, parch가 1 증가할 때 생존할 log-odds가 0.2 증가"
   ]
  },
  {
   "cell_type": "markdown",
   "id": "e0c88ac9-2b3d-47db-8e13-b19ace1fe4c8",
   "metadata": {},
   "source": [
    "Pclass는 범주형이므로 → C(Pclass) 처리\n",
    "\n",
    "Gender는 문자열이므로 → df['Gender'].map({'male':0, 'female':1}) 등 변환\n",
    "\n",
    "logit()으로 적합\n",
    "\n",
    "params['parch']의 값을 소수 셋째 자리까지 반올림"
   ]
  },
  {
   "cell_type": "markdown",
   "id": "dfb535b4-71ac-4793-9fbf-1130d343d73c",
   "metadata": {},
   "source": [
    "| 항목     | 설명                                                    |\n",
    "| ------ | ----------------------------------------------------- |\n",
    "| 종속변수   | `Survived` (0/1 이진값)                                  |\n",
    "| 독립변수   | `Pclass` (범주형), `Gender` (이진으로 인코딩), `sibsp`, `parch` |\n",
    "| 회귀모형   | **로지스틱 회귀** (`Logit` 함수 사용)                           |\n",
    "| 회귀계수   | **로그 오즈비** (log-odds)                                 |\n",
    "| 영향력 해석 | $\\exp(\\beta)$ → **오즈비(Odds Ratio)** 로 해석 가능           |\n"
   ]
  },
  {
   "cell_type": "markdown",
   "id": "c737ec0d-9690-45bf-81c2-592cde49089e",
   "metadata": {},
   "source": [
    "| 요소       | 설명                              |\n",
    "| -------- | ------------------------------- |\n",
    "| `~`      | **왼쪽은 종속변수(Y), 오른쪽은 독립변수(X들)**  |\n",
    "| `+`      | **설명변수 간 단순 추가(선형결합)**          |\n",
    "| `C(변수명)` | **범주형(categorical) 변수임을 명시**    |\n",
    "| 숫자형 변수   | 그냥 이름만 쓰면 됨 (예: `Age`, `Parch`) |\n",
    "| 자동 더미화   | `C()`를 쓰면 **자동으로 원-핫 인코딩 처리됨**  |\n"
   ]
  },
  {
   "cell_type": "markdown",
   "id": "dea491bf-d759-40a7-babb-43634d9d5783",
   "metadata": {},
   "source": [
    "statsmodels.formula.api는 통계모델을 R 스타일의 formula 문자열로 표현할 수 있게 해주는 매우 실용적인 인터페이스입니다.\n",
    "\n",
    "| 함수명         | 설명                                 | 예시                              |\n",
    "| ----------- | ---------------------------------- | ------------------------------- |\n",
    "| `ols()`     | **선형 회귀(Ordinary Least Squares)**  | `\"Y ~ X1 + X2\"`                 |\n",
    "| `logit()`   | **로지스틱 회귀 (이항 분류)**                | `\"Y ~ X1 + C(X2)\"`              |\n",
    "| `glm()`     | **일반화 선형모형 (Poisson, Binomial 등)** | `\"Y ~ X1\"` + `family=Poisson()` |\n",
    "| `mnlogit()` | **다항 로지스틱 회귀 (3개 이상 클래스)**         | `\"Y ~ X1 + X2\"`                 |\n",
    "| `mixedlm()` | **혼합효과모형 (랜덤효과 포함)**               | `\"Y ~ X1\"`                      |\n",
    "| `rlm()`     | **강건 회귀 (이상치에 강한)**                | `\"Y ~ X1\"`                      |\n",
    "| `gee()`     | **일반화 추정 방정식 (반복측정)**              | `\"Y ~ X1\"`                      |\n"
   ]
  },
  {
   "cell_type": "markdown",
   "id": "7e2228b6-bd6e-4056-9401-065e8f850390",
   "metadata": {},
   "source": [
    "- ols() — 선형 회귀\n",
    "\n",
    "```python\n",
    "from statsmodels.formula.api import ols\n",
    "model = ols(\"score ~ age + hours+ C(Sex)\", data=df).fit()\n",
    "```\n",
    "- logit() — 로지스틱 회귀\n",
    "```python\n",
    "from statsmodels.formula.api import logit\n",
    "model = logit(\"Survived ~ C(Sex) + Age\", data=df).fit()\n",
    "```"
   ]
  },
  {
   "cell_type": "code",
   "execution_count": null,
   "id": "30b694c4-e748-4d4e-a4fa-24553a036f2f",
   "metadata": {},
   "outputs": [],
   "source": []
  }
 ],
 "metadata": {
  "kernelspec": {
   "display_name": "Python [conda env:base] *",
   "language": "python",
   "name": "conda-base-py"
  },
  "language_info": {
   "codemirror_mode": {
    "name": "ipython",
    "version": 3
   },
   "file_extension": ".py",
   "mimetype": "text/x-python",
   "name": "python",
   "nbconvert_exporter": "python",
   "pygments_lexer": "ipython3",
   "version": "3.12.3"
  }
 },
 "nbformat": 4,
 "nbformat_minor": 5
}
