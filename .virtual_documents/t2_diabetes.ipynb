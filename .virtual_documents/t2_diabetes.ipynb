import pandas as pd
import numpy as np
from sklearn.ensemble import RandomForestClassifier
from sklearn.model_selection import train_test_split, cross_val_score
from sklearn.metrics import r2_score,auc,accuracy_score


train=pd.read_csv('data/diabete/diabetes_train.csv')
test=pd.read_csv('data/diabete/diabetes_test.csv')


train.info()


train.head(2)


test.info()





# target 분리
target = train.pop('Outcome')


train.shape,test.shape


target.value_counts()


# 결측치 확인
train.isnull().sum()


# id 제거 
train= train.drop('id',axis=1)
test= test.drop('id',axis=1)


train.shape,test.shape


rf= RandomForestClassifier(random_state=42)


X_train,X_test,y_train,y_test= train_test_split(train,target)


rf.fit(X_train,y_train)


pred= rf.predict(X_test)


pred


y_test


accuracy_score(y_test,pred)


from sklearn.metrics import roc_auc_score

proba= rf.predict_proba(X_test)[:,1]
proba


roc_auc =roc_auc_score(y_test,proba)


print(roc_auc)


# help(roc_auc_score) y_score로 넣을 값은 predict_proba(X)[:, 1] 이나 decision_function(X) 중 하나라는 뜻


pred = rf.predict_proba(test)[:,1]


pred


pred= pd.DataFrame({'pred':pred})
pred


pred.to_csv("data/diabete/diabetes_result.csv",index=False)



