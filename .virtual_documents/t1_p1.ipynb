import pandas as pd
import numpy as np





# 엑셀 파일 읽기
df_raw = pd.read_excel("data/basic1.xlsx", sheet_name='basic1')

# 첫 번째 열을 쉼표 기준으로 분리
df = df_raw.iloc[:, 0].str.split(",", expand=True)

# 컬럼명 설정
df.columns = ['id', 'age', 'city', 'f1', 'f2', 'f3', 'f4', 'f5']

# 타입 변환 (숫자 컬럼)
cols_to_numeric = ['age', 'f1', 'f2', 'f5']
df[cols_to_numeric] = df[cols_to_numeric].apply(pd.to_numeric, errors='coerce')


df.head()


df.info()








df1= df.copy()


df1.groupby(['city'])['f1'].transform('mean')


# f1 컬럼의 결측치는 city별 평균값으로 대체할 것 
df1.loc[:,'f1']=df1['f1'].fillna(df1.groupby(['city'])['f1'].transform('mean'))


round(df1[(df1['city']=='서울')&(df1['f2']>=1)]['f1'].mean(),2)











df2=df.copy()


med=df2['f5'].median()
q3= df2['f5'].quantile(.75)
q1= df2['f5'].quantile(.25)
iqr=q3-q1
over= df2['f5']>(q3+1.5*iqr)
below = df2['f5'] < (q1-1.5*iqr)
df2[over|below]= med
round(df2['f5'].mean(),2)








df3=df.copy()


df3.info()


cond= df3['f4']=='ENFJ'


round(df3[cond].sort_values(['f5'],ascending=False).head(3)['f5'].mean(),2)








df4=df.copy()


df4['f1_grade']= np.where(df4['f1']>=70,'high','low')


# df4.groupby(['f1_grade'])['f2'].mode()


df4[df4['f1_grade'] == 'high']['f2'].mode()[0]


df4[df4['f1_grade'] == 'low']['f2'].mode()[0]




















df5=df.copy()


round(df5[df5['f4'].str.contains('E')]['f5'].apply(lambda x : int(x)).mean(),2) # 	astype(int) 또는 apply(lambda x: int(x))








df6=df.copy()
df6.head(2)
df.shape


df.head(3)


# help(df6.drop_duplicates)
df6 = df6.drop_duplicates(subset =['f4','f2'])


df6.shape


pivot=df6.pivot_table(index='f4',values='f2',aggfunc='mean')
pivot.shape


pivot.reset_index(inplace=True)


pivot.shape



