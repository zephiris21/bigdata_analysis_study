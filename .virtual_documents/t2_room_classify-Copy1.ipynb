import pandas as pd
import numpy as np





train=pd.read_csv('data/room_occupacy/datatraining.csv')
test=pd.read_csv('data/room_occupacy/datatest.csv')


train.head(2)


test.head(2)


train.tail(2)


train.info()


train.isnull().sum()


train['date']=pd.to_datetime(train['date'])


test['date']=pd.to_datetime(test['date'])


# help(pd.to_datetime)


train.info()


train['hour']=train['date'].dt.hour


train['min']=train['date'].dt.minute


train['day']=train['date'].dt.day


test['hour']=test['date'].dt.hour
test['min']=test['date'].dt.minute
test['day']=test['date'].dt.day


train.drop(['date'],axis=1,inplace=True)
test.drop(['date'],axis=1,inplace=True)


train.info()


train.shape,test.shape


target= train.pop('Occupancy')
test_target= test.pop('Occupancy')


train.shape,test.shape


# 원핫인코딩
train= pd.get_dummies(train)
test= pd.get_dummies(test)


train.shape,test.shape


from sklearn.ensemble import RandomForestClassifier
from sklearn.model_selection import cross_val_score


rf=RandomForestClassifier(random_state=42, max_depth=7, n_estimators=500)


score= cross_val_score(rf,train,target,cv=2)


score


cross_val_score(rf,train,target,cv=2)


score.mean()


# 모델 학습 및 평가


rf.fit(train,target)


pred=rf.predict(test)


from sklearn.metrics import roc_auc_score, accuracy_score,f1_score,recall_score


import sklearn.metrics 
# dir(sklearn.metrics)


scores= roc_auc_score(test_target,pred)


scores


accuracy_score(test_target,pred)


f1_score(test_target,pred)


recall_score(test_target,pred)












