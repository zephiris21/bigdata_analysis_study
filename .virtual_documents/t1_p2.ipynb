


import pandas as pd
import numpy as np


df= pd.read_csv("data/mtcars.csv")


df.info()


df.head(2)


df.rename(columns={'Unnamed: 0':'car_name'},inplace=True)


df.head(2)


round(df.sort_values(['mpg'],ascending=False).head(10)['mpg'].mean(),2)


# dir(df)





# import scipy.stats
# dir(scipy.stats)


# import sklearn.preprocessing 
# dir(sklearn.preprocessing)



from sklearn.preprocessing import MinMaxScaler


scaler= MinMaxScaler()
scaled= scaler.fit(df[['qsec']]).transform(df[['qsec']])
df['scaled_qsec'] = scaled

(df['scaled_qsec'] >0.5).sum()


scaled


# help(scaler)





df["date"] = pd.date_range(start="2022-01-01", periods=len(df), freq="W")


# df['date']


df['year']=df['date'].dt.year
df['month']=df['date'].dt.month
df['dayofweek']=df['date'].dt.weekday
df['week']=df['date'].dt.isocalendar().week


# help(df['date'].dt)


filtered_df=df[(df['year']==2022)& (df['month'].between(6,12))]
avg_mpg_6_to_12 = round(filtered_df["mpg"].mean(), 2)


df.head(2)


filtered_df.shape


### 날짜 파생변수 생성해서 머신러닝 작업 2유형에서 중요한 변수로 사용 가능











df= pd.read_csv("data/mtcars.csv")


df.head(3)


df.shape[0],len(df)


df['power_to_weight']=df['hp']/df['wt']


df.head(2)


df['mpg_label']=np.where(df['mpg']>=20,'high','low')


df.head(2)



