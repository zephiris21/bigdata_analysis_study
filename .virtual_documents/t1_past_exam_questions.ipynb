


# 구글드라이브 연결
# from google.colab import drive
# drive.mount('/content/drive')


# 라이브러리 및 데이터 불러오기
import pandas as pd

path = "/content/drive/MyDrive/Colab Notebooks/youtube/빅데이터분석기사/2_작업형1_기출/"
df = pd.read_csv(path + 'basic1.csv')
df.head()


# f5컬럼을 기준으로 내림차순 정렬
df = df.sort_values('f5', ascending=False)
df.head(10)


# 참고 - 인덱스 초기화
df = df.reset_index(drop=True)
df.head(10)


# 최소값 찾기
min = df['f5'][:10].min()
# min = 91.297791
min


# 80세 이상의 f5컬럼 평균
print(df[df['age']>=80]['f5'].mean())





# 라이브러리 및 데이터 불러오기
import pandas as pd
import numpy as np

path = "/content/drive/MyDrive/Colab Notebooks/youtube/빅데이터분석기사/2_작업형1_기출/"
df = pd.read_csv(path + 'basic1.csv')


# 데이터 나누기 방법1
data70 = df.iloc[:70]
data30 = df.iloc[70:]

# [심화학습] 데이터 나누기 방법2
# data70, data30 = np.split(df, [int(.7*len(df))])

# [심화학습] 데이터 나누기 방법3 (랜덤으로 샘플링하라고 했을 때!!)
# data70 = df.sample(frac = 0.7)
# data70 = df.drop(data70.index)

data70.tail()


## 결측치 확인
data70.isnull().sum()


## 결측치 채우기 전 f1컬럼 표준편자
std1 = np.std(data70['f1'])
std1


## 중앙값 확인
med=data70['f1'].median()
med


## 중앙값으로 채우기
data70['f1'] = data70['f1'].fillna(med)

## 다른 방법들
# data70['f1']= data70['f1'].replace(np.nan, med)
# data70 = data70.fillna(value=med)


## 결측치 확인
data70.isnull().sum()


## 결측치를 채운 후 표준편차 구하기
std2 = np.std(data70['f1'])
std2


print(std1-std2)





# 라이브러리 및 데이터 불러오기
import pandas as pd
import numpy as np

path = "/content/drive/MyDrive/Colab Notebooks/youtube/빅데이터분석기사/2_작업형1_기출/"
df = pd.read_csv(path + 'basic1.csv')


std = np.std(df['age']) * 1.5
mean = df['age'].mean()

min_out = mean - std
max_out = mean + std
print(min_out, max_out)


# 이상치 age합
df[(df['age']>max_out)|(df['age']<min_out)]['age'].sum()

# 다르게 작성방법
# df.loc[(df['age'] > max)]['age'].sum() + df.loc[(df['age']< min)]['age'].sum()
