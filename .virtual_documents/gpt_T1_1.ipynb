import pandas as pd
import numpy as np





# 엑셀 파일 읽기
df_raw = pd.read_excel("data/basic1.xlsx", sheet_name='basic1')

# 첫 번째 열을 쉼표 기준으로 분리
df = df_raw.iloc[:, 0].str.split(",", expand=True)

# 컬럼명 설정
df.columns = ['id', 'age', 'city', 'f1', 'f2', 'f3', 'f4', 'f5']

# 타입 변환 (숫자 컬럼)
cols_to_numeric = ['age', 'f1', 'f2', 'f5']
df[cols_to_numeric] = df[cols_to_numeric].apply(pd.to_numeric, errors='coerce')


df.head()


df.info()








df1= df.copy()


df1.info() 





df1.isnull().sum()


df1.groupby(['city'])['f1'].mean()


# df1.groupby(['city'])['f1'].transform('mean')


### f1 컬럼의 결측치를 city별 평균값으로 대체
df1['f1']=df1['f1'].fillna(df1.groupby(['city'])['f1'].transform('mean'))


df1.isnull().sum()


# city == '서울'  f2 >= 1 조건 만족하는 행들의 f1 평균값을 소수점 둘째 자리까지 반올림하여 출력
round(df1[(df1['city']=='서울') & (df1['f2']>=1)]['f1'].mean(),2)











df2=df.copy()


df2.info()


median= df2['f5'].median()


q1=df2['f5'].quantile(0.25)
q3=df2['f5'].quantile(0.75)


iqr=q3-q1


len(df2[(df2['f5']< (q1-1.5*iqr)) |(df2['f5']>(q3+1.5*iqr))])





df2[(df2['f5']< (q1-1.5*iqr)) |(df2['f5']>(q3+1.5*iqr))]=median


round(df2['f5'].mean(),2)





condition = (df2['f5'] < (q1 - 1.5 * iqr)) | (df2['f5'] > (q3 + 1.5 * iqr))


df2.loc[condition, 'f5'] = median


print(round(df2['f5'].mean(), 2))  # 56.73





df3=df.copy()


df3.info()


enfj= df3.loc[(df3['f4']=='ENFJ'),:]


# enfj.info()


round(enfj.sort_values(['f5'],ascending=False).head(3)['f5'].mean(),2)








df4=df.copy()


df4.info()


# f1 컬럼의 값이 70 이상이면 'high', **그 미만이면 'low'**로 구분하여 새로운 컬럼 f1_grade를 생성하시오. 
df4['f1_grade']=np.where((df4['f1'] >=70),'high','low')
df4['f1_grade']


# 생성된 f1_grade 그룹별로 f2 컬럼의 **최빈값(가장 자주 등장하는 값)**을 출력하시오. 
df4.groupby(['f1_grade'])['f2'].unique()


sum(df4.loc[df4['f1_grade']=='high','f2']==1)


for grade in df4['f1_grade'].unique():
    mode = df4[df4['f1_grade'] == grade]['f2'].mode()
    print(f"{grade} 그룹 → {mode.iloc[0]}")


df4[df4['f1_grade'] == 'high']['f2'].value_counts()


df4[df4['f1_grade'] == 'low']['f2'].value_counts()


# value_counts, idxmax, lambda, agg 사용
df4.groupby('f1_grade')['f2'].agg(lambda x: x.value_counts().idxmax())


df4.groupby('f1_grade')['f2'].transform(lambda x: x.value_counts().idxmax())








df.groupby('city')['f1'].agg('mean')
# → city별 평균만 남는다 (3개 도시면 3행)


df.groupby('city')['f1'].mean() # 축약형. agg 를 쓰면 ['mean','max'] 다양한 함수를 한꺼번에 사용 가능


df.groupby('city')['f1'].agg(['mean', 'max', 'min'])


df['f1'] = df['f1'].fillna(df.groupby('city')['f1'].transform('mean'))
# → 각 행에 해당 도시의 평균이 "늘어남"


df.groupby('city')['f1'].transform('mean')











df5=df.copy()


df5.head(3)


def has_e (letters):
    for letter in letters:
        if letter == 'E':
            return True
    return False  # for문을 다 돌아도 없으면 False
e_filtered= df5[df5['f4'].apply(has_e)]



e_filtered= df5[df5['f4'].apply(has_e)]


df5.value_counts()


df5.shape


e_filtered.shape


# 필터링된 데이터에서 `f5` 컬럼의 값을 **정수형(int)**으로 변환하시오.
round(e_filtered['f5'].astype(int).mean(),2)





e_filtered = df5[df5['f4'].str.contains('E')]
result = round(e_filtered['f5'].astype(int).mean(), 2)
print(result)





df6=df.copy()
df6.shape


df6_unique=df6.drop_duplicates(['f4','f2'])                        


df6_unique.shape


pivot=df6_unique.pivot_table(index='f4',values='f2',aggfunc='mean')
pivot



