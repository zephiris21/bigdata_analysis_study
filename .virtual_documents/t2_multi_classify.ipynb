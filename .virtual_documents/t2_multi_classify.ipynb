


import pandas as pd
import numpy as np


train =pd.read_csv('./data/4th-t2/train.csv')
test=pd.read_csv('data/4th-t2/test.csv')


train.shape, test.shape


train.info()


train.head(2)


test.head(2)


train.pop('ID')
test_ID=test.pop('ID')


target=train.pop('Segmentation')


train.shape, test.shape


num_cols= train.select_dtypes(['float64','int64']).columns


cat_cols=train.select_dtypes(['object']).columns


train= pd.get_dummies(train)
test= pd.get_dummies(test)


train.shape, test.shape


train.columns.equals(test.columns)


from sklearn.ensemble import RandomForestClassifier


rf=RandomForestClassifier(random_state=42, n_estimators=500, max_depth=6)


rf.fit(train,target)


pred=rf.predict(test)


# 교차 검증  이 문제의 경우 test 의 target 값이 주어지지 않아서 train 의 교차검증을 할 수 밖에 없다
from sklearn.model_selection import cross_val_score
scores = cross_val_score(rf, train, target, scoring='f1_macro', cv=5)
print(scores)
print(scores.mean())



