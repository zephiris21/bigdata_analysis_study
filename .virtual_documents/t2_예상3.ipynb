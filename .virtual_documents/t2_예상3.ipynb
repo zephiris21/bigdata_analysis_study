import pandas as pd
import numpy as np


df=pd.read_csv("data/adult/adult.csv")


df.head(2)


df.info()


df.isnull().sum()


# 시험환경 세팅 (코드 변경 X)
import pandas as pd
import numpy as np
from sklearn.model_selection import train_test_split

def exam_data_load(df, target, id_name="", null_name=""):
    if id_name == "":
        df = df.reset_index().rename(columns={"index": "id"})
        id_name = 'id'
    else:
        id_name = id_name
    
    if null_name != "":
        df[df == null_name] = np.nan
    
    X_train, X_test = train_test_split(df, test_size=0.2, random_state=2021)
    
    y_train = X_train[[id_name, target]]
    X_train = X_train.drop(columns=[target])

    
    y_test = X_test[[id_name, target]]
    X_test = X_test.drop(columns=[target])
    return X_train, X_test, y_train, y_test 


df=pd.read_csv("data/adult/adult.csv")
X_train, X_test, y_train, y_test = exam_data_load(df, target='income', null_name='?')

X_train.shape, X_test.shape, y_train.shape, y_test.shape


X_train.isnull().sum()


X_test.isnull().sum()


X_train.head(2)


y_train.head()


X_train['native.country'].value_counts()


X_train['native.country'].isnull().sum()


# 결측치 카테고리형 빈도수 높은걸로 채우기
cols= ['native.country','workclass','occupation'] 
for col in cols:
    X_train[col]=X_train[col].fillna("UnKnown")
    X_test[col]=X_test[col].fillna("UnKnown")


from sklearn.ensemble import RandomForestClassifier
from sklearn.model_selection import cross_val_score
from sklearn.metrics import accuracy_score


X_train.pop('id')
X_test.pop('id')


# X_train.info()


X_train= pd.get_dummies(X_train)
X_test=pd.get_dummies(X_test)


X_train.columns.equals(X_test.columns)


X_train, X_test= X_train.align(X_test,join='left',axis=1,fill_value=0)


X_train.columns.equals(X_test.columns)


X_train.shape,X_test.shape


rf=RandomForestClassifier(random_state=42,n_estimators=500)


rf.fit(X_train,y_train['income'])


pred=rf.predict(X_test)


score= accuracy_score(y_test['income'],pred)


score


pred






