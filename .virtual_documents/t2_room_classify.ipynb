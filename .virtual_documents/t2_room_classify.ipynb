import pandas as pd
import numpy as np


from sklearn.model_selection import train_test_split
from sklearn.ensemble import RandomForestClassifier
from sklearn.metrics import f1_score


train=pd.read_csv('data/room_occupacy/datatraining.csv')
test=pd.read_csv('data/room_occupacy/datatest.csv')


train.head()


train.info()





train.isnull().sum()


target=train.pop('Occupancy')

test_target=test.pop('Occupancy')


train.shape,test.shape


train.describe(include='O')


train['date'].tail(2),train['date'].head(2)


train['date']=pd.to_datetime(train['date'])
test['date']=pd.to_datetime(test['date'])


train['date'].info()


train['hour']=train['date'].dt.hour

test['hour']=test['date'].dt.hour

train['minute']=train['date'].dt.minute
test['minute']=test['date'].dt.minute


train.pop('date')


train.info()


test.drop('date',axis=1,inplace=True)


test.info()





rf=RandomForestClassifier(random_state=42,n_estimators=500)



rf.fit(train,target)



pred=rf.predict(test)


score= f1_score(test_target,pred)
score


# 시간 사용 안하면?


train=pd.read_csv('data/room_occupacy/datatraining.csv')
test=pd.read_csv('data/room_occupacy/datatest.csv')


target=train.pop('Occupancy')

test_target=test.pop('Occupancy')


train.pop('date'),test.pop('date')


train.info()


rf=RandomForestClassifier(random_state=42,n_estimators=500)
rf.fit(train,target)
pred=rf.predict(test)
score= f1_score(test_target,pred)
score



