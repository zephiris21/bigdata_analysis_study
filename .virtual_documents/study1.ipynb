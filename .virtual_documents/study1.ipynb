import pandas as pd
import numpy as np


import os
os.chdir('bigdata-analysis-test-study')
# df = pd.read_csv(r"D:\study\bigdata-analysis-test-study\data\Titanic.csv")
df=pd.read_csv("data/Titanic.csv")
df.head()





df.info()


group=df.groupby("Pclass")


result = df[(df['Survived'] == 1) & (df['Age'].notna())].groupby('Pclass')['Age'].mean().round(2).to_dict()
print(result)


# 1단계: 생존한 승객만 필터링
survived_passengers = df[df['Survived'] == 1]
print("생존자 수:", len(survived_passengers))


# 2단계: 나이 결측치 제거
survived_with_age = survived_passengers[survived_passengers['Age'].notna()]
print("나이 정보가 있는 생존자 수:", len(survived_with_age))



survived_with_age['Age'].mean()


# 3단계: 클래스별 그룹화 후 나이 평균 계산
class_age_mean = survived_with_age.groupby('Pclass')['Age'].mean()
print("클래스별 평균 나이:")
print(class_age_mean)



# 문제 1 정답
result = df[(df['Survived'] == 1) & (df['Age'].notna())].groupby('Pclass')['Age'].mean().round(2).to_dict()
print(result)





df.info()


df.head(2)





# df['Gender'].isnull().sum()
m_med=df[df['Gender']=='male']['Age'].median()
f_med=df[df['Gender']=='female']['Age'].median()
df[df['Gender']=='male']['Age'].fillna(m_med, inplace=True)


df[df['Gender']=='male']['Age'].isnull().sum()


# 방법 1: loc 사용 (가장 안전)
df.loc[df['Gender']=='male', 'Age'] = df.loc[df['Gender']=='male', 'Age'].fillna(m_med)
df.loc[df['Gender']=='female', 'Age'] = df.loc[df['Gender']=='female', 'Age'].fillna(f_med)





m_max_fare=df.loc[df['Gender']=='male','Fare'].max()


f_max_fare=df.loc[df['Gender']=='female','Fare'].max()


df.loc[(df['Gender']=='male') & (df['Fare']==m_max_fare), 'Age']


df.loc[(df['Gender']=='female')&(df['Fare']==f_max_fare),'Age']


max_idx = df.loc[df['Gender']=='male','Fare'].idxmax()
age = df.loc[max_idx, 'Age']


print(age)





df2=df.copy()


df2['Age'].isnull().sum()


df2_sorted=df2.sort_values('Age', ascending=False)
df2_sorted.loc[0:20,'Fare'].mean()


df2_sorted.iloc[0:20, 9].mean()


df2_sorted.loc[0:20, 'Fare'].mean()


print(round(df2_sorted.head(20)['Fare'].mean()-df2_sorted.tail(20)['Fare'].mean(),1))



# 문제 3 완료된 코드
result = df2_sorted.head(20)['Fare'].mean() - df2_sorted.tail(20)['Fare'].mean()
print(f"상위 20명과 하위 20명의 요금 차이: {result}")

# 문제에서 요구한 소수점 둘째 자리 반올림
final_answer = round(result, 2)
print(f"최종 답안 (소수점 둘째 자리): {final_answer}")

# === 검증 ===
print("\n=== 검증 ===")
top_20 = df2_sorted.head(20)
bottom_20 = df2_sorted.tail(20)

print(f"상위 20명 나이 범위: {top_20['Age'].min():.1f} ~ {top_20['Age'].max():.1f}세")
print(f"하위 20명 나이 범위: {bottom_20['Age'].min():.1f} ~ {bottom_20['Age'].max():.1f}세")

print(f"상위 20명 평균 요금: {top_20['Fare'].mean():.2f}")
print(f"하위 20명 평균 요금: {bottom_20['Fare'].mean():.2f}")
print(f"차이: {final_answer}")

# 🎯 코드 분석
print("\n=== 코드 분석 ===")
print("✅ 정렬: sort_values('Age', ascending=False)")
print("✅ 상위 추출: head(20)")  
print("✅ 하위 추출: tail(20)")
print("✅ 평균 계산: mean()")
print("✅ 차이 계산: 상위 - 하위")
print("✅ 한 줄 완성: 매우 효율적!")





df=pd.read_csv("data/Titanic.csv")





#축약 식 답
df['Age']=df['Age'].fillna(df.groupby(['Pclass','Gender'])['Age'].transform('mean'))
abs(round(df[df['Pclass']==3]['Age'].mean()-df[df['Pclass']==1]['Age'].mean(),1))





df=pd.read_csv("data/Titanic.csv")


df1=df.copy()
df2=df.copy()





df1['Age'].isnull().sum()


group=df1.groupby(['Pclass','Gender'])


grouped_mean=group['Age'].transform('mean')


df1['Age']=df1['Age'].fillna(grouped_mean)


df1['Age'].isnull().sum()





abs(round(df1[df1['Pclass']==3]['Age'].mean()-df1[df1['Pclass']==1]['Age'].mean(),1))











df2.groupby(['Pclass','Gender'])['Age'].mean()


df2[(df2['Pclass']==1)&(df2['Gender']=='female')]['Age'].fillna(34.611765)


df_copy=df.copy()
# === 방법 1: transform() 사용 (가장 깔끔) ===
print("\n=== 방법 1: transform() 사용 ===")
df_copy['Age'] = df_copy['Age'].fillna(
    df_copy.groupby(['Pclass', 'Gender'])['Age'].transform('mean')
)
print(f"대체 후 결측치 수: {df_copy['Age'].isnull().sum()}")

# === 방법 2: 그룹별 평균 미리 계산 ===
print("\n=== 방법 2: 그룹별 평균 미리 계산 ===")


df_copy['Age'] = df_copy['Age'].fillna(
    df_copy.groupby(['Pclass', 'Gender'])['Age'].transform('mean')
)


group['Age'].mean()


group_mean=df.groupby(['Pclass', 'Gender'])['Age'].transform('mean')


df.groupby(['Pclass','Gender'])['Age'].mean()


df['Age'] = df['Age'].fillna(group_mean)





df=pd.read_csv("data/Titanic.csv")


df.info()


df.head(5)



