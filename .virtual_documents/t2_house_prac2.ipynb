# 시험환경 세팅 (코드 변경 X)
import pandas as pd
import numpy as np
from sklearn.model_selection import train_test_split

def exam_data_load(df, target, id_name="", null_name=""):
    if id_name == "":
        df = df.reset_index().rename(columns={"index": "id"})
        id_name = 'id'
    else:
        id_name = id_name
    
    if null_name != "":
        df[df == null_name] = np.nan
    
    X_train, X_test = train_test_split(df, test_size=0.2, shuffle=True, random_state=2021)
    y_train = X_train[[id_name, target]]
    X_train = X_train.drop(columns=[id_name, target])
    y_test = X_test[[id_name, target]]
    X_test = X_test.drop(columns=[id_name, target])
    return X_train, X_test, y_train, y_test 
    
df = pd.read_csv("data/house/train.csv")
X_train, X_test, y_train, y_test = exam_data_load(df, target='SalePrice', id_name='Id')

X_train.shape, X_test.shape, y_train.shape, y_test.shape





X_train.head()


import pandas as pd
X_train.shape, X_test.shape


X_train.info()


X_train.isnull().sum().sort_values().tail(3)





X_train.drop(columns=['PoolQC','MiscFeature','Alley'],inplace=True)
X_test.drop(columns=['PoolQC','MiscFeature','Alley'],inplace=True)


X_train.shape, X_test.shape





num_cols=X_train.select_dtypes(['float64','int64']).columns
cat_cols=X_train.select_dtypes(['object']).columns


X_train.head()


for col in num_cols:
    X_train[col]=X_train[col].fillna(X_train[col].mean())
    X_test[col]=X_test[col].fillna(X_test[col].mean())


X_train.isnull().sum().sum(), X_test.isnull().sum().sum()


for col in cat_cols:
    X_train[col]=X_train[col].fillna(X_train[col].mode()[0])
    X_test[col]=X_test[col].fillna(X_test[col].mode()[0])


X_train.isnull().sum().sum(), X_test.isnull().sum().sum()





X_train.shape, X_test.shape


X_train= pd.get_dummies(X_train)
X_test= pd.get_dummies(X_test)


X_train.shape, X_test.shape





X_train, X_test = X_train.align(X_test,join='left',fill_value=0,axis=1)


X_train.shape, X_test.shape





from sklearn.ensemble import RandomForestRegressor


rf = RandomForestRegressor(random_state=42, n_estimators=500)


y_train.head()


# y_train.pop('Id')


rf.fit(X_train,y_train['SalePrice'])
pred= rf.predict(X_test)


from sklearn.metrics import mean_squared_error, r2_score


rmse= mean_squared_error(y_test['SalePrice'],pred,squared=False)
r2= r2_score(y_test['SalePrice'],pred)


print("RMSE:", rmse)
print("R²:", r2)



