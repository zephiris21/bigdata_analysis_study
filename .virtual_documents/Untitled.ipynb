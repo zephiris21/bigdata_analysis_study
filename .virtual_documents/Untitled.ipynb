import pandas as pd
import numpy as np


df= pd.read_csv("data/high_blood_pressure.csv")


df.head(2)


from scipy import stats
stats.ttest_rel(df['bp_post'],df['bp_pre']) # 평균의 차이가 있다 : alternative= two-sided  기본값 





df= pd.read_csv('data/Titanic.csv')


df.head(2)


survived= df['Survived']
gender= df['Gender']


survived.shape, gender.shape
tab= pd.DataFrame({"survived":survived,"gender":gender})
tab


tab.melt(id_vars='gender', value_vars=





contingency_table = pd.crosstab(df['Gender'], df['Survived'])


contingency_table


# 카이제곱 독립성 검정을 수행하고, 검정통계량과 p값을 구하시오.
stats.chi2_contingency(contingency_table)








fb = pd.read_csv("data/4th-t2/fb.csv")


fb.head(2)


fb['type'].value_counts()


video= fb[(fb['type']=='video')]['reactions']
photo= fb[(fb['type']=='photo')]['reactions']
link= fb[(fb['type']=='link')]['reactions']
status= fb[(fb['type']=='status')]['reactions']


stats.f_oneway(video,photo,link,status)








titanic= pd.read_csv('data/Titanic.csv')


titanic.head(2)


import statsmodels.formula.api as smf



