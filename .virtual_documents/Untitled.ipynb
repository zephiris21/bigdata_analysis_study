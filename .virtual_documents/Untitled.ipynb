# 시험환경 세팅 (코드 변경 X)
import pandas as pd
import numpy as np
from sklearn.model_selection import train_test_split

def exam_data_load(df, target, id_name="", null_name=""):
    if id_name == "":
        df = df.reset_index().rename(columns={"index": "id"})
        id_name = 'id'
    else:
        id_name = id_name
    
    if null_name != "":
        df[df == null_name] = np.nan
    
    X_train, X_test = train_test_split(df, test_size=0.2, shuffle=True, random_state=2021)
    y_train = X_train[[id_name, target]]
    X_train = X_train.drop(columns=[id_name, target])
    y_test = X_test[[id_name, target]]
    X_test = X_test.drop(columns=[id_name, target])
    return X_train, X_test, y_train, y_test 
    
df = pd.read_csv("data/house/train.csv")
X_train, X_test, y_train, y_test = exam_data_load(df, target='SalePrice', id_name='Id')

X_train.shape, X_test.shape, y_train.shape, y_test.shape





import pandas as pd
X_train.shape, X_test.shape


X_train.describe(include='object')


pd.set_option("display.max_columns", 100)
display(X_train.head(3))
display(X_test.head(3))


y_train['SalePrice'].hist()


X_train.isnull().sum()


X_train.isnull().sum().sort_values(ascending=False)[:20]


X_train.info()


y_train.info()





df = pd.read_csv("data/house/train.csv")
X_train, X_test, y_train, y_test = exam_data_load(df, target='SalePrice', id_name='Id')

X_train.shape, X_test.shape, y_train.shape, y_test.shape





# 결측 비율 계산
null_ratio=X_train.isnull().mean()
null_ratio


# 결측 비율이 0.8 이상인 열 삭제
drop_cols=null_ratio[null_ratio>=0.8].index

X_train= X_train.drop(columns=drop_cols   # 열 삭제하려면 axis=1 또는 columns= 중 하나는 반드시 명시
X_test=X_test.drop(columns=drop_cols)





# 수치형 범주형 분리
num_cols=X_train.select_dtypes(include=['float64','int64']).columns
cat_cols= X_train.select_dtypes(include=['object']).columns


# 수치형 결측치는 중앙값으로 대체
for col in num_cols:
    X_train[col]=X_train[col].fillna(X_train[col].median())
    X_test[col]=X_test[col].fillna(X_test[col].median()) # test에는 train 기준

# 범주형 결측치는 최빈값으로 대체
for col in cat_cols:
    X_train[col]=X_train[col].fillna(X_train[col].mode()[0])
    X_test[col]=X_test[col].fillna(X_test[col].mode()[0])





X_train=pd.get_dummies(X_train)
X_test=pd.get_dummies(X_test)


X_train.info()


X_train.shape, X_test.shape


# 열이름과 순서 같은지 확인
X_train.columns.equals(X_test.columns)


# train/test 열 맞추기 (사실 위에서 확인해서 필요없음)
X_train, X_test=X_train.align(X_test,join='left',axis=1,fill_value=0)








from sklearn.ensemble import RandomForestRegressor
from sklearn.metrics import mean_squared_error, r2_score

model= RandomForestRegressor(n_estimators=1000,random_state=42)
model.fit(X_train,y_train['SalePrice'])


pred=model.predict(X_test)


rmse=mean_squared_error(y_test['SalePrice'], pred, squared=False)
r2=r2_score(y_test['SalePrice'],pred)

print("RMSE:", rmse)
print("R2:", r2)


from xgboost import XGBRegressor
from sklearn.metrics import mean_squared_error, r2_score

# 모델 정의 및 학습
model = XGBRegressor(n_estimators=100, random_state=42)
model.fit(X_train, y_train['SalePrice'])

# 예측
pred = model.predict(X_test)

# 평가
rmse = mean_squared_error(y_test['SalePrice'], pred, squared=False)
r2 = r2_score(y_test['SalePrice'], pred)

print("RMSE:", rmse)
print("R²:", r2)




