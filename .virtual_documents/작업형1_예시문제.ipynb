





# 구글드라이브 연결
# from google.colab import drive
# drive.mount('/content/drive')





# 라이브러리 불러오기
import pandas as pd
from sklearn.preprocessing import minmax_scale

# 데이터 불러오기
data = pd.read_csv('data/mtcars.csv')
print('minmax 변환 전: \n',data['qsec'].head())

# min-max scale
data['qsec'] = minmax_scale(data['qsec'])
print('minmax 변환 후: \n',data['qsec'].head())

# 0.5보다 큰 값 (True를 더 함)
print(sum(data['qsec'] > 0.5))





# 라이브러리 불러오기
import pandas as pd

# 데이터 불러오기
path = "/content/drive/MyDrive/Colab Notebooks/youtube/빅데이터분석기사/1_작업형1_예시/"
data = pd.read_csv(path + 'mtcars.csv')
print('minmax 변환 전: \n',data['qsec'].head())

# min-max scale
def minmax(data):
    data = (data - min(data)) / (max(data) - min(data))
    return data

data['qsec'] = minmax(data['qsec'])
print('minmax 변환 후: \n',data['qsec'].head())

# 0.5보다 큰 값 (row 수 파악)
print(len(data[data['qsec']>0.5]))
