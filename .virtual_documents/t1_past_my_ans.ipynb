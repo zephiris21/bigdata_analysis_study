


import pandas as pd
import numpy as np


# 엑셀 파일 읽기
df_raw = pd.read_excel("data/basic1.xlsx", sheet_name='basic1')

# 첫 번째 열을 쉼표 기준으로 분리
df = df_raw.iloc[:, 0].str.split(",", expand=True)

# 컬럼명 설정
df.columns = ['id', 'age', 'city', 'f1', 'f2', 'f3', 'f4', 'f5']

# 타입 변환 (숫자 컬럼)
cols_to_numeric = ['age', 'f1', 'f2', 'f5']
df[cols_to_numeric] = df[cols_to_numeric].apply(pd.to_numeric, errors='coerce')


df1=df.copy()


df_sorted=df1.sort_values(['f5'],ascending=False).reset_index(drop=True)


f5min=df_sorted.head(10)['f5'].min()
df_sorted.loc[:9,'f5']=f5min
result= df_sorted[df_sorted['age']>=80]['f5'].mean()
result





# 라이브러리 및 데이터 불러오기
import pandas as pd
import numpy as np




df2=df.copy()


df2.info()


df2=df2.loc[:69,:]


df2.shape


df2['f1'].isnull().sum()


df2['f1'].describe() # std = 17.987276


std1= df2['f1'].agg('std')
median=df2['f1'].median()


df2.loc[:,'f1']= df2['f1'].fillna(median)


std2 = df2['f1'].std()


abs(std2-std1)


df2.isnull().sum()





df3=df.copy()


mean=df3['age'].mean()


std=df3['age'].std()


df3[(df3['age']>mean+1.5*std)|(df3['age']<mean-1.5*std)]['age'].sum()


# 혼자 연습
df4=df.copy()
df4.info()


df4.head(2)


df4.groupby(['city','f4'])['age'].mean().reset_index()


df4.groupby(['city','f4'])['age'].mean().head()



