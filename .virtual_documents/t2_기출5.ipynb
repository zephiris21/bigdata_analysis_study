


import pandas as pd
import numpy as np
train=pd.read_csv('data/car/train.csv')
test= pd.read_csv('data/car/test.csv')


train.info()


test.info()


target= train.pop('price')


train.isnull().sum()


from sklearn.ensemble import RandomForestRegressor
from sklearn.model_selection import cross_val_score


train['model'].nunique()


train.shape,test.shape


train=pd.get_dummies(train)
test=pd.get_dummies(test)


train.shape,test.shape


train.columns.equals(test.columns)


rf= RandomForestRegressor(random_state=42,n_estimators=500)


score=cross_val_score(rf,train,target,cv=2)
score


rf.fit(train,target)
pred=rf.predict(test)

result=pd.DataFrame({"pred":pred})
result


result.to_csv('result.csv',index=False)






#


from sklearn.model_selection import train_test_split
from sklearn.metrics import r2_score,root_mean_squared_error


train=pd.read_csv('data/car/train.csv')


X_train, X_test= train_test_split(train)


X_train.pop(
