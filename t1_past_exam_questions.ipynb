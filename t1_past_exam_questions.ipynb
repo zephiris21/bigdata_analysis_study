{
 "cells": [
  {
   "cell_type": "markdown",
   "metadata": {
    "_cell_guid": "af4252ad-f822-45d3-b9c2-f26af7608ef4",
    "_uuid": "de34d146-4c69-4b7c-82f6-11d6287f6094",
    "collapsed": false,
    "execution": {
     "iopub.execute_input": "2021-10-07T06:47:44.152391Z",
     "iopub.status.busy": "2021-10-07T06:47:44.152048Z",
     "iopub.status.idle": "2021-10-07T06:47:44.18282Z",
     "shell.execute_reply": "2021-10-07T06:47:44.182194Z",
     "shell.execute_reply.started": "2021-10-07T06:47:44.152311Z"
    },
    "id": "MqvEjyHRCgNy",
    "jupyter": {
     "outputs_hidden": false
    }
   },
   "source": [
    "## 문제1\n",
    "- 데이터셋(basic1.csv)의 'f5' 컬럼을 기준으로 상위 10개의 데이터를 구하고,\n",
    "- 'f5'컬럼 10개 중 최소값으로 데이터를 대체한 후, \n",
    "- 'age'컬럼에서 80 이상인 데이터의'f5 컬럼 평균값 구하기"
   ]
  },
  {
   "cell_type": "code",
   "execution_count": 3,
   "metadata": {
    "colab": {
     "base_uri": "https://localhost:8080/"
    },
    "id": "2uolMTv7Cygi",
    "outputId": "561af543-7c82-45a6-aecb-6d3655af9b6d"
   },
   "outputs": [],
   "source": [
    "import pandas as pd\n",
    "import numpy as np"
   ]
  },
  {
   "cell_type": "code",
   "execution_count": 5,
   "metadata": {
    "colab": {
     "base_uri": "https://localhost:8080/",
     "height": 204
    },
    "id": "IUoQLZ49CgN7",
    "outputId": "48e632ff-6c0b-4690-cce8-3f622ff1be2f"
   },
   "outputs": [],
   "source": [
    "# 엑셀 파일 읽기\n",
    "df_raw = pd.read_excel(\"data/basic1.xlsx\", sheet_name='basic1')\n",
    "\n",
    "# 첫 번째 열을 쉼표 기준으로 분리\n",
    "df = df_raw.iloc[:, 0].str.split(\",\", expand=True)\n",
    "\n",
    "# 컬럼명 설정\n",
    "df.columns = ['id', 'age', 'city', 'f1', 'f2', 'f3', 'f4', 'f5']\n",
    "\n",
    "# 타입 변환 (숫자 컬럼)\n",
    "cols_to_numeric = ['age', 'f1', 'f2', 'f5']\n",
    "df[cols_to_numeric] = df[cols_to_numeric].apply(pd.to_numeric, errors='coerce')"
   ]
  },
  {
   "cell_type": "code",
   "execution_count": 3,
   "metadata": {
    "colab": {
     "base_uri": "https://localhost:8080/",
     "height": 359
    },
    "execution": {
     "iopub.execute_input": "2021-10-07T13:05:34.400611Z",
     "iopub.status.busy": "2021-10-07T13:05:34.400383Z",
     "iopub.status.idle": "2021-10-07T13:05:34.42095Z",
     "shell.execute_reply": "2021-10-07T13:05:34.420143Z",
     "shell.execute_reply.started": "2021-10-07T13:05:34.400584Z"
    },
    "id": "A_j6oQ0zCgN_",
    "outputId": "1d418397-f1c5-4a23-9bcb-47a0e90a4d43"
   },
   "outputs": [
    {
     "data": {
      "text/html": [
       "<div>\n",
       "<style scoped>\n",
       "    .dataframe tbody tr th:only-of-type {\n",
       "        vertical-align: middle;\n",
       "    }\n",
       "\n",
       "    .dataframe tbody tr th {\n",
       "        vertical-align: top;\n",
       "    }\n",
       "\n",
       "    .dataframe thead th {\n",
       "        text-align: right;\n",
       "    }\n",
       "</style>\n",
       "<table border=\"1\" class=\"dataframe\">\n",
       "  <thead>\n",
       "    <tr style=\"text-align: right;\">\n",
       "      <th></th>\n",
       "      <th>id</th>\n",
       "      <th>age</th>\n",
       "      <th>city</th>\n",
       "      <th>f1</th>\n",
       "      <th>f2</th>\n",
       "      <th>f3</th>\n",
       "      <th>f4</th>\n",
       "      <th>f5</th>\n",
       "    </tr>\n",
       "  </thead>\n",
       "  <tbody>\n",
       "    <tr>\n",
       "      <th>10</th>\n",
       "      <td>id11</td>\n",
       "      <td>40.0</td>\n",
       "      <td>서울</td>\n",
       "      <td>68.0</td>\n",
       "      <td>0</td>\n",
       "      <td>NaN</td>\n",
       "      <td>ENFP</td>\n",
       "      <td>98.429899</td>\n",
       "    </tr>\n",
       "    <tr>\n",
       "      <th>97</th>\n",
       "      <td>id98</td>\n",
       "      <td>39.0</td>\n",
       "      <td>경기</td>\n",
       "      <td>58.0</td>\n",
       "      <td>2</td>\n",
       "      <td>NaN</td>\n",
       "      <td>INFP</td>\n",
       "      <td>98.429899</td>\n",
       "    </tr>\n",
       "    <tr>\n",
       "      <th>9</th>\n",
       "      <td>id10</td>\n",
       "      <td>95.0</td>\n",
       "      <td>서울</td>\n",
       "      <td>74.0</td>\n",
       "      <td>1</td>\n",
       "      <td>NaN</td>\n",
       "      <td>ISFP</td>\n",
       "      <td>98.429899</td>\n",
       "    </tr>\n",
       "    <tr>\n",
       "      <th>76</th>\n",
       "      <td>id77</td>\n",
       "      <td>77.0</td>\n",
       "      <td>경기</td>\n",
       "      <td>31.0</td>\n",
       "      <td>0</td>\n",
       "      <td>NaN</td>\n",
       "      <td>INFP</td>\n",
       "      <td>98.429899</td>\n",
       "    </tr>\n",
       "    <tr>\n",
       "      <th>98</th>\n",
       "      <td>id99</td>\n",
       "      <td>1.0</td>\n",
       "      <td>경기</td>\n",
       "      <td>47.0</td>\n",
       "      <td>0</td>\n",
       "      <td>NaN</td>\n",
       "      <td>ESFJ</td>\n",
       "      <td>97.381034</td>\n",
       "    </tr>\n",
       "    <tr>\n",
       "      <th>91</th>\n",
       "      <td>id92</td>\n",
       "      <td>97.0</td>\n",
       "      <td>경기</td>\n",
       "      <td>78.0</td>\n",
       "      <td>1</td>\n",
       "      <td>NaN</td>\n",
       "      <td>INFP</td>\n",
       "      <td>97.381034</td>\n",
       "    </tr>\n",
       "    <tr>\n",
       "      <th>86</th>\n",
       "      <td>id87</td>\n",
       "      <td>19.0</td>\n",
       "      <td>경기</td>\n",
       "      <td>NaN</td>\n",
       "      <td>1</td>\n",
       "      <td>NaN</td>\n",
       "      <td>ISFP</td>\n",
       "      <td>97.381034</td>\n",
       "    </tr>\n",
       "    <tr>\n",
       "      <th>71</th>\n",
       "      <td>id72</td>\n",
       "      <td>8.0</td>\n",
       "      <td>경기</td>\n",
       "      <td>97.0</td>\n",
       "      <td>0</td>\n",
       "      <td>NaN</td>\n",
       "      <td>ESTJ</td>\n",
       "      <td>97.381034</td>\n",
       "    </tr>\n",
       "    <tr>\n",
       "      <th>11</th>\n",
       "      <td>id12</td>\n",
       "      <td>20.0</td>\n",
       "      <td>서울</td>\n",
       "      <td>NaN</td>\n",
       "      <td>0</td>\n",
       "      <td>NaN</td>\n",
       "      <td>ESTP</td>\n",
       "      <td>91.297791</td>\n",
       "    </tr>\n",
       "    <tr>\n",
       "      <th>19</th>\n",
       "      <td>id20</td>\n",
       "      <td>11.0</td>\n",
       "      <td>서울</td>\n",
       "      <td>51.0</td>\n",
       "      <td>1</td>\n",
       "      <td>NaN</td>\n",
       "      <td>INTJ</td>\n",
       "      <td>91.297791</td>\n",
       "    </tr>\n",
       "  </tbody>\n",
       "</table>\n",
       "</div>"
      ],
      "text/plain": [
       "      id   age city    f1  f2   f3    f4         f5\n",
       "10  id11  40.0   서울  68.0   0  NaN  ENFP  98.429899\n",
       "97  id98  39.0   경기  58.0   2  NaN  INFP  98.429899\n",
       "9   id10  95.0   서울  74.0   1  NaN  ISFP  98.429899\n",
       "76  id77  77.0   경기  31.0   0  NaN  INFP  98.429899\n",
       "98  id99   1.0   경기  47.0   0  NaN  ESFJ  97.381034\n",
       "91  id92  97.0   경기  78.0   1  NaN  INFP  97.381034\n",
       "86  id87  19.0   경기   NaN   1  NaN  ISFP  97.381034\n",
       "71  id72   8.0   경기  97.0   0  NaN  ESTJ  97.381034\n",
       "11  id12  20.0   서울   NaN   0  NaN  ESTP  91.297791\n",
       "19  id20  11.0   서울  51.0   1  NaN  INTJ  91.297791"
      ]
     },
     "execution_count": 3,
     "metadata": {},
     "output_type": "execute_result"
    }
   ],
   "source": [
    "# f5컬럼을 기준으로 내림차순 정렬\n",
    "df = df.sort_values('f5', ascending=False)\n",
    "df.head(10)"
   ]
  },
  {
   "cell_type": "code",
   "execution_count": 4,
   "metadata": {
    "colab": {
     "base_uri": "https://localhost:8080/",
     "height": 359
    },
    "execution": {
     "iopub.execute_input": "2021-10-07T13:05:34.422596Z",
     "iopub.status.busy": "2021-10-07T13:05:34.422204Z",
     "iopub.status.idle": "2021-10-07T13:05:34.449415Z",
     "shell.execute_reply": "2021-10-07T13:05:34.448448Z",
     "shell.execute_reply.started": "2021-10-07T13:05:34.422566Z"
    },
    "id": "5mXvpVjfCgOB",
    "outputId": "106e4f45-0c27-4055-a490-6ba1675844ca"
   },
   "outputs": [
    {
     "data": {
      "text/html": [
       "<div>\n",
       "<style scoped>\n",
       "    .dataframe tbody tr th:only-of-type {\n",
       "        vertical-align: middle;\n",
       "    }\n",
       "\n",
       "    .dataframe tbody tr th {\n",
       "        vertical-align: top;\n",
       "    }\n",
       "\n",
       "    .dataframe thead th {\n",
       "        text-align: right;\n",
       "    }\n",
       "</style>\n",
       "<table border=\"1\" class=\"dataframe\">\n",
       "  <thead>\n",
       "    <tr style=\"text-align: right;\">\n",
       "      <th></th>\n",
       "      <th>id</th>\n",
       "      <th>age</th>\n",
       "      <th>city</th>\n",
       "      <th>f1</th>\n",
       "      <th>f2</th>\n",
       "      <th>f3</th>\n",
       "      <th>f4</th>\n",
       "      <th>f5</th>\n",
       "    </tr>\n",
       "  </thead>\n",
       "  <tbody>\n",
       "    <tr>\n",
       "      <th>0</th>\n",
       "      <td>id11</td>\n",
       "      <td>40.0</td>\n",
       "      <td>서울</td>\n",
       "      <td>68.0</td>\n",
       "      <td>0</td>\n",
       "      <td>NaN</td>\n",
       "      <td>ENFP</td>\n",
       "      <td>98.429899</td>\n",
       "    </tr>\n",
       "    <tr>\n",
       "      <th>1</th>\n",
       "      <td>id98</td>\n",
       "      <td>39.0</td>\n",
       "      <td>경기</td>\n",
       "      <td>58.0</td>\n",
       "      <td>2</td>\n",
       "      <td>NaN</td>\n",
       "      <td>INFP</td>\n",
       "      <td>98.429899</td>\n",
       "    </tr>\n",
       "    <tr>\n",
       "      <th>2</th>\n",
       "      <td>id10</td>\n",
       "      <td>95.0</td>\n",
       "      <td>서울</td>\n",
       "      <td>74.0</td>\n",
       "      <td>1</td>\n",
       "      <td>NaN</td>\n",
       "      <td>ISFP</td>\n",
       "      <td>98.429899</td>\n",
       "    </tr>\n",
       "    <tr>\n",
       "      <th>3</th>\n",
       "      <td>id77</td>\n",
       "      <td>77.0</td>\n",
       "      <td>경기</td>\n",
       "      <td>31.0</td>\n",
       "      <td>0</td>\n",
       "      <td>NaN</td>\n",
       "      <td>INFP</td>\n",
       "      <td>98.429899</td>\n",
       "    </tr>\n",
       "    <tr>\n",
       "      <th>4</th>\n",
       "      <td>id99</td>\n",
       "      <td>1.0</td>\n",
       "      <td>경기</td>\n",
       "      <td>47.0</td>\n",
       "      <td>0</td>\n",
       "      <td>NaN</td>\n",
       "      <td>ESFJ</td>\n",
       "      <td>97.381034</td>\n",
       "    </tr>\n",
       "    <tr>\n",
       "      <th>5</th>\n",
       "      <td>id92</td>\n",
       "      <td>97.0</td>\n",
       "      <td>경기</td>\n",
       "      <td>78.0</td>\n",
       "      <td>1</td>\n",
       "      <td>NaN</td>\n",
       "      <td>INFP</td>\n",
       "      <td>97.381034</td>\n",
       "    </tr>\n",
       "    <tr>\n",
       "      <th>6</th>\n",
       "      <td>id87</td>\n",
       "      <td>19.0</td>\n",
       "      <td>경기</td>\n",
       "      <td>NaN</td>\n",
       "      <td>1</td>\n",
       "      <td>NaN</td>\n",
       "      <td>ISFP</td>\n",
       "      <td>97.381034</td>\n",
       "    </tr>\n",
       "    <tr>\n",
       "      <th>7</th>\n",
       "      <td>id72</td>\n",
       "      <td>8.0</td>\n",
       "      <td>경기</td>\n",
       "      <td>97.0</td>\n",
       "      <td>0</td>\n",
       "      <td>NaN</td>\n",
       "      <td>ESTJ</td>\n",
       "      <td>97.381034</td>\n",
       "    </tr>\n",
       "    <tr>\n",
       "      <th>8</th>\n",
       "      <td>id12</td>\n",
       "      <td>20.0</td>\n",
       "      <td>서울</td>\n",
       "      <td>NaN</td>\n",
       "      <td>0</td>\n",
       "      <td>NaN</td>\n",
       "      <td>ESTP</td>\n",
       "      <td>91.297791</td>\n",
       "    </tr>\n",
       "    <tr>\n",
       "      <th>9</th>\n",
       "      <td>id20</td>\n",
       "      <td>11.0</td>\n",
       "      <td>서울</td>\n",
       "      <td>51.0</td>\n",
       "      <td>1</td>\n",
       "      <td>NaN</td>\n",
       "      <td>INTJ</td>\n",
       "      <td>91.297791</td>\n",
       "    </tr>\n",
       "  </tbody>\n",
       "</table>\n",
       "</div>"
      ],
      "text/plain": [
       "     id   age city    f1  f2   f3    f4         f5\n",
       "0  id11  40.0   서울  68.0   0  NaN  ENFP  98.429899\n",
       "1  id98  39.0   경기  58.0   2  NaN  INFP  98.429899\n",
       "2  id10  95.0   서울  74.0   1  NaN  ISFP  98.429899\n",
       "3  id77  77.0   경기  31.0   0  NaN  INFP  98.429899\n",
       "4  id99   1.0   경기  47.0   0  NaN  ESFJ  97.381034\n",
       "5  id92  97.0   경기  78.0   1  NaN  INFP  97.381034\n",
       "6  id87  19.0   경기   NaN   1  NaN  ISFP  97.381034\n",
       "7  id72   8.0   경기  97.0   0  NaN  ESTJ  97.381034\n",
       "8  id12  20.0   서울   NaN   0  NaN  ESTP  91.297791\n",
       "9  id20  11.0   서울  51.0   1  NaN  INTJ  91.297791"
      ]
     },
     "execution_count": 4,
     "metadata": {},
     "output_type": "execute_result"
    }
   ],
   "source": [
    "# 참고 - 인덱스 초기화\n",
    "df = df.reset_index(drop=True)\n",
    "df.head(10)"
   ]
  },
  {
   "cell_type": "code",
   "execution_count": 5,
   "metadata": {
    "colab": {
     "base_uri": "https://localhost:8080/"
    },
    "execution": {
     "iopub.execute_input": "2021-10-07T13:05:34.451517Z",
     "iopub.status.busy": "2021-10-07T13:05:34.451142Z",
     "iopub.status.idle": "2021-10-07T13:05:34.465602Z",
     "shell.execute_reply": "2021-10-07T13:05:34.464499Z",
     "shell.execute_reply.started": "2021-10-07T13:05:34.451473Z"
    },
    "id": "LiFmTZkBCgOC",
    "outputId": "ea143794-0058-4482-8c64-36705b5fb583"
   },
   "outputs": [
    {
     "data": {
      "text/plain": [
       "91.29779092"
      ]
     },
     "execution_count": 5,
     "metadata": {},
     "output_type": "execute_result"
    }
   ],
   "source": [
    "# 최소값 찾기\n",
    "min = df['f5'][:10].min()\n",
    "# min = 91.297791\n",
    "min"
   ]
  },
  {
   "cell_type": "code",
   "execution_count": 6,
   "metadata": {
    "colab": {
     "base_uri": "https://localhost:8080/"
    },
    "execution": {
     "iopub.execute_input": "2021-10-07T13:05:34.467323Z",
     "iopub.status.busy": "2021-10-07T13:05:34.467073Z",
     "iopub.status.idle": "2021-10-07T13:05:34.480616Z",
     "shell.execute_reply": "2021-10-07T13:05:34.479766Z",
     "shell.execute_reply.started": "2021-10-07T13:05:34.467291Z"
    },
    "id": "2-wKG230CgOD",
    "outputId": "d9902821-2e5d-4eeb-d5f0-5860cd0d62a4"
   },
   "outputs": [
    {
     "name": "stdout",
     "output_type": "stream",
     "text": [
      "63.07232761739131\n"
     ]
    }
   ],
   "source": [
    "# 80세 이상의 f5컬럼 평균\n",
    "print(df[df['age']>=80]['f5'].mean())"
   ]
  },
  {
   "cell_type": "markdown",
   "metadata": {
    "id": "S8k2IJ0PCgOE"
   },
   "source": [
    "## 문제2\n",
    "- 데이터셋(basic1.csv)의 앞에서 순서대로 70% 데이터만 활용해서,\n",
    "- 'f1'컬럼 결측치를 중앙값으로 채우기 전후의 표준편차를 구하고\n",
    "- 두 표준편차 차이 계산하기"
   ]
  },
  {
   "cell_type": "code",
   "execution_count": 7,
   "metadata": {
    "execution": {
     "iopub.execute_input": "2021-10-07T13:05:34.48291Z",
     "iopub.status.busy": "2021-10-07T13:05:34.482032Z",
     "iopub.status.idle": "2021-10-07T13:05:34.497909Z",
     "shell.execute_reply": "2021-10-07T13:05:34.49689Z",
     "shell.execute_reply.started": "2021-10-07T13:05:34.482868Z"
    },
    "id": "BkAak0_qCgOG"
   },
   "outputs": [],
   "source": [
    "# 라이브러리 및 데이터 불러오기\n",
    "import pandas as pd\n",
    "import numpy as np\n",
    "\n",
    "path = \"/content/drive/MyDrive/Colab Notebooks/youtube/빅데이터분석기사/2_작업형1_기출/\"\n",
    "df = pd.read_csv(path + 'basic1.csv')"
   ]
  },
  {
   "cell_type": "code",
   "execution_count": 8,
   "metadata": {
    "colab": {
     "base_uri": "https://localhost:8080/",
     "height": 204
    },
    "execution": {
     "iopub.execute_input": "2021-10-07T13:05:34.499364Z",
     "iopub.status.busy": "2021-10-07T13:05:34.499108Z",
     "iopub.status.idle": "2021-10-07T13:05:34.522884Z",
     "shell.execute_reply": "2021-10-07T13:05:34.521751Z",
     "shell.execute_reply.started": "2021-10-07T13:05:34.499334Z"
    },
    "id": "rHn6NQZ9CgOI",
    "outputId": "8be871e9-130a-4976-c1a3-436d4c235a4f"
   },
   "outputs": [
    {
     "data": {
      "text/html": [
       "<div>\n",
       "<style scoped>\n",
       "    .dataframe tbody tr th:only-of-type {\n",
       "        vertical-align: middle;\n",
       "    }\n",
       "\n",
       "    .dataframe tbody tr th {\n",
       "        vertical-align: top;\n",
       "    }\n",
       "\n",
       "    .dataframe thead th {\n",
       "        text-align: right;\n",
       "    }\n",
       "</style>\n",
       "<table border=\"1\" class=\"dataframe\">\n",
       "  <thead>\n",
       "    <tr style=\"text-align: right;\">\n",
       "      <th></th>\n",
       "      <th>id</th>\n",
       "      <th>age</th>\n",
       "      <th>city</th>\n",
       "      <th>f1</th>\n",
       "      <th>f2</th>\n",
       "      <th>f3</th>\n",
       "      <th>f4</th>\n",
       "      <th>f5</th>\n",
       "    </tr>\n",
       "  </thead>\n",
       "  <tbody>\n",
       "    <tr>\n",
       "      <th>65</th>\n",
       "      <td>id66</td>\n",
       "      <td>87.0</td>\n",
       "      <td>경기</td>\n",
       "      <td>NaN</td>\n",
       "      <td>1</td>\n",
       "      <td>NaN</td>\n",
       "      <td>ISFP</td>\n",
       "      <td>17.252986</td>\n",
       "    </tr>\n",
       "    <tr>\n",
       "      <th>66</th>\n",
       "      <td>id67</td>\n",
       "      <td>66.0</td>\n",
       "      <td>경기</td>\n",
       "      <td>52.0</td>\n",
       "      <td>1</td>\n",
       "      <td>NaN</td>\n",
       "      <td>ISFJ</td>\n",
       "      <td>73.586397</td>\n",
       "    </tr>\n",
       "    <tr>\n",
       "      <th>67</th>\n",
       "      <td>id68</td>\n",
       "      <td>35.0</td>\n",
       "      <td>경기</td>\n",
       "      <td>45.0</td>\n",
       "      <td>2</td>\n",
       "      <td>NaN</td>\n",
       "      <td>ISFP</td>\n",
       "      <td>67.886373</td>\n",
       "    </tr>\n",
       "    <tr>\n",
       "      <th>68</th>\n",
       "      <td>id69</td>\n",
       "      <td>75.0</td>\n",
       "      <td>경기</td>\n",
       "      <td>85.0</td>\n",
       "      <td>0</td>\n",
       "      <td>NaN</td>\n",
       "      <td>ESTJ</td>\n",
       "      <td>69.730313</td>\n",
       "    </tr>\n",
       "    <tr>\n",
       "      <th>69</th>\n",
       "      <td>id70</td>\n",
       "      <td>9.0</td>\n",
       "      <td>경기</td>\n",
       "      <td>96.0</td>\n",
       "      <td>1</td>\n",
       "      <td>NaN</td>\n",
       "      <td>ISTP</td>\n",
       "      <td>48.431184</td>\n",
       "    </tr>\n",
       "  </tbody>\n",
       "</table>\n",
       "</div>"
      ],
      "text/plain": [
       "      id   age city    f1  f2   f3    f4         f5\n",
       "65  id66  87.0   경기   NaN   1  NaN  ISFP  17.252986\n",
       "66  id67  66.0   경기  52.0   1  NaN  ISFJ  73.586397\n",
       "67  id68  35.0   경기  45.0   2  NaN  ISFP  67.886373\n",
       "68  id69  75.0   경기  85.0   0  NaN  ESTJ  69.730313\n",
       "69  id70   9.0   경기  96.0   1  NaN  ISTP  48.431184"
      ]
     },
     "execution_count": 8,
     "metadata": {},
     "output_type": "execute_result"
    }
   ],
   "source": [
    "# 데이터 나누기 방법1\n",
    "data70 = df.iloc[:70]\n",
    "data30 = df.iloc[70:]\n",
    "\n",
    "# [심화학습] 데이터 나누기 방법2\n",
    "# data70, data30 = np.split(df, [int(.7*len(df))])\n",
    "\n",
    "# [심화학습] 데이터 나누기 방법3 (랜덤으로 샘플링하라고 했을 때!!)\n",
    "# data70 = df.sample(frac = 0.7)\n",
    "# data70 = df.drop(data70.index)\n",
    "\n",
    "data70.tail()"
   ]
  },
  {
   "cell_type": "code",
   "execution_count": 9,
   "metadata": {
    "colab": {
     "base_uri": "https://localhost:8080/"
    },
    "execution": {
     "iopub.execute_input": "2021-10-07T13:05:34.52566Z",
     "iopub.status.busy": "2021-10-07T13:05:34.524591Z",
     "iopub.status.idle": "2021-10-07T13:05:34.540544Z",
     "shell.execute_reply": "2021-10-07T13:05:34.539769Z",
     "shell.execute_reply.started": "2021-10-07T13:05:34.525584Z"
    },
    "id": "-YNkyuSECgOK",
    "outputId": "3771aa44-5fb6-45b2-e0e6-b423f25ff713"
   },
   "outputs": [
    {
     "data": {
      "text/plain": [
       "id       0\n",
       "age      0\n",
       "city     0\n",
       "f1      23\n",
       "f2       0\n",
       "f3      67\n",
       "f4       0\n",
       "f5       0\n",
       "dtype: int64"
      ]
     },
     "execution_count": 9,
     "metadata": {},
     "output_type": "execute_result"
    }
   ],
   "source": [
    "## 결측치 확인\n",
    "data70.isnull().sum()"
   ]
  },
  {
   "cell_type": "code",
   "execution_count": 10,
   "metadata": {
    "colab": {
     "base_uri": "https://localhost:8080/"
    },
    "execution": {
     "iopub.execute_input": "2021-10-07T13:05:34.542246Z",
     "iopub.status.busy": "2021-10-07T13:05:34.541596Z",
     "iopub.status.idle": "2021-10-07T13:05:34.555923Z",
     "shell.execute_reply": "2021-10-07T13:05:34.555351Z",
     "shell.execute_reply.started": "2021-10-07T13:05:34.542211Z"
    },
    "id": "klbZSducCgOL",
    "outputId": "5cfcf129-50a3-401e-9877-7d3ab42f0bc7"
   },
   "outputs": [
    {
     "data": {
      "text/plain": [
       "17.794892986121205"
      ]
     },
     "execution_count": 10,
     "metadata": {},
     "output_type": "execute_result"
    }
   ],
   "source": [
    "## 결측치 채우기 전 f1컬럼 표준편자\n",
    "std1 = np.std(data70['f1'])\n",
    "std1"
   ]
  },
  {
   "cell_type": "code",
   "execution_count": 11,
   "metadata": {
    "colab": {
     "base_uri": "https://localhost:8080/"
    },
    "execution": {
     "iopub.execute_input": "2021-10-07T13:05:34.5586Z",
     "iopub.status.busy": "2021-10-07T13:05:34.557987Z",
     "iopub.status.idle": "2021-10-07T13:05:34.569366Z",
     "shell.execute_reply": "2021-10-07T13:05:34.568464Z",
     "shell.execute_reply.started": "2021-10-07T13:05:34.558563Z"
    },
    "id": "blCy5c-4CgOM",
    "outputId": "1dd4396e-222d-47ba-a196-21676e362630"
   },
   "outputs": [
    {
     "data": {
      "text/plain": [
       "68.0"
      ]
     },
     "execution_count": 11,
     "metadata": {},
     "output_type": "execute_result"
    }
   ],
   "source": [
    "## 중앙값 확인\n",
    "med=data70['f1'].median()\n",
    "med"
   ]
  },
  {
   "cell_type": "code",
   "execution_count": 12,
   "metadata": {
    "colab": {
     "base_uri": "https://localhost:8080/"
    },
    "execution": {
     "iopub.execute_input": "2021-10-07T13:05:34.571067Z",
     "iopub.status.busy": "2021-10-07T13:05:34.570736Z",
     "iopub.status.idle": "2021-10-07T13:05:34.581574Z",
     "shell.execute_reply": "2021-10-07T13:05:34.580843Z",
     "shell.execute_reply.started": "2021-10-07T13:05:34.571026Z"
    },
    "id": "_FYYq4V1CgON",
    "outputId": "5ce60152-368d-4103-e2cf-0ad8565de020"
   },
   "outputs": [
    {
     "name": "stderr",
     "output_type": "stream",
     "text": [
      "/usr/local/lib/python3.7/dist-packages/ipykernel_launcher.py:2: SettingWithCopyWarning: \n",
      "A value is trying to be set on a copy of a slice from a DataFrame.\n",
      "Try using .loc[row_indexer,col_indexer] = value instead\n",
      "\n",
      "See the caveats in the documentation: https://pandas.pydata.org/pandas-docs/stable/user_guide/indexing.html#returning-a-view-versus-a-copy\n",
      "  \n"
     ]
    }
   ],
   "source": [
    "## 중앙값으로 채우기\n",
    "data70['f1'] = data70['f1'].fillna(med)\n",
    "\n",
    "## 다른 방법들\n",
    "# data70['f1']= data70['f1'].replace(np.nan, med)\n",
    "# data70 = data70.fillna(value=med)"
   ]
  },
  {
   "cell_type": "code",
   "execution_count": 13,
   "metadata": {
    "colab": {
     "base_uri": "https://localhost:8080/"
    },
    "execution": {
     "iopub.execute_input": "2021-10-07T13:05:34.583343Z",
     "iopub.status.busy": "2021-10-07T13:05:34.58312Z",
     "iopub.status.idle": "2021-10-07T13:05:34.59868Z",
     "shell.execute_reply": "2021-10-07T13:05:34.597587Z",
     "shell.execute_reply.started": "2021-10-07T13:05:34.583316Z"
    },
    "id": "_yX7sz3oCgOO",
    "outputId": "6531edfe-c83b-4abe-bbf6-2e2ace389710"
   },
   "outputs": [
    {
     "data": {
      "text/plain": [
       "id       0\n",
       "age      0\n",
       "city     0\n",
       "f1       0\n",
       "f2       0\n",
       "f3      67\n",
       "f4       0\n",
       "f5       0\n",
       "dtype: int64"
      ]
     },
     "execution_count": 13,
     "metadata": {},
     "output_type": "execute_result"
    }
   ],
   "source": [
    "## 결측치 확인\n",
    "data70.isnull().sum()"
   ]
  },
  {
   "cell_type": "code",
   "execution_count": 14,
   "metadata": {
    "colab": {
     "base_uri": "https://localhost:8080/"
    },
    "execution": {
     "iopub.execute_input": "2021-10-07T13:05:34.600479Z",
     "iopub.status.busy": "2021-10-07T13:05:34.600071Z",
     "iopub.status.idle": "2021-10-07T13:05:34.613328Z",
     "shell.execute_reply": "2021-10-07T13:05:34.612326Z",
     "shell.execute_reply.started": "2021-10-07T13:05:34.60044Z"
    },
    "id": "ET3k1ulsCgOP",
    "outputId": "2054f329-710e-474e-ae19-924b7131520c"
   },
   "outputs": [
    {
     "data": {
      "text/plain": [
       "14.585462429615124"
      ]
     },
     "execution_count": 14,
     "metadata": {},
     "output_type": "execute_result"
    }
   ],
   "source": [
    "## 결측치를 채운 후 표준편차 구하기\n",
    "std2 = np.std(data70['f1'])\n",
    "std2"
   ]
  },
  {
   "cell_type": "code",
   "execution_count": 15,
   "metadata": {
    "colab": {
     "base_uri": "https://localhost:8080/"
    },
    "execution": {
     "iopub.execute_input": "2021-10-07T13:05:34.61505Z",
     "iopub.status.busy": "2021-10-07T13:05:34.614748Z",
     "iopub.status.idle": "2021-10-07T13:05:34.623285Z",
     "shell.execute_reply": "2021-10-07T13:05:34.622441Z",
     "shell.execute_reply.started": "2021-10-07T13:05:34.615017Z"
    },
    "id": "paumWuIeCgOP",
    "outputId": "a5b0071d-056d-4705-b228-5b5f3057fb11"
   },
   "outputs": [
    {
     "name": "stdout",
     "output_type": "stream",
     "text": [
      "3.2094305565060814\n"
     ]
    }
   ],
   "source": [
    "print(std1-std2)"
   ]
  },
  {
   "cell_type": "markdown",
   "metadata": {
    "id": "xPIvaomqCgOQ"
   },
   "source": [
    "## 문제3\n",
    "- 데이터셋(basic1.csv)의 'age'컬럼의 이상치를 더하시오!\n",
    "- 단, 평균으로부터 1.5*표준편차를 벗어나는 영역을 이상치라고 판단함"
   ]
  },
  {
   "cell_type": "code",
   "execution_count": 16,
   "metadata": {
    "execution": {
     "iopub.execute_input": "2021-10-07T13:05:34.624879Z",
     "iopub.status.busy": "2021-10-07T13:05:34.624632Z",
     "iopub.status.idle": "2021-10-07T13:05:34.638028Z",
     "shell.execute_reply": "2021-10-07T13:05:34.636899Z",
     "shell.execute_reply.started": "2021-10-07T13:05:34.624851Z"
    },
    "id": "HTbMkHxZCgOR"
   },
   "outputs": [],
   "source": [
    "# 라이브러리 및 데이터 불러오기\n",
    "import pandas as pd\n",
    "import numpy as np\n",
    "\n",
    "path = \"/content/drive/MyDrive/Colab Notebooks/youtube/빅데이터분석기사/2_작업형1_기출/\"\n",
    "df = pd.read_csv(path + 'basic1.csv')"
   ]
  },
  {
   "cell_type": "code",
   "execution_count": 17,
   "metadata": {
    "colab": {
     "base_uri": "https://localhost:8080/"
    },
    "execution": {
     "iopub.execute_input": "2021-10-07T13:05:34.640021Z",
     "iopub.status.busy": "2021-10-07T13:05:34.63968Z",
     "iopub.status.idle": "2021-10-07T13:05:34.650217Z",
     "shell.execute_reply": "2021-10-07T13:05:34.649308Z",
     "shell.execute_reply.started": "2021-10-07T13:05:34.639978Z"
    },
    "id": "9Wv5hJVyCgOR",
    "outputId": "1fbea871-7d8b-41a0-acf8-451118e2d027"
   },
   "outputs": [
    {
     "name": "stdout",
     "output_type": "stream",
     "text": [
      "7.5320068233494055 95.50199317665061\n"
     ]
    }
   ],
   "source": [
    "std = np.std(df['age']) * 1.5\n",
    "mean = df['age'].mean()\n",
    "\n",
    "min_out = mean - std\n",
    "max_out = mean + std\n",
    "print(min_out, max_out)"
   ]
  },
  {
   "cell_type": "code",
   "execution_count": 18,
   "metadata": {
    "colab": {
     "base_uri": "https://localhost:8080/"
    },
    "execution": {
     "iopub.execute_input": "2021-10-07T13:05:34.651671Z",
     "iopub.status.busy": "2021-10-07T13:05:34.65142Z",
     "iopub.status.idle": "2021-10-07T13:05:34.66295Z",
     "shell.execute_reply": "2021-10-07T13:05:34.662082Z",
     "shell.execute_reply.started": "2021-10-07T13:05:34.651621Z"
    },
    "id": "69Ei417-CgOS",
    "outputId": "3f3afa09-304c-4bb6-9f55-fd8b50d9204c"
   },
   "outputs": [
    {
     "data": {
      "text/plain": [
       "514.0"
      ]
     },
     "execution_count": 18,
     "metadata": {},
     "output_type": "execute_result"
    }
   ],
   "source": [
    "# 이상치 age합\n",
    "df[(df['age']>max_out)|(df['age']<min_out)]['age'].sum()\n",
    "\n",
    "# 다르게 작성방법\n",
    "# df.loc[(df['age'] > max)]['age'].sum() + df.loc[(df['age']< min)]['age'].sum()"
   ]
  }
 ],
 "metadata": {
  "colab": {
   "collapsed_sections": [],
   "name": "t1_past_exam_questions.ipynb",
   "provenance": []
  },
  "kernelspec": {
   "display_name": "Python [conda env:base] *",
   "language": "python",
   "name": "conda-base-py"
  },
  "language_info": {
   "codemirror_mode": {
    "name": "ipython",
    "version": 3
   },
   "file_extension": ".py",
   "mimetype": "text/x-python",
   "name": "python",
   "nbconvert_exporter": "python",
   "pygments_lexer": "ipython3",
   "version": "3.12.3"
  }
 },
 "nbformat": 4,
 "nbformat_minor": 4
}
