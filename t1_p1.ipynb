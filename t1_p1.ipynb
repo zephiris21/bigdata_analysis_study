{
 "cells": [
  {
   "cell_type": "code",
   "execution_count": 4,
   "id": "fe9d4add-d057-401d-892c-bd03c16d404a",
   "metadata": {},
   "outputs": [],
   "source": [
    "import pandas as pd\n",
    "import numpy as np"
   ]
  },
  {
   "cell_type": "markdown",
   "id": "c1cc46f7-218d-40eb-8746-361554d9a83f",
   "metadata": {},
   "source": [
    "## 파일 로드"
   ]
  },
  {
   "cell_type": "code",
   "execution_count": 7,
   "id": "d3c37f29-0ff6-4687-bbd5-d1ba829f24c7",
   "metadata": {},
   "outputs": [],
   "source": [
    "# 엑셀 파일 읽기\n",
    "df_raw = pd.read_excel(\"data/basic1.xlsx\", sheet_name='basic1')\n",
    "\n",
    "# 첫 번째 열을 쉼표 기준으로 분리\n",
    "df = df_raw.iloc[:, 0].str.split(\",\", expand=True)\n",
    "\n",
    "# 컬럼명 설정\n",
    "df.columns = ['id', 'age', 'city', 'f1', 'f2', 'f3', 'f4', 'f5']\n",
    "\n",
    "# 타입 변환 (숫자 컬럼)\n",
    "cols_to_numeric = ['age', 'f1', 'f2', 'f5']\n",
    "df[cols_to_numeric] = df[cols_to_numeric].apply(pd.to_numeric, errors='coerce')"
   ]
  },
  {
   "cell_type": "code",
   "execution_count": 9,
   "id": "ed85938f-c356-4ebb-bacd-2f504937795a",
   "metadata": {},
   "outputs": [
    {
     "data": {
      "text/html": [
       "<div>\n",
       "<style scoped>\n",
       "    .dataframe tbody tr th:only-of-type {\n",
       "        vertical-align: middle;\n",
       "    }\n",
       "\n",
       "    .dataframe tbody tr th {\n",
       "        vertical-align: top;\n",
       "    }\n",
       "\n",
       "    .dataframe thead th {\n",
       "        text-align: right;\n",
       "    }\n",
       "</style>\n",
       "<table border=\"1\" class=\"dataframe\">\n",
       "  <thead>\n",
       "    <tr style=\"text-align: right;\">\n",
       "      <th></th>\n",
       "      <th>id</th>\n",
       "      <th>age</th>\n",
       "      <th>city</th>\n",
       "      <th>f1</th>\n",
       "      <th>f2</th>\n",
       "      <th>f3</th>\n",
       "      <th>f4</th>\n",
       "      <th>f5</th>\n",
       "    </tr>\n",
       "  </thead>\n",
       "  <tbody>\n",
       "    <tr>\n",
       "      <th>0</th>\n",
       "      <td>id01</td>\n",
       "      <td>2.0</td>\n",
       "      <td>서울</td>\n",
       "      <td>NaN</td>\n",
       "      <td>0</td>\n",
       "      <td></td>\n",
       "      <td>ENFJ</td>\n",
       "      <td>91.297791</td>\n",
       "    </tr>\n",
       "    <tr>\n",
       "      <th>1</th>\n",
       "      <td>id02</td>\n",
       "      <td>9.0</td>\n",
       "      <td>서울</td>\n",
       "      <td>70.0</td>\n",
       "      <td>1</td>\n",
       "      <td></td>\n",
       "      <td>ENFJ</td>\n",
       "      <td>60.339826</td>\n",
       "    </tr>\n",
       "    <tr>\n",
       "      <th>2</th>\n",
       "      <td>id03</td>\n",
       "      <td>27.0</td>\n",
       "      <td>서울</td>\n",
       "      <td>61.0</td>\n",
       "      <td>1</td>\n",
       "      <td></td>\n",
       "      <td>ISTJ</td>\n",
       "      <td>17.252986</td>\n",
       "    </tr>\n",
       "    <tr>\n",
       "      <th>3</th>\n",
       "      <td>id04</td>\n",
       "      <td>75.0</td>\n",
       "      <td>서울</td>\n",
       "      <td>NaN</td>\n",
       "      <td>2</td>\n",
       "      <td></td>\n",
       "      <td>INFP</td>\n",
       "      <td>52.667078</td>\n",
       "    </tr>\n",
       "    <tr>\n",
       "      <th>4</th>\n",
       "      <td>id05</td>\n",
       "      <td>24.0</td>\n",
       "      <td>서울</td>\n",
       "      <td>85.0</td>\n",
       "      <td>2</td>\n",
       "      <td></td>\n",
       "      <td>ISFJ</td>\n",
       "      <td>29.269869</td>\n",
       "    </tr>\n",
       "  </tbody>\n",
       "</table>\n",
       "</div>"
      ],
      "text/plain": [
       "     id   age city    f1  f2 f3    f4         f5\n",
       "0  id01   2.0   서울   NaN   0     ENFJ  91.297791\n",
       "1  id02   9.0   서울  70.0   1     ENFJ  60.339826\n",
       "2  id03  27.0   서울  61.0   1     ISTJ  17.252986\n",
       "3  id04  75.0   서울   NaN   2     INFP  52.667078\n",
       "4  id05  24.0   서울  85.0   2     ISFJ  29.269869"
      ]
     },
     "execution_count": 9,
     "metadata": {},
     "output_type": "execute_result"
    }
   ],
   "source": [
    "df.head()"
   ]
  },
  {
   "cell_type": "code",
   "execution_count": 11,
   "id": "578c409a-9445-4725-98b6-30771255201e",
   "metadata": {},
   "outputs": [
    {
     "name": "stdout",
     "output_type": "stream",
     "text": [
      "<class 'pandas.core.frame.DataFrame'>\n",
      "RangeIndex: 100 entries, 0 to 99\n",
      "Data columns (total 8 columns):\n",
      " #   Column  Non-Null Count  Dtype  \n",
      "---  ------  --------------  -----  \n",
      " 0   id      100 non-null    object \n",
      " 1   age     100 non-null    float64\n",
      " 2   city    100 non-null    object \n",
      " 3   f1      69 non-null     float64\n",
      " 4   f2      100 non-null    int64  \n",
      " 5   f3      100 non-null    object \n",
      " 6   f4      100 non-null    object \n",
      " 7   f5      100 non-null    float64\n",
      "dtypes: float64(3), int64(1), object(4)\n",
      "memory usage: 6.4+ KB\n"
     ]
    }
   ],
   "source": [
    "df.info()"
   ]
  },
  {
   "cell_type": "markdown",
   "id": "01d7cfbf-524f-4ac2-bf5c-2b7bcc2d865c",
   "metadata": {},
   "source": [
    "## 🧪 작업형 1유형 - 문제 1\n",
    "\n",
    "### 📌 문제 설명\n",
    "`f1` 컬럼의 결측치를 `city`별 평균값으로 대체하고, 조건에 맞는 평균을 계산하시오.\n",
    "\n",
    "---\n",
    "🔸 조건\n",
    "1. `f1` 컬럼의 결측치는 **`city`별 평균값**으로 대체할 것  \n",
    "2. 결측치가 처리된 이후, 아래 조건을 만족하는 데이터만 추출:\n",
    "   - `city == '서울'`\n",
    "   - `f2 >= 1`\n",
    "3. 위 조건을 만족하는 행들의 `f1` 평균값을 **소수점 둘째 자리까지 반올림**하여 출력하시오.\n",
    "\n",
    "---\n",
    "\n",
    "### ✅ 출력 형식\n",
    "```python\n",
    "print(result)  # 예시: 65.71\n",
    "```\n"
   ]
  },
  {
   "cell_type": "markdown",
   "id": "0bf1bfe8-149b-4d8d-a79e-203734509681",
   "metadata": {},
   "source": [
    "## 나의 풀이 "
   ]
  },
  {
   "cell_type": "code",
   "execution_count": 15,
   "id": "598a9ea7-8aba-47c2-a842-eb14f64a3554",
   "metadata": {},
   "outputs": [],
   "source": [
    "df1= df.copy()"
   ]
  },
  {
   "cell_type": "code",
   "execution_count": 23,
   "id": "6c9f8aee-3ed8-4996-8f3b-cf6b30171bdf",
   "metadata": {},
   "outputs": [
    {
     "data": {
      "text/plain": [
       "0     67.933333\n",
       "1     67.933333\n",
       "2     67.933333\n",
       "3     67.933333\n",
       "4     67.933333\n",
       "        ...    \n",
       "95    62.551724\n",
       "96    62.551724\n",
       "97    62.551724\n",
       "98    62.551724\n",
       "99    62.551724\n",
       "Name: f1, Length: 100, dtype: float64"
      ]
     },
     "execution_count": 23,
     "metadata": {},
     "output_type": "execute_result"
    }
   ],
   "source": [
    "df1.groupby(['city'])['f1'].transform('mean')"
   ]
  },
  {
   "cell_type": "code",
   "execution_count": 25,
   "id": "f705c974-22d5-4c8a-95fe-2bebdbf825ad",
   "metadata": {},
   "outputs": [],
   "source": [
    "# f1 컬럼의 결측치는 city별 평균값으로 대체할 것 \n",
    "df1.loc[:,'f1']=df1['f1'].fillna(df1.groupby(['city'])['f1'].transform('mean'))"
   ]
  },
  {
   "cell_type": "code",
   "execution_count": 34,
   "id": "9e253d5c-ea6b-4b41-8209-310cadad37ec",
   "metadata": {},
   "outputs": [
    {
     "data": {
      "text/plain": [
       "67.45"
      ]
     },
     "execution_count": 34,
     "metadata": {},
     "output_type": "execute_result"
    }
   ],
   "source": [
    "round(df1[(df1['city']=='서울')&(df1['f2']>=1)]['f1'].mean(),2)"
   ]
  },
  {
   "cell_type": "markdown",
   "id": "6f701c98-05f3-48b5-a5cc-c73f944d74cc",
   "metadata": {},
   "source": [
    "## 🧪 작업형 1유형 - 문제 2\n",
    "\n",
    "### 📌 문제 설명  \n",
    "`f5` 컬럼에서 이상치를 적절한 기준에 따라 탐지한 뒤, 이를 처리하고 평균값을 구하시오."
   ]
  },
  {
   "cell_type": "markdown",
   "id": "24adc9e0-03e5-4eb3-a08e-92e027210c76",
   "metadata": {},
   "source": [
    "### 🔸 조건  \n",
    "1. 이상치 기준은 **IQR 방식**을 따른다:\n",
    "   - **Q1 = 1사분위수**, **Q3 = 3사분위수**\n",
    "   - **IQR = Q3 - Q1**\n",
    "   - 이상치 범위: `f5 < Q1 - 1.5×IQR` 또는 `f5 > Q3 + 1.5×IQR`\n",
    "2. 이상치에 해당하는 값을 **전체 `f5`의 중앙값으로 대체**한다.\n",
    "3. 이상치가 처리된 `f5` 컬럼의 **평균값을 소수점 둘째 자리까지 반올림**하여 출력하시오.\n",
    "\n",
    "\n",
    "### ✅ 출력 형식\n",
    "```python\n",
    "print(result)  # 예시: 51.27\n",
    "```"
   ]
  },
  {
   "cell_type": "markdown",
   "id": "5dcbbcd5-0450-496e-ab91-c9b297a9f03b",
   "metadata": {},
   "source": [
    "## 나의 풀이"
   ]
  },
  {
   "cell_type": "code",
   "execution_count": 37,
   "id": "9c036e8b-8178-47f8-8b4d-ac3e5a61d2f9",
   "metadata": {},
   "outputs": [],
   "source": [
    "df2=df.copy()"
   ]
  },
  {
   "cell_type": "code",
   "execution_count": 51,
   "id": "b417ddc7-7484-4ac3-ad57-88efe8619c5d",
   "metadata": {},
   "outputs": [
    {
     "data": {
      "text/plain": [
       "56.73"
      ]
     },
     "execution_count": 51,
     "metadata": {},
     "output_type": "execute_result"
    }
   ],
   "source": [
    "med=df2['f5'].median()\n",
    "q3= df2['f5'].quantile(.75)\n",
    "q1= df2['f5'].quantile(.25)\n",
    "iqr=q3-q1\n",
    "over= df2['f5']>(q3+1.5*iqr)\n",
    "below = df2['f5'] < (q1-1.5*iqr)\n",
    "df2[over|below]= med\n",
    "round(df2['f5'].mean(),2)"
   ]
  },
  {
   "cell_type": "markdown",
   "id": "61956ac6-d91a-44c1-8317-bd0bb6fcd241",
   "metadata": {},
   "source": [
    "## 정답 풀이"
   ]
  },
  {
   "cell_type": "markdown",
   "id": "845a7031-6cd2-4bf9-b413-d3cc6246a51f",
   "metadata": {},
   "source": [
    "## 🧪 작업형 1유형 - 문제 3\n",
    "\n",
    "### 📌 문제 설명  \n",
    "특정 조건을 만족하는 데이터에 대해 정렬 및 부분 통계를 수행하시오.\n",
    "\n",
    "---\n",
    "\n",
    "### 🔸 조건  \n",
    "1. `f4` 컬럼의 값이 `'ENFJ'`인 데이터만 선택하시오.  \n",
    "2. 위 데이터에서 `f5` 컬럼을 기준으로 내림차순 정렬하시오.  \n",
    "3. 정렬된 데이터 중 상위 3개의 `f5` 평균값을 **소수 둘째 자리까지 반올림**하여 출력하시오.\n",
    "\n",
    "---\n",
    "\n",
    "### ✅ 출력 형식\n",
    "```python\n",
    "print(result)  # 예시: 73.41\n",
    "```"
   ]
  },
  {
   "cell_type": "code",
   "execution_count": 54,
   "id": "6a471cab-009c-47f7-a809-2aba0d0c14d4",
   "metadata": {},
   "outputs": [],
   "source": [
    "df3=df.copy()"
   ]
  },
  {
   "cell_type": "code",
   "execution_count": 56,
   "id": "35b65a5c-fb4c-444e-85ba-b0faf701da3a",
   "metadata": {},
   "outputs": [
    {
     "name": "stdout",
     "output_type": "stream",
     "text": [
      "<class 'pandas.core.frame.DataFrame'>\n",
      "RangeIndex: 100 entries, 0 to 99\n",
      "Data columns (total 8 columns):\n",
      " #   Column  Non-Null Count  Dtype  \n",
      "---  ------  --------------  -----  \n",
      " 0   id      100 non-null    object \n",
      " 1   age     100 non-null    float64\n",
      " 2   city    100 non-null    object \n",
      " 3   f1      69 non-null     float64\n",
      " 4   f2      100 non-null    int64  \n",
      " 5   f3      100 non-null    object \n",
      " 6   f4      100 non-null    object \n",
      " 7   f5      100 non-null    float64\n",
      "dtypes: float64(3), int64(1), object(4)\n",
      "memory usage: 6.4+ KB\n"
     ]
    }
   ],
   "source": [
    "df3.info()"
   ]
  },
  {
   "cell_type": "code",
   "execution_count": 58,
   "id": "0874510a-908b-466b-b8c8-d275f11a878e",
   "metadata": {},
   "outputs": [],
   "source": [
    "cond= df3['f4']=='ENFJ'"
   ]
  },
  {
   "cell_type": "code",
   "execution_count": 62,
   "id": "157ffe31-5af2-48b6-b92c-9021160aea34",
   "metadata": {},
   "outputs": [
    {
     "data": {
      "text/plain": [
       "73.79"
      ]
     },
     "execution_count": 62,
     "metadata": {},
     "output_type": "execute_result"
    }
   ],
   "source": [
    "round(df3[cond].sort_values(['f5'],ascending=False).head(3)['f5'].mean(),2)"
   ]
  },
  {
   "cell_type": "code",
   "execution_count": null,
   "id": "0bbce8f4-ff8d-44f1-8066-24dd471570be",
   "metadata": {},
   "outputs": [],
   "source": []
  },
  {
   "cell_type": "markdown",
   "id": "5ff138b7-50d0-4ed5-8a8d-e98e7a305646",
   "metadata": {},
   "source": [
    "## 🧪 작업형 1유형 - 문제 4\n",
    "\n",
    "### 📌 문제 설명  \n",
    "`f1` 점수를 기준으로 새로운 파생 변수를 만들고, 그룹별 통계량을 확인하시오.\n",
    "\n",
    "---\n",
    "\n",
    "### 🔸 조건  \n",
    "1. `f1` 컬럼의 값이 **70 이상이면 `'high'`**, **그 미만이면 `'low'`**로 구분하여 새로운 컬럼 `f1_grade`를 생성하시오.  \n",
    "   - 조건 기반 파생 변수 생성 방식 사용\n",
    "2. 생성된 `f1_grade` 그룹별로 `f2` 컬럼의 **최빈값(가장 자주 등장하는 값)**을 출력하시오.  \n",
    "   - `value_counts()` 또는 `mode()` 활용 가능\n",
    "\n",
    "---\n",
    "\n",
    "### ✅ 출력 예시\n",
    "```python\n",
    "# 예시 출력 (실제 결과는 다를 수 있음)\n",
    "high 그룹 → 2  \n",
    "low 그룹 → 1\n",
    "```\n",
    "\n",
    "*출력 형식은 자유롭게 딕셔너리나 개별 출력으로 구성해도 무방함.*\n"
   ]
  },
  {
   "cell_type": "code",
   "execution_count": 66,
   "id": "0b70f9a3-01bd-4bbd-99f2-81aa25967efe",
   "metadata": {},
   "outputs": [],
   "source": [
    "df4=df.copy()"
   ]
  },
  {
   "cell_type": "code",
   "execution_count": 68,
   "id": "47a75561-74fe-4875-a18d-848390351d65",
   "metadata": {},
   "outputs": [],
   "source": [
    "df4['f1_grade']= np.where(df4['f1']>=70,'high','low')"
   ]
  },
  {
   "cell_type": "code",
   "execution_count": 90,
   "id": "cf089fc4-2d48-4220-a3b2-a0f8d5f86209",
   "metadata": {},
   "outputs": [],
   "source": [
    "# df4.groupby(['f1_grade'])['f2'].mode()"
   ]
  },
  {
   "cell_type": "code",
   "execution_count": 94,
   "id": "31f99b4a-2ec1-4196-9388-ec8cdbfee302",
   "metadata": {},
   "outputs": [
    {
     "data": {
      "text/plain": [
       "1"
      ]
     },
     "execution_count": 94,
     "metadata": {},
     "output_type": "execute_result"
    }
   ],
   "source": [
    "df4[df4['f1_grade'] == 'high']['f2'].mode()[0]"
   ]
  },
  {
   "cell_type": "code",
   "execution_count": 96,
   "id": "288987b4-bf2e-410c-ab85-b368b4c712cf",
   "metadata": {},
   "outputs": [
    {
     "data": {
      "text/plain": [
       "0"
      ]
     },
     "execution_count": 96,
     "metadata": {},
     "output_type": "execute_result"
    }
   ],
   "source": [
    "df4[df4['f1_grade'] == 'low']['f2'].mode()[0]"
   ]
  },
  {
   "cell_type": "markdown",
   "id": "949176f6-cf96-4dc2-b404-017cd3f7f645",
   "metadata": {},
   "source": [
    "## 나의 풀이"
   ]
  },
  {
   "cell_type": "markdown",
   "id": "c2570acc-e49c-4fc3-ac66-5637a80160ea",
   "metadata": {},
   "source": [
    "### 개념 정리\n",
    "- ✅ agg()란?\n",
    "\n",
    "- agg()는 **집계 함수(aggregation)**를 적용할 때 쓰는 메서드야.\n",
    "- groupby() 뒤에 붙여서 각 그룹별로 원하는 통계 연산을 지정할 수 있어."
   ]
  },
  {
   "cell_type": "markdown",
   "id": "0c4603e4-556b-4a8b-82e0-850143bc2dae",
   "metadata": {},
   "source": [
    "| 구분        | `agg()`                                | `transform()`                                                 |\n",
    "| --------- | -------------------------------------- | ------------------------------------------------------------- |\n",
    "| **목적**    | 그룹별 요약값 반환                             | 원래 데이터의 **형태 유지**하며 변환값 반환                                    |\n",
    "| **결과 형태** | **줄어듦** (group 수만큼)                    | **원래 행 수 그대로 유지됨**                                            |\n",
    "| **예시 용도** | 그룹별 평균, 최댓값 등 **통계 요약표**               | 그룹 평균 등으로 **결측치 대체**할 때                                       |\n",
    "| **대표 예**  | `df.groupby('city')['f1'].agg('mean')` | `df['f1'].fillna(df.groupby('city')['f1'].transform('mean'))` |\n"
   ]
  },
  {
   "cell_type": "markdown",
   "id": "505cf6aa-8374-4dab-9287-e7edeec43ffb",
   "metadata": {},
   "source": [
    "| 함수            | 역할                     | 예시                                   |\n",
    "| ------------- | ---------------------- | ------------------------------------ |\n",
    "| `groupby()`   | 그룹 나누기                 | `df.groupby('city')`                 |\n",
    "| `agg()`       | 그룹별 **요약값 계산**         | `agg('mean')`, `agg(['mean','max'])` |\n",
    "| `transform()` | 그룹별 통계값을 **원본 형태로 반환** | `transform('mean')`                  |\n",
    "| `lambda`      | 사용자 정의 계산              | `agg(lambda x: ...)`                 |\n",
    "| `idxmax()`    | 최댓값의 **인덱스(=위치)** 반환   | `x.value_counts().idxmax()`          |\n",
    "| `idxmin()`    | 최솟값의 인덱스 반환            | `x.value_counts().idxmin()`          |\n"
   ]
  },
  {
   "cell_type": "markdown",
   "id": "bdbc44f9-be77-473e-a0c8-6946962a0337",
   "metadata": {},
   "source": [
    "groupby, agg, transform, lambda는 실전에서 거의 세트처럼 등장하고, 여기에 idxmax, idxmin도 자주 붙어."
   ]
  },
  {
   "cell_type": "markdown",
   "id": "611a22d4-4cd4-4e8a-8d9d-aa5199436ba0",
   "metadata": {},
   "source": [
    "## 🧪 작업형 1유형 - 문제 5\n",
    "\n",
    "### 📌 문제 설명  \n",
    "문자열 조건 필터링 후, 데이터 타입을 변환하고 통계값을 계산하시오.\n",
    "\n",
    "---\n",
    "\n",
    "### 🔸 조건  \n",
    "1. `f4` 컬럼의 값 중 **문자 `'E'`를 포함하는 행만 필터링**하시오.  \n",
    "2. 필터링된 데이터에서 `f5` 컬럼의 값을 **정수형(int)**으로 변환하시오.  \n",
    "3. 변환된 `f5` 컬럼의 평균값을 **소수 둘째 자리까지 반올림**하여 출력하시오.\n",
    "\n",
    "---\n",
    "\n",
    "### ✅ 출력 형식\n",
    "```python\n",
    "print(result)  # 예시: 51.27\n",
    "```\n"
   ]
  },
  {
   "cell_type": "code",
   "execution_count": 101,
   "id": "79d96232-9e70-48c9-a931-a93312ca77de",
   "metadata": {},
   "outputs": [],
   "source": [
    "df5=df.copy()"
   ]
  },
  {
   "cell_type": "code",
   "execution_count": 108,
   "id": "4664d99b-4660-4025-837c-68a56fc94b5c",
   "metadata": {},
   "outputs": [
    {
     "data": {
      "text/plain": [
       "52.96"
      ]
     },
     "execution_count": 108,
     "metadata": {},
     "output_type": "execute_result"
    }
   ],
   "source": [
    "round(df5[df5['f4'].str.contains('E')]['f5'].apply(lambda x : int(x)).mean(),2) # \tastype(int) 또는 apply(lambda x: int(x))"
   ]
  },
  {
   "cell_type": "code",
   "execution_count": null,
   "id": "cdbfd18e-055d-4066-9de1-0728f606f022",
   "metadata": {},
   "outputs": [],
   "source": []
  },
  {
   "cell_type": "markdown",
   "id": "2c2b7bc6-e861-4c1c-a86b-c1b91a417f56",
   "metadata": {},
   "source": [
    "## 🧪 작업형 1유형 - 문제 6\n",
    "\n",
    "### 📌 문제 설명  \n",
    "중복된 데이터를 제거하고, 재구조화를 통해 요약 통계를 계산하시오.\n",
    "\n",
    "---\n",
    "\n",
    "### 🔸 조건  \n",
    "1.  `f4`, `f2` 두 컬럼을 기준으로 중복된 행을 제거하시오.  \n",
    "2. 중복이 제거된 데이터에서 `f4`를 행 인덱스로 하여, `f2`의 평균을 계산하는 **피벗 테이블**을 생성하시오.  \n",
    "3. 결과 테이블을 출력하시오.\n",
    "\n",
    "---\n",
    "\n",
    "### ✅ 출력 예시\n",
    "```python\n",
    "# 예시 (형태만 참고)\n",
    "f2\n",
    "f4\n",
    "ENFJ     1.3\n",
    "INFP     1.7\n",
    "ISFJ     0.8\n",
    "```\n",
    "\n",
    "> *단, 출력 형식은 `pivot_table()` 결과 그대로 출력하면 충분함.*\n"
   ]
  },
  {
   "cell_type": "code",
   "execution_count": 141,
   "id": "e5f5b181-6965-43ac-87ab-d920d5ac16bd",
   "metadata": {},
   "outputs": [
    {
     "data": {
      "text/plain": [
       "(100, 8)"
      ]
     },
     "execution_count": 141,
     "metadata": {},
     "output_type": "execute_result"
    }
   ],
   "source": [
    "df6=df.copy()\n",
    "df6.head(2)\n",
    "df.shape"
   ]
  },
  {
   "cell_type": "code",
   "execution_count": 157,
   "id": "ebddc6b8-c1ec-4acc-8f12-01d0aa10db02",
   "metadata": {},
   "outputs": [
    {
     "data": {
      "text/html": [
       "<div>\n",
       "<style scoped>\n",
       "    .dataframe tbody tr th:only-of-type {\n",
       "        vertical-align: middle;\n",
       "    }\n",
       "\n",
       "    .dataframe tbody tr th {\n",
       "        vertical-align: top;\n",
       "    }\n",
       "\n",
       "    .dataframe thead th {\n",
       "        text-align: right;\n",
       "    }\n",
       "</style>\n",
       "<table border=\"1\" class=\"dataframe\">\n",
       "  <thead>\n",
       "    <tr style=\"text-align: right;\">\n",
       "      <th></th>\n",
       "      <th>id</th>\n",
       "      <th>age</th>\n",
       "      <th>city</th>\n",
       "      <th>f1</th>\n",
       "      <th>f2</th>\n",
       "      <th>f3</th>\n",
       "      <th>f4</th>\n",
       "      <th>f5</th>\n",
       "    </tr>\n",
       "  </thead>\n",
       "  <tbody>\n",
       "    <tr>\n",
       "      <th>0</th>\n",
       "      <td>id01</td>\n",
       "      <td>2.0</td>\n",
       "      <td>서울</td>\n",
       "      <td>NaN</td>\n",
       "      <td>0</td>\n",
       "      <td></td>\n",
       "      <td>ENFJ</td>\n",
       "      <td>91.297791</td>\n",
       "    </tr>\n",
       "    <tr>\n",
       "      <th>1</th>\n",
       "      <td>id02</td>\n",
       "      <td>9.0</td>\n",
       "      <td>서울</td>\n",
       "      <td>70.0</td>\n",
       "      <td>1</td>\n",
       "      <td></td>\n",
       "      <td>ENFJ</td>\n",
       "      <td>60.339826</td>\n",
       "    </tr>\n",
       "    <tr>\n",
       "      <th>2</th>\n",
       "      <td>id03</td>\n",
       "      <td>27.0</td>\n",
       "      <td>서울</td>\n",
       "      <td>61.0</td>\n",
       "      <td>1</td>\n",
       "      <td></td>\n",
       "      <td>ISTJ</td>\n",
       "      <td>17.252986</td>\n",
       "    </tr>\n",
       "  </tbody>\n",
       "</table>\n",
       "</div>"
      ],
      "text/plain": [
       "     id   age city    f1  f2 f3    f4         f5\n",
       "0  id01   2.0   서울   NaN   0     ENFJ  91.297791\n",
       "1  id02   9.0   서울  70.0   1     ENFJ  60.339826\n",
       "2  id03  27.0   서울  61.0   1     ISTJ  17.252986"
      ]
     },
     "execution_count": 157,
     "metadata": {},
     "output_type": "execute_result"
    }
   ],
   "source": [
    "df.head(3)"
   ]
  },
  {
   "cell_type": "code",
   "execution_count": 147,
   "id": "e37247d8-6666-4807-9a3b-0af34095d627",
   "metadata": {},
   "outputs": [],
   "source": [
    "# help(df6.drop_duplicates)\n",
    "df6 = df6.drop_duplicates(subset =['f4','f2'])"
   ]
  },
  {
   "cell_type": "code",
   "execution_count": 149,
   "id": "b834f165-be80-401b-bcfe-b944698c42f8",
   "metadata": {},
   "outputs": [
    {
     "data": {
      "text/plain": [
       "(40, 8)"
      ]
     },
     "execution_count": 149,
     "metadata": {},
     "output_type": "execute_result"
    }
   ],
   "source": [
    "df6.shape"
   ]
  },
  {
   "cell_type": "code",
   "execution_count": 165,
   "id": "19ac4955-3a25-44ab-94e8-cc99a20014ee",
   "metadata": {},
   "outputs": [
    {
     "data": {
      "text/plain": [
       "(16, 1)"
      ]
     },
     "execution_count": 165,
     "metadata": {},
     "output_type": "execute_result"
    }
   ],
   "source": [
    "pivot=df6.pivot_table(index='f4',values='f2',aggfunc='mean')\n",
    "pivot.shape"
   ]
  },
  {
   "cell_type": "code",
   "execution_count": 159,
   "id": "d763f894-cb72-49da-8126-b46f3b0b8eff",
   "metadata": {},
   "outputs": [],
   "source": [
    "pivot.reset_index(inplace=True)"
   ]
  },
  {
   "cell_type": "code",
   "execution_count": 163,
   "id": "ca88ea73-847b-402d-a803-ddebc6c76607",
   "metadata": {},
   "outputs": [
    {
     "data": {
      "text/plain": [
       "(16, 2)"
      ]
     },
     "execution_count": 163,
     "metadata": {},
     "output_type": "execute_result"
    }
   ],
   "source": [
    "pivot.shape"
   ]
  },
  {
   "cell_type": "code",
   "execution_count": null,
   "id": "44bb0e91-0fc6-4614-9e9c-23193db297b1",
   "metadata": {},
   "outputs": [],
   "source": []
  }
 ],
 "metadata": {
  "kernelspec": {
   "display_name": "Python [conda env:base] *",
   "language": "python",
   "name": "conda-base-py"
  },
  "language_info": {
   "codemirror_mode": {
    "name": "ipython",
    "version": 3
   },
   "file_extension": ".py",
   "mimetype": "text/x-python",
   "name": "python",
   "nbconvert_exporter": "python",
   "pygments_lexer": "ipython3",
   "version": "3.12.3"
  }
 },
 "nbformat": 4,
 "nbformat_minor": 5
}
