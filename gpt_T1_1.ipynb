{
 "cells": [
  {
   "cell_type": "code",
   "execution_count": 1,
   "id": "fe9d4add-d057-401d-892c-bd03c16d404a",
   "metadata": {},
   "outputs": [],
   "source": [
    "import pandas as pd\n",
    "import numpy as np"
   ]
  },
  {
   "cell_type": "markdown",
   "id": "c1cc46f7-218d-40eb-8746-361554d9a83f",
   "metadata": {},
   "source": [
    "## 파일 로드"
   ]
  },
  {
   "cell_type": "code",
   "execution_count": 241,
   "id": "d3c37f29-0ff6-4687-bbd5-d1ba829f24c7",
   "metadata": {},
   "outputs": [],
   "source": [
    "# 엑셀 파일 읽기\n",
    "df_raw = pd.read_excel(\"data/basic1.xlsx\", sheet_name='basic1')\n",
    "\n",
    "# 첫 번째 열을 쉼표 기준으로 분리\n",
    "df = df_raw.iloc[:, 0].str.split(\",\", expand=True)\n",
    "\n",
    "# 컬럼명 설정\n",
    "df.columns = ['id', 'age', 'city', 'f1', 'f2', 'f3', 'f4', 'f5']\n",
    "\n",
    "# 타입 변환 (숫자 컬럼)\n",
    "cols_to_numeric = ['age', 'f1', 'f2', 'f5']\n",
    "df[cols_to_numeric] = df[cols_to_numeric].apply(pd.to_numeric, errors='coerce')"
   ]
  },
  {
   "cell_type": "code",
   "execution_count": 17,
   "id": "ed85938f-c356-4ebb-bacd-2f504937795a",
   "metadata": {},
   "outputs": [
    {
     "data": {
      "text/html": [
       "<div>\n",
       "<style scoped>\n",
       "    .dataframe tbody tr th:only-of-type {\n",
       "        vertical-align: middle;\n",
       "    }\n",
       "\n",
       "    .dataframe tbody tr th {\n",
       "        vertical-align: top;\n",
       "    }\n",
       "\n",
       "    .dataframe thead th {\n",
       "        text-align: right;\n",
       "    }\n",
       "</style>\n",
       "<table border=\"1\" class=\"dataframe\">\n",
       "  <thead>\n",
       "    <tr style=\"text-align: right;\">\n",
       "      <th></th>\n",
       "      <th>id</th>\n",
       "      <th>age</th>\n",
       "      <th>city</th>\n",
       "      <th>f1</th>\n",
       "      <th>f2</th>\n",
       "      <th>f3</th>\n",
       "      <th>f4</th>\n",
       "      <th>f5</th>\n",
       "    </tr>\n",
       "  </thead>\n",
       "  <tbody>\n",
       "    <tr>\n",
       "      <th>0</th>\n",
       "      <td>id01</td>\n",
       "      <td>2.0</td>\n",
       "      <td>서울</td>\n",
       "      <td>NaN</td>\n",
       "      <td>0</td>\n",
       "      <td></td>\n",
       "      <td>ENFJ</td>\n",
       "      <td>91.297791</td>\n",
       "    </tr>\n",
       "    <tr>\n",
       "      <th>1</th>\n",
       "      <td>id02</td>\n",
       "      <td>9.0</td>\n",
       "      <td>서울</td>\n",
       "      <td>70.0</td>\n",
       "      <td>1</td>\n",
       "      <td></td>\n",
       "      <td>ENFJ</td>\n",
       "      <td>60.339826</td>\n",
       "    </tr>\n",
       "    <tr>\n",
       "      <th>2</th>\n",
       "      <td>id03</td>\n",
       "      <td>27.0</td>\n",
       "      <td>서울</td>\n",
       "      <td>61.0</td>\n",
       "      <td>1</td>\n",
       "      <td></td>\n",
       "      <td>ISTJ</td>\n",
       "      <td>17.252986</td>\n",
       "    </tr>\n",
       "    <tr>\n",
       "      <th>3</th>\n",
       "      <td>id04</td>\n",
       "      <td>75.0</td>\n",
       "      <td>서울</td>\n",
       "      <td>NaN</td>\n",
       "      <td>2</td>\n",
       "      <td></td>\n",
       "      <td>INFP</td>\n",
       "      <td>52.667078</td>\n",
       "    </tr>\n",
       "    <tr>\n",
       "      <th>4</th>\n",
       "      <td>id05</td>\n",
       "      <td>24.0</td>\n",
       "      <td>서울</td>\n",
       "      <td>85.0</td>\n",
       "      <td>2</td>\n",
       "      <td></td>\n",
       "      <td>ISFJ</td>\n",
       "      <td>29.269869</td>\n",
       "    </tr>\n",
       "  </tbody>\n",
       "</table>\n",
       "</div>"
      ],
      "text/plain": [
       "     id   age city    f1  f2 f3    f4         f5\n",
       "0  id01   2.0   서울   NaN   0     ENFJ  91.297791\n",
       "1  id02   9.0   서울  70.0   1     ENFJ  60.339826\n",
       "2  id03  27.0   서울  61.0   1     ISTJ  17.252986\n",
       "3  id04  75.0   서울   NaN   2     INFP  52.667078\n",
       "4  id05  24.0   서울  85.0   2     ISFJ  29.269869"
      ]
     },
     "execution_count": 17,
     "metadata": {},
     "output_type": "execute_result"
    }
   ],
   "source": [
    "df.head()"
   ]
  },
  {
   "cell_type": "code",
   "execution_count": 19,
   "id": "578c409a-9445-4725-98b6-30771255201e",
   "metadata": {},
   "outputs": [
    {
     "name": "stdout",
     "output_type": "stream",
     "text": [
      "<class 'pandas.core.frame.DataFrame'>\n",
      "RangeIndex: 100 entries, 0 to 99\n",
      "Data columns (total 8 columns):\n",
      " #   Column  Non-Null Count  Dtype  \n",
      "---  ------  --------------  -----  \n",
      " 0   id      100 non-null    object \n",
      " 1   age     100 non-null    float64\n",
      " 2   city    100 non-null    object \n",
      " 3   f1      69 non-null     float64\n",
      " 4   f2      100 non-null    int64  \n",
      " 5   f3      100 non-null    object \n",
      " 6   f4      100 non-null    object \n",
      " 7   f5      100 non-null    float64\n",
      "dtypes: float64(3), int64(1), object(4)\n",
      "memory usage: 6.4+ KB\n"
     ]
    }
   ],
   "source": [
    "df.info()"
   ]
  },
  {
   "cell_type": "markdown",
   "id": "01d7cfbf-524f-4ac2-bf5c-2b7bcc2d865c",
   "metadata": {},
   "source": [
    "## 🧪 작업형 1유형 - 문제 1\n",
    "\n",
    "### 📌 문제 설명\n",
    "`f1` 컬럼의 결측치를 `city`별 평균값으로 대체하고, 조건에 맞는 평균을 계산하시오.\n",
    "\n",
    "---\n",
    "🔸 조건\n",
    "1. `f1` 컬럼의 결측치는 **`city`별 평균값**으로 대체할 것  \n",
    "2. 결측치가 처리된 이후, 아래 조건을 만족하는 데이터만 추출:\n",
    "   - `city == '서울'`\n",
    "   - `f2 >= 1`\n",
    "3. 위 조건을 만족하는 행들의 `f1` 평균값을 **소수점 둘째 자리까지 반올림**하여 출력하시오.\n",
    "\n",
    "---\n",
    "\n",
    "### ✅ 출력 형식\n",
    "```python\n",
    "print(result)  # 예시: 65.71\n",
    "```\n"
   ]
  },
  {
   "cell_type": "markdown",
   "id": "0bf1bfe8-149b-4d8d-a79e-203734509681",
   "metadata": {},
   "source": [
    "## 나의 풀이 "
   ]
  },
  {
   "cell_type": "code",
   "execution_count": 27,
   "id": "598a9ea7-8aba-47c2-a842-eb14f64a3554",
   "metadata": {},
   "outputs": [],
   "source": [
    "df1= df.copy()"
   ]
  },
  {
   "cell_type": "code",
   "execution_count": 29,
   "id": "f705c974-22d5-4c8a-95fe-2bebdbf825ad",
   "metadata": {},
   "outputs": [
    {
     "name": "stdout",
     "output_type": "stream",
     "text": [
      "<class 'pandas.core.frame.DataFrame'>\n",
      "RangeIndex: 100 entries, 0 to 99\n",
      "Data columns (total 8 columns):\n",
      " #   Column  Non-Null Count  Dtype  \n",
      "---  ------  --------------  -----  \n",
      " 0   id      100 non-null    object \n",
      " 1   age     100 non-null    float64\n",
      " 2   city    100 non-null    object \n",
      " 3   f1      69 non-null     float64\n",
      " 4   f2      100 non-null    int64  \n",
      " 5   f3      100 non-null    object \n",
      " 6   f4      100 non-null    object \n",
      " 7   f5      100 non-null    float64\n",
      "dtypes: float64(3), int64(1), object(4)\n",
      "memory usage: 6.4+ KB\n"
     ]
    }
   ],
   "source": [
    "df1.info() "
   ]
  },
  {
   "cell_type": "code",
   "execution_count": 45,
   "id": "75048098-640e-4cec-ba39-3fc8a59bfcdb",
   "metadata": {},
   "outputs": [],
   "source": []
  },
  {
   "cell_type": "code",
   "execution_count": 32,
   "id": "22be9e87-3967-4043-b89b-5955ab3d7c6e",
   "metadata": {},
   "outputs": [
    {
     "data": {
      "text/plain": [
       "id       0\n",
       "age      0\n",
       "city     0\n",
       "f1      31\n",
       "f2       0\n",
       "f3       0\n",
       "f4       0\n",
       "f5       0\n",
       "dtype: int64"
      ]
     },
     "execution_count": 32,
     "metadata": {},
     "output_type": "execute_result"
    }
   ],
   "source": [
    "df1.isnull().sum()"
   ]
  },
  {
   "cell_type": "code",
   "execution_count": 38,
   "id": "54f660a2-29d8-44fa-ab1b-6570613e4a2b",
   "metadata": {},
   "outputs": [
    {
     "data": {
      "text/plain": [
       "city\n",
       "경기    62.551724\n",
       "대구    74.846154\n",
       "부산    62.583333\n",
       "서울    67.933333\n",
       "Name: f1, dtype: float64"
      ]
     },
     "execution_count": 38,
     "metadata": {},
     "output_type": "execute_result"
    }
   ],
   "source": [
    "df1.groupby(['city'])['f1'].mean()"
   ]
  },
  {
   "cell_type": "code",
   "execution_count": 49,
   "id": "2d0447a3-2137-423a-916e-388d505682dc",
   "metadata": {},
   "outputs": [],
   "source": [
    "# df1.groupby(['city'])['f1'].transform('mean')"
   ]
  },
  {
   "cell_type": "code",
   "execution_count": 55,
   "id": "858dea30-6438-40e2-8f04-8b04c8a7ed9e",
   "metadata": {},
   "outputs": [],
   "source": [
    "### f1 컬럼의 결측치를 city별 평균값으로 대체\n",
    "df1['f1']=df1['f1'].fillna(df1.groupby(['city'])['f1'].transform('mean'))"
   ]
  },
  {
   "cell_type": "code",
   "execution_count": 57,
   "id": "b4e92d25-d822-4217-8e74-c6ad5002994f",
   "metadata": {},
   "outputs": [
    {
     "data": {
      "text/plain": [
       "id      0\n",
       "age     0\n",
       "city    0\n",
       "f1      0\n",
       "f2      0\n",
       "f3      0\n",
       "f4      0\n",
       "f5      0\n",
       "dtype: int64"
      ]
     },
     "execution_count": 57,
     "metadata": {},
     "output_type": "execute_result"
    }
   ],
   "source": [
    "df1.isnull().sum()"
   ]
  },
  {
   "cell_type": "code",
   "execution_count": 75,
   "id": "b91bc801-fc07-42ad-8f4a-1b8489e71bd8",
   "metadata": {},
   "outputs": [
    {
     "data": {
      "text/plain": [
       "67.45"
      ]
     },
     "execution_count": 75,
     "metadata": {},
     "output_type": "execute_result"
    }
   ],
   "source": [
    "# city == '서울'  f2 >= 1 조건 만족하는 행들의 f1 평균값을 소수점 둘째 자리까지 반올림하여 출력\n",
    "round(df1[(df1['city']=='서울') & (df1['f2']>=1)]['f1'].mean(),2)"
   ]
  },
  {
   "cell_type": "markdown",
   "id": "6f701c98-05f3-48b5-a5cc-c73f944d74cc",
   "metadata": {},
   "source": [
    "## 🧪 작업형 1유형 - 문제 2\n",
    "\n",
    "### 📌 문제 설명  \n",
    "`f5` 컬럼에서 이상치를 적절한 기준에 따라 탐지한 뒤, 이를 처리하고 평균값을 구하시오."
   ]
  },
  {
   "cell_type": "markdown",
   "id": "24adc9e0-03e5-4eb3-a08e-92e027210c76",
   "metadata": {},
   "source": [
    "### 🔸 조건  \n",
    "1. 이상치 기준은 **IQR 방식**을 따른다:\n",
    "   - **Q1 = 1사분위수**, **Q3 = 3사분위수**\n",
    "   - **IQR = Q3 - Q1**\n",
    "   - 이상치 범위: `f5 < Q1 - 1.5×IQR` 또는 `f5 > Q3 + 1.5×IQR`\n",
    "2. 이상치에 해당하는 값을 **전체 `f5`의 중앙값으로 대체**한다.\n",
    "3. 이상치가 처리된 `f5` 컬럼의 **평균값을 소수점 둘째 자리까지 반올림**하여 출력하시오.\n",
    "\n",
    "\n",
    "### ✅ 출력 형식\n",
    "```python\n",
    "print(result)  # 예시: 51.27\n",
    "```"
   ]
  },
  {
   "cell_type": "markdown",
   "id": "5dcbbcd5-0450-496e-ab91-c9b297a9f03b",
   "metadata": {},
   "source": [
    "## 나의 풀이"
   ]
  },
  {
   "cell_type": "code",
   "execution_count": 115,
   "id": "9c036e8b-8178-47f8-8b4d-ac3e5a61d2f9",
   "metadata": {},
   "outputs": [],
   "source": [
    "df2=df.copy()"
   ]
  },
  {
   "cell_type": "code",
   "execution_count": 117,
   "id": "5d0b0d3c-3ff6-474b-a72a-7025c0176292",
   "metadata": {},
   "outputs": [
    {
     "name": "stdout",
     "output_type": "stream",
     "text": [
      "<class 'pandas.core.frame.DataFrame'>\n",
      "RangeIndex: 100 entries, 0 to 99\n",
      "Data columns (total 8 columns):\n",
      " #   Column  Non-Null Count  Dtype  \n",
      "---  ------  --------------  -----  \n",
      " 0   id      100 non-null    object \n",
      " 1   age     100 non-null    float64\n",
      " 2   city    100 non-null    object \n",
      " 3   f1      69 non-null     float64\n",
      " 4   f2      100 non-null    int64  \n",
      " 5   f3      100 non-null    object \n",
      " 6   f4      100 non-null    object \n",
      " 7   f5      100 non-null    float64\n",
      "dtypes: float64(3), int64(1), object(4)\n",
      "memory usage: 6.4+ KB\n"
     ]
    }
   ],
   "source": [
    "df2.info()"
   ]
  },
  {
   "cell_type": "code",
   "execution_count": 119,
   "id": "97f3c71a-f534-4299-beff-faeab1d06189",
   "metadata": {},
   "outputs": [],
   "source": [
    "median= df2['f5'].median()"
   ]
  },
  {
   "cell_type": "code",
   "execution_count": 121,
   "id": "176089c5-9271-4269-8a67-ebef76db3dbe",
   "metadata": {},
   "outputs": [],
   "source": [
    "q1=df2['f5'].quantile(0.25)\n",
    "q3=df2['f5'].quantile(0.75)"
   ]
  },
  {
   "cell_type": "code",
   "execution_count": 123,
   "id": "dfac9d90-4fcd-46cd-a37e-8c070a39ba00",
   "metadata": {},
   "outputs": [],
   "source": [
    "iqr=q3-q1"
   ]
  },
  {
   "cell_type": "code",
   "execution_count": 125,
   "id": "3df5f616-f26d-43c1-84b1-b0a0039d5b24",
   "metadata": {},
   "outputs": [
    {
     "data": {
      "text/plain": [
       "0"
      ]
     },
     "execution_count": 125,
     "metadata": {},
     "output_type": "execute_result"
    }
   ],
   "source": [
    "len(df2[(df2['f5']< (q1-1.5*iqr)) |(df2['f5']>(q3+1.5*iqr))])"
   ]
  },
  {
   "cell_type": "code",
   "execution_count": null,
   "id": "500ac164-7551-425d-a165-c316d54458da",
   "metadata": {},
   "outputs": [],
   "source": []
  },
  {
   "cell_type": "code",
   "execution_count": 99,
   "id": "ba65e76a-8471-498c-ab21-e680c297ef0e",
   "metadata": {},
   "outputs": [],
   "source": [
    "df2[(df2['f5']< (q1-1.5*iqr)) |(df2['f5']>(q3+1.5*iqr))]=median"
   ]
  },
  {
   "cell_type": "code",
   "execution_count": 127,
   "id": "c4ac6d77-559a-480e-a78e-a00d0cf55294",
   "metadata": {},
   "outputs": [
    {
     "data": {
      "text/plain": [
       "56.73"
      ]
     },
     "execution_count": 127,
     "metadata": {},
     "output_type": "execute_result"
    }
   ],
   "source": [
    "round(df2['f5'].mean(),2)"
   ]
  },
  {
   "cell_type": "markdown",
   "id": "61956ac6-d91a-44c1-8317-bd0bb6fcd241",
   "metadata": {},
   "source": [
    "## 정답 풀이"
   ]
  },
  {
   "cell_type": "code",
   "execution_count": 133,
   "id": "136a5c09-8c9c-4708-9d03-0d07d3ffc7fe",
   "metadata": {},
   "outputs": [],
   "source": [
    "condition = (df2['f5'] < (q1 - 1.5 * iqr)) | (df2['f5'] > (q3 + 1.5 * iqr))"
   ]
  },
  {
   "cell_type": "code",
   "execution_count": 135,
   "id": "9de19792-bba9-4e6b-96ab-b41e8d17c0c3",
   "metadata": {},
   "outputs": [],
   "source": [
    "df2.loc[condition, 'f5'] = median"
   ]
  },
  {
   "cell_type": "code",
   "execution_count": 137,
   "id": "35b54866-c525-4c46-861e-6637f07ac2d3",
   "metadata": {},
   "outputs": [
    {
     "name": "stdout",
     "output_type": "stream",
     "text": [
      "56.73\n"
     ]
    }
   ],
   "source": [
    "print(round(df2['f5'].mean(), 2))  # 56.73"
   ]
  },
  {
   "cell_type": "markdown",
   "id": "845a7031-6cd2-4bf9-b413-d3cc6246a51f",
   "metadata": {},
   "source": [
    "## 🧪 작업형 1유형 - 문제 3\n",
    "\n",
    "### 📌 문제 설명  \n",
    "특정 조건을 만족하는 데이터에 대해 정렬 및 부분 통계를 수행하시오.\n",
    "\n",
    "---\n",
    "\n",
    "### 🔸 조건  \n",
    "1. `f4` 컬럼의 값이 `'ENFJ'`인 데이터만 선택하시오.  \n",
    "2. 위 데이터에서 `f5` 컬럼을 기준으로 내림차순 정렬하시오.  \n",
    "3. 정렬된 데이터 중 상위 3개의 `f5` 평균값을 **소수 둘째 자리까지 반올림**하여 출력하시오.\n",
    "\n",
    "---\n",
    "\n",
    "### ✅ 출력 형식\n",
    "```python\n",
    "print(result)  # 예시: 73.41\n",
    "```"
   ]
  },
  {
   "cell_type": "code",
   "execution_count": 141,
   "id": "6a471cab-009c-47f7-a809-2aba0d0c14d4",
   "metadata": {},
   "outputs": [],
   "source": [
    "df3=df.copy()"
   ]
  },
  {
   "cell_type": "code",
   "execution_count": 143,
   "id": "35b65a5c-fb4c-444e-85ba-b0faf701da3a",
   "metadata": {},
   "outputs": [
    {
     "name": "stdout",
     "output_type": "stream",
     "text": [
      "<class 'pandas.core.frame.DataFrame'>\n",
      "RangeIndex: 100 entries, 0 to 99\n",
      "Data columns (total 8 columns):\n",
      " #   Column  Non-Null Count  Dtype  \n",
      "---  ------  --------------  -----  \n",
      " 0   id      100 non-null    object \n",
      " 1   age     100 non-null    float64\n",
      " 2   city    100 non-null    object \n",
      " 3   f1      69 non-null     float64\n",
      " 4   f2      100 non-null    int64  \n",
      " 5   f3      100 non-null    object \n",
      " 6   f4      100 non-null    object \n",
      " 7   f5      100 non-null    float64\n",
      "dtypes: float64(3), int64(1), object(4)\n",
      "memory usage: 6.4+ KB\n"
     ]
    }
   ],
   "source": [
    "df3.info()"
   ]
  },
  {
   "cell_type": "code",
   "execution_count": 147,
   "id": "ac8e69f0-5bcb-4048-935c-1d142e2e2744",
   "metadata": {},
   "outputs": [],
   "source": [
    "enfj= df3.loc[(df3['f4']=='ENFJ'),:]"
   ]
  },
  {
   "cell_type": "code",
   "execution_count": 153,
   "id": "e9ddf4cc-649a-4fe5-ac5a-6829d82593a2",
   "metadata": {},
   "outputs": [],
   "source": [
    "# enfj.info()"
   ]
  },
  {
   "cell_type": "code",
   "execution_count": 157,
   "id": "0fa32b9e-6baf-4235-8d29-811719737f5a",
   "metadata": {},
   "outputs": [
    {
     "data": {
      "text/plain": [
       "73.79"
      ]
     },
     "execution_count": 157,
     "metadata": {},
     "output_type": "execute_result"
    }
   ],
   "source": [
    "round(enfj.sort_values(['f5'],ascending=False).head(3)['f5'].mean(),2)"
   ]
  },
  {
   "cell_type": "markdown",
   "id": "5ff138b7-50d0-4ed5-8a8d-e98e7a305646",
   "metadata": {},
   "source": [
    "## 🧪 작업형 1유형 - 문제 4\n",
    "\n",
    "### 📌 문제 설명  \n",
    "`f1` 점수를 기준으로 새로운 파생 변수를 만들고, 그룹별 통계량을 확인하시오.\n",
    "\n",
    "---\n",
    "\n",
    "### 🔸 조건  \n",
    "1. `f1` 컬럼의 값이 **70 이상이면 `'high'`**, **그 미만이면 `'low'`**로 구분하여 새로운 컬럼 `f1_grade`를 생성하시오.  \n",
    "   - 조건 기반 파생 변수 생성 방식 사용\n",
    "2. 생성된 `f1_grade` 그룹별로 `f2` 컬럼의 **최빈값(가장 자주 등장하는 값)**을 출력하시오.  \n",
    "   - `value_counts()` 또는 `mode()` 활용 가능\n",
    "\n",
    "---\n",
    "\n",
    "### ✅ 출력 예시\n",
    "```python\n",
    "# 예시 출력 (실제 결과는 다를 수 있음)\n",
    "high 그룹 → 2  \n",
    "low 그룹 → 1\n",
    "```\n",
    "\n",
    "*출력 형식은 자유롭게 딕셔너리나 개별 출력으로 구성해도 무방함.*\n"
   ]
  },
  {
   "cell_type": "markdown",
   "id": "949176f6-cf96-4dc2-b404-017cd3f7f645",
   "metadata": {},
   "source": [
    "## 나의 풀이"
   ]
  },
  {
   "cell_type": "code",
   "execution_count": 166,
   "id": "c47b950c-404f-461b-be72-5443b132b1db",
   "metadata": {},
   "outputs": [],
   "source": [
    "df4=df.copy()"
   ]
  },
  {
   "cell_type": "code",
   "execution_count": 168,
   "id": "f67c32c8-e455-4183-a435-769c2769c5e8",
   "metadata": {},
   "outputs": [
    {
     "name": "stdout",
     "output_type": "stream",
     "text": [
      "<class 'pandas.core.frame.DataFrame'>\n",
      "RangeIndex: 100 entries, 0 to 99\n",
      "Data columns (total 8 columns):\n",
      " #   Column  Non-Null Count  Dtype  \n",
      "---  ------  --------------  -----  \n",
      " 0   id      100 non-null    object \n",
      " 1   age     100 non-null    float64\n",
      " 2   city    100 non-null    object \n",
      " 3   f1      69 non-null     float64\n",
      " 4   f2      100 non-null    int64  \n",
      " 5   f3      100 non-null    object \n",
      " 6   f4      100 non-null    object \n",
      " 7   f5      100 non-null    float64\n",
      "dtypes: float64(3), int64(1), object(4)\n",
      "memory usage: 6.4+ KB\n"
     ]
    }
   ],
   "source": [
    "df4.info()"
   ]
  },
  {
   "cell_type": "code",
   "execution_count": 189,
   "id": "e9c3c676-6663-4b72-8317-4bc04d8d2d8c",
   "metadata": {},
   "outputs": [
    {
     "data": {
      "text/plain": [
       "0      low\n",
       "1     high\n",
       "2      low\n",
       "3      low\n",
       "4     high\n",
       "      ... \n",
       "95     low\n",
       "96     low\n",
       "97     low\n",
       "98     low\n",
       "99     low\n",
       "Name: f1_grade, Length: 100, dtype: object"
      ]
     },
     "execution_count": 189,
     "metadata": {},
     "output_type": "execute_result"
    }
   ],
   "source": [
    "# f1 컬럼의 값이 70 이상이면 'high', **그 미만이면 'low'**로 구분하여 새로운 컬럼 f1_grade를 생성하시오. \n",
    "df4['f1_grade']=np.where((df4['f1'] >=70),'high','low')\n",
    "df4['f1_grade']"
   ]
  },
  {
   "cell_type": "code",
   "execution_count": 199,
   "id": "0d8cb030-086b-43ec-85b7-b55b37ad6ddc",
   "metadata": {},
   "outputs": [
    {
     "data": {
      "text/plain": [
       "f1_grade\n",
       "high    [1, 2, 0]\n",
       "low     [0, 1, 2]\n",
       "Name: f2, dtype: object"
      ]
     },
     "execution_count": 199,
     "metadata": {},
     "output_type": "execute_result"
    }
   ],
   "source": [
    "# 생성된 f1_grade 그룹별로 f2 컬럼의 **최빈값(가장 자주 등장하는 값)**을 출력하시오. \n",
    "df4.groupby(['f1_grade'])['f2'].unique()"
   ]
  },
  {
   "cell_type": "code",
   "execution_count": 207,
   "id": "2c5c5594-6e60-41b8-ad95-75449ffd3a27",
   "metadata": {},
   "outputs": [
    {
     "data": {
      "text/plain": [
       "13"
      ]
     },
     "execution_count": 207,
     "metadata": {},
     "output_type": "execute_result"
    }
   ],
   "source": [
    "sum(df4.loc[df4['f1_grade']=='high','f2']==1)"
   ]
  },
  {
   "cell_type": "code",
   "execution_count": 209,
   "id": "b3a3babc-4a40-46a4-9fb5-b91070b7f94c",
   "metadata": {},
   "outputs": [
    {
     "name": "stdout",
     "output_type": "stream",
     "text": [
      "low 그룹 → 0\n",
      "high 그룹 → 1\n"
     ]
    }
   ],
   "source": [
    "for grade in df4['f1_grade'].unique():\n",
    "    mode = df4[df4['f1_grade'] == grade]['f2'].mode()\n",
    "    print(f\"{grade} 그룹 → {mode.iloc[0]}\")"
   ]
  },
  {
   "cell_type": "code",
   "execution_count": 211,
   "id": "00d2d7be-85de-484e-935f-fdf6f69e8eef",
   "metadata": {},
   "outputs": [
    {
     "data": {
      "text/plain": [
       "f2\n",
       "1    13\n",
       "0    12\n",
       "2     4\n",
       "Name: count, dtype: int64"
      ]
     },
     "execution_count": 211,
     "metadata": {},
     "output_type": "execute_result"
    }
   ],
   "source": [
    "df4[df4['f1_grade'] == 'high']['f2'].value_counts()"
   ]
  },
  {
   "cell_type": "code",
   "execution_count": 213,
   "id": "2d65c087-6567-4ad1-8d12-3e68014e4212",
   "metadata": {},
   "outputs": [
    {
     "data": {
      "text/plain": [
       "f2\n",
       "0    37\n",
       "1    24\n",
       "2    10\n",
       "Name: count, dtype: int64"
      ]
     },
     "execution_count": 213,
     "metadata": {},
     "output_type": "execute_result"
    }
   ],
   "source": [
    "df4[df4['f1_grade'] == 'low']['f2'].value_counts()"
   ]
  },
  {
   "cell_type": "code",
   "execution_count": 215,
   "id": "0ab0f538-f6be-494e-825d-09d473295ae4",
   "metadata": {},
   "outputs": [
    {
     "data": {
      "text/plain": [
       "f1_grade\n",
       "high    1\n",
       "low     0\n",
       "Name: f2, dtype: int64"
      ]
     },
     "execution_count": 215,
     "metadata": {},
     "output_type": "execute_result"
    }
   ],
   "source": [
    "# value_counts, idxmax, lambda, agg 사용\n",
    "df4.groupby('f1_grade')['f2'].agg(lambda x: x.value_counts().idxmax())"
   ]
  },
  {
   "cell_type": "code",
   "execution_count": 233,
   "id": "f4728ddc-f006-4ffa-9df3-183eb051ee11",
   "metadata": {},
   "outputs": [
    {
     "data": {
      "text/plain": [
       "0     0\n",
       "1     1\n",
       "2     0\n",
       "3     0\n",
       "4     1\n",
       "     ..\n",
       "95    0\n",
       "96    0\n",
       "97    0\n",
       "98    0\n",
       "99    0\n",
       "Name: f2, Length: 100, dtype: int64"
      ]
     },
     "execution_count": 233,
     "metadata": {},
     "output_type": "execute_result"
    }
   ],
   "source": [
    "df4.groupby('f1_grade')['f2'].transform(lambda x: x.value_counts().idxmax())"
   ]
  },
  {
   "cell_type": "markdown",
   "id": "c2570acc-e49c-4fc3-ac66-5637a80160ea",
   "metadata": {},
   "source": [
    "### 개념 정리\n",
    "- ✅ agg()란?\n",
    "\n",
    "- agg()는 **집계 함수(aggregation)**를 적용할 때 쓰는 메서드야.\n",
    "- groupby() 뒤에 붙여서 각 그룹별로 원하는 통계 연산을 지정할 수 있어."
   ]
  },
  {
   "cell_type": "markdown",
   "id": "0c4603e4-556b-4a8b-82e0-850143bc2dae",
   "metadata": {},
   "source": [
    "| 구분        | `agg()`                                | `transform()`                                                 |\n",
    "| --------- | -------------------------------------- | ------------------------------------------------------------- |\n",
    "| **목적**    | 그룹별 요약값 반환                             | 원래 데이터의 **형태 유지**하며 변환값 반환                                    |\n",
    "| **결과 형태** | **줄어듦** (group 수만큼)                    | **원래 행 수 그대로 유지됨**                                            |\n",
    "| **예시 용도** | 그룹별 평균, 최댓값 등 **통계 요약표**               | 그룹 평균 등으로 **결측치 대체**할 때                                       |\n",
    "| **대표 예**  | `df.groupby('city')['f1'].agg('mean')` | `df['f1'].fillna(df.groupby('city')['f1'].transform('mean'))` |\n"
   ]
  },
  {
   "cell_type": "code",
   "execution_count": 223,
   "id": "74e0d085-6a94-4dc4-911f-a1cf37f1d246",
   "metadata": {},
   "outputs": [
    {
     "data": {
      "text/plain": [
       "city\n",
       "경기    62.551724\n",
       "대구    74.846154\n",
       "부산    62.583333\n",
       "서울    67.933333\n",
       "Name: f1, dtype: float64"
      ]
     },
     "execution_count": 223,
     "metadata": {},
     "output_type": "execute_result"
    }
   ],
   "source": [
    "df.groupby('city')['f1'].agg('mean')\n",
    "# → city별 평균만 남는다 (3개 도시면 3행)"
   ]
  },
  {
   "cell_type": "code",
   "execution_count": 229,
   "id": "366a0fcd-fbdb-4c8e-9b8e-9aaede168c67",
   "metadata": {},
   "outputs": [
    {
     "data": {
      "text/plain": [
       "city\n",
       "경기    62.551724\n",
       "대구    74.846154\n",
       "부산    62.583333\n",
       "서울    67.933333\n",
       "Name: f1, dtype: float64"
      ]
     },
     "execution_count": 229,
     "metadata": {},
     "output_type": "execute_result"
    }
   ],
   "source": [
    "df.groupby('city')['f1'].mean() # 축약형. agg 를 쓰면 ['mean','max'] 다양한 함수를 한꺼번에 사용 가능"
   ]
  },
  {
   "cell_type": "code",
   "execution_count": 231,
   "id": "89210d15-4967-4f5e-a059-6adb9fc6482f",
   "metadata": {},
   "outputs": [
    {
     "data": {
      "text/html": [
       "<div>\n",
       "<style scoped>\n",
       "    .dataframe tbody tr th:only-of-type {\n",
       "        vertical-align: middle;\n",
       "    }\n",
       "\n",
       "    .dataframe tbody tr th {\n",
       "        vertical-align: top;\n",
       "    }\n",
       "\n",
       "    .dataframe thead th {\n",
       "        text-align: right;\n",
       "    }\n",
       "</style>\n",
       "<table border=\"1\" class=\"dataframe\">\n",
       "  <thead>\n",
       "    <tr style=\"text-align: right;\">\n",
       "      <th></th>\n",
       "      <th>mean</th>\n",
       "      <th>max</th>\n",
       "      <th>min</th>\n",
       "    </tr>\n",
       "    <tr>\n",
       "      <th>city</th>\n",
       "      <th></th>\n",
       "      <th></th>\n",
       "      <th></th>\n",
       "    </tr>\n",
       "  </thead>\n",
       "  <tbody>\n",
       "    <tr>\n",
       "      <th>경기</th>\n",
       "      <td>62.551724</td>\n",
       "      <td>98.0</td>\n",
       "      <td>12.0</td>\n",
       "    </tr>\n",
       "    <tr>\n",
       "      <th>대구</th>\n",
       "      <td>74.846154</td>\n",
       "      <td>111.0</td>\n",
       "      <td>48.0</td>\n",
       "    </tr>\n",
       "    <tr>\n",
       "      <th>부산</th>\n",
       "      <td>62.583333</td>\n",
       "      <td>94.0</td>\n",
       "      <td>34.0</td>\n",
       "    </tr>\n",
       "    <tr>\n",
       "      <th>서울</th>\n",
       "      <td>67.933333</td>\n",
       "      <td>101.0</td>\n",
       "      <td>35.0</td>\n",
       "    </tr>\n",
       "  </tbody>\n",
       "</table>\n",
       "</div>"
      ],
      "text/plain": [
       "           mean    max   min\n",
       "city                        \n",
       "경기    62.551724   98.0  12.0\n",
       "대구    74.846154  111.0  48.0\n",
       "부산    62.583333   94.0  34.0\n",
       "서울    67.933333  101.0  35.0"
      ]
     },
     "execution_count": 231,
     "metadata": {},
     "output_type": "execute_result"
    }
   ],
   "source": [
    "df.groupby('city')['f1'].agg(['mean', 'max', 'min'])"
   ]
  },
  {
   "cell_type": "code",
   "execution_count": 225,
   "id": "448e38d7-cbc1-47a3-801c-b11e9b6890ae",
   "metadata": {},
   "outputs": [],
   "source": [
    "df['f1'] = df['f1'].fillna(df.groupby('city')['f1'].transform('mean'))\n",
    "# → 각 행에 해당 도시의 평균이 \"늘어남\""
   ]
  },
  {
   "cell_type": "code",
   "execution_count": 227,
   "id": "3210180c-a873-41f2-aef6-edf877945819",
   "metadata": {},
   "outputs": [
    {
     "data": {
      "text/plain": [
       "0     67.933333\n",
       "1     67.933333\n",
       "2     67.933333\n",
       "3     67.933333\n",
       "4     67.933333\n",
       "        ...    \n",
       "95    62.551724\n",
       "96    62.551724\n",
       "97    62.551724\n",
       "98    62.551724\n",
       "99    62.551724\n",
       "Name: f1, Length: 100, dtype: float64"
      ]
     },
     "execution_count": 227,
     "metadata": {},
     "output_type": "execute_result"
    }
   ],
   "source": [
    "df.groupby('city')['f1'].transform('mean')"
   ]
  },
  {
   "cell_type": "markdown",
   "id": "505cf6aa-8374-4dab-9287-e7edeec43ffb",
   "metadata": {},
   "source": [
    "| 함수            | 역할                     | 예시                                   |\n",
    "| ------------- | ---------------------- | ------------------------------------ |\n",
    "| `groupby()`   | 그룹 나누기                 | `df.groupby('city')`                 |\n",
    "| `agg()`       | 그룹별 **요약값 계산**         | `agg('mean')`, `agg(['mean','max'])` |\n",
    "| `transform()` | 그룹별 통계값을 **원본 형태로 반환** | `transform('mean')`                  |\n",
    "| `lambda`      | 사용자 정의 계산              | `agg(lambda x: ...)`                 |\n",
    "| `idxmax()`    | 최댓값의 **인덱스(=위치)** 반환   | `x.value_counts().idxmax()`          |\n",
    "| `idxmin()`    | 최솟값의 인덱스 반환            | `x.value_counts().idxmin()`          |\n"
   ]
  },
  {
   "cell_type": "markdown",
   "id": "bdbc44f9-be77-473e-a0c8-6946962a0337",
   "metadata": {},
   "source": [
    "groupby, agg, transform, lambda는 실전에서 거의 세트처럼 등장하고, 여기에 idxmax, idxmin도 자주 붙어."
   ]
  },
  {
   "cell_type": "markdown",
   "id": "611a22d4-4cd4-4e8a-8d9d-aa5199436ba0",
   "metadata": {},
   "source": [
    "## 🧪 작업형 1유형 - 문제 5\n",
    "\n",
    "### 📌 문제 설명  \n",
    "문자열 조건 필터링 후, 데이터 타입을 변환하고 통계값을 계산하시오.\n",
    "\n",
    "---\n",
    "\n",
    "### 🔸 조건  \n",
    "1. `f4` 컬럼의 값 중 **문자 `'E'`를 포함하는 행만 필터링**하시오.  \n",
    "2. 필터링된 데이터에서 `f5` 컬럼의 값을 **정수형(int)**으로 변환하시오.  \n",
    "3. 변환된 `f5` 컬럼의 평균값을 **소수 둘째 자리까지 반올림**하여 출력하시오.\n",
    "\n",
    "---\n",
    "\n",
    "### ✅ 출력 형식\n",
    "```python\n",
    "print(result)  # 예시: 51.27\n",
    "```\n"
   ]
  },
  {
   "cell_type": "code",
   "execution_count": 243,
   "id": "79d96232-9e70-48c9-a931-a93312ca77de",
   "metadata": {},
   "outputs": [],
   "source": [
    "df5=df.copy()"
   ]
  },
  {
   "cell_type": "code",
   "execution_count": 245,
   "id": "db5f0d6f-b487-48d8-bf6c-b0943638b87b",
   "metadata": {},
   "outputs": [
    {
     "data": {
      "text/html": [
       "<div>\n",
       "<style scoped>\n",
       "    .dataframe tbody tr th:only-of-type {\n",
       "        vertical-align: middle;\n",
       "    }\n",
       "\n",
       "    .dataframe tbody tr th {\n",
       "        vertical-align: top;\n",
       "    }\n",
       "\n",
       "    .dataframe thead th {\n",
       "        text-align: right;\n",
       "    }\n",
       "</style>\n",
       "<table border=\"1\" class=\"dataframe\">\n",
       "  <thead>\n",
       "    <tr style=\"text-align: right;\">\n",
       "      <th></th>\n",
       "      <th>id</th>\n",
       "      <th>age</th>\n",
       "      <th>city</th>\n",
       "      <th>f1</th>\n",
       "      <th>f2</th>\n",
       "      <th>f3</th>\n",
       "      <th>f4</th>\n",
       "      <th>f5</th>\n",
       "    </tr>\n",
       "  </thead>\n",
       "  <tbody>\n",
       "    <tr>\n",
       "      <th>0</th>\n",
       "      <td>id01</td>\n",
       "      <td>2.0</td>\n",
       "      <td>서울</td>\n",
       "      <td>NaN</td>\n",
       "      <td>0</td>\n",
       "      <td></td>\n",
       "      <td>ENFJ</td>\n",
       "      <td>91.297791</td>\n",
       "    </tr>\n",
       "    <tr>\n",
       "      <th>1</th>\n",
       "      <td>id02</td>\n",
       "      <td>9.0</td>\n",
       "      <td>서울</td>\n",
       "      <td>70.0</td>\n",
       "      <td>1</td>\n",
       "      <td></td>\n",
       "      <td>ENFJ</td>\n",
       "      <td>60.339826</td>\n",
       "    </tr>\n",
       "    <tr>\n",
       "      <th>2</th>\n",
       "      <td>id03</td>\n",
       "      <td>27.0</td>\n",
       "      <td>서울</td>\n",
       "      <td>61.0</td>\n",
       "      <td>1</td>\n",
       "      <td></td>\n",
       "      <td>ISTJ</td>\n",
       "      <td>17.252986</td>\n",
       "    </tr>\n",
       "  </tbody>\n",
       "</table>\n",
       "</div>"
      ],
      "text/plain": [
       "     id   age city    f1  f2 f3    f4         f5\n",
       "0  id01   2.0   서울   NaN   0     ENFJ  91.297791\n",
       "1  id02   9.0   서울  70.0   1     ENFJ  60.339826\n",
       "2  id03  27.0   서울  61.0   1     ISTJ  17.252986"
      ]
     },
     "execution_count": 245,
     "metadata": {},
     "output_type": "execute_result"
    }
   ],
   "source": [
    "df5.head(3)"
   ]
  },
  {
   "cell_type": "code",
   "execution_count": 287,
   "id": "5cbf231e-0268-4002-b69b-4c8eee466b3e",
   "metadata": {},
   "outputs": [],
   "source": [
    "def has_e (letters):\n",
    "    for letter in letters:\n",
    "        if letter == 'E':\n",
    "            return True\n",
    "    return False  # for문을 다 돌아도 없으면 False\n",
    "e_filtered= df5[df5['f4'].apply(has_e)]\n"
   ]
  },
  {
   "cell_type": "code",
   "execution_count": 289,
   "id": "225be6a4-a603-41f8-bdb4-b5b7271f151d",
   "metadata": {},
   "outputs": [],
   "source": [
    "e_filtered= df5[df5['f4'].apply(has_e)]"
   ]
  },
  {
   "cell_type": "code",
   "execution_count": 271,
   "id": "fa4cc795-98eb-405e-aebd-f64644070091",
   "metadata": {},
   "outputs": [
    {
     "data": {
      "text/plain": [
       "id    age   city  f1    f2  f3  f4    f5       \n",
       "id02  9.0   서울    70.0  1       ENFJ  60.339826    1\n",
       "id67  66.0  경기    52.0  1       ISFJ  73.586397    1\n",
       "id74  45.0  경기    98.0  0       ESTP  52.667078    1\n",
       "id72  8.0   경기    97.0  0       ESTJ  97.381034    1\n",
       "id71  35.0  경기    84.0  2       ISFP  52.667078    1\n",
       "                                                  ..\n",
       "id41  81.0  대구    55.0  0       ENFJ  37.113739    1\n",
       "id42  65.0  대구    48.0  2       ESTP  33.308999    1\n",
       "id43  23.0  대구    60.0  0       ISTP  29.269869    1\n",
       "id45  97.0  대구    88.0  0       ENFJ  13.049921    1\n",
       "id99  1.0   경기    47.0  0       ESFJ  97.381034    1\n",
       "Name: count, Length: 69, dtype: int64"
      ]
     },
     "execution_count": 271,
     "metadata": {},
     "output_type": "execute_result"
    }
   ],
   "source": [
    "df5.value_counts()"
   ]
  },
  {
   "cell_type": "code",
   "execution_count": 273,
   "id": "73a88c6c-9aec-40c6-a2d9-11063f5b00d4",
   "metadata": {},
   "outputs": [
    {
     "data": {
      "text/plain": [
       "(100, 8)"
      ]
     },
     "execution_count": 273,
     "metadata": {},
     "output_type": "execute_result"
    }
   ],
   "source": [
    "df5.shape"
   ]
  },
  {
   "cell_type": "code",
   "execution_count": 275,
   "id": "1d9c8efc-41c4-44a0-8ec8-079a507426bb",
   "metadata": {},
   "outputs": [
    {
     "data": {
      "text/plain": [
       "(52, 8)"
      ]
     },
     "execution_count": 275,
     "metadata": {},
     "output_type": "execute_result"
    }
   ],
   "source": [
    "e_filtered.shape"
   ]
  },
  {
   "cell_type": "code",
   "execution_count": 291,
   "id": "301b16b2-b707-4134-8a16-8f528e6f4358",
   "metadata": {},
   "outputs": [
    {
     "data": {
      "text/plain": [
       "52.96"
      ]
     },
     "execution_count": 291,
     "metadata": {},
     "output_type": "execute_result"
    }
   ],
   "source": [
    "# 필터링된 데이터에서 `f5` 컬럼의 값을 **정수형(int)**으로 변환하시오.\n",
    "round(e_filtered['f5'].astype(int).mean(),2)"
   ]
  },
  {
   "cell_type": "markdown",
   "id": "cfe033a6-141d-4756-866a-27fe5916f1c4",
   "metadata": {},
   "source": [
    "## 개선 된 풀이"
   ]
  },
  {
   "cell_type": "code",
   "execution_count": 294,
   "id": "4aef4329-4bf6-4831-98b8-c9369a2ad566",
   "metadata": {},
   "outputs": [
    {
     "name": "stdout",
     "output_type": "stream",
     "text": [
      "52.96\n"
     ]
    }
   ],
   "source": [
    "e_filtered = df5[df5['f4'].str.contains('E')]\n",
    "result = round(e_filtered['f5'].astype(int).mean(), 2)\n",
    "print(result)"
   ]
  },
  {
   "cell_type": "markdown",
   "id": "2c2b7bc6-e861-4c1c-a86b-c1b91a417f56",
   "metadata": {},
   "source": [
    "## 🧪 작업형 1유형 - 문제 6\n",
    "\n",
    "### 📌 문제 설명  \n",
    "중복된 데이터를 제거하고, 재구조화를 통해 요약 통계를 계산하시오.\n",
    "\n",
    "---\n",
    "\n",
    "### 🔸 조건  \n",
    "1. `id`, `f4`, `f2` 세 컬럼을 기준으로 중복된 행을 제거하시오.  \n",
    "2. 중복이 제거된 데이터에서 `f4`를 행 인덱스로 하여, `f2`의 평균을 계산하는 **피벗 테이블**을 생성하시오.  \n",
    "3. 결과 테이블을 출력하시오.\n",
    "\n",
    "---\n",
    "\n",
    "### ✅ 출력 예시\n",
    "```python\n",
    "# 예시 (형태만 참고)\n",
    "f2\n",
    "f4\n",
    "ENFJ     1.3\n",
    "INFP     1.7\n",
    "ISFJ     0.8\n",
    "```\n",
    "\n",
    "> *단, 출력 형식은 `pivot_table()` 결과 그대로 출력하면 충분함.*\n"
   ]
  },
  {
   "cell_type": "code",
   "execution_count": 301,
   "id": "e5f5b181-6965-43ac-87ab-d920d5ac16bd",
   "metadata": {},
   "outputs": [
    {
     "data": {
      "text/plain": [
       "(100, 8)"
      ]
     },
     "execution_count": 301,
     "metadata": {},
     "output_type": "execute_result"
    }
   ],
   "source": [
    "df6=df.copy()\n",
    "df6.shape"
   ]
  },
  {
   "cell_type": "code",
   "execution_count": 313,
   "id": "a751b8ed-e2e1-4ff0-96b1-1f95f1802514",
   "metadata": {},
   "outputs": [],
   "source": [
    "df6_unique=df6.drop_duplicates(['f4','f2'])                        "
   ]
  },
  {
   "cell_type": "code",
   "execution_count": 315,
   "id": "4a0cee31-22c9-49e1-b905-69b501d39f4a",
   "metadata": {},
   "outputs": [
    {
     "data": {
      "text/plain": [
       "(40, 8)"
      ]
     },
     "execution_count": 315,
     "metadata": {},
     "output_type": "execute_result"
    }
   ],
   "source": [
    "df6_unique.shape"
   ]
  },
  {
   "cell_type": "code",
   "execution_count": 319,
   "id": "ab32dba8-3e64-4cb8-bc2a-e0915ac8fb07",
   "metadata": {},
   "outputs": [
    {
     "data": {
      "text/html": [
       "<div>\n",
       "<style scoped>\n",
       "    .dataframe tbody tr th:only-of-type {\n",
       "        vertical-align: middle;\n",
       "    }\n",
       "\n",
       "    .dataframe tbody tr th {\n",
       "        vertical-align: top;\n",
       "    }\n",
       "\n",
       "    .dataframe thead th {\n",
       "        text-align: right;\n",
       "    }\n",
       "</style>\n",
       "<table border=\"1\" class=\"dataframe\">\n",
       "  <thead>\n",
       "    <tr style=\"text-align: right;\">\n",
       "      <th></th>\n",
       "      <th>f2</th>\n",
       "    </tr>\n",
       "    <tr>\n",
       "      <th>f4</th>\n",
       "      <th></th>\n",
       "    </tr>\n",
       "  </thead>\n",
       "  <tbody>\n",
       "    <tr>\n",
       "      <th>ENFJ</th>\n",
       "      <td>0.5</td>\n",
       "    </tr>\n",
       "    <tr>\n",
       "      <th>ENFP</th>\n",
       "      <td>0.5</td>\n",
       "    </tr>\n",
       "    <tr>\n",
       "      <th>ENTJ</th>\n",
       "      <td>0.5</td>\n",
       "    </tr>\n",
       "    <tr>\n",
       "      <th>ENTP</th>\n",
       "      <td>1.0</td>\n",
       "    </tr>\n",
       "    <tr>\n",
       "      <th>ESFJ</th>\n",
       "      <td>1.0</td>\n",
       "    </tr>\n",
       "    <tr>\n",
       "      <th>ESFP</th>\n",
       "      <td>1.0</td>\n",
       "    </tr>\n",
       "    <tr>\n",
       "      <th>ESTJ</th>\n",
       "      <td>1.0</td>\n",
       "    </tr>\n",
       "    <tr>\n",
       "      <th>ESTP</th>\n",
       "      <td>1.0</td>\n",
       "    </tr>\n",
       "    <tr>\n",
       "      <th>INFJ</th>\n",
       "      <td>0.5</td>\n",
       "    </tr>\n",
       "    <tr>\n",
       "      <th>INFP</th>\n",
       "      <td>1.0</td>\n",
       "    </tr>\n",
       "    <tr>\n",
       "      <th>INTJ</th>\n",
       "      <td>0.5</td>\n",
       "    </tr>\n",
       "    <tr>\n",
       "      <th>INTP</th>\n",
       "      <td>1.0</td>\n",
       "    </tr>\n",
       "    <tr>\n",
       "      <th>ISFJ</th>\n",
       "      <td>1.0</td>\n",
       "    </tr>\n",
       "    <tr>\n",
       "      <th>ISFP</th>\n",
       "      <td>1.0</td>\n",
       "    </tr>\n",
       "    <tr>\n",
       "      <th>ISTJ</th>\n",
       "      <td>0.5</td>\n",
       "    </tr>\n",
       "    <tr>\n",
       "      <th>ISTP</th>\n",
       "      <td>0.5</td>\n",
       "    </tr>\n",
       "  </tbody>\n",
       "</table>\n",
       "</div>"
      ],
      "text/plain": [
       "       f2\n",
       "f4       \n",
       "ENFJ  0.5\n",
       "ENFP  0.5\n",
       "ENTJ  0.5\n",
       "ENTP  1.0\n",
       "ESFJ  1.0\n",
       "ESFP  1.0\n",
       "ESTJ  1.0\n",
       "ESTP  1.0\n",
       "INFJ  0.5\n",
       "INFP  1.0\n",
       "INTJ  0.5\n",
       "INTP  1.0\n",
       "ISFJ  1.0\n",
       "ISFP  1.0\n",
       "ISTJ  0.5\n",
       "ISTP  0.5"
      ]
     },
     "execution_count": 319,
     "metadata": {},
     "output_type": "execute_result"
    }
   ],
   "source": [
    "pivot=df6_unique.pivot_table(index='f4',values='f2',aggfunc='mean')\n",
    "pivot"
   ]
  },
  {
   "cell_type": "code",
   "execution_count": null,
   "id": "5f50d7a9-f8e2-4758-880d-05b33e0562bd",
   "metadata": {},
   "outputs": [],
   "source": []
  }
 ],
 "metadata": {
  "kernelspec": {
   "display_name": "Python [conda env:base] *",
   "language": "python",
   "name": "conda-base-py"
  },
  "language_info": {
   "codemirror_mode": {
    "name": "ipython",
    "version": 3
   },
   "file_extension": ".py",
   "mimetype": "text/x-python",
   "name": "python",
   "nbconvert_exporter": "python",
   "pygments_lexer": "ipython3",
   "version": "3.12.3"
  }
 },
 "nbformat": 4,
 "nbformat_minor": 5
}
