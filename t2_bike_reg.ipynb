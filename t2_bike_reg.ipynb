{
 "cells": [
  {
   "cell_type": "code",
   "execution_count": 2,
   "id": "f6264448-7fc6-4b9b-8abf-4fdb38c2bab4",
   "metadata": {},
   "outputs": [],
   "source": [
    "import pandas as pd\n",
    "import numpy as np\n",
    "from sklearn.model_selection import cross_val_score, train_test_split\n",
    "from sklearn.ensemble import RandomForestRegressor\n",
    "from sklearn import metrics"
   ]
  },
  {
   "cell_type": "markdown",
   "id": "4922749a-e5ad-4da7-8078-4125b7c0bf18",
   "metadata": {},
   "source": [
    "```markdown\n",
    "You are provided hourly rental data spanning two years. For this competition, the training set is comprised of the first 19 days of each month, while the test set is the 20th to the end of the month. You must predict the total count of bikes rented during each hour covered by the test set, using only information available prior to the rental period.\n",
    "Data Fields\n",
    "\n",
    "datetime - hourly date + timestamp  \n",
    "season -  1 = spring, 2 = summer, 3 = fall, 4 = winter \n",
    "holiday - whether the day is considered a holiday\n",
    "workingday - whether the day is neither a weekend nor holiday\n",
    "weather - 1: Clear, Few clouds, Partly cloudy, Partly cloudy\n",
    "2: Mist + Cloudy, Mist + Broken clouds, Mist + Few clouds, Mist\n",
    "3: Light Snow, Light Rain + Thunderstorm + Scattered clouds, Light Rain + Scattered clouds\n",
    "4: Heavy Rain + Ice Pallets + Thunderstorm + Mist, Snow + Fog \n",
    "temp - temperature in Celsius\n",
    "atemp - \"feels like\" temperature in Celsius\n",
    "humidity - relative humidity\n",
    "windspeed - wind speed\n",
    "casual - number of non-registered user rentals initiated\n",
    "registered - number of registered user rentals initiated\n",
    "count - number of total rentals\n",
    "```"
   ]
  },
  {
   "cell_type": "code",
   "execution_count": 6,
   "id": "1a031b08-e157-4862-a2ff-374fc4b02862",
   "metadata": {},
   "outputs": [],
   "source": [
    "train=pd.read_csv('data/bike_sharing/train.csv')\n",
    "test=pd.read_csv('data/bike_sharing/test.csv')"
   ]
  },
  {
   "cell_type": "code",
   "execution_count": 8,
   "id": "297ee07f-1ec2-430e-a804-ebe59942d1e7",
   "metadata": {},
   "outputs": [
    {
     "data": {
      "text/plain": [
       "((10886, 12), (6493, 9))"
      ]
     },
     "execution_count": 8,
     "metadata": {},
     "output_type": "execute_result"
    }
   ],
   "source": [
    "train.shape,test.shape"
   ]
  },
  {
   "cell_type": "code",
   "execution_count": 10,
   "id": "7808b9e9-f40e-40c2-8c27-84934716dbb3",
   "metadata": {},
   "outputs": [
    {
     "name": "stdout",
     "output_type": "stream",
     "text": [
      "<class 'pandas.core.frame.DataFrame'>\n",
      "RangeIndex: 10886 entries, 0 to 10885\n",
      "Data columns (total 12 columns):\n",
      " #   Column      Non-Null Count  Dtype  \n",
      "---  ------      --------------  -----  \n",
      " 0   datetime    10886 non-null  object \n",
      " 1   season      10886 non-null  int64  \n",
      " 2   holiday     10886 non-null  int64  \n",
      " 3   workingday  10886 non-null  int64  \n",
      " 4   weather     10886 non-null  int64  \n",
      " 5   temp        10886 non-null  float64\n",
      " 6   atemp       10886 non-null  float64\n",
      " 7   humidity    10886 non-null  int64  \n",
      " 8   windspeed   10886 non-null  float64\n",
      " 9   casual      10886 non-null  int64  \n",
      " 10  registered  10886 non-null  int64  \n",
      " 11  count       10886 non-null  int64  \n",
      "dtypes: float64(3), int64(8), object(1)\n",
      "memory usage: 1020.7+ KB\n"
     ]
    }
   ],
   "source": [
    "train.info()"
   ]
  },
  {
   "cell_type": "code",
   "execution_count": 12,
   "id": "b6214bd6-d98e-4f4b-80b9-0c9c31f5d525",
   "metadata": {},
   "outputs": [
    {
     "name": "stdout",
     "output_type": "stream",
     "text": [
      "<class 'pandas.core.frame.DataFrame'>\n",
      "RangeIndex: 6493 entries, 0 to 6492\n",
      "Data columns (total 9 columns):\n",
      " #   Column      Non-Null Count  Dtype  \n",
      "---  ------      --------------  -----  \n",
      " 0   datetime    6493 non-null   object \n",
      " 1   season      6493 non-null   int64  \n",
      " 2   holiday     6493 non-null   int64  \n",
      " 3   workingday  6493 non-null   int64  \n",
      " 4   weather     6493 non-null   int64  \n",
      " 5   temp        6493 non-null   float64\n",
      " 6   atemp       6493 non-null   float64\n",
      " 7   humidity    6493 non-null   int64  \n",
      " 8   windspeed   6493 non-null   float64\n",
      "dtypes: float64(3), int64(5), object(1)\n",
      "memory usage: 456.7+ KB\n"
     ]
    }
   ],
   "source": [
    "test.info()"
   ]
  },
  {
   "cell_type": "code",
   "execution_count": null,
   "id": "6086fb17-5093-40a4-b9bb-21cddb73f4b5",
   "metadata": {},
   "outputs": [],
   "source": [
    "# predict the total count of bikes rented during each hour"
   ]
  },
  {
   "cell_type": "code",
   "execution_count": 14,
   "id": "6b9f5324-97a2-4877-ab3b-9e7d67038884",
   "metadata": {},
   "outputs": [
    {
     "data": {
      "text/plain": [
       "datetime\n",
       "2011-01-20 00:00:00    1\n",
       "2012-05-21 02:00:00    1\n",
       "2012-05-21 12:00:00    1\n",
       "2012-05-21 11:00:00    1\n",
       "2012-05-21 10:00:00    1\n",
       "                      ..\n",
       "2011-09-21 14:00:00    1\n",
       "2011-09-21 13:00:00    1\n",
       "2011-09-21 12:00:00    1\n",
       "2011-09-21 11:00:00    1\n",
       "2012-12-31 23:00:00    1\n",
       "Name: count, Length: 6493, dtype: int64"
      ]
     },
     "execution_count": 14,
     "metadata": {},
     "output_type": "execute_result"
    }
   ],
   "source": [
    "test['datetime'].value_counts()"
   ]
  },
  {
   "cell_type": "code",
   "execution_count": 18,
   "id": "d39b2cb3-666a-4c4f-a69e-fb46c60f628b",
   "metadata": {},
   "outputs": [
    {
     "data": {
      "text/plain": [
       "datetime      0\n",
       "season        0\n",
       "holiday       0\n",
       "workingday    0\n",
       "weather       0\n",
       "temp          0\n",
       "atemp         0\n",
       "humidity      0\n",
       "windspeed     0\n",
       "casual        0\n",
       "registered    0\n",
       "count         0\n",
       "dtype: int64"
      ]
     },
     "execution_count": 18,
     "metadata": {},
     "output_type": "execute_result"
    }
   ],
   "source": [
    "train.isnull().sum()"
   ]
  },
  {
   "cell_type": "code",
   "execution_count": 22,
   "id": "4e003095-9fd2-4f23-82d1-f2f6de7c2520",
   "metadata": {},
   "outputs": [
    {
     "data": {
      "text/plain": [
       "(10886, 10)"
      ]
     },
     "execution_count": 22,
     "metadata": {},
     "output_type": "execute_result"
    }
   ],
   "source": [
    "train = train.drop(['casual','registered'],axis=1)\n",
    "train.shape"
   ]
  },
  {
   "cell_type": "code",
   "execution_count": 30,
   "id": "9eb29ba7-2034-4238-8586-11f044f3abc6",
   "metadata": {},
   "outputs": [],
   "source": [
    "# train.select_dtypes(include='object').columns"
   ]
  },
  {
   "cell_type": "code",
   "execution_count": 32,
   "id": "4ca40f4f-a8de-4919-834d-82a120d7781f",
   "metadata": {},
   "outputs": [],
   "source": [
    "# help(train.select_dtypes)"
   ]
  },
  {
   "cell_type": "code",
   "execution_count": 34,
   "id": "859b11ec-eaf3-4f85-925b-9ee63ab56fb7",
   "metadata": {},
   "outputs": [
    {
     "data": {
      "text/plain": [
       "(6493, 9)"
      ]
     },
     "execution_count": 34,
     "metadata": {},
     "output_type": "execute_result"
    }
   ],
   "source": [
    "test.shape"
   ]
  },
  {
   "cell_type": "code",
   "execution_count": 36,
   "id": "00758164-794f-471c-86fb-3986e80dac3e",
   "metadata": {},
   "outputs": [],
   "source": [
    "target= train.pop('count')"
   ]
  },
  {
   "cell_type": "code",
   "execution_count": 44,
   "id": "e90cc070-6081-494b-860e-fec87c7121c9",
   "metadata": {},
   "outputs": [
    {
     "data": {
      "text/plain": [
       "holiday\n",
       "0    10575\n",
       "1      311\n",
       "Name: count, dtype: int64"
      ]
     },
     "execution_count": 44,
     "metadata": {},
     "output_type": "execute_result"
    }
   ],
   "source": [
    "# 전처리 오브젝트 구분\n",
    "train['holiday'].value_counts()"
   ]
  },
  {
   "cell_type": "code",
   "execution_count": 48,
   "id": "d5da600c-dbd0-4982-a2de-c6dd6e32c736",
   "metadata": {},
   "outputs": [],
   "source": [
    "cat_cols= ['season','holiday','workingday','weather']"
   ]
  },
  {
   "cell_type": "code",
   "execution_count": 54,
   "id": "a250f12b-e166-42ec-b794-af9e7f3e4fbc",
   "metadata": {},
   "outputs": [],
   "source": [
    "for col in cat_cols:\n",
    "    train[col]= train[col].astype('object')\n",
    "    test[col]= test[col].astype('object')"
   ]
  },
  {
   "cell_type": "code",
   "execution_count": 56,
   "id": "f3973c70-f688-415d-808a-43d5efe2f342",
   "metadata": {},
   "outputs": [
    {
     "name": "stdout",
     "output_type": "stream",
     "text": [
      "<class 'pandas.core.frame.DataFrame'>\n",
      "RangeIndex: 10886 entries, 0 to 10885\n",
      "Data columns (total 9 columns):\n",
      " #   Column      Non-Null Count  Dtype  \n",
      "---  ------      --------------  -----  \n",
      " 0   datetime    10886 non-null  object \n",
      " 1   season      10886 non-null  object \n",
      " 2   holiday     10886 non-null  object \n",
      " 3   workingday  10886 non-null  object \n",
      " 4   weather     10886 non-null  object \n",
      " 5   temp        10886 non-null  float64\n",
      " 6   atemp       10886 non-null  float64\n",
      " 7   humidity    10886 non-null  int64  \n",
      " 8   windspeed   10886 non-null  float64\n",
      "dtypes: float64(3), int64(1), object(5)\n",
      "memory usage: 765.5+ KB\n"
     ]
    }
   ],
   "source": [
    "train.info()"
   ]
  },
  {
   "cell_type": "code",
   "execution_count": 58,
   "id": "d5e31de1-0f76-4087-9dea-27565d223a88",
   "metadata": {},
   "outputs": [],
   "source": [
    "train['datetime']=pd.to_datetime(train['datetime'])\n",
    "test['datetime']=pd.to_datetime(test['datetime'])"
   ]
  },
  {
   "cell_type": "code",
   "execution_count": 62,
   "id": "55231733-900a-4638-ad6d-95740b014e1e",
   "metadata": {},
   "outputs": [
    {
     "data": {
      "text/plain": [
       "((10886, 9), (6493, 9))"
      ]
     },
     "execution_count": 62,
     "metadata": {},
     "output_type": "execute_result"
    }
   ],
   "source": [
    "train.shape,test.shape"
   ]
  },
  {
   "cell_type": "code",
   "execution_count": 74,
   "id": "cf91b468-db30-43e2-a81c-437dcb1618c7",
   "metadata": {},
   "outputs": [],
   "source": [
    "for df in [train,test]:\n",
    "    df['year']= df['datetime'].dt.year.astype(\"object\")\n",
    "    df['month']=df['datetime'].dt.month.astype(\"object\")\n",
    "    df['hour']=df['datetime'].dt.hour # 이건 수치형으로 놔둬도 될거같다 판단."
   ]
  },
  {
   "cell_type": "code",
   "execution_count": 130,
   "id": "b0032000-d3a9-4bd3-95da-8cb72d4ac040",
   "metadata": {},
   "outputs": [],
   "source": [
    "# datetime 제거\n",
    "train=train.drop('datetime',axis=1)\n",
    "test= test.drop('datetime',axis=1)"
   ]
  },
  {
   "cell_type": "code",
   "execution_count": 134,
   "id": "eadaa77a-d9ca-482e-bfad-5da0e590c9ea",
   "metadata": {},
   "outputs": [
    {
     "data": {
      "text/plain": [
       "((10886, 31), (6493, 31))"
      ]
     },
     "execution_count": 134,
     "metadata": {},
     "output_type": "execute_result"
    }
   ],
   "source": [
    "train.shape,test.shape"
   ]
  },
  {
   "cell_type": "code",
   "execution_count": 136,
   "id": "d8f0d3ac-6b05-4e4f-8e32-365f97c908c8",
   "metadata": {},
   "outputs": [
    {
     "data": {
      "text/plain": [
       "((10886, 31), (6493, 31))"
      ]
     },
     "execution_count": 136,
     "metadata": {},
     "output_type": "execute_result"
    }
   ],
   "source": [
    "train=pd.get_dummies(train)\n",
    "test= pd.get_dummies(test)\n",
    "train.shape,test.shape\n",
    "# train.columns.equals(test.columns)"
   ]
  },
  {
   "cell_type": "code",
   "execution_count": null,
   "id": "c2654024-d559-4f57-ae43-473ea2eb0478",
   "metadata": {},
   "outputs": [],
   "source": []
  },
  {
   "cell_type": "code",
   "execution_count": 139,
   "id": "43c25fe0-fd24-4bf6-ab8f-19cd177c634f",
   "metadata": {},
   "outputs": [],
   "source": [
    "# 스플릿으로 테스트"
   ]
  },
  {
   "cell_type": "code",
   "execution_count": 161,
   "id": "4fdb4862-a2c3-459d-9be5-769fe588feee",
   "metadata": {},
   "outputs": [],
   "source": [
    "X_train,X_test,y_train,y_test = train_test_split(train,target)"
   ]
  },
  {
   "cell_type": "code",
   "execution_count": 163,
   "id": "512b7169-0e10-459b-bdc9-3daafcd744a2",
   "metadata": {},
   "outputs": [
    {
     "data": {
      "text/plain": [
       "((8164, 31), (2722, 31), (8164,), (2722,))"
      ]
     },
     "execution_count": 163,
     "metadata": {},
     "output_type": "execute_result"
    }
   ],
   "source": [
    "X_train.shape,X_test.shape,y_train.shape,y_test.shape"
   ]
  },
  {
   "cell_type": "code",
   "execution_count": 165,
   "id": "9540d3f3-f794-4305-a286-2ed9fb6e6057",
   "metadata": {},
   "outputs": [],
   "source": [
    "# 랜덤포레스트 모델 로드\n",
    "rf= RandomForestRegressor(random_state=42,n_estimators=500)"
   ]
  },
  {
   "cell_type": "code",
   "execution_count": 167,
   "id": "616143b8-59a9-4b00-9f26-2a2089dd590c",
   "metadata": {},
   "outputs": [],
   "source": [
    "rf.fit(X_train,y_train)\n",
    "pred= rf.predict(X_test)"
   ]
  },
  {
   "cell_type": "code",
   "execution_count": 153,
   "id": "dbd715b4-0e58-4ffb-9a6a-01b3171e1675",
   "metadata": {},
   "outputs": [
    {
     "data": {
      "text/plain": [
       "0.944323660933783"
      ]
     },
     "execution_count": 153,
     "metadata": {},
     "output_type": "execute_result"
    }
   ],
   "source": [
    "score= metrics.r2_score(y_test,pred)\n",
    "score"
   ]
  },
  {
   "cell_type": "code",
   "execution_count": 171,
   "id": "6550a636-3981-425f-b8fe-2a59594e2534",
   "metadata": {},
   "outputs": [
    {
     "data": {
      "text/plain": [
       "0.34075200811877315"
      ]
     },
     "execution_count": 171,
     "metadata": {},
     "output_type": "execute_result"
    }
   ],
   "source": [
    "from sklearn.metrics import mean_squared_log_error\n",
    "import numpy as np\n",
    "\n",
    "rmsle = np.sqrt(mean_squared_log_error(y_test, pred))\n",
    "rmsle"
   ]
  },
  {
   "cell_type": "code",
   "execution_count": 175,
   "id": "4d8ceb94-05c5-4f5e-8687-c9f280ac8c87",
   "metadata": {},
   "outputs": [],
   "source": [
    "# rmsle 값으로 판단 대회 2등성적이 나옴 "
   ]
  },
  {
   "cell_type": "code",
   "execution_count": 169,
   "id": "79f24e54-ce3c-4adb-bd41-6e6b183eaa30",
   "metadata": {},
   "outputs": [],
   "source": [
    "# 실제 테스트"
   ]
  },
  {
   "cell_type": "code",
   "execution_count": 155,
   "id": "ed47f7b4-3a0d-4365-9e57-f7efceadad9a",
   "metadata": {},
   "outputs": [
    {
     "data": {
      "text/plain": [
       "array([  9.336,   4.59 ,   3.958, ..., 112.54 , 105.552,  58.617])"
      ]
     },
     "execution_count": 155,
     "metadata": {},
     "output_type": "execute_result"
    }
   ],
   "source": [
    "rf.fit(train,target)\n",
    "pred= rf.predict(test)\n",
    "pred"
   ]
  },
  {
   "cell_type": "code",
   "execution_count": 149,
   "id": "07dad036-30b6-4466-a53e-1454878fdbf9",
   "metadata": {},
   "outputs": [],
   "source": [
    "# X_train.info()"
   ]
  },
  {
   "cell_type": "code",
   "execution_count": 159,
   "id": "5e71d58b-e123-443f-afa1-3db04c4bc2cf",
   "metadata": {},
   "outputs": [],
   "source": [
    "result = pd.DataFrame({'pred':pred})\n",
    "result.to_csv('data/bike_sharing/result.csv',index=False)"
   ]
  },
  {
   "cell_type": "code",
   "execution_count": null,
   "id": "ee70afce-446c-4678-852a-b0c32ce2e910",
   "metadata": {},
   "outputs": [],
   "source": []
  }
 ],
 "metadata": {
  "kernelspec": {
   "display_name": "PyTorch 2.5.1 (CUDA 12.4)",
   "language": "python",
   "name": "pytorch-cuda124"
  },
  "language_info": {
   "codemirror_mode": {
    "name": "ipython",
    "version": 3
   },
   "file_extension": ".py",
   "mimetype": "text/x-python",
   "name": "python",
   "nbconvert_exporter": "python",
   "pygments_lexer": "ipython3",
   "version": "3.10.16"
  }
 },
 "nbformat": 4,
 "nbformat_minor": 5
}
